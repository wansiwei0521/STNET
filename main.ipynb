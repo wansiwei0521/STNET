{
 "cells": [
  {
   "cell_type": "code",
   "execution_count": null,
   "metadata": {},
   "outputs": [
    {
     "name": "stdout",
     "output_type": "stream",
     "text": [
      "\n",
      "=== 开始训练场景: secondary_road ===\n",
      "从缓存文件加载数据: dataset/cache/secondary_road_30_1_dataset_pre_cache.pkl\n",
      "加载检查点 'model/checkpoint/secondary_road_generator_model_checkpoint.pth'，从 epoch 8 继续训练\n"
     ]
    },
    {
     "name": "stderr",
     "output_type": "stream",
     "text": [
      "Epoch 9/100: 100%|██████████| 43/43 [01:02<00:00,  1.46s/it, D_loss=0.698, G_loss=0.658]\n"
     ]
    },
    {
     "name": "stdout",
     "output_type": "stream",
     "text": [
      "Epoch 9: Validation F1 Score: 0.3242\n"
     ]
    },
    {
     "name": "stderr",
     "output_type": "stream",
     "text": [
      "Epoch 10/100: 100%|██████████| 43/43 [01:20<00:00,  1.88s/it, D_loss=0.693, G_loss=0.663]\n"
     ]
    },
    {
     "name": "stdout",
     "output_type": "stream",
     "text": [
      "Epoch 10: Validation F1 Score: 0.3458\n"
     ]
    },
    {
     "name": "stderr",
     "output_type": "stream",
     "text": [
      "Epoch 11/100: 100%|██████████| 43/43 [00:51<00:00,  1.20s/it, D_loss=0.696, G_loss=0.665]\n"
     ]
    }
   ],
   "source": [
    "import torch\n",
    "from utils.dataset import ScenarioGraphDataset\n",
    "from torch_geometric.loader import DataLoader\n",
    "from utils.data_aug_model import Generator, Discriminator, train_gan, evaluate_generator\n",
    "from utils.dataset_utils import NODE_TYPE_MAP\n",
    "import torch.optim as optim\n",
    "\n",
    "import os\n",
    "os.environ[\"OMP_NUM_THREADS\"] = '1'\n",
    "\n",
    "# ------------------ 主程序示例 ------------------\n",
    "if __name__ == \"__main__\":\n",
    "    # 假设已有场景及数据路径\n",
    "    scene_datasets = {\n",
    "        \"secondary_road\": [\"dataset/driving-scene-graph/secondary-road\"],\n",
    "        \"ebike\": ['dataset/driving-scene-graph/ebike'],\n",
    "        \"main_secondary\": ['dataset/driving-scene-graph/main-secondary'],\n",
    "        \"motor\": [\n",
    "            \"dataset/driving-scene-graph/secondary-road\",\n",
    "            'dataset/driving-scene-graph/main-secondary'\n",
    "        ],\n",
    "        \"total\": [\n",
    "            \"dataset/driving-scene-graph/secondary-road\",\n",
    "            'dataset/driving-scene-graph/main-secondary',\n",
    "            'dataset/driving-scene-graph/ebike'\n",
    "        ]\n",
    "    }\n",
    "    # 数据集参数\n",
    "    window_size = 30  # 窗口步长\n",
    "    step_size = 1  # 假设的步长值\n",
    "    node_feature_dim = 19 + len(NODE_TYPE_MAP)  # 节点特征维度 # 假设改为10\n",
    "    num_classes = 3  # 标签类别数量\n",
    "\n",
    "    # 训练参数\n",
    "    hidden_dim = 64\n",
    "    num_epochs = 100\n",
    "    batch_size = 48\n",
    "    num_workers = 8  # 使用 4 个进程加载数据\n",
    "    device = torch.device(\"cuda\" if torch.cuda.is_available() else \"cpu\")\n",
    "\n",
    "    # 逐场景训练\n",
    "    for scene_name, root_dirs in scene_datasets.items():\n",
    "        print(f\"\\n=== 开始训练场景: {scene_name} ===\")\n",
    "\n",
    "        # 定义缓存路径，针对每个场景使用单独的缓存文件\n",
    "        cache_path = f\"dataset/cache/{scene_name}_{window_size}_{step_size}_dataset_pre_cache.pkl\" \n",
    "        generator_model_path = f\"model/data_aug/{scene_name}_{window_size}_{step_size}_generator_model.pth\"\n",
    "        checkpoint_path = f\"model/checkpoint/{scene_name}_generator_model_checkpoint.pth\" # 定义检查点路径\n",
    "\n",
    "        dataset = ScenarioGraphDataset(root_dirs, window_size, step_size, device, cache_path)\n",
    "        # 假设数据集的 80% 用于训练，20% 用于验证\n",
    "        train_size = int(0.8 * len(dataset))\n",
    "        val_size = len(dataset) - train_size\n",
    "        train_dataset, val_dataset = torch.utils.data.random_split(dataset, [train_size, val_size])\n",
    "\n",
    "        # 在初始化 DataLoader\n",
    "        train_dataloader = DataLoader(train_dataset, batch_size=batch_size, shuffle=True, num_workers=num_workers)\n",
    "        val_dataloader = DataLoader(val_dataset, batch_size=batch_size, shuffle=False, num_workers=num_workers)\n",
    "\n",
    "        # 初始化生成器和判别器, 并添加 Dropout\n",
    "        generator = Generator(node_feature_dim, hidden_dim, window_size, num_classes, dropout_rate=0.5).to(device)\n",
    "        discriminator = Discriminator(node_feature_dim, hidden_dim, window_size, dropout_rate=0.5).to(device)\n",
    "    \n",
    "        # 初始化优化器\n",
    "        g_optimizer = optim.AdamW(generator.parameters(), lr=1e-3, weight_decay=1e-4)\n",
    "        d_optimizer = optim.AdamW(discriminator.parameters(), lr=1e-3, weight_decay=1e-4)\n",
    "    \n",
    "        # 训练 GAN\n",
    "        train_gan(train_dataloader, generator, discriminator, g_optimizer, d_optimizer, num_epochs, device, window_size, val_dataloader, checkpoint_path, scene_name,num_classes=num_classes, generator_model_path=generator_model_path)\n",
    "\n",
    "        # 保存模型\n",
    "        # torch.save(generator.state_dict(), generator_model_path) # 已在早停中保存\n",
    "        # torch.save(discriminator.state_dict(), f\"{scene_name}_discriminator.pth\")\n",
    "        print(f\"场景 {scene_name} 训练完成\\n\")"
   ]
  }
 ],
 "metadata": {
  "kernelspec": {
   "display_name": "Python 3",
   "language": "python",
   "name": "python3"
  },
  "language_info": {
   "codemirror_mode": {
    "name": "ipython",
    "version": 3
   },
   "file_extension": ".py",
   "mimetype": "text/x-python",
   "name": "python",
   "nbconvert_exporter": "python",
   "pygments_lexer": "ipython3",
   "version": "3.10.16"
  }
 },
 "nbformat": 4,
 "nbformat_minor": 2
}
