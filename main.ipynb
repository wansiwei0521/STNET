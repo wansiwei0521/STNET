{
 "cells": [
  {
   "cell_type": "code",
   "execution_count": null,
   "metadata": {},
   "outputs": [
    {
     "name": "stdout",
     "output_type": "stream",
     "text": [
      "\n",
      "=== 开始训练场景: secondary_road ===\n",
      "从缓存文件加载数据: dataset/cache/secondary_road_30_1_dataset_pre_cache.pkl\n"
     ]
    },
    {
     "name": "stderr",
     "output_type": "stream",
     "text": [
      "Epoch 1/100:   0%|          | 0/43 [00:00<?, ?it/s]"
     ]
    }
   ],
   "source": [
    "import torch\n",
    "from utils.dataset import ScenarioGraphDataset\n",
    "from torch_geometric.loader import DataLoader\n",
    "from utils.data_aug_model import Generator, Discriminator, train_gan, evaluate_generator\n",
    "from utils.dataset_utils import NODE_TYPE_MAP\n",
    "import torch.optim as optim\n",
    "\n",
    "import os\n",
    "os.environ[\"OMP_NUM_THREADS\"] = '1'\n",
    "\n",
    "# ------------------ 主程序示例 ------------------\n",
    "if __name__ == \"__main__\":\n",
    "    # 假设已有场景及数据路径\n",
    "    scene_datasets = {\n",
    "        \"secondary_road\": [\"dataset/driving-scene-graph/secondary-road\"],\n",
    "        \"ebike\": ['dataset/driving-scene-graph/ebike'],\n",
    "        \"main_secondary\": ['dataset/driving-scene-graph/main-secondary'],\n",
    "        \"motor\": [\n",
    "            \"dataset/driving-scene-graph/secondary-road\",\n",
    "            'dataset/driving-scene-graph/main-secondary'\n",
    "        ],\n",
    "        \"total\": [\n",
    "            \"dataset/driving-scene-graph/secondary-road\",\n",
    "            'dataset/driving-scene-graph/main-secondary',\n",
    "            'dataset/driving-scene-graph/ebike'\n",
    "        ]\n",
    "    }\n",
    "    # 数据集参数\n",
    "    window_size = 30  # 窗口步长\n",
    "    step_size = 1  # 假设的步长值\n",
    "    node_feature_dim = 19 + len(NODE_TYPE_MAP)  # 节点特征维度 # 假设改为10\n",
    "    num_classes = 3  # 标签类别数量\n",
    "\n",
    "    # 训练参数\n",
    "    hidden_dim = 64\n",
    "    num_epochs = 100\n",
    "    batch_size = 48\n",
    "    num_workers = 8  # 使用 4 个进程加载数据\n",
    "    device = torch.device(\"cuda\" if torch.cuda.is_available() else \"cpu\")\n",
    "\n",
    "    # 逐场景训练\n",
    "    for scene_name, root_dirs in scene_datasets.items():\n",
    "        print(f\"\\n=== 开始训练场景: {scene_name} ===\")\n",
    "\n",
    "        # 定义缓存路径，针对每个场景使用单独的缓存文件\n",
    "        cache_path = f\"dataset/cache/{scene_name}_{window_size}_{step_size}_dataset_pre_cache.pkl\" \n",
    "        generator_model_path = f\"model/data_aug/{scene_name}_{window_size}_{step_size}_generator_model.pth\"\n",
    "        checkpoint_path = f\"model/checkpoint/{scene_name}_generator_model_checkpoint.pth\" # 定义检查点路径\n",
    "\n",
    "        dataset = ScenarioGraphDataset(root_dirs, window_size, step_size, device, cache_path)\n",
    "        # 假设数据集的 80% 用于训练，20% 用于验证\n",
    "        train_size = int(0.8 * len(dataset))\n",
    "        val_size = len(dataset) - train_size\n",
    "        train_dataset, val_dataset = torch.utils.data.random_split(dataset, [train_size, val_size])\n",
    "\n",
    "        # 在初始化 DataLoader\n",
    "        train_dataloader = DataLoader(train_dataset, batch_size=batch_size, shuffle=True, num_workers=num_workers)\n",
    "        val_dataloader = DataLoader(val_dataset, batch_size=batch_size, shuffle=False, num_workers=num_workers)\n",
    "\n",
    "        # 初始化生成器和判别器, 并添加 Dropout\n",
    "        generator = Generator(node_feature_dim, hidden_dim, window_size, num_classes, dropout_rate=0.5).to(device)\n",
    "        discriminator = Discriminator(node_feature_dim, hidden_dim, window_size, dropout_rate=0.5).to(device)\n",
    "    \n",
    "        # 初始化优化器\n",
    "        g_optimizer = optim.AdamW(generator.parameters(), lr=1e-3, weight_decay=1e-4)\n",
    "        d_optimizer = optim.AdamW(discriminator.parameters(), lr=1e-3, weight_decay=1e-4)\n",
    "    \n",
    "        # 训练 GAN\n",
    "        train_gan(train_dataloader, generator, discriminator, g_optimizer, d_optimizer, num_epochs, device, window_size, val_dataloader, checkpoint_path, scene_name,num_classes=num_classes, generator_model_path=generator_model_path)\n",
    "\n",
    "        # 保存模型\n",
    "        # torch.save(generator.state_dict(), generator_model_path) # 已在早停中保存\n",
    "        # torch.save(discriminator.state_dict(), f\"{scene_name}_discriminator.pth\")\n",
    "        print(f\"场景 {scene_name} 训练完成\\n\")"
   ]
  },
  {
   "cell_type": "code",
   "execution_count": null,
   "metadata": {},
   "outputs": [
    {
     "name": "stdout",
     "output_type": "stream",
     "text": [
      "\n",
      "=== Training Scene: main_secondary ===\n",
      "从缓存文件加载数据: ./dataset/cache/main_secondary_30_1_dataset_pre_cache.pkl\n",
      "class weights: tensor([1.3173, 0.9663, 0.8292])\n"
     ]
    },
    {
     "name": "stderr",
     "output_type": "stream",
     "text": [
      "Epoch 1/200: 100%|██████████| 4/4 [00:34<00:00,  8.66s/it, loss=1.2066]\n"
     ]
    },
    {
     "name": "stdout",
     "output_type": "stream",
     "text": [
      "Epoch 1 | Train Loss: 1.2193 | Val Acc: 0.3333 | Val Prec: 0.1149 | Val Recall: 0.3333 | Val F1: 0.1709\n"
     ]
    },
    {
     "name": "stderr",
     "output_type": "stream",
     "text": [
      "Epoch 2/200: 100%|██████████| 4/4 [00:30<00:00,  7.73s/it, loss=1.2055]\n"
     ]
    },
    {
     "name": "stdout",
     "output_type": "stream",
     "text": [
      "Epoch 2 | Train Loss: 1.2069 | Val Acc: 0.3791 | Val Prec: 0.2627 | Val Recall: 0.3791 | Val F1: 0.2756\n"
     ]
    },
    {
     "name": "stderr",
     "output_type": "stream",
     "text": [
      "Epoch 3/200: 100%|██████████| 4/4 [00:30<00:00,  7.72s/it, loss=1.2203]\n"
     ]
    },
    {
     "name": "stdout",
     "output_type": "stream",
     "text": [
      "Epoch 3 | Train Loss: 1.1903 | Val Acc: 0.3843 | Val Prec: 0.5078 | Val Recall: 0.3843 | Val F1: 0.3776\n"
     ]
    },
    {
     "name": "stderr",
     "output_type": "stream",
     "text": [
      "Epoch 4/200: 100%|██████████| 4/4 [00:35<00:00,  8.75s/it, loss=1.1937]\n"
     ]
    },
    {
     "name": "stdout",
     "output_type": "stream",
     "text": [
      "Epoch 4 | Train Loss: 1.2014 | Val Acc: 0.3467 | Val Prec: 0.4494 | Val Recall: 0.3467 | Val F1: 0.1979\n"
     ]
    },
    {
     "name": "stderr",
     "output_type": "stream",
     "text": [
      "Epoch 5/200: 100%|██████████| 4/4 [00:34<00:00,  8.74s/it, loss=1.1286]\n"
     ]
    },
    {
     "name": "stdout",
     "output_type": "stream",
     "text": [
      "Epoch 5 | Train Loss: 1.1653 | Val Acc: 0.4154 | Val Prec: 0.4123 | Val Recall: 0.4154 | Val F1: 0.3200\n"
     ]
    },
    {
     "name": "stderr",
     "output_type": "stream",
     "text": [
      "Epoch 6/200: 100%|██████████| 4/4 [00:30<00:00,  7.70s/it, loss=1.0605]\n"
     ]
    },
    {
     "name": "stdout",
     "output_type": "stream",
     "text": [
      "Epoch 6 | Train Loss: 1.0900 | Val Acc: 0.4345 | Val Prec: 0.4755 | Val Recall: 0.4345 | Val F1: 0.3946\n"
     ]
    },
    {
     "name": "stderr",
     "output_type": "stream",
     "text": [
      "Epoch 7/200: 100%|██████████| 4/4 [00:32<00:00,  8.12s/it, loss=1.0713]\n"
     ]
    },
    {
     "name": "stdout",
     "output_type": "stream",
     "text": [
      "Epoch 7 | Train Loss: 1.0615 | Val Acc: 0.4594 | Val Prec: 0.4739 | Val Recall: 0.4594 | Val F1: 0.4603\n"
     ]
    },
    {
     "name": "stderr",
     "output_type": "stream",
     "text": [
      "Epoch 8/200: 100%|██████████| 4/4 [00:30<00:00,  7.72s/it, loss=0.9946]\n"
     ]
    },
    {
     "name": "stdout",
     "output_type": "stream",
     "text": [
      "Epoch 8 | Train Loss: 1.0000 | Val Acc: 0.4755 | Val Prec: 0.4658 | Val Recall: 0.4755 | Val F1: 0.4698\n"
     ]
    },
    {
     "name": "stderr",
     "output_type": "stream",
     "text": [
      "Epoch 9/200: 100%|██████████| 4/4 [00:31<00:00,  7.90s/it, loss=1.0245]\n"
     ]
    },
    {
     "name": "stdout",
     "output_type": "stream",
     "text": [
      "Epoch 9 | Train Loss: 1.0551 | Val Acc: 0.3815 | Val Prec: 0.5585 | Val Recall: 0.3815 | Val F1: 0.2276\n"
     ]
    },
    {
     "name": "stderr",
     "output_type": "stream",
     "text": [
      "Epoch 10/200: 100%|██████████| 4/4 [00:31<00:00,  7.78s/it, loss=1.1090]\n"
     ]
    },
    {
     "name": "stdout",
     "output_type": "stream",
     "text": [
      "Epoch 10 | Train Loss: 1.1222 | Val Acc: 0.4835 | Val Prec: 0.5384 | Val Recall: 0.4835 | Val F1: 0.4275\n"
     ]
    },
    {
     "name": "stderr",
     "output_type": "stream",
     "text": [
      "Epoch 11/200: 100%|██████████| 4/4 [00:29<00:00,  7.33s/it, loss=1.0907]\n"
     ]
    },
    {
     "name": "stdout",
     "output_type": "stream",
     "text": [
      "Epoch 11 | Train Loss: 1.0459 | Val Acc: 0.4619 | Val Prec: 0.4594 | Val Recall: 0.4619 | Val F1: 0.4581\n"
     ]
    },
    {
     "name": "stderr",
     "output_type": "stream",
     "text": [
      "Epoch 12/200: 100%|██████████| 4/4 [00:30<00:00,  7.52s/it, loss=0.9678]\n"
     ]
    },
    {
     "name": "stdout",
     "output_type": "stream",
     "text": [
      "Epoch 12 | Train Loss: 0.9897 | Val Acc: 0.4904 | Val Prec: 0.6410 | Val Recall: 0.4904 | Val F1: 0.4019\n"
     ]
    },
    {
     "name": "stderr",
     "output_type": "stream",
     "text": [
      "Epoch 13/200: 100%|██████████| 4/4 [00:31<00:00,  7.86s/it, loss=0.9523]\n"
     ]
    },
    {
     "name": "stdout",
     "output_type": "stream",
     "text": [
      "Epoch 13 | Train Loss: 0.9468 | Val Acc: 0.5085 | Val Prec: 0.5201 | Val Recall: 0.5085 | Val F1: 0.4639\n"
     ]
    },
    {
     "name": "stderr",
     "output_type": "stream",
     "text": [
      "Epoch 14/200: 100%|██████████| 4/4 [00:29<00:00,  7.49s/it, loss=0.8927]\n"
     ]
    },
    {
     "name": "stdout",
     "output_type": "stream",
     "text": [
      "Epoch 14 | Train Loss: 0.9530 | Val Acc: 0.4859 | Val Prec: 0.4875 | Val Recall: 0.4859 | Val F1: 0.3986\n"
     ]
    },
    {
     "name": "stderr",
     "output_type": "stream",
     "text": [
      "Epoch 15/200: 100%|██████████| 4/4 [00:30<00:00,  7.67s/it, loss=1.0698]\n"
     ]
    },
    {
     "name": "stdout",
     "output_type": "stream",
     "text": [
      "Epoch 15 | Train Loss: 0.9710 | Val Acc: 0.4685 | Val Prec: 0.5649 | Val Recall: 0.4685 | Val F1: 0.4730\n"
     ]
    },
    {
     "name": "stderr",
     "output_type": "stream",
     "text": [
      "Epoch 16/200: 100%|██████████| 4/4 [00:31<00:00,  7.92s/it, loss=0.8932]\n"
     ]
    },
    {
     "name": "stdout",
     "output_type": "stream",
     "text": [
      "Epoch 16 | Train Loss: 0.8846 | Val Acc: 0.4538 | Val Prec: 0.6972 | Val Recall: 0.4538 | Val F1: 0.3860\n"
     ]
    },
    {
     "name": "stderr",
     "output_type": "stream",
     "text": [
      "Epoch 17/200: 100%|██████████| 4/4 [00:29<00:00,  7.42s/it, loss=0.9301]\n"
     ]
    },
    {
     "name": "stdout",
     "output_type": "stream",
     "text": [
      "Epoch 17 | Train Loss: 0.9590 | Val Acc: 0.5182 | Val Prec: 0.6531 | Val Recall: 0.5182 | Val F1: 0.4378\n"
     ]
    },
    {
     "name": "stderr",
     "output_type": "stream",
     "text": [
      "Epoch 18/200: 100%|██████████| 4/4 [00:35<00:00,  8.77s/it, loss=0.9342]\n"
     ]
    },
    {
     "name": "stdout",
     "output_type": "stream",
     "text": [
      "Epoch 18 | Train Loss: 0.9492 | Val Acc: 0.5311 | Val Prec: 0.5134 | Val Recall: 0.5311 | Val F1: 0.4739\n"
     ]
    },
    {
     "name": "stderr",
     "output_type": "stream",
     "text": [
      "Epoch 19/200: 100%|██████████| 4/4 [00:29<00:00,  7.41s/it, loss=0.8226]\n"
     ]
    },
    {
     "name": "stdout",
     "output_type": "stream",
     "text": [
      "Epoch 19 | Train Loss: 0.8719 | Val Acc: 0.5320 | Val Prec: 0.4853 | Val Recall: 0.5320 | Val F1: 0.4857\n"
     ]
    },
    {
     "name": "stderr",
     "output_type": "stream",
     "text": [
      "Epoch 20/200: 100%|██████████| 4/4 [00:29<00:00,  7.40s/it, loss=0.9334]\n"
     ]
    },
    {
     "name": "stdout",
     "output_type": "stream",
     "text": [
      "Epoch 20 | Train Loss: 0.8729 | Val Acc: 0.4932 | Val Prec: 0.5955 | Val Recall: 0.4932 | Val F1: 0.4787\n"
     ]
    },
    {
     "name": "stderr",
     "output_type": "stream",
     "text": [
      "Epoch 21/200: 100%|██████████| 4/4 [00:29<00:00,  7.40s/it, loss=0.8418]\n"
     ]
    },
    {
     "name": "stdout",
     "output_type": "stream",
     "text": [
      "Epoch 21 | Train Loss: 0.8397 | Val Acc: 0.5424 | Val Prec: 0.5219 | Val Recall: 0.5424 | Val F1: 0.5293\n"
     ]
    },
    {
     "name": "stderr",
     "output_type": "stream",
     "text": [
      "Epoch 22/200: 100%|██████████| 4/4 [00:32<00:00,  8.08s/it, loss=0.8085]\n"
     ]
    },
    {
     "name": "stdout",
     "output_type": "stream",
     "text": [
      "Epoch 22 | Train Loss: 0.8108 | Val Acc: 0.5541 | Val Prec: 0.5980 | Val Recall: 0.5541 | Val F1: 0.4476\n"
     ]
    },
    {
     "name": "stderr",
     "output_type": "stream",
     "text": [
      "Epoch 23/200: 100%|██████████| 4/4 [00:29<00:00,  7.34s/it, loss=0.7119]\n"
     ]
    },
    {
     "name": "stdout",
     "output_type": "stream",
     "text": [
      "Epoch 23 | Train Loss: 0.7396 | Val Acc: 0.5668 | Val Prec: 0.5322 | Val Recall: 0.5668 | Val F1: 0.5389\n"
     ]
    },
    {
     "name": "stderr",
     "output_type": "stream",
     "text": [
      "Epoch 24/200: 100%|██████████| 4/4 [00:29<00:00,  7.35s/it, loss=0.6453]\n"
     ]
    },
    {
     "name": "stdout",
     "output_type": "stream",
     "text": [
      "Epoch 24 | Train Loss: 0.6746 | Val Acc: 0.5823 | Val Prec: 0.5496 | Val Recall: 0.5823 | Val F1: 0.5526\n"
     ]
    },
    {
     "name": "stderr",
     "output_type": "stream",
     "text": [
      "Epoch 25/200: 100%|██████████| 4/4 [00:31<00:00,  7.99s/it, loss=0.7107]\n"
     ]
    },
    {
     "name": "stdout",
     "output_type": "stream",
     "text": [
      "Epoch 25 | Train Loss: 0.6327 | Val Acc: 0.5983 | Val Prec: 0.5553 | Val Recall: 0.5983 | Val F1: 0.5507\n"
     ]
    },
    {
     "name": "stderr",
     "output_type": "stream",
     "text": [
      "Epoch 26/200: 100%|██████████| 4/4 [00:32<00:00,  8.03s/it, loss=0.5990]\n"
     ]
    },
    {
     "name": "stdout",
     "output_type": "stream",
     "text": [
      "Epoch 26 | Train Loss: 0.6049 | Val Acc: 0.5863 | Val Prec: 0.5801 | Val Recall: 0.5863 | Val F1: 0.5204\n"
     ]
    },
    {
     "name": "stderr",
     "output_type": "stream",
     "text": [
      "Epoch 27/200: 100%|██████████| 4/4 [00:30<00:00,  7.62s/it, loss=0.6403]\n"
     ]
    },
    {
     "name": "stdout",
     "output_type": "stream",
     "text": [
      "Epoch 27 | Train Loss: 0.6031 | Val Acc: 0.5923 | Val Prec: 0.6147 | Val Recall: 0.5923 | Val F1: 0.5310\n"
     ]
    },
    {
     "name": "stderr",
     "output_type": "stream",
     "text": [
      "Epoch 28/200: 100%|██████████| 4/4 [00:30<00:00,  7.68s/it, loss=0.5989]\n"
     ]
    },
    {
     "name": "stdout",
     "output_type": "stream",
     "text": [
      "Epoch 28 | Train Loss: 0.6042 | Val Acc: 0.6014 | Val Prec: 0.5533 | Val Recall: 0.6014 | Val F1: 0.5238\n"
     ]
    },
    {
     "name": "stderr",
     "output_type": "stream",
     "text": [
      "Epoch 29/200: 100%|██████████| 4/4 [00:34<00:00,  8.59s/it, loss=0.5964]\n"
     ]
    },
    {
     "name": "stdout",
     "output_type": "stream",
     "text": [
      "Epoch 29 | Train Loss: 0.5896 | Val Acc: 0.5936 | Val Prec: 0.5627 | Val Recall: 0.5936 | Val F1: 0.5684\n"
     ]
    },
    {
     "name": "stderr",
     "output_type": "stream",
     "text": [
      "Epoch 30/200: 100%|██████████| 4/4 [00:29<00:00,  7.34s/it, loss=0.5334]\n"
     ]
    },
    {
     "name": "stdout",
     "output_type": "stream",
     "text": [
      "Epoch 30 | Train Loss: 0.6091 | Val Acc: 0.6030 | Val Prec: 0.6001 | Val Recall: 0.6030 | Val F1: 0.5343\n"
     ]
    },
    {
     "name": "stderr",
     "output_type": "stream",
     "text": [
      "Epoch 31/200: 100%|██████████| 4/4 [00:30<00:00,  7.55s/it, loss=0.6274]\n"
     ]
    },
    {
     "name": "stdout",
     "output_type": "stream",
     "text": [
      "Epoch 31 | Train Loss: 0.5627 | Val Acc: 0.5940 | Val Prec: 0.5388 | Val Recall: 0.5940 | Val F1: 0.5360\n"
     ]
    },
    {
     "name": "stderr",
     "output_type": "stream",
     "text": [
      "Epoch 32/200: 100%|██████████| 4/4 [00:31<00:00,  7.93s/it, loss=0.5947]\n"
     ]
    },
    {
     "name": "stdout",
     "output_type": "stream",
     "text": [
      "Epoch 32 | Train Loss: 0.5485 | Val Acc: 0.6093 | Val Prec: 0.6167 | Val Recall: 0.6093 | Val F1: 0.5565\n"
     ]
    },
    {
     "name": "stderr",
     "output_type": "stream",
     "text": [
      "Epoch 33/200: 100%|██████████| 4/4 [00:30<00:00,  7.63s/it, loss=0.4344]\n"
     ]
    },
    {
     "name": "stdout",
     "output_type": "stream",
     "text": [
      "Epoch 33 | Train Loss: 0.5428 | Val Acc: 0.6284 | Val Prec: 0.5814 | Val Recall: 0.6284 | Val F1: 0.5819\n"
     ]
    },
    {
     "name": "stderr",
     "output_type": "stream",
     "text": [
      "Epoch 34/200: 100%|██████████| 4/4 [00:29<00:00,  7.30s/it, loss=0.5329]\n"
     ]
    },
    {
     "name": "stdout",
     "output_type": "stream",
     "text": [
      "Epoch 34 | Train Loss: 0.5288 | Val Acc: 0.6117 | Val Prec: 0.5980 | Val Recall: 0.6117 | Val F1: 0.5413\n"
     ]
    },
    {
     "name": "stderr",
     "output_type": "stream",
     "text": [
      "Epoch 35/200: 100%|██████████| 4/4 [00:30<00:00,  7.66s/it, loss=0.6166]\n"
     ]
    },
    {
     "name": "stdout",
     "output_type": "stream",
     "text": [
      "Epoch 35 | Train Loss: 0.6376 | Val Acc: 0.5964 | Val Prec: 0.5243 | Val Recall: 0.5964 | Val F1: 0.5005\n"
     ]
    },
    {
     "name": "stderr",
     "output_type": "stream",
     "text": [
      "Epoch 36/200: 100%|██████████| 4/4 [00:28<00:00,  7.10s/it, loss=0.6016]\n"
     ]
    },
    {
     "name": "stdout",
     "output_type": "stream",
     "text": [
      "Epoch 36 | Train Loss: 0.5856 | Val Acc: 0.5980 | Val Prec: 0.6383 | Val Recall: 0.5980 | Val F1: 0.4962\n"
     ]
    },
    {
     "name": "stderr",
     "output_type": "stream",
     "text": [
      "Epoch 37/200: 100%|██████████| 4/4 [00:29<00:00,  7.45s/it, loss=0.5599]\n"
     ]
    },
    {
     "name": "stdout",
     "output_type": "stream",
     "text": [
      "Epoch 37 | Train Loss: 0.5420 | Val Acc: 0.6094 | Val Prec: 0.5554 | Val Recall: 0.6094 | Val F1: 0.5626\n"
     ]
    },
    {
     "name": "stderr",
     "output_type": "stream",
     "text": [
      "Epoch 38/200: 100%|██████████| 4/4 [00:32<00:00,  8.07s/it, loss=0.5122]\n"
     ]
    },
    {
     "name": "stdout",
     "output_type": "stream",
     "text": [
      "Epoch 38 | Train Loss: 0.5220 | Val Acc: 0.6191 | Val Prec: 0.5838 | Val Recall: 0.6191 | Val F1: 0.5957\n"
     ]
    },
    {
     "name": "stderr",
     "output_type": "stream",
     "text": [
      "Epoch 39/200: 100%|██████████| 4/4 [00:31<00:00,  7.87s/it, loss=0.5141]\n"
     ]
    },
    {
     "name": "stdout",
     "output_type": "stream",
     "text": [
      "Epoch 39 | Train Loss: 0.5108 | Val Acc: 0.6201 | Val Prec: 0.6286 | Val Recall: 0.6201 | Val F1: 0.5816\n"
     ]
    },
    {
     "name": "stderr",
     "output_type": "stream",
     "text": [
      "Epoch 40/200: 100%|██████████| 4/4 [00:32<00:00,  8.00s/it, loss=0.5060]\n"
     ]
    },
    {
     "name": "stdout",
     "output_type": "stream",
     "text": [
      "Epoch 40 | Train Loss: 0.4990 | Val Acc: 0.6311 | Val Prec: 0.6025 | Val Recall: 0.6311 | Val F1: 0.5867\n"
     ]
    },
    {
     "name": "stderr",
     "output_type": "stream",
     "text": [
      "Epoch 41/200: 100%|██████████| 4/4 [00:31<00:00,  7.94s/it, loss=0.4160]\n"
     ]
    },
    {
     "name": "stdout",
     "output_type": "stream",
     "text": [
      "Epoch 41 | Train Loss: 0.4661 | Val Acc: 0.6321 | Val Prec: 0.6023 | Val Recall: 0.6321 | Val F1: 0.5822\n"
     ]
    },
    {
     "name": "stderr",
     "output_type": "stream",
     "text": [
      "Epoch 42/200: 100%|██████████| 4/4 [00:32<00:00,  8.18s/it, loss=0.4629]\n"
     ]
    },
    {
     "name": "stdout",
     "output_type": "stream",
     "text": [
      "Epoch 42 | Train Loss: 0.4730 | Val Acc: 0.6443 | Val Prec: 0.6720 | Val Recall: 0.6443 | Val F1: 0.5762\n"
     ]
    },
    {
     "name": "stderr",
     "output_type": "stream",
     "text": [
      "Epoch 43/200: 100%|██████████| 4/4 [00:29<00:00,  7.41s/it, loss=0.4858]\n"
     ]
    },
    {
     "name": "stdout",
     "output_type": "stream",
     "text": [
      "Epoch 43 | Train Loss: 0.4617 | Val Acc: 0.6500 | Val Prec: 0.6128 | Val Recall: 0.6500 | Val F1: 0.6224\n"
     ]
    },
    {
     "name": "stderr",
     "output_type": "stream",
     "text": [
      "Epoch 44/200: 100%|██████████| 4/4 [00:28<00:00,  7.17s/it, loss=0.5045]\n"
     ]
    },
    {
     "name": "stdout",
     "output_type": "stream",
     "text": [
      "Epoch 44 | Train Loss: 0.4451 | Val Acc: 0.6504 | Val Prec: 0.6149 | Val Recall: 0.6504 | Val F1: 0.6259\n"
     ]
    },
    {
     "name": "stderr",
     "output_type": "stream",
     "text": [
      "Epoch 45/200: 100%|██████████| 4/4 [00:32<00:00,  8.08s/it, loss=0.4605]\n"
     ]
    },
    {
     "name": "stdout",
     "output_type": "stream",
     "text": [
      "Epoch 45 | Train Loss: 0.4430 | Val Acc: 0.6454 | Val Prec: 0.6194 | Val Recall: 0.6454 | Val F1: 0.6037\n"
     ]
    },
    {
     "name": "stderr",
     "output_type": "stream",
     "text": [
      "Epoch 46/200: 100%|██████████| 4/4 [00:30<00:00,  7.51s/it, loss=0.4416]\n"
     ]
    },
    {
     "name": "stdout",
     "output_type": "stream",
     "text": [
      "Epoch 46 | Train Loss: 0.4504 | Val Acc: 0.6595 | Val Prec: 0.6384 | Val Recall: 0.6595 | Val F1: 0.6445\n"
     ]
    },
    {
     "name": "stderr",
     "output_type": "stream",
     "text": [
      "Epoch 47/200: 100%|██████████| 4/4 [00:32<00:00,  8.21s/it, loss=0.4539]\n"
     ]
    },
    {
     "name": "stdout",
     "output_type": "stream",
     "text": [
      "Epoch 47 | Train Loss: 0.4213 | Val Acc: 0.6587 | Val Prec: 0.6441 | Val Recall: 0.6587 | Val F1: 0.6272\n"
     ]
    },
    {
     "name": "stderr",
     "output_type": "stream",
     "text": [
      "Epoch 48/200: 100%|██████████| 4/4 [00:30<00:00,  7.56s/it, loss=0.5095]\n"
     ]
    },
    {
     "name": "stdout",
     "output_type": "stream",
     "text": [
      "Epoch 48 | Train Loss: 0.4392 | Val Acc: 0.6467 | Val Prec: 0.6113 | Val Recall: 0.6467 | Val F1: 0.6112\n"
     ]
    },
    {
     "name": "stderr",
     "output_type": "stream",
     "text": [
      "Epoch 49/200: 100%|██████████| 4/4 [00:31<00:00,  7.76s/it, loss=0.4164]\n"
     ]
    },
    {
     "name": "stdout",
     "output_type": "stream",
     "text": [
      "Epoch 49 | Train Loss: 0.4624 | Val Acc: 0.6615 | Val Prec: 0.6410 | Val Recall: 0.6615 | Val F1: 0.6285\n"
     ]
    },
    {
     "name": "stderr",
     "output_type": "stream",
     "text": [
      "Epoch 50/200: 100%|██████████| 4/4 [00:29<00:00,  7.40s/it, loss=0.4239]\n"
     ]
    },
    {
     "name": "stdout",
     "output_type": "stream",
     "text": [
      "Epoch 50 | Train Loss: 0.4447 | Val Acc: 0.6286 | Val Prec: 0.5762 | Val Recall: 0.6286 | Val F1: 0.5774\n"
     ]
    },
    {
     "name": "stderr",
     "output_type": "stream",
     "text": [
      "Epoch 51/200: 100%|██████████| 4/4 [00:29<00:00,  7.45s/it, loss=0.4346]\n"
     ]
    },
    {
     "name": "stdout",
     "output_type": "stream",
     "text": [
      "Epoch 51 | Train Loss: 0.4689 | Val Acc: 0.6413 | Val Prec: 0.5964 | Val Recall: 0.6413 | Val F1: 0.5897\n"
     ]
    },
    {
     "name": "stderr",
     "output_type": "stream",
     "text": [
      "Epoch 52/200: 100%|██████████| 4/4 [00:28<00:00,  7.15s/it, loss=0.4202]\n"
     ]
    },
    {
     "name": "stdout",
     "output_type": "stream",
     "text": [
      "Epoch 52 | Train Loss: 0.4319 | Val Acc: 0.6566 | Val Prec: 0.6480 | Val Recall: 0.6566 | Val F1: 0.6115\n"
     ]
    },
    {
     "name": "stderr",
     "output_type": "stream",
     "text": [
      "Epoch 53/200: 100%|██████████| 4/4 [00:31<00:00,  7.84s/it, loss=0.4452]\n"
     ]
    },
    {
     "name": "stdout",
     "output_type": "stream",
     "text": [
      "Epoch 53 | Train Loss: 0.4052 | Val Acc: 0.6500 | Val Prec: 0.6093 | Val Recall: 0.6500 | Val F1: 0.6115\n"
     ]
    },
    {
     "name": "stderr",
     "output_type": "stream",
     "text": [
      "Epoch 54/200: 100%|██████████| 4/4 [00:31<00:00,  7.92s/it, loss=0.4354]\n"
     ]
    },
    {
     "name": "stdout",
     "output_type": "stream",
     "text": [
      "Epoch 54 | Train Loss: 0.4441 | Val Acc: 0.6535 | Val Prec: 0.6656 | Val Recall: 0.6535 | Val F1: 0.6172\n"
     ]
    },
    {
     "name": "stderr",
     "output_type": "stream",
     "text": [
      "Epoch 55/200: 100%|██████████| 4/4 [00:29<00:00,  7.41s/it, loss=0.4326]\n"
     ]
    },
    {
     "name": "stdout",
     "output_type": "stream",
     "text": [
      "Epoch 55 | Train Loss: 0.4231 | Val Acc: 0.6470 | Val Prec: 0.6020 | Val Recall: 0.6470 | Val F1: 0.6014\n"
     ]
    },
    {
     "name": "stderr",
     "output_type": "stream",
     "text": [
      "Epoch 56/200: 100%|██████████| 4/4 [00:29<00:00,  7.42s/it, loss=0.4291]\n"
     ]
    },
    {
     "name": "stdout",
     "output_type": "stream",
     "text": [
      "Epoch 56 | Train Loss: 0.4091 | Val Acc: 0.6554 | Val Prec: 0.6713 | Val Recall: 0.6554 | Val F1: 0.5931\n"
     ]
    },
    {
     "name": "stderr",
     "output_type": "stream",
     "text": [
      "Epoch 57/200: 100%|██████████| 4/4 [00:29<00:00,  7.42s/it, loss=0.3464]\n"
     ]
    },
    {
     "name": "stdout",
     "output_type": "stream",
     "text": [
      "Epoch 57 | Train Loss: 0.3768 | Val Acc: 0.6839 | Val Prec: 0.6521 | Val Recall: 0.6839 | Val F1: 0.6573\n"
     ]
    },
    {
     "name": "stderr",
     "output_type": "stream",
     "text": [
      "Epoch 58/200: 100%|██████████| 4/4 [00:30<00:00,  7.62s/it, loss=0.4117]\n"
     ]
    },
    {
     "name": "stdout",
     "output_type": "stream",
     "text": [
      "Epoch 58 | Train Loss: 0.3595 | Val Acc: 0.6809 | Val Prec: 0.6582 | Val Recall: 0.6809 | Val F1: 0.6527\n"
     ]
    },
    {
     "name": "stderr",
     "output_type": "stream",
     "text": [
      "Epoch 59/200: 100%|██████████| 4/4 [00:29<00:00,  7.46s/it, loss=0.3536]\n"
     ]
    },
    {
     "name": "stdout",
     "output_type": "stream",
     "text": [
      "Epoch 59 | Train Loss: 0.3362 | Val Acc: 0.6783 | Val Prec: 0.6471 | Val Recall: 0.6783 | Val F1: 0.6582\n"
     ]
    },
    {
     "name": "stderr",
     "output_type": "stream",
     "text": [
      "Epoch 60/200: 100%|██████████| 4/4 [00:29<00:00,  7.37s/it, loss=0.3426]\n"
     ]
    },
    {
     "name": "stdout",
     "output_type": "stream",
     "text": [
      "Epoch 60 | Train Loss: 0.3338 | Val Acc: 0.6986 | Val Prec: 0.6921 | Val Recall: 0.6986 | Val F1: 0.6952\n"
     ]
    },
    {
     "name": "stderr",
     "output_type": "stream",
     "text": [
      "Epoch 61/200: 100%|██████████| 4/4 [00:29<00:00,  7.46s/it, loss=0.3752]\n"
     ]
    },
    {
     "name": "stdout",
     "output_type": "stream",
     "text": [
      "Epoch 61 | Train Loss: 0.3457 | Val Acc: 0.6965 | Val Prec: 0.6993 | Val Recall: 0.6965 | Val F1: 0.6886\n"
     ]
    },
    {
     "name": "stderr",
     "output_type": "stream",
     "text": [
      "Epoch 62/200: 100%|██████████| 4/4 [00:31<00:00,  7.80s/it, loss=0.3431]\n"
     ]
    },
    {
     "name": "stdout",
     "output_type": "stream",
     "text": [
      "Epoch 62 | Train Loss: 0.3307 | Val Acc: 0.6869 | Val Prec: 0.6904 | Val Recall: 0.6869 | Val F1: 0.6884\n"
     ]
    },
    {
     "name": "stderr",
     "output_type": "stream",
     "text": [
      "Epoch 63/200: 100%|██████████| 4/4 [00:30<00:00,  7.52s/it, loss=0.3564]\n"
     ]
    },
    {
     "name": "stdout",
     "output_type": "stream",
     "text": [
      "Epoch 63 | Train Loss: 0.3487 | Val Acc: 0.6918 | Val Prec: 0.7034 | Val Recall: 0.6918 | Val F1: 0.6921\n"
     ]
    },
    {
     "name": "stderr",
     "output_type": "stream",
     "text": [
      "Epoch 64/200: 100%|██████████| 4/4 [00:28<00:00,  7.12s/it, loss=0.3710]\n"
     ]
    },
    {
     "name": "stdout",
     "output_type": "stream",
     "text": [
      "Epoch 64 | Train Loss: 0.3540 | Val Acc: 0.6860 | Val Prec: 0.6618 | Val Recall: 0.6860 | Val F1: 0.6669\n"
     ]
    },
    {
     "name": "stderr",
     "output_type": "stream",
     "text": [
      "Epoch 65/200: 100%|██████████| 4/4 [00:31<00:00,  7.77s/it, loss=0.3228]\n"
     ]
    },
    {
     "name": "stdout",
     "output_type": "stream",
     "text": [
      "Epoch 65 | Train Loss: 0.3243 | Val Acc: 0.6986 | Val Prec: 0.6943 | Val Recall: 0.6986 | Val F1: 0.6629\n"
     ]
    },
    {
     "name": "stderr",
     "output_type": "stream",
     "text": [
      "Epoch 66/200: 100%|██████████| 4/4 [00:30<00:00,  7.58s/it, loss=0.3259]\n"
     ]
    },
    {
     "name": "stdout",
     "output_type": "stream",
     "text": [
      "Epoch 66 | Train Loss: 0.3341 | Val Acc: 0.6971 | Val Prec: 0.6933 | Val Recall: 0.6971 | Val F1: 0.6613\n"
     ]
    },
    {
     "name": "stderr",
     "output_type": "stream",
     "text": [
      "Epoch 67/200: 100%|██████████| 4/4 [00:31<00:00,  7.87s/it, loss=0.2873]\n"
     ]
    },
    {
     "name": "stdout",
     "output_type": "stream",
     "text": [
      "Epoch 67 | Train Loss: 0.3234 | Val Acc: 0.6829 | Val Prec: 0.6653 | Val Recall: 0.6829 | Val F1: 0.6479\n"
     ]
    },
    {
     "name": "stderr",
     "output_type": "stream",
     "text": [
      "Epoch 68/200: 100%|██████████| 4/4 [00:31<00:00,  7.79s/it, loss=0.2997]\n"
     ]
    },
    {
     "name": "stdout",
     "output_type": "stream",
     "text": [
      "Epoch 68 | Train Loss: 0.3299 | Val Acc: 0.7119 | Val Prec: 0.7159 | Val Recall: 0.7119 | Val F1: 0.7029\n"
     ]
    },
    {
     "name": "stderr",
     "output_type": "stream",
     "text": [
      "Epoch 69/200: 100%|██████████| 4/4 [00:29<00:00,  7.31s/it, loss=0.3144]\n"
     ]
    },
    {
     "name": "stdout",
     "output_type": "stream",
     "text": [
      "Epoch 69 | Train Loss: 0.3292 | Val Acc: 0.7264 | Val Prec: 0.7400 | Val Recall: 0.7264 | Val F1: 0.6982\n"
     ]
    },
    {
     "name": "stderr",
     "output_type": "stream",
     "text": [
      "Epoch 70/200: 100%|██████████| 4/4 [00:27<00:00,  6.94s/it, loss=0.3333]\n"
     ]
    },
    {
     "name": "stdout",
     "output_type": "stream",
     "text": [
      "Epoch 70 | Train Loss: 0.3130 | Val Acc: 0.7240 | Val Prec: 0.7227 | Val Recall: 0.7240 | Val F1: 0.7151\n"
     ]
    },
    {
     "name": "stderr",
     "output_type": "stream",
     "text": [
      "Epoch 71/200: 100%|██████████| 4/4 [00:32<00:00,  8.22s/it, loss=0.2868]\n"
     ]
    },
    {
     "name": "stdout",
     "output_type": "stream",
     "text": [
      "Epoch 71 | Train Loss: 0.2808 | Val Acc: 0.7273 | Val Prec: 0.7432 | Val Recall: 0.7273 | Val F1: 0.7173\n"
     ]
    },
    {
     "name": "stderr",
     "output_type": "stream",
     "text": [
      "Epoch 72/200: 100%|██████████| 4/4 [00:29<00:00,  7.40s/it, loss=0.3181]\n"
     ]
    },
    {
     "name": "stdout",
     "output_type": "stream",
     "text": [
      "Epoch 72 | Train Loss: 0.2844 | Val Acc: 0.7310 | Val Prec: 0.7413 | Val Recall: 0.7310 | Val F1: 0.7119\n"
     ]
    },
    {
     "name": "stderr",
     "output_type": "stream",
     "text": [
      "Epoch 73/200: 100%|██████████| 4/4 [00:28<00:00,  7.12s/it, loss=0.2749]\n"
     ]
    },
    {
     "name": "stdout",
     "output_type": "stream",
     "text": [
      "Epoch 73 | Train Loss: 0.2630 | Val Acc: 0.7428 | Val Prec: 0.7284 | Val Recall: 0.7428 | Val F1: 0.7319\n"
     ]
    },
    {
     "name": "stderr",
     "output_type": "stream",
     "text": [
      "Epoch 74/200: 100%|██████████| 4/4 [00:28<00:00,  7.06s/it, loss=0.2662]\n"
     ]
    },
    {
     "name": "stdout",
     "output_type": "stream",
     "text": [
      "Epoch 74 | Train Loss: 0.2536 | Val Acc: 0.7433 | Val Prec: 0.7522 | Val Recall: 0.7433 | Val F1: 0.7259\n"
     ]
    },
    {
     "name": "stderr",
     "output_type": "stream",
     "text": [
      "Epoch 75/200: 100%|██████████| 4/4 [00:33<00:00,  8.48s/it, loss=0.2433]\n"
     ]
    },
    {
     "name": "stdout",
     "output_type": "stream",
     "text": [
      "Epoch 75 | Train Loss: 0.2512 | Val Acc: 0.7489 | Val Prec: 0.7455 | Val Recall: 0.7489 | Val F1: 0.7307\n"
     ]
    },
    {
     "name": "stderr",
     "output_type": "stream",
     "text": [
      "Epoch 76/200: 100%|██████████| 4/4 [00:30<00:00,  7.62s/it, loss=0.2220]\n"
     ]
    },
    {
     "name": "stdout",
     "output_type": "stream",
     "text": [
      "Epoch 76 | Train Loss: 0.2380 | Val Acc: 0.7377 | Val Prec: 0.7223 | Val Recall: 0.7377 | Val F1: 0.7195\n"
     ]
    },
    {
     "name": "stderr",
     "output_type": "stream",
     "text": [
      "Epoch 77/200: 100%|██████████| 4/4 [00:30<00:00,  7.69s/it, loss=0.2271]\n"
     ]
    },
    {
     "name": "stdout",
     "output_type": "stream",
     "text": [
      "Epoch 77 | Train Loss: 0.2305 | Val Acc: 0.7514 | Val Prec: 0.7671 | Val Recall: 0.7514 | Val F1: 0.7437\n"
     ]
    },
    {
     "name": "stderr",
     "output_type": "stream",
     "text": [
      "Epoch 78/200: 100%|██████████| 4/4 [00:31<00:00,  7.97s/it, loss=0.2223]\n"
     ]
    },
    {
     "name": "stdout",
     "output_type": "stream",
     "text": [
      "Epoch 78 | Train Loss: 0.2271 | Val Acc: 0.7578 | Val Prec: 0.7797 | Val Recall: 0.7578 | Val F1: 0.7479\n"
     ]
    },
    {
     "name": "stderr",
     "output_type": "stream",
     "text": [
      "Epoch 79/200: 100%|██████████| 4/4 [00:28<00:00,  7.14s/it, loss=0.2077]\n"
     ]
    },
    {
     "name": "stdout",
     "output_type": "stream",
     "text": [
      "Epoch 79 | Train Loss: 0.2273 | Val Acc: 0.7587 | Val Prec: 0.7627 | Val Recall: 0.7587 | Val F1: 0.7461\n"
     ]
    },
    {
     "name": "stderr",
     "output_type": "stream",
     "text": [
      "Epoch 80/200: 100%|██████████| 4/4 [00:30<00:00,  7.57s/it, loss=0.2145]\n"
     ]
    },
    {
     "name": "stdout",
     "output_type": "stream",
     "text": [
      "Epoch 80 | Train Loss: 0.2100 | Val Acc: 0.7732 | Val Prec: 0.7930 | Val Recall: 0.7732 | Val F1: 0.7555\n"
     ]
    },
    {
     "name": "stderr",
     "output_type": "stream",
     "text": [
      "Epoch 81/200: 100%|██████████| 4/4 [00:30<00:00,  7.55s/it, loss=0.1994]\n"
     ]
    },
    {
     "name": "stdout",
     "output_type": "stream",
     "text": [
      "Epoch 81 | Train Loss: 0.1960 | Val Acc: 0.7676 | Val Prec: 0.7955 | Val Recall: 0.7676 | Val F1: 0.7583\n"
     ]
    },
    {
     "name": "stderr",
     "output_type": "stream",
     "text": [
      "Epoch 82/200: 100%|██████████| 4/4 [00:28<00:00,  7.10s/it, loss=0.1921]\n"
     ]
    },
    {
     "name": "stdout",
     "output_type": "stream",
     "text": [
      "Epoch 82 | Train Loss: 0.1973 | Val Acc: 0.7804 | Val Prec: 0.7929 | Val Recall: 0.7804 | Val F1: 0.7709\n"
     ]
    },
    {
     "name": "stderr",
     "output_type": "stream",
     "text": [
      "Epoch 83/200: 100%|██████████| 4/4 [00:30<00:00,  7.71s/it, loss=0.2434]\n"
     ]
    },
    {
     "name": "stdout",
     "output_type": "stream",
     "text": [
      "Epoch 83 | Train Loss: 0.2043 | Val Acc: 0.7739 | Val Prec: 0.7773 | Val Recall: 0.7739 | Val F1: 0.7625\n"
     ]
    },
    {
     "name": "stderr",
     "output_type": "stream",
     "text": [
      "Epoch 84/200: 100%|██████████| 4/4 [00:30<00:00,  7.60s/it, loss=0.2514]\n"
     ]
    },
    {
     "name": "stdout",
     "output_type": "stream",
     "text": [
      "Epoch 84 | Train Loss: 0.2278 | Val Acc: 0.7719 | Val Prec: 0.7755 | Val Recall: 0.7719 | Val F1: 0.7626\n"
     ]
    },
    {
     "name": "stderr",
     "output_type": "stream",
     "text": [
      "Epoch 85/200: 100%|██████████| 4/4 [00:31<00:00,  7.81s/it, loss=0.3444]\n"
     ]
    },
    {
     "name": "stdout",
     "output_type": "stream",
     "text": [
      "Epoch 85 | Train Loss: 0.2861 | Val Acc: 0.7458 | Val Prec: 0.7711 | Val Recall: 0.7458 | Val F1: 0.7358\n"
     ]
    },
    {
     "name": "stderr",
     "output_type": "stream",
     "text": [
      "Epoch 86/200: 100%|██████████| 4/4 [00:32<00:00,  8.11s/it, loss=1.3538]\n"
     ]
    },
    {
     "name": "stdout",
     "output_type": "stream",
     "text": [
      "Epoch 86 | Train Loss: 0.8199 | Val Acc: 0.5016 | Val Prec: 0.5973 | Val Recall: 0.5016 | Val F1: 0.4721\n"
     ]
    },
    {
     "name": "stderr",
     "output_type": "stream",
     "text": [
      "Epoch 87/200: 100%|██████████| 4/4 [00:29<00:00,  7.45s/it, loss=0.8297]\n"
     ]
    },
    {
     "name": "stdout",
     "output_type": "stream",
     "text": [
      "Epoch 87 | Train Loss: 0.8396 | Val Acc: 0.5307 | Val Prec: 0.5129 | Val Recall: 0.5307 | Val F1: 0.4803\n"
     ]
    },
    {
     "name": "stderr",
     "output_type": "stream",
     "text": [
      "Epoch 88/200: 100%|██████████| 4/4 [00:29<00:00,  7.36s/it, loss=1.1491]\n"
     ]
    },
    {
     "name": "stdout",
     "output_type": "stream",
     "text": [
      "Epoch 88 | Train Loss: 0.9421 | Val Acc: 0.3524 | Val Prec: 0.6038 | Val Recall: 0.3524 | Val F1: 0.3060\n"
     ]
    },
    {
     "name": "stderr",
     "output_type": "stream",
     "text": [
      "Epoch 89/200: 100%|██████████| 4/4 [00:31<00:00,  7.77s/it, loss=1.1705]\n"
     ]
    },
    {
     "name": "stdout",
     "output_type": "stream",
     "text": [
      "Epoch 89 | Train Loss: 1.2750 | Val Acc: 0.3567 | Val Prec: 0.7242 | Val Recall: 0.3567 | Val F1: 0.2274\n"
     ]
    },
    {
     "name": "stderr",
     "output_type": "stream",
     "text": [
      "Epoch 90/200: 100%|██████████| 4/4 [00:30<00:00,  7.66s/it, loss=1.0457]\n"
     ]
    },
    {
     "name": "stdout",
     "output_type": "stream",
     "text": [
      "Epoch 90 | Train Loss: 1.1038 | Val Acc: 0.3671 | Val Prec: 0.3385 | Val Recall: 0.3671 | Val F1: 0.3171\n"
     ]
    },
    {
     "name": "stderr",
     "output_type": "stream",
     "text": [
      "Epoch 91/200: 100%|██████████| 4/4 [00:28<00:00,  7.21s/it, loss=1.0717]\n"
     ]
    },
    {
     "name": "stdout",
     "output_type": "stream",
     "text": [
      "Epoch 91 | Train Loss: 1.0981 | Val Acc: 0.4532 | Val Prec: 0.4291 | Val Recall: 0.4532 | Val F1: 0.3822\n"
     ]
    },
    {
     "name": "stderr",
     "output_type": "stream",
     "text": [
      "Epoch 92/200: 100%|██████████| 4/4 [00:30<00:00,  7.61s/it, loss=1.0429]\n"
     ]
    },
    {
     "name": "stdout",
     "output_type": "stream",
     "text": [
      "Epoch 92 | Train Loss: 1.0763 | Val Acc: 0.4560 | Val Prec: 0.4486 | Val Recall: 0.4560 | Val F1: 0.3568\n"
     ]
    },
    {
     "name": "stderr",
     "output_type": "stream",
     "text": [
      "Epoch 93/200: 100%|██████████| 4/4 [00:31<00:00,  7.75s/it, loss=1.0485]\n"
     ]
    },
    {
     "name": "stdout",
     "output_type": "stream",
     "text": [
      "Epoch 93 | Train Loss: 1.0408 | Val Acc: 0.4835 | Val Prec: 0.4443 | Val Recall: 0.4835 | Val F1: 0.3641\n"
     ]
    },
    {
     "name": "stderr",
     "output_type": "stream",
     "text": [
      "Epoch 94/200: 100%|██████████| 4/4 [00:29<00:00,  7.39s/it, loss=0.9729]\n"
     ]
    },
    {
     "name": "stdout",
     "output_type": "stream",
     "text": [
      "Epoch 94 | Train Loss: 0.9785 | Val Acc: 0.4783 | Val Prec: 0.4662 | Val Recall: 0.4783 | Val F1: 0.4630\n"
     ]
    },
    {
     "name": "stderr",
     "output_type": "stream",
     "text": [
      "Epoch 95/200: 100%|██████████| 4/4 [00:31<00:00,  7.87s/it, loss=1.0101]\n"
     ]
    },
    {
     "name": "stdout",
     "output_type": "stream",
     "text": [
      "Epoch 95 | Train Loss: 0.9946 | Val Acc: 0.5106 | Val Prec: 0.4791 | Val Recall: 0.5106 | Val F1: 0.4458\n"
     ]
    },
    {
     "name": "stderr",
     "output_type": "stream",
     "text": [
      "Epoch 96/200: 100%|██████████| 4/4 [00:29<00:00,  7.45s/it, loss=0.9391]\n"
     ]
    },
    {
     "name": "stdout",
     "output_type": "stream",
     "text": [
      "Epoch 96 | Train Loss: 0.9315 | Val Acc: 0.5020 | Val Prec: 0.6119 | Val Recall: 0.5020 | Val F1: 0.3740\n"
     ]
    },
    {
     "name": "stderr",
     "output_type": "stream",
     "text": [
      "Epoch 97/200: 100%|██████████| 4/4 [00:30<00:00,  7.61s/it, loss=0.9793]\n"
     ]
    },
    {
     "name": "stdout",
     "output_type": "stream",
     "text": [
      "Epoch 97 | Train Loss: 0.9890 | Val Acc: 0.4334 | Val Prec: 0.5304 | Val Recall: 0.4334 | Val F1: 0.3077\n",
      "Early stopping triggered at epoch 97\n",
      "Best validation F1: 0.7709\n",
      "\n",
      "=== Training Scene: secondary_road ===\n",
      "从缓存文件加载数据: ./dataset/cache/secondary_road_30_1_dataset_pre_cache.pkl\n",
      "class weights: tensor([0.9651, 1.0016, 1.0358])\n"
     ]
    },
    {
     "name": "stderr",
     "output_type": "stream",
     "text": [
      "Epoch 1/200: 100%|██████████| 4/4 [00:39<00:00,  9.76s/it, loss=1.2585]\n"
     ]
    },
    {
     "name": "stdout",
     "output_type": "stream",
     "text": [
      "Epoch 1 | Train Loss: 1.2277 | Val Acc: 0.3333 | Val Prec: 0.1102 | Val Recall: 0.3333 | Val F1: 0.1656\n"
     ]
    },
    {
     "name": "stderr",
     "output_type": "stream",
     "text": [
      "Epoch 2/200: 100%|██████████| 4/4 [00:38<00:00,  9.55s/it, loss=1.2108]\n"
     ]
    },
    {
     "name": "stdout",
     "output_type": "stream",
     "text": [
      "Epoch 2 | Train Loss: 1.2144 | Val Acc: 0.3333 | Val Prec: 0.1102 | Val Recall: 0.3333 | Val F1: 0.1656\n"
     ]
    },
    {
     "name": "stderr",
     "output_type": "stream",
     "text": [
      "Epoch 3/200: 100%|██████████| 4/4 [00:38<00:00,  9.71s/it, loss=1.2082]\n"
     ]
    },
    {
     "name": "stdout",
     "output_type": "stream",
     "text": [
      "Epoch 3 | Train Loss: 1.2089 | Val Acc: 0.3333 | Val Prec: 0.1102 | Val Recall: 0.3333 | Val F1: 0.1656\n"
     ]
    },
    {
     "name": "stderr",
     "output_type": "stream",
     "text": [
      "Epoch 4/200: 100%|██████████| 4/4 [00:40<00:00, 10.11s/it, loss=1.2072]\n"
     ]
    },
    {
     "name": "stdout",
     "output_type": "stream",
     "text": [
      "Epoch 4 | Train Loss: 1.2066 | Val Acc: 0.3333 | Val Prec: 0.1149 | Val Recall: 0.3333 | Val F1: 0.1709\n"
     ]
    },
    {
     "name": "stderr",
     "output_type": "stream",
     "text": [
      "Epoch 5/200: 100%|██████████| 4/4 [00:41<00:00, 10.47s/it, loss=1.2086]\n"
     ]
    },
    {
     "name": "stdout",
     "output_type": "stream",
     "text": [
      "Epoch 5 | Train Loss: 1.2090 | Val Acc: 0.3333 | Val Prec: 0.1102 | Val Recall: 0.3333 | Val F1: 0.1656\n"
     ]
    },
    {
     "name": "stderr",
     "output_type": "stream",
     "text": [
      "Epoch 6/200: 100%|██████████| 4/4 [00:38<00:00,  9.67s/it, loss=1.2057]\n"
     ]
    },
    {
     "name": "stdout",
     "output_type": "stream",
     "text": [
      "Epoch 6 | Train Loss: 1.2069 | Val Acc: 0.3333 | Val Prec: 0.1102 | Val Recall: 0.3333 | Val F1: 0.1656\n"
     ]
    },
    {
     "name": "stderr",
     "output_type": "stream",
     "text": [
      "Epoch 7/200: 100%|██████████| 4/4 [00:38<00:00,  9.56s/it, loss=1.2062]\n"
     ]
    },
    {
     "name": "stdout",
     "output_type": "stream",
     "text": [
      "Epoch 7 | Train Loss: 1.2073 | Val Acc: 0.3333 | Val Prec: 0.1102 | Val Recall: 0.3333 | Val F1: 0.1656\n"
     ]
    },
    {
     "name": "stderr",
     "output_type": "stream",
     "text": [
      "Epoch 8/200: 100%|██████████| 4/4 [00:42<00:00, 10.72s/it, loss=1.2065]\n"
     ]
    },
    {
     "name": "stdout",
     "output_type": "stream",
     "text": [
      "Epoch 8 | Train Loss: 1.2069 | Val Acc: 0.3333 | Val Prec: 0.1102 | Val Recall: 0.3333 | Val F1: 0.1656\n"
     ]
    },
    {
     "name": "stderr",
     "output_type": "stream",
     "text": [
      "Epoch 9/200: 100%|██████████| 4/4 [00:40<00:00, 10.23s/it, loss=1.2119]\n"
     ]
    },
    {
     "name": "stdout",
     "output_type": "stream",
     "text": [
      "Epoch 9 | Train Loss: 1.2087 | Val Acc: 0.3333 | Val Prec: 0.1102 | Val Recall: 0.3333 | Val F1: 0.1657\n"
     ]
    },
    {
     "name": "stderr",
     "output_type": "stream",
     "text": [
      "Epoch 10/200: 100%|██████████| 4/4 [00:37<00:00,  9.48s/it, loss=1.2056]\n"
     ]
    },
    {
     "name": "stdout",
     "output_type": "stream",
     "text": [
      "Epoch 10 | Train Loss: 1.2060 | Val Acc: 0.3333 | Val Prec: 0.1102 | Val Recall: 0.3333 | Val F1: 0.1656\n"
     ]
    },
    {
     "name": "stderr",
     "output_type": "stream",
     "text": [
      "Epoch 11/200: 100%|██████████| 4/4 [00:37<00:00,  9.42s/it, loss=1.2109]\n"
     ]
    },
    {
     "name": "stdout",
     "output_type": "stream",
     "text": [
      "Epoch 11 | Train Loss: 1.2070 | Val Acc: 0.3333 | Val Prec: 0.1102 | Val Recall: 0.3333 | Val F1: 0.1656\n"
     ]
    },
    {
     "name": "stderr",
     "output_type": "stream",
     "text": [
      "Epoch 12/200: 100%|██████████| 4/4 [00:38<00:00,  9.66s/it, loss=1.2036]\n"
     ]
    },
    {
     "name": "stdout",
     "output_type": "stream",
     "text": [
      "Epoch 12 | Train Loss: 1.2060 | Val Acc: 0.3343 | Val Prec: 0.2058 | Val Recall: 0.3343 | Val F1: 0.1679\n"
     ]
    },
    {
     "name": "stderr",
     "output_type": "stream",
     "text": [
      "Epoch 13/200: 100%|██████████| 4/4 [00:43<00:00, 10.77s/it, loss=1.2034]\n"
     ]
    },
    {
     "name": "stdout",
     "output_type": "stream",
     "text": [
      "Epoch 13 | Train Loss: 1.2051 | Val Acc: 0.3401 | Val Prec: 0.2525 | Val Recall: 0.3401 | Val F1: 0.1942\n"
     ]
    },
    {
     "name": "stderr",
     "output_type": "stream",
     "text": [
      "Epoch 14/200: 100%|██████████| 4/4 [00:39<00:00,  9.81s/it, loss=1.2050]\n"
     ]
    },
    {
     "name": "stdout",
     "output_type": "stream",
     "text": [
      "Epoch 14 | Train Loss: 1.2039 | Val Acc: 0.3706 | Val Prec: 0.2517 | Val Recall: 0.3706 | Val F1: 0.2986\n"
     ]
    },
    {
     "name": "stderr",
     "output_type": "stream",
     "text": [
      "Epoch 15/200: 100%|██████████| 4/4 [00:38<00:00,  9.54s/it, loss=1.1930]\n"
     ]
    },
    {
     "name": "stdout",
     "output_type": "stream",
     "text": [
      "Epoch 15 | Train Loss: 1.1977 | Val Acc: 0.3333 | Val Prec: 0.1102 | Val Recall: 0.3333 | Val F1: 0.1657\n"
     ]
    },
    {
     "name": "stderr",
     "output_type": "stream",
     "text": [
      "Epoch 16/200: 100%|██████████| 4/4 [00:44<00:00, 11.22s/it, loss=1.2051]\n"
     ]
    },
    {
     "name": "stdout",
     "output_type": "stream",
     "text": [
      "Epoch 16 | Train Loss: 1.2218 | Val Acc: 0.3384 | Val Prec: 0.2525 | Val Recall: 0.3384 | Val F1: 0.2020\n"
     ]
    },
    {
     "name": "stderr",
     "output_type": "stream",
     "text": [
      "Epoch 17/200: 100%|██████████| 4/4 [00:40<00:00, 10.03s/it, loss=1.2109]\n"
     ]
    },
    {
     "name": "stdout",
     "output_type": "stream",
     "text": [
      "Epoch 17 | Train Loss: 1.2035 | Val Acc: 0.3333 | Val Prec: 0.1103 | Val Recall: 0.3333 | Val F1: 0.1657\n"
     ]
    },
    {
     "name": "stderr",
     "output_type": "stream",
     "text": [
      "Epoch 18/200: 100%|██████████| 4/4 [00:41<00:00, 10.40s/it, loss=1.2112]\n"
     ]
    },
    {
     "name": "stdout",
     "output_type": "stream",
     "text": [
      "Epoch 18 | Train Loss: 1.2059 | Val Acc: 0.3491 | Val Prec: 0.2432 | Val Recall: 0.3491 | Val F1: 0.2448\n"
     ]
    },
    {
     "name": "stderr",
     "output_type": "stream",
     "text": [
      "Epoch 19/200: 100%|██████████| 4/4 [00:39<00:00,  9.81s/it, loss=1.1989]\n"
     ]
    },
    {
     "name": "stdout",
     "output_type": "stream",
     "text": [
      "Epoch 19 | Train Loss: 1.2019 | Val Acc: 0.3655 | Val Prec: 0.3374 | Val Recall: 0.3655 | Val F1: 0.3066\n"
     ]
    },
    {
     "name": "stderr",
     "output_type": "stream",
     "text": [
      "Epoch 20/200: 100%|██████████| 4/4 [00:37<00:00,  9.44s/it, loss=1.2309]\n"
     ]
    },
    {
     "name": "stdout",
     "output_type": "stream",
     "text": [
      "Epoch 20 | Train Loss: 1.2048 | Val Acc: 0.3714 | Val Prec: 0.2511 | Val Recall: 0.3714 | Val F1: 0.2996\n"
     ]
    },
    {
     "name": "stderr",
     "output_type": "stream",
     "text": [
      "Epoch 21/200: 100%|██████████| 4/4 [00:40<00:00, 10.06s/it, loss=1.1947]\n"
     ]
    },
    {
     "name": "stdout",
     "output_type": "stream",
     "text": [
      "Epoch 21 | Train Loss: 1.1954 | Val Acc: 0.3444 | Val Prec: 0.2430 | Val Recall: 0.3444 | Val F1: 0.2287\n"
     ]
    },
    {
     "name": "stderr",
     "output_type": "stream",
     "text": [
      "Epoch 22/200: 100%|██████████| 4/4 [00:41<00:00, 10.34s/it, loss=1.1929]\n"
     ]
    },
    {
     "name": "stdout",
     "output_type": "stream",
     "text": [
      "Epoch 22 | Train Loss: 1.2000 | Val Acc: 0.3767 | Val Prec: 0.2570 | Val Recall: 0.3767 | Val F1: 0.2929\n"
     ]
    },
    {
     "name": "stderr",
     "output_type": "stream",
     "text": [
      "Epoch 23/200: 100%|██████████| 4/4 [00:40<00:00, 10.06s/it, loss=1.1810]\n"
     ]
    },
    {
     "name": "stdout",
     "output_type": "stream",
     "text": [
      "Epoch 23 | Train Loss: 1.1930 | Val Acc: 0.3831 | Val Prec: 0.2618 | Val Recall: 0.3831 | Val F1: 0.3078\n"
     ]
    },
    {
     "name": "stderr",
     "output_type": "stream",
     "text": [
      "Epoch 24/200: 100%|██████████| 4/4 [00:37<00:00,  9.40s/it, loss=1.2058]\n"
     ]
    },
    {
     "name": "stdout",
     "output_type": "stream",
     "text": [
      "Epoch 24 | Train Loss: 1.1937 | Val Acc: 0.3610 | Val Prec: 0.3784 | Val Recall: 0.3610 | Val F1: 0.2654\n"
     ]
    },
    {
     "name": "stderr",
     "output_type": "stream",
     "text": [
      "Epoch 25/200: 100%|██████████| 4/4 [00:38<00:00,  9.65s/it, loss=1.2230]\n"
     ]
    },
    {
     "name": "stdout",
     "output_type": "stream",
     "text": [
      "Epoch 25 | Train Loss: 1.2025 | Val Acc: 0.3573 | Val Prec: 0.3555 | Val Recall: 0.3573 | Val F1: 0.2937\n"
     ]
    },
    {
     "name": "stderr",
     "output_type": "stream",
     "text": [
      "Epoch 26/200: 100%|██████████| 4/4 [00:37<00:00,  9.44s/it, loss=1.1944]\n"
     ]
    },
    {
     "name": "stdout",
     "output_type": "stream",
     "text": [
      "Epoch 26 | Train Loss: 1.2009 | Val Acc: 0.3715 | Val Prec: 0.2535 | Val Recall: 0.3715 | Val F1: 0.2997\n"
     ]
    },
    {
     "name": "stderr",
     "output_type": "stream",
     "text": [
      "Epoch 27/200: 100%|██████████| 4/4 [00:39<00:00,  9.84s/it, loss=1.1919]\n"
     ]
    },
    {
     "name": "stdout",
     "output_type": "stream",
     "text": [
      "Epoch 27 | Train Loss: 1.2001 | Val Acc: 0.3484 | Val Prec: 0.3710 | Val Recall: 0.3484 | Val F1: 0.2543\n"
     ]
    },
    {
     "name": "stderr",
     "output_type": "stream",
     "text": [
      "Epoch 28/200: 100%|██████████| 4/4 [00:39<00:00,  9.93s/it, loss=1.2002]\n"
     ]
    },
    {
     "name": "stdout",
     "output_type": "stream",
     "text": [
      "Epoch 28 | Train Loss: 1.1988 | Val Acc: 0.3756 | Val Prec: 0.2539 | Val Recall: 0.3756 | Val F1: 0.3030\n"
     ]
    },
    {
     "name": "stderr",
     "output_type": "stream",
     "text": [
      "Epoch 29/200: 100%|██████████| 4/4 [00:37<00:00,  9.43s/it, loss=1.1902]\n"
     ]
    },
    {
     "name": "stdout",
     "output_type": "stream",
     "text": [
      "Epoch 29 | Train Loss: 1.1983 | Val Acc: 0.3564 | Val Prec: 0.2493 | Val Recall: 0.3564 | Val F1: 0.2518\n"
     ]
    },
    {
     "name": "stderr",
     "output_type": "stream",
     "text": [
      "Epoch 30/200: 100%|██████████| 4/4 [00:41<00:00, 10.27s/it, loss=1.2237]\n"
     ]
    },
    {
     "name": "stdout",
     "output_type": "stream",
     "text": [
      "Epoch 30 | Train Loss: 1.1952 | Val Acc: 0.3825 | Val Prec: 0.2676 | Val Recall: 0.3825 | Val F1: 0.3038\n"
     ]
    },
    {
     "name": "stderr",
     "output_type": "stream",
     "text": [
      "Epoch 31/200: 100%|██████████| 4/4 [00:40<00:00, 10.02s/it, loss=1.1765]\n"
     ]
    },
    {
     "name": "stdout",
     "output_type": "stream",
     "text": [
      "Epoch 31 | Train Loss: 1.1825 | Val Acc: 0.3841 | Val Prec: 0.2591 | Val Recall: 0.3841 | Val F1: 0.3065\n"
     ]
    },
    {
     "name": "stderr",
     "output_type": "stream",
     "text": [
      "Epoch 32/200: 100%|██████████| 4/4 [00:34<00:00,  8.61s/it, loss=1.1679]\n"
     ]
    },
    {
     "name": "stdout",
     "output_type": "stream",
     "text": [
      "Epoch 32 | Train Loss: 1.1830 | Val Acc: 0.3849 | Val Prec: 0.3426 | Val Recall: 0.3849 | Val F1: 0.3082\n"
     ]
    },
    {
     "name": "stderr",
     "output_type": "stream",
     "text": [
      "Epoch 33/200: 100%|██████████| 4/4 [00:42<00:00, 10.50s/it, loss=1.1663]\n"
     ]
    },
    {
     "name": "stdout",
     "output_type": "stream",
     "text": [
      "Epoch 33 | Train Loss: 1.1749 | Val Acc: 0.3991 | Val Prec: 0.2640 | Val Recall: 0.3991 | Val F1: 0.3162\n"
     ]
    },
    {
     "name": "stderr",
     "output_type": "stream",
     "text": [
      "Epoch 34/200: 100%|██████████| 4/4 [00:39<00:00,  9.82s/it, loss=1.1996]\n"
     ]
    },
    {
     "name": "stdout",
     "output_type": "stream",
     "text": [
      "Epoch 34 | Train Loss: 1.1705 | Val Acc: 0.3973 | Val Prec: 0.2744 | Val Recall: 0.3973 | Val F1: 0.3207\n"
     ]
    },
    {
     "name": "stderr",
     "output_type": "stream",
     "text": [
      "Epoch 35/200: 100%|██████████| 4/4 [00:41<00:00, 10.47s/it, loss=1.1679]\n"
     ]
    },
    {
     "name": "stdout",
     "output_type": "stream",
     "text": [
      "Epoch 35 | Train Loss: 1.1583 | Val Acc: 0.3939 | Val Prec: 0.4325 | Val Recall: 0.3939 | Val F1: 0.3291\n"
     ]
    },
    {
     "name": "stderr",
     "output_type": "stream",
     "text": [
      "Epoch 36/200: 100%|██████████| 4/4 [00:46<00:00, 11.62s/it, loss=1.1221]\n"
     ]
    },
    {
     "name": "stdout",
     "output_type": "stream",
     "text": [
      "Epoch 36 | Train Loss: 1.1512 | Val Acc: 0.4030 | Val Prec: 0.2778 | Val Recall: 0.4030 | Val F1: 0.3260\n"
     ]
    },
    {
     "name": "stderr",
     "output_type": "stream",
     "text": [
      "Epoch 37/200: 100%|██████████| 4/4 [00:48<00:00, 12.17s/it, loss=1.1646]\n"
     ]
    },
    {
     "name": "stdout",
     "output_type": "stream",
     "text": [
      "Epoch 37 | Train Loss: 1.1618 | Val Acc: 0.4195 | Val Prec: 0.4087 | Val Recall: 0.4195 | Val F1: 0.3959\n"
     ]
    },
    {
     "name": "stderr",
     "output_type": "stream",
     "text": [
      "Epoch 38/200: 100%|██████████| 4/4 [00:38<00:00,  9.64s/it, loss=1.1808]\n"
     ]
    },
    {
     "name": "stdout",
     "output_type": "stream",
     "text": [
      "Epoch 38 | Train Loss: 1.1478 | Val Acc: 0.4261 | Val Prec: 0.4233 | Val Recall: 0.4261 | Val F1: 0.4170\n"
     ]
    },
    {
     "name": "stderr",
     "output_type": "stream",
     "text": [
      "Epoch 39/200: 100%|██████████| 4/4 [00:40<00:00, 10.02s/it, loss=1.1445]\n"
     ]
    },
    {
     "name": "stdout",
     "output_type": "stream",
     "text": [
      "Epoch 39 | Train Loss: 1.1429 | Val Acc: 0.4119 | Val Prec: 0.4385 | Val Recall: 0.4119 | Val F1: 0.3702\n"
     ]
    },
    {
     "name": "stderr",
     "output_type": "stream",
     "text": [
      "Epoch 40/200: 100%|██████████| 4/4 [00:37<00:00,  9.29s/it, loss=1.1004]\n"
     ]
    },
    {
     "name": "stdout",
     "output_type": "stream",
     "text": [
      "Epoch 40 | Train Loss: 1.1385 | Val Acc: 0.4001 | Val Prec: 0.3896 | Val Recall: 0.4001 | Val F1: 0.3811\n"
     ]
    },
    {
     "name": "stderr",
     "output_type": "stream",
     "text": [
      "Epoch 41/200: 100%|██████████| 4/4 [00:39<00:00,  9.90s/it, loss=1.1226]\n"
     ]
    },
    {
     "name": "stdout",
     "output_type": "stream",
     "text": [
      "Epoch 41 | Train Loss: 1.1258 | Val Acc: 0.4240 | Val Prec: 0.4203 | Val Recall: 0.4240 | Val F1: 0.3808\n"
     ]
    },
    {
     "name": "stderr",
     "output_type": "stream",
     "text": [
      "Epoch 42/200: 100%|██████████| 4/4 [00:38<00:00,  9.51s/it, loss=1.1167]\n"
     ]
    },
    {
     "name": "stdout",
     "output_type": "stream",
     "text": [
      "Epoch 42 | Train Loss: 1.1264 | Val Acc: 0.4390 | Val Prec: 0.4432 | Val Recall: 0.4390 | Val F1: 0.4036\n"
     ]
    },
    {
     "name": "stderr",
     "output_type": "stream",
     "text": [
      "Epoch 43/200: 100%|██████████| 4/4 [00:39<00:00,  9.89s/it, loss=1.0965]\n"
     ]
    },
    {
     "name": "stdout",
     "output_type": "stream",
     "text": [
      "Epoch 43 | Train Loss: 1.1142 | Val Acc: 0.4271 | Val Prec: 0.4065 | Val Recall: 0.4271 | Val F1: 0.3914\n"
     ]
    },
    {
     "name": "stderr",
     "output_type": "stream",
     "text": [
      "Epoch 44/200: 100%|██████████| 4/4 [00:39<00:00,  9.96s/it, loss=1.0873]\n"
     ]
    },
    {
     "name": "stdout",
     "output_type": "stream",
     "text": [
      "Epoch 44 | Train Loss: 1.1184 | Val Acc: 0.4549 | Val Prec: 0.4472 | Val Recall: 0.4549 | Val F1: 0.4350\n"
     ]
    },
    {
     "name": "stderr",
     "output_type": "stream",
     "text": [
      "Epoch 45/200: 100%|██████████| 4/4 [00:40<00:00, 10.00s/it, loss=1.0919]\n"
     ]
    },
    {
     "name": "stdout",
     "output_type": "stream",
     "text": [
      "Epoch 45 | Train Loss: 1.0943 | Val Acc: 0.4608 | Val Prec: 0.4552 | Val Recall: 0.4608 | Val F1: 0.4556\n"
     ]
    },
    {
     "name": "stderr",
     "output_type": "stream",
     "text": [
      "Epoch 46/200: 100%|██████████| 4/4 [00:38<00:00,  9.63s/it, loss=1.1309]\n"
     ]
    },
    {
     "name": "stdout",
     "output_type": "stream",
     "text": [
      "Epoch 46 | Train Loss: 1.0742 | Val Acc: 0.4517 | Val Prec: 0.4529 | Val Recall: 0.4517 | Val F1: 0.4514\n"
     ]
    },
    {
     "name": "stderr",
     "output_type": "stream",
     "text": [
      "Epoch 47/200: 100%|██████████| 4/4 [00:38<00:00,  9.55s/it, loss=1.0781]\n"
     ]
    },
    {
     "name": "stdout",
     "output_type": "stream",
     "text": [
      "Epoch 47 | Train Loss: 1.0827 | Val Acc: 0.4407 | Val Prec: 0.5060 | Val Recall: 0.4407 | Val F1: 0.3658\n"
     ]
    },
    {
     "name": "stderr",
     "output_type": "stream",
     "text": [
      "Epoch 48/200: 100%|██████████| 4/4 [00:37<00:00,  9.33s/it, loss=1.1503]\n"
     ]
    },
    {
     "name": "stdout",
     "output_type": "stream",
     "text": [
      "Epoch 48 | Train Loss: 1.0993 | Val Acc: 0.4377 | Val Prec: 0.4611 | Val Recall: 0.4377 | Val F1: 0.3748\n"
     ]
    },
    {
     "name": "stderr",
     "output_type": "stream",
     "text": [
      "Epoch 49/200: 100%|██████████| 4/4 [00:38<00:00,  9.54s/it, loss=1.1103]\n"
     ]
    },
    {
     "name": "stdout",
     "output_type": "stream",
     "text": [
      "Epoch 49 | Train Loss: 1.0882 | Val Acc: 0.4532 | Val Prec: 0.4502 | Val Recall: 0.4532 | Val F1: 0.4501\n"
     ]
    },
    {
     "name": "stderr",
     "output_type": "stream",
     "text": [
      "Epoch 50/200: 100%|██████████| 4/4 [00:40<00:00, 10.07s/it, loss=1.0524]\n"
     ]
    },
    {
     "name": "stdout",
     "output_type": "stream",
     "text": [
      "Epoch 50 | Train Loss: 1.0838 | Val Acc: 0.4534 | Val Prec: 0.4513 | Val Recall: 0.4534 | Val F1: 0.4459\n"
     ]
    },
    {
     "name": "stderr",
     "output_type": "stream",
     "text": [
      "Epoch 51/200: 100%|██████████| 4/4 [00:34<00:00,  8.63s/it, loss=1.0970]\n"
     ]
    },
    {
     "name": "stdout",
     "output_type": "stream",
     "text": [
      "Epoch 51 | Train Loss: 1.0583 | Val Acc: 0.4334 | Val Prec: 0.4526 | Val Recall: 0.4334 | Val F1: 0.3805\n"
     ]
    },
    {
     "name": "stderr",
     "output_type": "stream",
     "text": [
      "Epoch 52/200: 100%|██████████| 4/4 [00:38<00:00,  9.52s/it, loss=1.0300]\n"
     ]
    },
    {
     "name": "stdout",
     "output_type": "stream",
     "text": [
      "Epoch 52 | Train Loss: 1.0598 | Val Acc: 0.4492 | Val Prec: 0.4819 | Val Recall: 0.4492 | Val F1: 0.3775\n"
     ]
    },
    {
     "name": "stderr",
     "output_type": "stream",
     "text": [
      "Epoch 53/200: 100%|██████████| 4/4 [00:39<00:00,  9.85s/it, loss=1.0568]\n"
     ]
    },
    {
     "name": "stdout",
     "output_type": "stream",
     "text": [
      "Epoch 53 | Train Loss: 1.0440 | Val Acc: 0.4616 | Val Prec: 0.4632 | Val Recall: 0.4616 | Val F1: 0.4598\n"
     ]
    },
    {
     "name": "stderr",
     "output_type": "stream",
     "text": [
      "Epoch 54/200: 100%|██████████| 4/4 [00:37<00:00,  9.27s/it, loss=1.0573]\n"
     ]
    },
    {
     "name": "stdout",
     "output_type": "stream",
     "text": [
      "Epoch 54 | Train Loss: 1.0466 | Val Acc: 0.4590 | Val Prec: 0.4577 | Val Recall: 0.4590 | Val F1: 0.4134\n"
     ]
    },
    {
     "name": "stderr",
     "output_type": "stream",
     "text": [
      "Epoch 55/200: 100%|██████████| 4/4 [00:38<00:00,  9.54s/it, loss=1.0589]\n"
     ]
    },
    {
     "name": "stdout",
     "output_type": "stream",
     "text": [
      "Epoch 55 | Train Loss: 1.0384 | Val Acc: 0.4475 | Val Prec: 0.4439 | Val Recall: 0.4475 | Val F1: 0.4245\n"
     ]
    },
    {
     "name": "stderr",
     "output_type": "stream",
     "text": [
      "Epoch 56/200: 100%|██████████| 4/4 [00:38<00:00,  9.62s/it, loss=1.0512]\n"
     ]
    },
    {
     "name": "stdout",
     "output_type": "stream",
     "text": [
      "Epoch 56 | Train Loss: 1.0687 | Val Acc: 0.4502 | Val Prec: 0.4552 | Val Recall: 0.4502 | Val F1: 0.3939\n"
     ]
    },
    {
     "name": "stderr",
     "output_type": "stream",
     "text": [
      "Epoch 57/200: 100%|██████████| 4/4 [00:35<00:00,  8.81s/it, loss=1.0438]\n"
     ]
    },
    {
     "name": "stdout",
     "output_type": "stream",
     "text": [
      "Epoch 57 | Train Loss: 1.0431 | Val Acc: 0.4576 | Val Prec: 0.4540 | Val Recall: 0.4576 | Val F1: 0.4303\n"
     ]
    },
    {
     "name": "stderr",
     "output_type": "stream",
     "text": [
      "Epoch 58/200: 100%|██████████| 4/4 [00:40<00:00, 10.24s/it, loss=1.0421]\n"
     ]
    },
    {
     "name": "stdout",
     "output_type": "stream",
     "text": [
      "Epoch 58 | Train Loss: 1.0253 | Val Acc: 0.4620 | Val Prec: 0.6542 | Val Recall: 0.4620 | Val F1: 0.3763\n"
     ]
    },
    {
     "name": "stderr",
     "output_type": "stream",
     "text": [
      "Epoch 59/200: 100%|██████████| 4/4 [00:38<00:00,  9.70s/it, loss=1.0151]\n"
     ]
    },
    {
     "name": "stdout",
     "output_type": "stream",
     "text": [
      "Epoch 59 | Train Loss: 1.0252 | Val Acc: 0.4618 | Val Prec: 0.4644 | Val Recall: 0.4618 | Val F1: 0.4478\n"
     ]
    },
    {
     "name": "stderr",
     "output_type": "stream",
     "text": [
      "Epoch 60/200: 100%|██████████| 4/4 [00:41<00:00, 10.28s/it, loss=1.0316]\n"
     ]
    },
    {
     "name": "stdout",
     "output_type": "stream",
     "text": [
      "Epoch 60 | Train Loss: 1.0264 | Val Acc: 0.4726 | Val Prec: 0.4607 | Val Recall: 0.4726 | Val F1: 0.4611\n"
     ]
    },
    {
     "name": "stderr",
     "output_type": "stream",
     "text": [
      "Epoch 61/200: 100%|██████████| 4/4 [00:47<00:00, 11.84s/it, loss=0.9916]\n"
     ]
    },
    {
     "name": "stdout",
     "output_type": "stream",
     "text": [
      "Epoch 61 | Train Loss: 0.9849 | Val Acc: 0.4827 | Val Prec: 0.5002 | Val Recall: 0.4827 | Val F1: 0.4773\n"
     ]
    },
    {
     "name": "stderr",
     "output_type": "stream",
     "text": [
      "Epoch 62/200: 100%|██████████| 4/4 [00:44<00:00, 11.15s/it, loss=0.9335]\n"
     ]
    },
    {
     "name": "stdout",
     "output_type": "stream",
     "text": [
      "Epoch 62 | Train Loss: 0.9714 | Val Acc: 0.4943 | Val Prec: 0.4967 | Val Recall: 0.4943 | Val F1: 0.4853\n"
     ]
    },
    {
     "name": "stderr",
     "output_type": "stream",
     "text": [
      "Epoch 63/200: 100%|██████████| 4/4 [00:39<00:00,  9.89s/it, loss=0.9628]\n"
     ]
    },
    {
     "name": "stdout",
     "output_type": "stream",
     "text": [
      "Epoch 63 | Train Loss: 0.9538 | Val Acc: 0.4981 | Val Prec: 0.5113 | Val Recall: 0.4981 | Val F1: 0.4929\n"
     ]
    },
    {
     "name": "stderr",
     "output_type": "stream",
     "text": [
      "Epoch 64/200: 100%|██████████| 4/4 [00:38<00:00,  9.67s/it, loss=0.9426]\n"
     ]
    },
    {
     "name": "stdout",
     "output_type": "stream",
     "text": [
      "Epoch 64 | Train Loss: 0.9417 | Val Acc: 0.4912 | Val Prec: 0.5216 | Val Recall: 0.4912 | Val F1: 0.4143\n"
     ]
    },
    {
     "name": "stderr",
     "output_type": "stream",
     "text": [
      "Epoch 65/200: 100%|██████████| 4/4 [00:38<00:00,  9.58s/it, loss=0.9806]\n"
     ]
    },
    {
     "name": "stdout",
     "output_type": "stream",
     "text": [
      "Epoch 65 | Train Loss: 0.9565 | Val Acc: 0.4959 | Val Prec: 0.4931 | Val Recall: 0.4959 | Val F1: 0.4872\n"
     ]
    },
    {
     "name": "stderr",
     "output_type": "stream",
     "text": [
      "Epoch 66/200: 100%|██████████| 4/4 [00:40<00:00, 10.25s/it, loss=1.0310]\n"
     ]
    },
    {
     "name": "stdout",
     "output_type": "stream",
     "text": [
      "Epoch 66 | Train Loss: 0.9914 | Val Acc: 0.4805 | Val Prec: 0.4788 | Val Recall: 0.4805 | Val F1: 0.4727\n"
     ]
    },
    {
     "name": "stderr",
     "output_type": "stream",
     "text": [
      "Epoch 67/200: 100%|██████████| 4/4 [00:37<00:00,  9.42s/it, loss=1.0045]\n"
     ]
    },
    {
     "name": "stdout",
     "output_type": "stream",
     "text": [
      "Epoch 67 | Train Loss: 0.9965 | Val Acc: 0.4728 | Val Prec: 0.4949 | Val Recall: 0.4728 | Val F1: 0.4407\n"
     ]
    },
    {
     "name": "stderr",
     "output_type": "stream",
     "text": [
      "Epoch 68/200: 100%|██████████| 4/4 [00:38<00:00,  9.63s/it, loss=1.0099]\n"
     ]
    },
    {
     "name": "stdout",
     "output_type": "stream",
     "text": [
      "Epoch 68 | Train Loss: 1.0160 | Val Acc: 0.4727 | Val Prec: 0.4786 | Val Recall: 0.4727 | Val F1: 0.4396\n"
     ]
    },
    {
     "name": "stderr",
     "output_type": "stream",
     "text": [
      "Epoch 69/200: 100%|██████████| 4/4 [00:38<00:00,  9.65s/it, loss=0.9757]\n"
     ]
    },
    {
     "name": "stdout",
     "output_type": "stream",
     "text": [
      "Epoch 69 | Train Loss: 0.9956 | Val Acc: 0.4867 | Val Prec: 0.4858 | Val Recall: 0.4867 | Val F1: 0.4859\n"
     ]
    },
    {
     "name": "stderr",
     "output_type": "stream",
     "text": [
      "Epoch 70/200: 100%|██████████| 4/4 [00:39<00:00,  9.97s/it, loss=0.9526]\n"
     ]
    },
    {
     "name": "stdout",
     "output_type": "stream",
     "text": [
      "Epoch 70 | Train Loss: 0.9754 | Val Acc: 0.4877 | Val Prec: 0.4729 | Val Recall: 0.4877 | Val F1: 0.4722\n"
     ]
    },
    {
     "name": "stderr",
     "output_type": "stream",
     "text": [
      "Epoch 71/200: 100%|██████████| 4/4 [00:40<00:00, 10.09s/it, loss=0.9538]\n"
     ]
    },
    {
     "name": "stdout",
     "output_type": "stream",
     "text": [
      "Epoch 71 | Train Loss: 0.9325 | Val Acc: 0.4934 | Val Prec: 0.4803 | Val Recall: 0.4934 | Val F1: 0.4803\n"
     ]
    },
    {
     "name": "stderr",
     "output_type": "stream",
     "text": [
      "Epoch 72/200: 100%|██████████| 4/4 [00:40<00:00, 10.07s/it, loss=0.9953]\n"
     ]
    },
    {
     "name": "stdout",
     "output_type": "stream",
     "text": [
      "Epoch 72 | Train Loss: 0.9521 | Val Acc: 0.5110 | Val Prec: 0.5164 | Val Recall: 0.5110 | Val F1: 0.5046\n"
     ]
    },
    {
     "name": "stderr",
     "output_type": "stream",
     "text": [
      "Epoch 73/200: 100%|██████████| 4/4 [00:40<00:00, 10.01s/it, loss=0.9021]\n"
     ]
    },
    {
     "name": "stdout",
     "output_type": "stream",
     "text": [
      "Epoch 73 | Train Loss: 0.9116 | Val Acc: 0.5067 | Val Prec: 0.4968 | Val Recall: 0.5067 | Val F1: 0.4988\n"
     ]
    },
    {
     "name": "stderr",
     "output_type": "stream",
     "text": [
      "Epoch 74/200: 100%|██████████| 4/4 [00:40<00:00, 10.19s/it, loss=0.9905]\n"
     ]
    },
    {
     "name": "stdout",
     "output_type": "stream",
     "text": [
      "Epoch 74 | Train Loss: 0.9180 | Val Acc: 0.5164 | Val Prec: 0.5128 | Val Recall: 0.5164 | Val F1: 0.5144\n"
     ]
    },
    {
     "name": "stderr",
     "output_type": "stream",
     "text": [
      "Epoch 75/200: 100%|██████████| 4/4 [00:35<00:00,  8.91s/it, loss=0.9923]\n"
     ]
    },
    {
     "name": "stdout",
     "output_type": "stream",
     "text": [
      "Epoch 75 | Train Loss: 0.9328 | Val Acc: 0.4989 | Val Prec: 0.5100 | Val Recall: 0.4989 | Val F1: 0.4842\n"
     ]
    },
    {
     "name": "stderr",
     "output_type": "stream",
     "text": [
      "Epoch 76/200: 100%|██████████| 4/4 [00:39<00:00,  9.91s/it, loss=0.8510]\n"
     ]
    },
    {
     "name": "stdout",
     "output_type": "stream",
     "text": [
      "Epoch 76 | Train Loss: 0.8859 | Val Acc: 0.5017 | Val Prec: 0.5039 | Val Recall: 0.5017 | Val F1: 0.4702\n"
     ]
    },
    {
     "name": "stderr",
     "output_type": "stream",
     "text": [
      "Epoch 77/200: 100%|██████████| 4/4 [00:41<00:00, 10.33s/it, loss=0.9303]\n"
     ]
    },
    {
     "name": "stdout",
     "output_type": "stream",
     "text": [
      "Epoch 77 | Train Loss: 0.8790 | Val Acc: 0.5102 | Val Prec: 0.5085 | Val Recall: 0.5102 | Val F1: 0.5074\n"
     ]
    },
    {
     "name": "stderr",
     "output_type": "stream",
     "text": [
      "Epoch 78/200: 100%|██████████| 4/4 [00:40<00:00, 10.04s/it, loss=0.9263]\n"
     ]
    },
    {
     "name": "stdout",
     "output_type": "stream",
     "text": [
      "Epoch 78 | Train Loss: 0.8834 | Val Acc: 0.5117 | Val Prec: 0.4980 | Val Recall: 0.5117 | Val F1: 0.4995\n"
     ]
    },
    {
     "name": "stderr",
     "output_type": "stream",
     "text": [
      "Epoch 79/200: 100%|██████████| 4/4 [00:40<00:00, 10.03s/it, loss=0.9198]\n"
     ]
    },
    {
     "name": "stdout",
     "output_type": "stream",
     "text": [
      "Epoch 79 | Train Loss: 0.8967 | Val Acc: 0.5054 | Val Prec: 0.5108 | Val Recall: 0.5054 | Val F1: 0.4872\n"
     ]
    },
    {
     "name": "stderr",
     "output_type": "stream",
     "text": [
      "Epoch 80/200: 100%|██████████| 4/4 [00:40<00:00, 10.09s/it, loss=1.0074]\n"
     ]
    },
    {
     "name": "stdout",
     "output_type": "stream",
     "text": [
      "Epoch 80 | Train Loss: 0.9470 | Val Acc: 0.4952 | Val Prec: 0.5098 | Val Recall: 0.4952 | Val F1: 0.4349\n"
     ]
    },
    {
     "name": "stderr",
     "output_type": "stream",
     "text": [
      "Epoch 81/200: 100%|██████████| 4/4 [00:41<00:00, 10.27s/it, loss=0.8924]\n"
     ]
    },
    {
     "name": "stdout",
     "output_type": "stream",
     "text": [
      "Epoch 81 | Train Loss: 0.9134 | Val Acc: 0.5012 | Val Prec: 0.5029 | Val Recall: 0.5012 | Val F1: 0.5016\n"
     ]
    },
    {
     "name": "stderr",
     "output_type": "stream",
     "text": [
      "Epoch 82/200: 100%|██████████| 4/4 [00:37<00:00,  9.50s/it, loss=1.0202]\n"
     ]
    },
    {
     "name": "stdout",
     "output_type": "stream",
     "text": [
      "Epoch 82 | Train Loss: 0.9097 | Val Acc: 0.4959 | Val Prec: 0.5062 | Val Recall: 0.4959 | Val F1: 0.4786\n"
     ]
    },
    {
     "name": "stderr",
     "output_type": "stream",
     "text": [
      "Epoch 83/200: 100%|██████████| 4/4 [00:38<00:00,  9.59s/it, loss=0.9402]\n"
     ]
    },
    {
     "name": "stdout",
     "output_type": "stream",
     "text": [
      "Epoch 83 | Train Loss: 0.8830 | Val Acc: 0.4956 | Val Prec: 0.4848 | Val Recall: 0.4956 | Val F1: 0.4745\n"
     ]
    },
    {
     "name": "stderr",
     "output_type": "stream",
     "text": [
      "Epoch 84/200: 100%|██████████| 4/4 [00:38<00:00,  9.66s/it, loss=0.9016]\n"
     ]
    },
    {
     "name": "stdout",
     "output_type": "stream",
     "text": [
      "Epoch 84 | Train Loss: 0.8888 | Val Acc: 0.5178 | Val Prec: 0.5313 | Val Recall: 0.5178 | Val F1: 0.4846\n"
     ]
    },
    {
     "name": "stderr",
     "output_type": "stream",
     "text": [
      "Epoch 85/200: 100%|██████████| 4/4 [00:43<00:00, 10.80s/it, loss=0.8948]\n"
     ]
    },
    {
     "name": "stdout",
     "output_type": "stream",
     "text": [
      "Epoch 85 | Train Loss: 0.8468 | Val Acc: 0.5285 | Val Prec: 0.5209 | Val Recall: 0.5285 | Val F1: 0.4990\n"
     ]
    },
    {
     "name": "stderr",
     "output_type": "stream",
     "text": [
      "Epoch 86/200: 100%|██████████| 4/4 [00:39<00:00,  9.95s/it, loss=0.9381]\n"
     ]
    },
    {
     "name": "stdout",
     "output_type": "stream",
     "text": [
      "Epoch 86 | Train Loss: 0.8358 | Val Acc: 0.5340 | Val Prec: 0.5365 | Val Recall: 0.5340 | Val F1: 0.5341\n"
     ]
    },
    {
     "name": "stderr",
     "output_type": "stream",
     "text": [
      "Epoch 87/200: 100%|██████████| 4/4 [00:38<00:00,  9.54s/it, loss=0.8346]\n"
     ]
    },
    {
     "name": "stdout",
     "output_type": "stream",
     "text": [
      "Epoch 87 | Train Loss: 0.8320 | Val Acc: 0.5316 | Val Prec: 0.5459 | Val Recall: 0.5316 | Val F1: 0.5125\n"
     ]
    },
    {
     "name": "stderr",
     "output_type": "stream",
     "text": [
      "Epoch 88/200: 100%|██████████| 4/4 [00:38<00:00,  9.60s/it, loss=0.8696]\n"
     ]
    },
    {
     "name": "stdout",
     "output_type": "stream",
     "text": [
      "Epoch 88 | Train Loss: 0.8314 | Val Acc: 0.5441 | Val Prec: 0.5406 | Val Recall: 0.5441 | Val F1: 0.5405\n"
     ]
    },
    {
     "name": "stderr",
     "output_type": "stream",
     "text": [
      "Epoch 89/200: 100%|██████████| 4/4 [00:38<00:00,  9.69s/it, loss=0.7773]\n"
     ]
    },
    {
     "name": "stdout",
     "output_type": "stream",
     "text": [
      "Epoch 89 | Train Loss: 0.8372 | Val Acc: 0.5457 | Val Prec: 0.5434 | Val Recall: 0.5457 | Val F1: 0.5343\n"
     ]
    },
    {
     "name": "stderr",
     "output_type": "stream",
     "text": [
      "Epoch 90/200: 100%|██████████| 4/4 [00:40<00:00, 10.12s/it, loss=0.8488]\n"
     ]
    },
    {
     "name": "stdout",
     "output_type": "stream",
     "text": [
      "Epoch 90 | Train Loss: 0.8250 | Val Acc: 0.5115 | Val Prec: 0.5082 | Val Recall: 0.5115 | Val F1: 0.4874\n"
     ]
    },
    {
     "name": "stderr",
     "output_type": "stream",
     "text": [
      "Epoch 91/200: 100%|██████████| 4/4 [00:40<00:00, 10.12s/it, loss=0.8886]\n"
     ]
    },
    {
     "name": "stdout",
     "output_type": "stream",
     "text": [
      "Epoch 91 | Train Loss: 0.8335 | Val Acc: 0.5455 | Val Prec: 0.5367 | Val Recall: 0.5455 | Val F1: 0.5393\n"
     ]
    },
    {
     "name": "stderr",
     "output_type": "stream",
     "text": [
      "Epoch 92/200: 100%|██████████| 4/4 [00:40<00:00, 10.05s/it, loss=0.8987]\n"
     ]
    },
    {
     "name": "stdout",
     "output_type": "stream",
     "text": [
      "Epoch 92 | Train Loss: 0.8350 | Val Acc: 0.5318 | Val Prec: 0.5462 | Val Recall: 0.5318 | Val F1: 0.4911\n"
     ]
    },
    {
     "name": "stderr",
     "output_type": "stream",
     "text": [
      "Epoch 93/200: 100%|██████████| 4/4 [00:39<00:00,  9.98s/it, loss=0.8197]\n"
     ]
    },
    {
     "name": "stdout",
     "output_type": "stream",
     "text": [
      "Epoch 93 | Train Loss: 0.8073 | Val Acc: 0.5483 | Val Prec: 0.5394 | Val Recall: 0.5483 | Val F1: 0.5374\n"
     ]
    },
    {
     "name": "stderr",
     "output_type": "stream",
     "text": [
      "Epoch 94/200: 100%|██████████| 4/4 [00:38<00:00,  9.66s/it, loss=0.8093]\n"
     ]
    },
    {
     "name": "stdout",
     "output_type": "stream",
     "text": [
      "Epoch 94 | Train Loss: 0.7697 | Val Acc: 0.5743 | Val Prec: 0.5705 | Val Recall: 0.5743 | Val F1: 0.5717\n"
     ]
    },
    {
     "name": "stderr",
     "output_type": "stream",
     "text": [
      "Epoch 95/200: 100%|██████████| 4/4 [00:39<00:00,  9.86s/it, loss=0.7463]\n"
     ]
    },
    {
     "name": "stdout",
     "output_type": "stream",
     "text": [
      "Epoch 95 | Train Loss: 0.7292 | Val Acc: 0.5609 | Val Prec: 0.5604 | Val Recall: 0.5609 | Val F1: 0.5388\n"
     ]
    },
    {
     "name": "stderr",
     "output_type": "stream",
     "text": [
      "Epoch 96/200: 100%|██████████| 4/4 [00:41<00:00, 10.27s/it, loss=0.7796]\n"
     ]
    },
    {
     "name": "stdout",
     "output_type": "stream",
     "text": [
      "Epoch 96 | Train Loss: 0.7263 | Val Acc: 0.5567 | Val Prec: 0.5688 | Val Recall: 0.5567 | Val F1: 0.5420\n"
     ]
    },
    {
     "name": "stderr",
     "output_type": "stream",
     "text": [
      "Epoch 97/200: 100%|██████████| 4/4 [00:39<00:00,  9.89s/it, loss=0.7153]\n"
     ]
    },
    {
     "name": "stdout",
     "output_type": "stream",
     "text": [
      "Epoch 97 | Train Loss: 0.7204 | Val Acc: 0.5501 | Val Prec: 0.5394 | Val Recall: 0.5501 | Val F1: 0.5413\n"
     ]
    },
    {
     "name": "stderr",
     "output_type": "stream",
     "text": [
      "Epoch 98/200: 100%|██████████| 4/4 [00:41<00:00, 10.29s/it, loss=0.7724]\n"
     ]
    },
    {
     "name": "stdout",
     "output_type": "stream",
     "text": [
      "Epoch 98 | Train Loss: 0.7024 | Val Acc: 0.5696 | Val Prec: 0.5730 | Val Recall: 0.5696 | Val F1: 0.5625\n"
     ]
    },
    {
     "name": "stderr",
     "output_type": "stream",
     "text": [
      "Epoch 99/200: 100%|██████████| 4/4 [00:39<00:00,  9.97s/it, loss=0.6963]\n"
     ]
    },
    {
     "name": "stdout",
     "output_type": "stream",
     "text": [
      "Epoch 99 | Train Loss: 0.7142 | Val Acc: 0.5881 | Val Prec: 0.5843 | Val Recall: 0.5881 | Val F1: 0.5748\n"
     ]
    },
    {
     "name": "stderr",
     "output_type": "stream",
     "text": [
      "Epoch 100/200: 100%|██████████| 4/4 [00:39<00:00,  9.84s/it, loss=0.7472]\n"
     ]
    },
    {
     "name": "stdout",
     "output_type": "stream",
     "text": [
      "Epoch 100 | Train Loss: 0.6912 | Val Acc: 0.5541 | Val Prec: 0.5370 | Val Recall: 0.5541 | Val F1: 0.5256\n"
     ]
    },
    {
     "name": "stderr",
     "output_type": "stream",
     "text": [
      "Epoch 101/200: 100%|██████████| 4/4 [00:40<00:00, 10.19s/it, loss=0.8206]\n"
     ]
    },
    {
     "name": "stdout",
     "output_type": "stream",
     "text": [
      "Epoch 101 | Train Loss: 0.7375 | Val Acc: 0.5697 | Val Prec: 0.5872 | Val Recall: 0.5697 | Val F1: 0.5548\n"
     ]
    },
    {
     "name": "stderr",
     "output_type": "stream",
     "text": [
      "Epoch 102/200: 100%|██████████| 4/4 [00:39<00:00,  9.91s/it, loss=0.7753]\n"
     ]
    },
    {
     "name": "stdout",
     "output_type": "stream",
     "text": [
      "Epoch 102 | Train Loss: 0.7470 | Val Acc: 0.5675 | Val Prec: 0.5665 | Val Recall: 0.5675 | Val F1: 0.5669\n"
     ]
    },
    {
     "name": "stderr",
     "output_type": "stream",
     "text": [
      "Epoch 103/200: 100%|██████████| 4/4 [00:40<00:00, 10.23s/it, loss=0.7759]\n"
     ]
    },
    {
     "name": "stdout",
     "output_type": "stream",
     "text": [
      "Epoch 103 | Train Loss: 0.7235 | Val Acc: 0.5677 | Val Prec: 0.5706 | Val Recall: 0.5677 | Val F1: 0.5400\n"
     ]
    },
    {
     "name": "stderr",
     "output_type": "stream",
     "text": [
      "Epoch 104/200: 100%|██████████| 4/4 [00:42<00:00, 10.74s/it, loss=0.6736]\n"
     ]
    },
    {
     "name": "stdout",
     "output_type": "stream",
     "text": [
      "Epoch 104 | Train Loss: 0.6872 | Val Acc: 0.5920 | Val Prec: 0.5960 | Val Recall: 0.5920 | Val F1: 0.5844\n"
     ]
    },
    {
     "name": "stderr",
     "output_type": "stream",
     "text": [
      "Epoch 105/200: 100%|██████████| 4/4 [00:39<00:00,  9.78s/it, loss=0.6056]\n"
     ]
    },
    {
     "name": "stdout",
     "output_type": "stream",
     "text": [
      "Epoch 105 | Train Loss: 0.6340 | Val Acc: 0.6020 | Val Prec: 0.5973 | Val Recall: 0.6020 | Val F1: 0.5993\n"
     ]
    },
    {
     "name": "stderr",
     "output_type": "stream",
     "text": [
      "Epoch 106/200: 100%|██████████| 4/4 [00:39<00:00,  9.76s/it, loss=0.5763]\n"
     ]
    },
    {
     "name": "stdout",
     "output_type": "stream",
     "text": [
      "Epoch 106 | Train Loss: 0.6130 | Val Acc: 0.6070 | Val Prec: 0.5964 | Val Recall: 0.6070 | Val F1: 0.5996\n"
     ]
    },
    {
     "name": "stderr",
     "output_type": "stream",
     "text": [
      "Epoch 107/200: 100%|██████████| 4/4 [00:39<00:00,  9.82s/it, loss=0.6233]\n"
     ]
    },
    {
     "name": "stdout",
     "output_type": "stream",
     "text": [
      "Epoch 107 | Train Loss: 0.6041 | Val Acc: 0.6290 | Val Prec: 0.6183 | Val Recall: 0.6290 | Val F1: 0.6209\n"
     ]
    },
    {
     "name": "stderr",
     "output_type": "stream",
     "text": [
      "Epoch 108/200: 100%|██████████| 4/4 [00:39<00:00,  9.89s/it, loss=0.5772]\n"
     ]
    },
    {
     "name": "stdout",
     "output_type": "stream",
     "text": [
      "Epoch 108 | Train Loss: 0.5538 | Val Acc: 0.6375 | Val Prec: 0.6298 | Val Recall: 0.6375 | Val F1: 0.6265\n"
     ]
    },
    {
     "name": "stderr",
     "output_type": "stream",
     "text": [
      "Epoch 109/200: 100%|██████████| 4/4 [00:38<00:00,  9.59s/it, loss=0.6661]\n"
     ]
    },
    {
     "name": "stdout",
     "output_type": "stream",
     "text": [
      "Epoch 109 | Train Loss: 0.6117 | Val Acc: 0.6122 | Val Prec: 0.6082 | Val Recall: 0.6122 | Val F1: 0.6061\n"
     ]
    },
    {
     "name": "stderr",
     "output_type": "stream",
     "text": [
      "Epoch 110/200: 100%|██████████| 4/4 [00:40<00:00, 10.12s/it, loss=0.6424]\n"
     ]
    },
    {
     "name": "stdout",
     "output_type": "stream",
     "text": [
      "Epoch 110 | Train Loss: 0.6114 | Val Acc: 0.6200 | Val Prec: 0.6102 | Val Recall: 0.6200 | Val F1: 0.6131\n"
     ]
    },
    {
     "name": "stderr",
     "output_type": "stream",
     "text": [
      "Epoch 111/200: 100%|██████████| 4/4 [00:37<00:00,  9.32s/it, loss=0.6894]\n"
     ]
    },
    {
     "name": "stdout",
     "output_type": "stream",
     "text": [
      "Epoch 111 | Train Loss: 0.6077 | Val Acc: 0.6064 | Val Prec: 0.5953 | Val Recall: 0.6064 | Val F1: 0.5956\n"
     ]
    },
    {
     "name": "stderr",
     "output_type": "stream",
     "text": [
      "Epoch 112/200: 100%|██████████| 4/4 [00:42<00:00, 10.59s/it, loss=0.6370]\n"
     ]
    },
    {
     "name": "stdout",
     "output_type": "stream",
     "text": [
      "Epoch 112 | Train Loss: 0.6341 | Val Acc: 0.6141 | Val Prec: 0.6083 | Val Recall: 0.6141 | Val F1: 0.6038\n"
     ]
    },
    {
     "name": "stderr",
     "output_type": "stream",
     "text": [
      "Epoch 113/200: 100%|██████████| 4/4 [00:44<00:00, 11.11s/it, loss=0.6184]\n"
     ]
    },
    {
     "name": "stdout",
     "output_type": "stream",
     "text": [
      "Epoch 113 | Train Loss: 0.6100 | Val Acc: 0.6066 | Val Prec: 0.6058 | Val Recall: 0.6066 | Val F1: 0.6025\n"
     ]
    },
    {
     "name": "stderr",
     "output_type": "stream",
     "text": [
      "Epoch 114/200: 100%|██████████| 4/4 [00:39<00:00,  9.97s/it, loss=0.6360]\n"
     ]
    },
    {
     "name": "stdout",
     "output_type": "stream",
     "text": [
      "Epoch 114 | Train Loss: 0.6107 | Val Acc: 0.6201 | Val Prec: 0.6155 | Val Recall: 0.6201 | Val F1: 0.6024\n"
     ]
    },
    {
     "name": "stderr",
     "output_type": "stream",
     "text": [
      "Epoch 115/200: 100%|██████████| 4/4 [00:51<00:00, 12.89s/it, loss=0.5796]\n"
     ]
    },
    {
     "name": "stdout",
     "output_type": "stream",
     "text": [
      "Epoch 115 | Train Loss: 0.5874 | Val Acc: 0.6259 | Val Prec: 0.6215 | Val Recall: 0.6259 | Val F1: 0.6217\n"
     ]
    },
    {
     "name": "stderr",
     "output_type": "stream",
     "text": [
      "Epoch 116/200: 100%|██████████| 4/4 [00:45<00:00, 11.46s/it, loss=0.6000]\n"
     ]
    },
    {
     "name": "stdout",
     "output_type": "stream",
     "text": [
      "Epoch 116 | Train Loss: 0.5853 | Val Acc: 0.6171 | Val Prec: 0.6239 | Val Recall: 0.6171 | Val F1: 0.6146\n"
     ]
    },
    {
     "name": "stderr",
     "output_type": "stream",
     "text": [
      "Epoch 117/200: 100%|██████████| 4/4 [00:41<00:00, 10.29s/it, loss=0.5482]\n"
     ]
    },
    {
     "name": "stdout",
     "output_type": "stream",
     "text": [
      "Epoch 117 | Train Loss: 0.5571 | Val Acc: 0.6125 | Val Prec: 0.6050 | Val Recall: 0.6125 | Val F1: 0.6000\n"
     ]
    },
    {
     "name": "stderr",
     "output_type": "stream",
     "text": [
      "Epoch 118/200: 100%|██████████| 4/4 [00:40<00:00, 10.14s/it, loss=0.6513]\n"
     ]
    },
    {
     "name": "stdout",
     "output_type": "stream",
     "text": [
      "Epoch 118 | Train Loss: 0.6102 | Val Acc: 0.6254 | Val Prec: 0.6178 | Val Recall: 0.6254 | Val F1: 0.6183\n"
     ]
    },
    {
     "name": "stderr",
     "output_type": "stream",
     "text": [
      "Epoch 119/200: 100%|██████████| 4/4 [00:38<00:00,  9.58s/it, loss=0.7512]\n"
     ]
    },
    {
     "name": "stdout",
     "output_type": "stream",
     "text": [
      "Epoch 119 | Train Loss: 0.6330 | Val Acc: 0.6087 | Val Prec: 0.6026 | Val Recall: 0.6087 | Val F1: 0.6039\n"
     ]
    },
    {
     "name": "stderr",
     "output_type": "stream",
     "text": [
      "Epoch 120/200: 100%|██████████| 4/4 [00:39<00:00,  9.91s/it, loss=0.6582]\n"
     ]
    },
    {
     "name": "stdout",
     "output_type": "stream",
     "text": [
      "Epoch 120 | Train Loss: 0.6115 | Val Acc: 0.6418 | Val Prec: 0.6367 | Val Recall: 0.6418 | Val F1: 0.6372\n"
     ]
    },
    {
     "name": "stderr",
     "output_type": "stream",
     "text": [
      "Epoch 121/200: 100%|██████████| 4/4 [00:38<00:00,  9.63s/it, loss=0.6659]\n"
     ]
    },
    {
     "name": "stdout",
     "output_type": "stream",
     "text": [
      "Epoch 121 | Train Loss: 0.5752 | Val Acc: 0.6355 | Val Prec: 0.6279 | Val Recall: 0.6355 | Val F1: 0.6303\n"
     ]
    },
    {
     "name": "stderr",
     "output_type": "stream",
     "text": [
      "Epoch 122/200: 100%|██████████| 4/4 [00:39<00:00,  9.78s/it, loss=0.5395]\n"
     ]
    },
    {
     "name": "stdout",
     "output_type": "stream",
     "text": [
      "Epoch 122 | Train Loss: 0.5442 | Val Acc: 0.6450 | Val Prec: 0.6428 | Val Recall: 0.6450 | Val F1: 0.6397\n"
     ]
    },
    {
     "name": "stderr",
     "output_type": "stream",
     "text": [
      "Epoch 123/200: 100%|██████████| 4/4 [00:40<00:00, 10.17s/it, loss=0.6029]\n"
     ]
    },
    {
     "name": "stdout",
     "output_type": "stream",
     "text": [
      "Epoch 123 | Train Loss: 0.5504 | Val Acc: 0.6441 | Val Prec: 0.6408 | Val Recall: 0.6441 | Val F1: 0.6350\n"
     ]
    },
    {
     "name": "stderr",
     "output_type": "stream",
     "text": [
      "Epoch 124/200: 100%|██████████| 4/4 [00:35<00:00,  8.99s/it, loss=0.5962]\n"
     ]
    },
    {
     "name": "stdout",
     "output_type": "stream",
     "text": [
      "Epoch 124 | Train Loss: 0.5316 | Val Acc: 0.6612 | Val Prec: 0.6570 | Val Recall: 0.6612 | Val F1: 0.6509\n"
     ]
    },
    {
     "name": "stderr",
     "output_type": "stream",
     "text": [
      "Epoch 125/200: 100%|██████████| 4/4 [00:35<00:00,  8.81s/it, loss=0.5435]\n"
     ]
    },
    {
     "name": "stdout",
     "output_type": "stream",
     "text": [
      "Epoch 125 | Train Loss: 0.5184 | Val Acc: 0.6595 | Val Prec: 0.6537 | Val Recall: 0.6595 | Val F1: 0.6461\n"
     ]
    },
    {
     "name": "stderr",
     "output_type": "stream",
     "text": [
      "Epoch 126/200: 100%|██████████| 4/4 [00:38<00:00,  9.75s/it, loss=0.4935]\n"
     ]
    },
    {
     "name": "stdout",
     "output_type": "stream",
     "text": [
      "Epoch 126 | Train Loss: 0.5029 | Val Acc: 0.6668 | Val Prec: 0.6642 | Val Recall: 0.6668 | Val F1: 0.6638\n"
     ]
    },
    {
     "name": "stderr",
     "output_type": "stream",
     "text": [
      "Epoch 127/200: 100%|██████████| 4/4 [00:38<00:00,  9.53s/it, loss=0.5587]\n"
     ]
    },
    {
     "name": "stdout",
     "output_type": "stream",
     "text": [
      "Epoch 127 | Train Loss: 0.5204 | Val Acc: 0.6416 | Val Prec: 0.6399 | Val Recall: 0.6416 | Val F1: 0.6407\n"
     ]
    },
    {
     "name": "stderr",
     "output_type": "stream",
     "text": [
      "Epoch 128/200: 100%|██████████| 4/4 [00:43<00:00, 10.99s/it, loss=0.6060]\n"
     ]
    },
    {
     "name": "stdout",
     "output_type": "stream",
     "text": [
      "Epoch 128 | Train Loss: 0.5507 | Val Acc: 0.6491 | Val Prec: 0.6515 | Val Recall: 0.6491 | Val F1: 0.6488\n"
     ]
    },
    {
     "name": "stderr",
     "output_type": "stream",
     "text": [
      "Epoch 129/200: 100%|██████████| 4/4 [00:53<00:00, 13.37s/it, loss=0.6326]\n"
     ]
    },
    {
     "name": "stdout",
     "output_type": "stream",
     "text": [
      "Epoch 129 | Train Loss: 0.6102 | Val Acc: 0.6225 | Val Prec: 0.6131 | Val Recall: 0.6225 | Val F1: 0.6152\n"
     ]
    },
    {
     "name": "stderr",
     "output_type": "stream",
     "text": [
      "Epoch 130/200: 100%|██████████| 4/4 [00:53<00:00, 13.47s/it, loss=0.5398]\n"
     ]
    },
    {
     "name": "stdout",
     "output_type": "stream",
     "text": [
      "Epoch 130 | Train Loss: 0.5866 | Val Acc: 0.6589 | Val Prec: 0.6533 | Val Recall: 0.6589 | Val F1: 0.6536\n"
     ]
    },
    {
     "name": "stderr",
     "output_type": "stream",
     "text": [
      "Epoch 131/200: 100%|██████████| 4/4 [00:41<00:00, 10.42s/it, loss=0.5954]\n"
     ]
    },
    {
     "name": "stdout",
     "output_type": "stream",
     "text": [
      "Epoch 131 | Train Loss: 0.5386 | Val Acc: 0.6515 | Val Prec: 0.6448 | Val Recall: 0.6515 | Val F1: 0.6468\n"
     ]
    },
    {
     "name": "stderr",
     "output_type": "stream",
     "text": [
      "Epoch 132/200: 100%|██████████| 4/4 [00:40<00:00, 10.05s/it, loss=0.5357]\n"
     ]
    },
    {
     "name": "stdout",
     "output_type": "stream",
     "text": [
      "Epoch 132 | Train Loss: 0.5386 | Val Acc: 0.6740 | Val Prec: 0.6686 | Val Recall: 0.6740 | Val F1: 0.6676\n"
     ]
    },
    {
     "name": "stderr",
     "output_type": "stream",
     "text": [
      "Epoch 133/200: 100%|██████████| 4/4 [00:45<00:00, 11.26s/it, loss=0.5452]\n"
     ]
    },
    {
     "name": "stdout",
     "output_type": "stream",
     "text": [
      "Epoch 133 | Train Loss: 0.5198 | Val Acc: 0.6851 | Val Prec: 0.6805 | Val Recall: 0.6851 | Val F1: 0.6789\n"
     ]
    },
    {
     "name": "stderr",
     "output_type": "stream",
     "text": [
      "Epoch 134/200: 100%|██████████| 4/4 [00:45<00:00, 11.40s/it, loss=0.5066]\n"
     ]
    },
    {
     "name": "stdout",
     "output_type": "stream",
     "text": [
      "Epoch 134 | Train Loss: 0.4836 | Val Acc: 0.6812 | Val Prec: 0.6803 | Val Recall: 0.6812 | Val F1: 0.6802\n"
     ]
    },
    {
     "name": "stderr",
     "output_type": "stream",
     "text": [
      "Epoch 135/200: 100%|██████████| 4/4 [00:36<00:00,  9.18s/it, loss=0.5074]\n"
     ]
    },
    {
     "name": "stdout",
     "output_type": "stream",
     "text": [
      "Epoch 135 | Train Loss: 0.4677 | Val Acc: 0.6767 | Val Prec: 0.6713 | Val Recall: 0.6767 | Val F1: 0.6715\n"
     ]
    },
    {
     "name": "stderr",
     "output_type": "stream",
     "text": [
      "Epoch 136/200: 100%|██████████| 4/4 [00:45<00:00, 11.46s/it, loss=0.4826]\n"
     ]
    },
    {
     "name": "stdout",
     "output_type": "stream",
     "text": [
      "Epoch 136 | Train Loss: 0.4778 | Val Acc: 0.6747 | Val Prec: 0.6682 | Val Recall: 0.6747 | Val F1: 0.6686\n"
     ]
    },
    {
     "name": "stderr",
     "output_type": "stream",
     "text": [
      "Epoch 137/200: 100%|██████████| 4/4 [00:50<00:00, 12.74s/it, loss=0.4556]\n"
     ]
    },
    {
     "name": "stdout",
     "output_type": "stream",
     "text": [
      "Epoch 137 | Train Loss: 0.4868 | Val Acc: 0.6669 | Val Prec: 0.6692 | Val Recall: 0.6669 | Val F1: 0.6524\n"
     ]
    },
    {
     "name": "stderr",
     "output_type": "stream",
     "text": [
      "Epoch 138/200: 100%|██████████| 4/4 [00:52<00:00, 13.08s/it, loss=0.4503]\n"
     ]
    },
    {
     "name": "stdout",
     "output_type": "stream",
     "text": [
      "Epoch 138 | Train Loss: 0.4580 | Val Acc: 0.6785 | Val Prec: 0.6730 | Val Recall: 0.6785 | Val F1: 0.6743\n"
     ]
    },
    {
     "name": "stderr",
     "output_type": "stream",
     "text": [
      "Epoch 139/200: 100%|██████████| 4/4 [00:39<00:00,  9.90s/it, loss=0.4729]\n"
     ]
    },
    {
     "name": "stdout",
     "output_type": "stream",
     "text": [
      "Epoch 139 | Train Loss: 0.4646 | Val Acc: 0.6904 | Val Prec: 0.6861 | Val Recall: 0.6904 | Val F1: 0.6875\n"
     ]
    },
    {
     "name": "stderr",
     "output_type": "stream",
     "text": [
      "Epoch 140/200: 100%|██████████| 4/4 [00:43<00:00, 10.94s/it, loss=0.4353]\n"
     ]
    },
    {
     "name": "stdout",
     "output_type": "stream",
     "text": [
      "Epoch 140 | Train Loss: 0.4371 | Val Acc: 0.7087 | Val Prec: 0.7079 | Val Recall: 0.7087 | Val F1: 0.7059\n"
     ]
    },
    {
     "name": "stderr",
     "output_type": "stream",
     "text": [
      "Epoch 141/200: 100%|██████████| 4/4 [00:38<00:00,  9.51s/it, loss=0.4235]\n"
     ]
    },
    {
     "name": "stdout",
     "output_type": "stream",
     "text": [
      "Epoch 141 | Train Loss: 0.4413 | Val Acc: 0.7001 | Val Prec: 0.6960 | Val Recall: 0.7001 | Val F1: 0.6974\n"
     ]
    },
    {
     "name": "stderr",
     "output_type": "stream",
     "text": [
      "Epoch 142/200: 100%|██████████| 4/4 [00:36<00:00,  9.25s/it, loss=0.4643]\n"
     ]
    },
    {
     "name": "stdout",
     "output_type": "stream",
     "text": [
      "Epoch 142 | Train Loss: 0.4236 | Val Acc: 0.6859 | Val Prec: 0.6791 | Val Recall: 0.6859 | Val F1: 0.6790\n"
     ]
    },
    {
     "name": "stderr",
     "output_type": "stream",
     "text": [
      "Epoch 143/200: 100%|██████████| 4/4 [00:40<00:00, 10.07s/it, loss=0.5175]\n"
     ]
    },
    {
     "name": "stdout",
     "output_type": "stream",
     "text": [
      "Epoch 143 | Train Loss: 0.4468 | Val Acc: 0.7247 | Val Prec: 0.7198 | Val Recall: 0.7247 | Val F1: 0.7212\n"
     ]
    },
    {
     "name": "stderr",
     "output_type": "stream",
     "text": [
      "Epoch 144/200: 100%|██████████| 4/4 [00:40<00:00, 10.12s/it, loss=0.3465]\n"
     ]
    },
    {
     "name": "stdout",
     "output_type": "stream",
     "text": [
      "Epoch 144 | Train Loss: 0.3966 | Val Acc: 0.6958 | Val Prec: 0.6916 | Val Recall: 0.6958 | Val F1: 0.6872\n"
     ]
    },
    {
     "name": "stderr",
     "output_type": "stream",
     "text": [
      "Epoch 145/200: 100%|██████████| 4/4 [00:40<00:00, 10.15s/it, loss=0.4565]\n"
     ]
    },
    {
     "name": "stdout",
     "output_type": "stream",
     "text": [
      "Epoch 145 | Train Loss: 0.4235 | Val Acc: 0.6988 | Val Prec: 0.6955 | Val Recall: 0.6988 | Val F1: 0.6961\n"
     ]
    },
    {
     "name": "stderr",
     "output_type": "stream",
     "text": [
      "Epoch 146/200: 100%|██████████| 4/4 [00:43<00:00, 10.85s/it, loss=0.5413]\n"
     ]
    },
    {
     "name": "stdout",
     "output_type": "stream",
     "text": [
      "Epoch 146 | Train Loss: 0.4161 | Val Acc: 0.7245 | Val Prec: 0.7215 | Val Recall: 0.7245 | Val F1: 0.7228\n"
     ]
    },
    {
     "name": "stderr",
     "output_type": "stream",
     "text": [
      "Epoch 147/200: 100%|██████████| 4/4 [00:40<00:00, 10.03s/it, loss=0.4438]\n"
     ]
    },
    {
     "name": "stdout",
     "output_type": "stream",
     "text": [
      "Epoch 147 | Train Loss: 0.4191 | Val Acc: 0.6894 | Val Prec: 0.6876 | Val Recall: 0.6894 | Val F1: 0.6850\n"
     ]
    },
    {
     "name": "stderr",
     "output_type": "stream",
     "text": [
      "Epoch 148/200: 100%|██████████| 4/4 [00:40<00:00, 10.25s/it, loss=0.4450]\n"
     ]
    },
    {
     "name": "stdout",
     "output_type": "stream",
     "text": [
      "Epoch 148 | Train Loss: 0.4627 | Val Acc: 0.7120 | Val Prec: 0.7078 | Val Recall: 0.7120 | Val F1: 0.7089\n"
     ]
    },
    {
     "name": "stderr",
     "output_type": "stream",
     "text": [
      "Epoch 149/200: 100%|██████████| 4/4 [00:38<00:00,  9.65s/it, loss=0.4877]\n"
     ]
    },
    {
     "name": "stdout",
     "output_type": "stream",
     "text": [
      "Epoch 149 | Train Loss: 0.4395 | Val Acc: 0.7313 | Val Prec: 0.7286 | Val Recall: 0.7313 | Val F1: 0.7256\n"
     ]
    },
    {
     "name": "stderr",
     "output_type": "stream",
     "text": [
      "Epoch 150/200: 100%|██████████| 4/4 [00:38<00:00,  9.72s/it, loss=0.3450]\n"
     ]
    },
    {
     "name": "stdout",
     "output_type": "stream",
     "text": [
      "Epoch 150 | Train Loss: 0.3986 | Val Acc: 0.7298 | Val Prec: 0.7268 | Val Recall: 0.7298 | Val F1: 0.7258\n"
     ]
    },
    {
     "name": "stderr",
     "output_type": "stream",
     "text": [
      "Epoch 151/200: 100%|██████████| 4/4 [00:40<00:00, 10.07s/it, loss=0.3709]\n"
     ]
    },
    {
     "name": "stdout",
     "output_type": "stream",
     "text": [
      "Epoch 151 | Train Loss: 0.3636 | Val Acc: 0.7290 | Val Prec: 0.7276 | Val Recall: 0.7290 | Val F1: 0.7253\n"
     ]
    },
    {
     "name": "stderr",
     "output_type": "stream",
     "text": [
      "Epoch 152/200: 100%|██████████| 4/4 [00:36<00:00,  9.24s/it, loss=0.4039]\n"
     ]
    },
    {
     "name": "stdout",
     "output_type": "stream",
     "text": [
      "Epoch 152 | Train Loss: 0.3598 | Val Acc: 0.7585 | Val Prec: 0.7556 | Val Recall: 0.7585 | Val F1: 0.7528\n"
     ]
    },
    {
     "name": "stderr",
     "output_type": "stream",
     "text": [
      "Epoch 153/200: 100%|██████████| 4/4 [00:35<00:00,  8.95s/it, loss=0.2807]\n"
     ]
    },
    {
     "name": "stdout",
     "output_type": "stream",
     "text": [
      "Epoch 153 | Train Loss: 0.3245 | Val Acc: 0.7538 | Val Prec: 0.7516 | Val Recall: 0.7538 | Val F1: 0.7496\n"
     ]
    },
    {
     "name": "stderr",
     "output_type": "stream",
     "text": [
      "Epoch 154/200: 100%|██████████| 4/4 [00:43<00:00, 10.94s/it, loss=0.2949]\n"
     ]
    },
    {
     "name": "stdout",
     "output_type": "stream",
     "text": [
      "Epoch 154 | Train Loss: 0.3131 | Val Acc: 0.7493 | Val Prec: 0.7458 | Val Recall: 0.7493 | Val F1: 0.7470\n"
     ]
    },
    {
     "name": "stderr",
     "output_type": "stream",
     "text": [
      "Epoch 155/200: 100%|██████████| 4/4 [00:38<00:00,  9.67s/it, loss=0.2877]\n"
     ]
    },
    {
     "name": "stdout",
     "output_type": "stream",
     "text": [
      "Epoch 155 | Train Loss: 0.3006 | Val Acc: 0.7698 | Val Prec: 0.7671 | Val Recall: 0.7698 | Val F1: 0.7666\n"
     ]
    },
    {
     "name": "stderr",
     "output_type": "stream",
     "text": [
      "Epoch 156/200: 100%|██████████| 4/4 [00:38<00:00,  9.73s/it, loss=0.2661]\n"
     ]
    },
    {
     "name": "stdout",
     "output_type": "stream",
     "text": [
      "Epoch 156 | Train Loss: 0.2758 | Val Acc: 0.7815 | Val Prec: 0.7786 | Val Recall: 0.7815 | Val F1: 0.7787\n"
     ]
    },
    {
     "name": "stderr",
     "output_type": "stream",
     "text": [
      "Epoch 157/200: 100%|██████████| 4/4 [00:46<00:00, 11.67s/it, loss=0.2637]\n"
     ]
    },
    {
     "name": "stdout",
     "output_type": "stream",
     "text": [
      "Epoch 157 | Train Loss: 0.2565 | Val Acc: 0.7761 | Val Prec: 0.7758 | Val Recall: 0.7761 | Val F1: 0.7756\n"
     ]
    },
    {
     "name": "stderr",
     "output_type": "stream",
     "text": [
      "Epoch 158/200: 100%|██████████| 4/4 [00:37<00:00,  9.34s/it, loss=0.2805]\n"
     ]
    },
    {
     "name": "stdout",
     "output_type": "stream",
     "text": [
      "Epoch 158 | Train Loss: 0.2539 | Val Acc: 0.7911 | Val Prec: 0.7941 | Val Recall: 0.7911 | Val F1: 0.7880\n"
     ]
    },
    {
     "name": "stderr",
     "output_type": "stream",
     "text": [
      "Epoch 159/200: 100%|██████████| 4/4 [00:34<00:00,  8.71s/it, loss=0.2668]\n"
     ]
    },
    {
     "name": "stdout",
     "output_type": "stream",
     "text": [
      "Epoch 159 | Train Loss: 0.2349 | Val Acc: 0.7944 | Val Prec: 0.7908 | Val Recall: 0.7944 | Val F1: 0.7912\n"
     ]
    },
    {
     "name": "stderr",
     "output_type": "stream",
     "text": [
      "Epoch 160/200: 100%|██████████| 4/4 [00:39<00:00,  9.89s/it, loss=0.2774]\n"
     ]
    },
    {
     "name": "stdout",
     "output_type": "stream",
     "text": [
      "Epoch 160 | Train Loss: 0.2346 | Val Acc: 0.8142 | Val Prec: 0.8121 | Val Recall: 0.8142 | Val F1: 0.8120\n"
     ]
    },
    {
     "name": "stderr",
     "output_type": "stream",
     "text": [
      "Epoch 161/200: 100%|██████████| 4/4 [00:40<00:00, 10.20s/it, loss=0.2025]\n"
     ]
    },
    {
     "name": "stdout",
     "output_type": "stream",
     "text": [
      "Epoch 161 | Train Loss: 0.2118 | Val Acc: 0.8020 | Val Prec: 0.8000 | Val Recall: 0.8020 | Val F1: 0.8006\n"
     ]
    },
    {
     "name": "stderr",
     "output_type": "stream",
     "text": [
      "Epoch 162/200: 100%|██████████| 4/4 [00:38<00:00,  9.70s/it, loss=0.2094]\n"
     ]
    },
    {
     "name": "stdout",
     "output_type": "stream",
     "text": [
      "Epoch 162 | Train Loss: 0.2255 | Val Acc: 0.7899 | Val Prec: 0.7892 | Val Recall: 0.7899 | Val F1: 0.7888\n"
     ]
    },
    {
     "name": "stderr",
     "output_type": "stream",
     "text": [
      "Epoch 163/200: 100%|██████████| 4/4 [00:40<00:00, 10.06s/it, loss=0.2437]\n"
     ]
    },
    {
     "name": "stdout",
     "output_type": "stream",
     "text": [
      "Epoch 163 | Train Loss: 0.2433 | Val Acc: 0.7988 | Val Prec: 0.7978 | Val Recall: 0.7988 | Val F1: 0.7963\n"
     ]
    },
    {
     "name": "stderr",
     "output_type": "stream",
     "text": [
      "Epoch 164/200: 100%|██████████| 4/4 [00:46<00:00, 11.59s/it, loss=0.1768]\n"
     ]
    },
    {
     "name": "stdout",
     "output_type": "stream",
     "text": [
      "Epoch 164 | Train Loss: 0.2072 | Val Acc: 0.8243 | Val Prec: 0.8244 | Val Recall: 0.8243 | Val F1: 0.8243\n"
     ]
    },
    {
     "name": "stderr",
     "output_type": "stream",
     "text": [
      "Epoch 165/200: 100%|██████████| 4/4 [00:49<00:00, 12.40s/it, loss=0.2035]\n"
     ]
    },
    {
     "name": "stdout",
     "output_type": "stream",
     "text": [
      "Epoch 165 | Train Loss: 0.1990 | Val Acc: 0.8254 | Val Prec: 0.8232 | Val Recall: 0.8254 | Val F1: 0.8240\n"
     ]
    },
    {
     "name": "stderr",
     "output_type": "stream",
     "text": [
      "Epoch 166/200: 100%|██████████| 4/4 [00:51<00:00, 12.99s/it, loss=0.2469]\n"
     ]
    },
    {
     "name": "stdout",
     "output_type": "stream",
     "text": [
      "Epoch 166 | Train Loss: 0.1888 | Val Acc: 0.8371 | Val Prec: 0.8392 | Val Recall: 0.8371 | Val F1: 0.8337\n"
     ]
    },
    {
     "name": "stderr",
     "output_type": "stream",
     "text": [
      "Epoch 167/200: 100%|██████████| 4/4 [00:50<00:00, 12.69s/it, loss=0.2014]\n"
     ]
    },
    {
     "name": "stdout",
     "output_type": "stream",
     "text": [
      "Epoch 167 | Train Loss: 0.1733 | Val Acc: 0.8283 | Val Prec: 0.8274 | Val Recall: 0.8283 | Val F1: 0.8277\n"
     ]
    },
    {
     "name": "stderr",
     "output_type": "stream",
     "text": [
      "Epoch 168/200: 100%|██████████| 4/4 [00:52<00:00, 13.05s/it, loss=0.1753]\n"
     ]
    },
    {
     "name": "stdout",
     "output_type": "stream",
     "text": [
      "Epoch 168 | Train Loss: 0.1767 | Val Acc: 0.8331 | Val Prec: 0.8328 | Val Recall: 0.8331 | Val F1: 0.8329\n"
     ]
    },
    {
     "name": "stderr",
     "output_type": "stream",
     "text": [
      "Epoch 169/200: 100%|██████████| 4/4 [00:48<00:00, 12.21s/it, loss=0.1953]\n"
     ]
    },
    {
     "name": "stdout",
     "output_type": "stream",
     "text": [
      "Epoch 169 | Train Loss: 0.1763 | Val Acc: 0.8416 | Val Prec: 0.8414 | Val Recall: 0.8416 | Val F1: 0.8403\n"
     ]
    },
    {
     "name": "stderr",
     "output_type": "stream",
     "text": [
      "Epoch 170/200: 100%|██████████| 4/4 [00:49<00:00, 12.38s/it, loss=0.1694]\n"
     ]
    },
    {
     "name": "stdout",
     "output_type": "stream",
     "text": [
      "Epoch 170 | Train Loss: 0.1535 | Val Acc: 0.8562 | Val Prec: 0.8546 | Val Recall: 0.8562 | Val F1: 0.8543\n"
     ]
    },
    {
     "name": "stderr",
     "output_type": "stream",
     "text": [
      "Epoch 171/200: 100%|██████████| 4/4 [00:48<00:00, 12.22s/it, loss=0.1785]\n"
     ]
    },
    {
     "name": "stdout",
     "output_type": "stream",
     "text": [
      "Epoch 171 | Train Loss: 0.1402 | Val Acc: 0.8521 | Val Prec: 0.8505 | Val Recall: 0.8521 | Val F1: 0.8506\n"
     ]
    },
    {
     "name": "stderr",
     "output_type": "stream",
     "text": [
      "Epoch 172/200: 100%|██████████| 4/4 [00:50<00:00, 12.70s/it, loss=0.1526]\n"
     ]
    },
    {
     "name": "stdout",
     "output_type": "stream",
     "text": [
      "Epoch 172 | Train Loss: 0.1281 | Val Acc: 0.8704 | Val Prec: 0.8702 | Val Recall: 0.8704 | Val F1: 0.8694\n"
     ]
    },
    {
     "name": "stderr",
     "output_type": "stream",
     "text": [
      "Epoch 173/200: 100%|██████████| 4/4 [00:41<00:00, 10.30s/it, loss=0.1097]\n"
     ]
    },
    {
     "name": "stdout",
     "output_type": "stream",
     "text": [
      "Epoch 173 | Train Loss: 0.1111 | Val Acc: 0.8684 | Val Prec: 0.8677 | Val Recall: 0.8684 | Val F1: 0.8680\n"
     ]
    },
    {
     "name": "stderr",
     "output_type": "stream",
     "text": [
      "Epoch 174/200: 100%|██████████| 4/4 [00:38<00:00,  9.74s/it, loss=0.1014]\n"
     ]
    },
    {
     "name": "stdout",
     "output_type": "stream",
     "text": [
      "Epoch 174 | Train Loss: 0.1099 | Val Acc: 0.8698 | Val Prec: 0.8688 | Val Recall: 0.8698 | Val F1: 0.8689\n"
     ]
    },
    {
     "name": "stderr",
     "output_type": "stream",
     "text": [
      "Epoch 175/200: 100%|██████████| 4/4 [00:40<00:00, 10.15s/it, loss=0.0887]\n"
     ]
    },
    {
     "name": "stdout",
     "output_type": "stream",
     "text": [
      "Epoch 175 | Train Loss: 0.1045 | Val Acc: 0.8682 | Val Prec: 0.8681 | Val Recall: 0.8682 | Val F1: 0.8666\n"
     ]
    },
    {
     "name": "stderr",
     "output_type": "stream",
     "text": [
      "Epoch 176/200: 100%|██████████| 4/4 [00:39<00:00,  9.83s/it, loss=0.1357]\n"
     ]
    },
    {
     "name": "stdout",
     "output_type": "stream",
     "text": [
      "Epoch 176 | Train Loss: 0.1160 | Val Acc: 0.8799 | Val Prec: 0.8797 | Val Recall: 0.8799 | Val F1: 0.8798\n"
     ]
    },
    {
     "name": "stderr",
     "output_type": "stream",
     "text": [
      "Epoch 177/200: 100%|██████████| 4/4 [00:38<00:00,  9.74s/it, loss=0.1174]\n"
     ]
    },
    {
     "name": "stdout",
     "output_type": "stream",
     "text": [
      "Epoch 177 | Train Loss: 0.1031 | Val Acc: 0.8759 | Val Prec: 0.8754 | Val Recall: 0.8759 | Val F1: 0.8743\n"
     ]
    },
    {
     "name": "stderr",
     "output_type": "stream",
     "text": [
      "Epoch 178/200: 100%|██████████| 4/4 [00:38<00:00,  9.66s/it, loss=0.1005]\n"
     ]
    },
    {
     "name": "stdout",
     "output_type": "stream",
     "text": [
      "Epoch 178 | Train Loss: 0.0910 | Val Acc: 0.8916 | Val Prec: 0.8909 | Val Recall: 0.8916 | Val F1: 0.8909\n"
     ]
    },
    {
     "name": "stderr",
     "output_type": "stream",
     "text": [
      "Epoch 179/200: 100%|██████████| 4/4 [00:41<00:00, 10.50s/it, loss=0.0969]\n"
     ]
    },
    {
     "name": "stdout",
     "output_type": "stream",
     "text": [
      "Epoch 179 | Train Loss: 0.0878 | Val Acc: 0.8932 | Val Prec: 0.8922 | Val Recall: 0.8932 | Val F1: 0.8923\n"
     ]
    },
    {
     "name": "stderr",
     "output_type": "stream",
     "text": [
      "Epoch 180/200: 100%|██████████| 4/4 [00:40<00:00, 10.01s/it, loss=0.0708]\n"
     ]
    },
    {
     "name": "stdout",
     "output_type": "stream",
     "text": [
      "Epoch 180 | Train Loss: 0.0797 | Val Acc: 0.8827 | Val Prec: 0.8826 | Val Recall: 0.8827 | Val F1: 0.8824\n"
     ]
    },
    {
     "name": "stderr",
     "output_type": "stream",
     "text": [
      "Epoch 181/200: 100%|██████████| 4/4 [00:41<00:00, 10.35s/it, loss=0.0817]\n"
     ]
    },
    {
     "name": "stdout",
     "output_type": "stream",
     "text": [
      "Epoch 181 | Train Loss: 0.0800 | Val Acc: 0.8910 | Val Prec: 0.8909 | Val Recall: 0.8910 | Val F1: 0.8900\n"
     ]
    },
    {
     "name": "stderr",
     "output_type": "stream",
     "text": [
      "Epoch 182/200: 100%|██████████| 4/4 [00:40<00:00, 10.08s/it, loss=0.0693]\n"
     ]
    },
    {
     "name": "stdout",
     "output_type": "stream",
     "text": [
      "Epoch 182 | Train Loss: 0.0728 | Val Acc: 0.8908 | Val Prec: 0.8907 | Val Recall: 0.8908 | Val F1: 0.8907\n"
     ]
    },
    {
     "name": "stderr",
     "output_type": "stream",
     "text": [
      "Epoch 183/200: 100%|██████████| 4/4 [00:39<00:00,  9.83s/it, loss=0.0856]\n"
     ]
    },
    {
     "name": "stdout",
     "output_type": "stream",
     "text": [
      "Epoch 183 | Train Loss: 0.0758 | Val Acc: 0.9078 | Val Prec: 0.9074 | Val Recall: 0.9078 | Val F1: 0.9073\n"
     ]
    },
    {
     "name": "stderr",
     "output_type": "stream",
     "text": [
      "Epoch 184/200: 100%|██████████| 4/4 [00:38<00:00,  9.52s/it, loss=0.1143]\n"
     ]
    },
    {
     "name": "stdout",
     "output_type": "stream",
     "text": [
      "Epoch 184 | Train Loss: 0.0741 | Val Acc: 0.9022 | Val Prec: 0.9017 | Val Recall: 0.9022 | Val F1: 0.9017\n"
     ]
    },
    {
     "name": "stderr",
     "output_type": "stream",
     "text": [
      "Epoch 185/200: 100%|██████████| 4/4 [00:40<00:00, 10.06s/it, loss=0.0660]\n"
     ]
    },
    {
     "name": "stdout",
     "output_type": "stream",
     "text": [
      "Epoch 185 | Train Loss: 0.0648 | Val Acc: 0.8966 | Val Prec: 0.8967 | Val Recall: 0.8966 | Val F1: 0.8950\n"
     ]
    },
    {
     "name": "stderr",
     "output_type": "stream",
     "text": [
      "Epoch 186/200: 100%|██████████| 4/4 [00:38<00:00,  9.66s/it, loss=0.0703]\n"
     ]
    },
    {
     "name": "stdout",
     "output_type": "stream",
     "text": [
      "Epoch 186 | Train Loss: 0.0708 | Val Acc: 0.8968 | Val Prec: 0.8964 | Val Recall: 0.8968 | Val F1: 0.8965\n"
     ]
    },
    {
     "name": "stderr",
     "output_type": "stream",
     "text": [
      "Epoch 187/200: 100%|██████████| 4/4 [00:38<00:00,  9.71s/it, loss=0.0642]\n"
     ]
    },
    {
     "name": "stdout",
     "output_type": "stream",
     "text": [
      "Epoch 187 | Train Loss: 0.0695 | Val Acc: 0.9092 | Val Prec: 0.9087 | Val Recall: 0.9092 | Val F1: 0.9087\n"
     ]
    },
    {
     "name": "stderr",
     "output_type": "stream",
     "text": [
      "Epoch 188/200: 100%|██████████| 4/4 [00:38<00:00,  9.74s/it, loss=0.0684]\n"
     ]
    },
    {
     "name": "stdout",
     "output_type": "stream",
     "text": [
      "Epoch 188 | Train Loss: 0.0630 | Val Acc: 0.9097 | Val Prec: 0.9091 | Val Recall: 0.9097 | Val F1: 0.9091\n"
     ]
    },
    {
     "name": "stderr",
     "output_type": "stream",
     "text": [
      "Epoch 189/200: 100%|██████████| 4/4 [00:39<00:00,  9.76s/it, loss=0.0665]\n"
     ]
    },
    {
     "name": "stdout",
     "output_type": "stream",
     "text": [
      "Epoch 189 | Train Loss: 0.0564 | Val Acc: 0.9151 | Val Prec: 0.9146 | Val Recall: 0.9151 | Val F1: 0.9145\n"
     ]
    },
    {
     "name": "stderr",
     "output_type": "stream",
     "text": [
      "Epoch 190/200: 100%|██████████| 4/4 [00:40<00:00, 10.18s/it, loss=0.0728]\n"
     ]
    },
    {
     "name": "stdout",
     "output_type": "stream",
     "text": [
      "Epoch 190 | Train Loss: 0.0581 | Val Acc: 0.9103 | Val Prec: 0.9100 | Val Recall: 0.9103 | Val F1: 0.9101\n"
     ]
    },
    {
     "name": "stderr",
     "output_type": "stream",
     "text": [
      "Epoch 191/200: 100%|██████████| 4/4 [00:39<00:00,  9.90s/it, loss=0.0700]\n"
     ]
    },
    {
     "name": "stdout",
     "output_type": "stream",
     "text": [
      "Epoch 191 | Train Loss: 0.0584 | Val Acc: 0.9088 | Val Prec: 0.9090 | Val Recall: 0.9088 | Val F1: 0.9084\n"
     ]
    },
    {
     "name": "stderr",
     "output_type": "stream",
     "text": [
      "Epoch 192/200: 100%|██████████| 4/4 [00:38<00:00,  9.64s/it, loss=0.0389]\n"
     ]
    },
    {
     "name": "stdout",
     "output_type": "stream",
     "text": [
      "Epoch 192 | Train Loss: 0.0551 | Val Acc: 0.9049 | Val Prec: 0.9047 | Val Recall: 0.9049 | Val F1: 0.9047\n"
     ]
    },
    {
     "name": "stderr",
     "output_type": "stream",
     "text": [
      "Epoch 193/200: 100%|██████████| 4/4 [00:40<00:00, 10.15s/it, loss=0.0630]\n"
     ]
    },
    {
     "name": "stdout",
     "output_type": "stream",
     "text": [
      "Epoch 193 | Train Loss: 0.0560 | Val Acc: 0.9102 | Val Prec: 0.9096 | Val Recall: 0.9102 | Val F1: 0.9096\n"
     ]
    },
    {
     "name": "stderr",
     "output_type": "stream",
     "text": [
      "Epoch 194/200: 100%|██████████| 4/4 [00:38<00:00,  9.73s/it, loss=0.0406]\n"
     ]
    },
    {
     "name": "stdout",
     "output_type": "stream",
     "text": [
      "Epoch 194 | Train Loss: 0.0501 | Val Acc: 0.9116 | Val Prec: 0.9110 | Val Recall: 0.9116 | Val F1: 0.9111\n"
     ]
    },
    {
     "name": "stderr",
     "output_type": "stream",
     "text": [
      "Epoch 195/200: 100%|██████████| 4/4 [00:39<00:00,  9.88s/it, loss=0.0533]\n"
     ]
    },
    {
     "name": "stdout",
     "output_type": "stream",
     "text": [
      "Epoch 195 | Train Loss: 0.0515 | Val Acc: 0.9095 | Val Prec: 0.9105 | Val Recall: 0.9095 | Val F1: 0.9099\n"
     ]
    },
    {
     "name": "stderr",
     "output_type": "stream",
     "text": [
      "Epoch 196/200: 100%|██████████| 4/4 [00:39<00:00,  9.86s/it, loss=0.0538]\n"
     ]
    },
    {
     "name": "stdout",
     "output_type": "stream",
     "text": [
      "Epoch 196 | Train Loss: 0.0520 | Val Acc: 0.9138 | Val Prec: 0.9132 | Val Recall: 0.9138 | Val F1: 0.9130\n"
     ]
    },
    {
     "name": "stderr",
     "output_type": "stream",
     "text": [
      "Epoch 197/200: 100%|██████████| 4/4 [00:39<00:00,  9.75s/it, loss=0.0572]\n"
     ]
    },
    {
     "name": "stdout",
     "output_type": "stream",
     "text": [
      "Epoch 197 | Train Loss: 0.0489 | Val Acc: 0.9137 | Val Prec: 0.9133 | Val Recall: 0.9137 | Val F1: 0.9131\n"
     ]
    },
    {
     "name": "stderr",
     "output_type": "stream",
     "text": [
      "Epoch 198/200: 100%|██████████| 4/4 [00:40<00:00, 10.14s/it, loss=0.0483]\n"
     ]
    },
    {
     "name": "stdout",
     "output_type": "stream",
     "text": [
      "Epoch 198 | Train Loss: 0.0430 | Val Acc: 0.9238 | Val Prec: 0.9234 | Val Recall: 0.9238 | Val F1: 0.9234\n"
     ]
    },
    {
     "name": "stderr",
     "output_type": "stream",
     "text": [
      "Epoch 199/200: 100%|██████████| 4/4 [00:38<00:00,  9.72s/it, loss=0.0515]\n"
     ]
    },
    {
     "name": "stdout",
     "output_type": "stream",
     "text": [
      "Epoch 199 | Train Loss: 0.0404 | Val Acc: 0.9199 | Val Prec: 0.9194 | Val Recall: 0.9199 | Val F1: 0.9195\n"
     ]
    },
    {
     "name": "stderr",
     "output_type": "stream",
     "text": [
      "Epoch 200/200: 100%|██████████| 4/4 [00:39<00:00,  9.81s/it, loss=0.0348]\n"
     ]
    },
    {
     "name": "stdout",
     "output_type": "stream",
     "text": [
      "Epoch 200 | Train Loss: 0.0373 | Val Acc: 0.9236 | Val Prec: 0.9234 | Val Recall: 0.9236 | Val F1: 0.9235\n",
      "Best validation F1: 0.9234\n",
      "\n",
      "=== Training Scene: motor ===\n",
      "从缓存文件加载数据: ./dataset/cache/motor_30_1_dataset_pre_cache.pkl\n",
      "class weights: tensor([1.1084, 0.9842, 0.9244])\n"
     ]
    },
    {
     "name": "stderr",
     "output_type": "stream",
     "text": [
      "Epoch 1/200: 100%|██████████| 8/8 [01:09<00:00,  8.70s/it, loss=1.2182]\n"
     ]
    },
    {
     "name": "stdout",
     "output_type": "stream",
     "text": [
      "Epoch 1 | Train Loss: 1.2671 | Val Acc: 0.3333 | Val Prec: 0.1202 | Val Recall: 0.3333 | Val F1: 0.1766\n"
     ]
    },
    {
     "name": "stderr",
     "output_type": "stream",
     "text": [
      "Epoch 2/200: 100%|██████████| 8/8 [01:15<00:00,  9.40s/it, loss=1.2155]\n"
     ]
    },
    {
     "name": "stdout",
     "output_type": "stream",
     "text": [
      "Epoch 2 | Train Loss: 1.2119 | Val Acc: 0.3333 | Val Prec: 0.0994 | Val Recall: 0.3333 | Val F1: 0.1532\n"
     ]
    },
    {
     "name": "stderr",
     "output_type": "stream",
     "text": [
      "Epoch 3/200: 100%|██████████| 8/8 [01:12<00:00,  9.04s/it, loss=1.2059]\n"
     ]
    },
    {
     "name": "stdout",
     "output_type": "stream",
     "text": [
      "Epoch 3 | Train Loss: 1.2082 | Val Acc: 0.3313 | Val Prec: 0.2198 | Val Recall: 0.3313 | Val F1: 0.2152\n"
     ]
    },
    {
     "name": "stderr",
     "output_type": "stream",
     "text": [
      "Epoch 4/200: 100%|██████████| 8/8 [01:11<00:00,  8.88s/it, loss=1.2004]\n"
     ]
    },
    {
     "name": "stdout",
     "output_type": "stream",
     "text": [
      "Epoch 4 | Train Loss: 1.2041 | Val Acc: 0.3690 | Val Prec: 0.4698 | Val Recall: 0.3690 | Val F1: 0.2928\n"
     ]
    },
    {
     "name": "stderr",
     "output_type": "stream",
     "text": [
      "Epoch 5/200: 100%|██████████| 8/8 [01:11<00:00,  8.90s/it, loss=1.2106]\n"
     ]
    },
    {
     "name": "stdout",
     "output_type": "stream",
     "text": [
      "Epoch 5 | Train Loss: 1.1938 | Val Acc: 0.3705 | Val Prec: 0.3112 | Val Recall: 0.3705 | Val F1: 0.2268\n"
     ]
    },
    {
     "name": "stderr",
     "output_type": "stream",
     "text": [
      "Epoch 6/200: 100%|██████████| 8/8 [01:09<00:00,  8.70s/it, loss=1.1694]\n"
     ]
    },
    {
     "name": "stdout",
     "output_type": "stream",
     "text": [
      "Epoch 6 | Train Loss: 1.1673 | Val Acc: 0.3766 | Val Prec: 0.4073 | Val Recall: 0.3766 | Val F1: 0.2473\n"
     ]
    },
    {
     "name": "stderr",
     "output_type": "stream",
     "text": [
      "Epoch 7/200: 100%|██████████| 8/8 [01:11<00:00,  8.97s/it, loss=1.0988]\n"
     ]
    },
    {
     "name": "stdout",
     "output_type": "stream",
     "text": [
      "Epoch 7 | Train Loss: 1.1549 | Val Acc: 0.3997 | Val Prec: 0.3334 | Val Recall: 0.3997 | Val F1: 0.3064\n"
     ]
    },
    {
     "name": "stderr",
     "output_type": "stream",
     "text": [
      "Epoch 8/200: 100%|██████████| 8/8 [01:11<00:00,  8.99s/it, loss=1.1342]\n"
     ]
    },
    {
     "name": "stdout",
     "output_type": "stream",
     "text": [
      "Epoch 8 | Train Loss: 1.1488 | Val Acc: 0.3621 | Val Prec: 0.4645 | Val Recall: 0.3621 | Val F1: 0.2410\n"
     ]
    },
    {
     "name": "stderr",
     "output_type": "stream",
     "text": [
      "Epoch 9/200: 100%|██████████| 8/8 [01:10<00:00,  8.87s/it, loss=1.1559]\n"
     ]
    },
    {
     "name": "stdout",
     "output_type": "stream",
     "text": [
      "Epoch 9 | Train Loss: 1.1576 | Val Acc: 0.3888 | Val Prec: 0.4407 | Val Recall: 0.3888 | Val F1: 0.3635\n"
     ]
    },
    {
     "name": "stderr",
     "output_type": "stream",
     "text": [
      "Epoch 10/200: 100%|██████████| 8/8 [01:14<00:00,  9.27s/it, loss=1.1017]\n"
     ]
    },
    {
     "name": "stdout",
     "output_type": "stream",
     "text": [
      "Epoch 10 | Train Loss: 1.1376 | Val Acc: 0.4290 | Val Prec: 0.4626 | Val Recall: 0.4290 | Val F1: 0.3857\n"
     ]
    },
    {
     "name": "stderr",
     "output_type": "stream",
     "text": [
      "Epoch 11/200: 100%|██████████| 8/8 [01:09<00:00,  8.72s/it, loss=1.0704]\n"
     ]
    },
    {
     "name": "stdout",
     "output_type": "stream",
     "text": [
      "Epoch 11 | Train Loss: 1.0823 | Val Acc: 0.4375 | Val Prec: 0.4506 | Val Recall: 0.4375 | Val F1: 0.4151\n"
     ]
    },
    {
     "name": "stderr",
     "output_type": "stream",
     "text": [
      "Epoch 12/200: 100%|██████████| 8/8 [01:14<00:00,  9.33s/it, loss=1.1193]\n"
     ]
    },
    {
     "name": "stdout",
     "output_type": "stream",
     "text": [
      "Epoch 12 | Train Loss: 1.0839 | Val Acc: 0.3898 | Val Prec: 0.5188 | Val Recall: 0.3898 | Val F1: 0.3439\n"
     ]
    },
    {
     "name": "stderr",
     "output_type": "stream",
     "text": [
      "Epoch 13/200: 100%|██████████| 8/8 [01:09<00:00,  8.74s/it, loss=1.1210]\n"
     ]
    },
    {
     "name": "stdout",
     "output_type": "stream",
     "text": [
      "Epoch 13 | Train Loss: 1.1066 | Val Acc: 0.4050 | Val Prec: 0.4825 | Val Recall: 0.4050 | Val F1: 0.3066\n"
     ]
    },
    {
     "name": "stderr",
     "output_type": "stream",
     "text": [
      "Epoch 14/200: 100%|██████████| 8/8 [01:10<00:00,  8.85s/it, loss=1.0725]\n"
     ]
    },
    {
     "name": "stdout",
     "output_type": "stream",
     "text": [
      "Epoch 14 | Train Loss: 1.1330 | Val Acc: 0.4319 | Val Prec: 0.4893 | Val Recall: 0.4319 | Val F1: 0.3525\n"
     ]
    },
    {
     "name": "stderr",
     "output_type": "stream",
     "text": [
      "Epoch 15/200: 100%|██████████| 8/8 [01:12<00:00,  9.06s/it, loss=1.0902]\n"
     ]
    },
    {
     "name": "stdout",
     "output_type": "stream",
     "text": [
      "Epoch 15 | Train Loss: 1.0797 | Val Acc: 0.4361 | Val Prec: 0.4612 | Val Recall: 0.4361 | Val F1: 0.3868\n"
     ]
    },
    {
     "name": "stderr",
     "output_type": "stream",
     "text": [
      "Epoch 16/200: 100%|██████████| 8/8 [01:15<00:00,  9.44s/it, loss=1.0680]\n"
     ]
    },
    {
     "name": "stdout",
     "output_type": "stream",
     "text": [
      "Epoch 16 | Train Loss: 1.0383 | Val Acc: 0.4441 | Val Prec: 0.4279 | Val Recall: 0.4441 | Val F1: 0.3827\n"
     ]
    },
    {
     "name": "stderr",
     "output_type": "stream",
     "text": [
      "Epoch 17/200: 100%|██████████| 8/8 [01:11<00:00,  8.89s/it, loss=0.9545]\n"
     ]
    },
    {
     "name": "stdout",
     "output_type": "stream",
     "text": [
      "Epoch 17 | Train Loss: 1.0155 | Val Acc: 0.4398 | Val Prec: 0.4008 | Val Recall: 0.4398 | Val F1: 0.3923\n"
     ]
    },
    {
     "name": "stderr",
     "output_type": "stream",
     "text": [
      "Epoch 18/200: 100%|██████████| 8/8 [01:12<00:00,  9.12s/it, loss=0.9622]\n"
     ]
    },
    {
     "name": "stdout",
     "output_type": "stream",
     "text": [
      "Epoch 18 | Train Loss: 0.9771 | Val Acc: 0.4600 | Val Prec: 0.4414 | Val Recall: 0.4600 | Val F1: 0.4074\n"
     ]
    },
    {
     "name": "stderr",
     "output_type": "stream",
     "text": [
      "Epoch 19/200: 100%|██████████| 8/8 [01:11<00:00,  8.99s/it, loss=0.9902]\n"
     ]
    },
    {
     "name": "stdout",
     "output_type": "stream",
     "text": [
      "Epoch 19 | Train Loss: 0.9882 | Val Acc: 0.4568 | Val Prec: 0.4610 | Val Recall: 0.4568 | Val F1: 0.3908\n"
     ]
    },
    {
     "name": "stderr",
     "output_type": "stream",
     "text": [
      "Epoch 20/200: 100%|██████████| 8/8 [01:12<00:00,  9.08s/it, loss=0.9575]\n"
     ]
    },
    {
     "name": "stdout",
     "output_type": "stream",
     "text": [
      "Epoch 20 | Train Loss: 1.0054 | Val Acc: 0.4656 | Val Prec: 0.4536 | Val Recall: 0.4656 | Val F1: 0.4034\n"
     ]
    },
    {
     "name": "stderr",
     "output_type": "stream",
     "text": [
      "Epoch 21/200: 100%|██████████| 8/8 [01:11<00:00,  8.97s/it, loss=0.9555]\n"
     ]
    },
    {
     "name": "stdout",
     "output_type": "stream",
     "text": [
      "Epoch 21 | Train Loss: 0.9952 | Val Acc: 0.4339 | Val Prec: 0.6011 | Val Recall: 0.4339 | Val F1: 0.3264\n"
     ]
    },
    {
     "name": "stderr",
     "output_type": "stream",
     "text": [
      "Epoch 22/200: 100%|██████████| 8/8 [01:10<00:00,  8.75s/it, loss=0.9940]\n"
     ]
    },
    {
     "name": "stdout",
     "output_type": "stream",
     "text": [
      "Epoch 22 | Train Loss: 1.0033 | Val Acc: 0.4730 | Val Prec: 0.4499 | Val Recall: 0.4730 | Val F1: 0.3864\n"
     ]
    },
    {
     "name": "stderr",
     "output_type": "stream",
     "text": [
      "Epoch 23/200: 100%|██████████| 8/8 [01:13<00:00,  9.13s/it, loss=0.9001]\n"
     ]
    },
    {
     "name": "stdout",
     "output_type": "stream",
     "text": [
      "Epoch 23 | Train Loss: 0.9794 | Val Acc: 0.4622 | Val Prec: 0.4763 | Val Recall: 0.4622 | Val F1: 0.3972\n"
     ]
    },
    {
     "name": "stderr",
     "output_type": "stream",
     "text": [
      "Epoch 24/200: 100%|██████████| 8/8 [01:10<00:00,  8.76s/it, loss=0.9480]\n"
     ]
    },
    {
     "name": "stdout",
     "output_type": "stream",
     "text": [
      "Epoch 24 | Train Loss: 0.9410 | Val Acc: 0.4767 | Val Prec: 0.4760 | Val Recall: 0.4767 | Val F1: 0.4174\n"
     ]
    },
    {
     "name": "stderr",
     "output_type": "stream",
     "text": [
      "Epoch 25/200: 100%|██████████| 8/8 [01:14<00:00,  9.36s/it, loss=0.8992]\n"
     ]
    },
    {
     "name": "stdout",
     "output_type": "stream",
     "text": [
      "Epoch 25 | Train Loss: 0.9446 | Val Acc: 0.4681 | Val Prec: 0.4526 | Val Recall: 0.4681 | Val F1: 0.4272\n"
     ]
    },
    {
     "name": "stderr",
     "output_type": "stream",
     "text": [
      "Epoch 26/200: 100%|██████████| 8/8 [01:09<00:00,  8.64s/it, loss=1.0268]\n"
     ]
    },
    {
     "name": "stdout",
     "output_type": "stream",
     "text": [
      "Epoch 26 | Train Loss: 0.9381 | Val Acc: 0.4701 | Val Prec: 0.4668 | Val Recall: 0.4701 | Val F1: 0.4083\n"
     ]
    },
    {
     "name": "stderr",
     "output_type": "stream",
     "text": [
      "Epoch 27/200: 100%|██████████| 8/8 [01:11<00:00,  8.88s/it, loss=1.0042]\n"
     ]
    },
    {
     "name": "stdout",
     "output_type": "stream",
     "text": [
      "Epoch 27 | Train Loss: 0.9744 | Val Acc: 0.4574 | Val Prec: 0.4854 | Val Recall: 0.4574 | Val F1: 0.4015\n"
     ]
    },
    {
     "name": "stderr",
     "output_type": "stream",
     "text": [
      "Epoch 28/200: 100%|██████████| 8/8 [01:12<00:00,  9.05s/it, loss=1.0202]\n"
     ]
    },
    {
     "name": "stdout",
     "output_type": "stream",
     "text": [
      "Epoch 28 | Train Loss: 1.0097 | Val Acc: 0.4487 | Val Prec: 0.4135 | Val Recall: 0.4487 | Val F1: 0.3953\n"
     ]
    },
    {
     "name": "stderr",
     "output_type": "stream",
     "text": [
      "Epoch 29/200: 100%|██████████| 8/8 [01:11<00:00,  8.92s/it, loss=0.8838]\n"
     ]
    },
    {
     "name": "stdout",
     "output_type": "stream",
     "text": [
      "Epoch 29 | Train Loss: 0.9624 | Val Acc: 0.4773 | Val Prec: 0.4694 | Val Recall: 0.4773 | Val F1: 0.4213\n"
     ]
    },
    {
     "name": "stderr",
     "output_type": "stream",
     "text": [
      "Epoch 30/200: 100%|██████████| 8/8 [01:09<00:00,  8.71s/it, loss=0.9874]\n"
     ]
    },
    {
     "name": "stdout",
     "output_type": "stream",
     "text": [
      "Epoch 30 | Train Loss: 0.9764 | Val Acc: 0.4551 | Val Prec: 0.4331 | Val Recall: 0.4551 | Val F1: 0.4165\n"
     ]
    },
    {
     "name": "stderr",
     "output_type": "stream",
     "text": [
      "Epoch 31/200: 100%|██████████| 8/8 [01:13<00:00,  9.16s/it, loss=0.9477]\n"
     ]
    },
    {
     "name": "stdout",
     "output_type": "stream",
     "text": [
      "Epoch 31 | Train Loss: 0.9419 | Val Acc: 0.4786 | Val Prec: 0.4813 | Val Recall: 0.4786 | Val F1: 0.4215\n"
     ]
    },
    {
     "name": "stderr",
     "output_type": "stream",
     "text": [
      "Epoch 32/200: 100%|██████████| 8/8 [01:09<00:00,  8.69s/it, loss=0.9199]\n"
     ]
    },
    {
     "name": "stdout",
     "output_type": "stream",
     "text": [
      "Epoch 32 | Train Loss: 0.9270 | Val Acc: 0.4883 | Val Prec: 0.4908 | Val Recall: 0.4883 | Val F1: 0.4321\n"
     ]
    },
    {
     "name": "stderr",
     "output_type": "stream",
     "text": [
      "Epoch 33/200: 100%|██████████| 8/8 [01:12<00:00,  9.04s/it, loss=0.9461]\n"
     ]
    },
    {
     "name": "stdout",
     "output_type": "stream",
     "text": [
      "Epoch 33 | Train Loss: 0.9211 | Val Acc: 0.4790 | Val Prec: 0.4863 | Val Recall: 0.4790 | Val F1: 0.4251\n"
     ]
    },
    {
     "name": "stderr",
     "output_type": "stream",
     "text": [
      "Epoch 34/200: 100%|██████████| 8/8 [01:10<00:00,  8.79s/it, loss=0.8948]\n"
     ]
    },
    {
     "name": "stdout",
     "output_type": "stream",
     "text": [
      "Epoch 34 | Train Loss: 0.9316 | Val Acc: 0.4665 | Val Prec: 0.4743 | Val Recall: 0.4665 | Val F1: 0.4034\n"
     ]
    },
    {
     "name": "stderr",
     "output_type": "stream",
     "text": [
      "Epoch 35/200: 100%|██████████| 8/8 [01:12<00:00,  9.05s/it, loss=0.9081]\n"
     ]
    },
    {
     "name": "stdout",
     "output_type": "stream",
     "text": [
      "Epoch 35 | Train Loss: 0.9211 | Val Acc: 0.4775 | Val Prec: 0.5003 | Val Recall: 0.4775 | Val F1: 0.4201\n"
     ]
    },
    {
     "name": "stderr",
     "output_type": "stream",
     "text": [
      "Epoch 36/200: 100%|██████████| 8/8 [01:10<00:00,  8.81s/it, loss=0.9094]\n"
     ]
    },
    {
     "name": "stdout",
     "output_type": "stream",
     "text": [
      "Epoch 36 | Train Loss: 0.9006 | Val Acc: 0.4941 | Val Prec: 0.4847 | Val Recall: 0.4941 | Val F1: 0.4287\n"
     ]
    },
    {
     "name": "stderr",
     "output_type": "stream",
     "text": [
      "Epoch 37/200: 100%|██████████| 8/8 [01:13<00:00,  9.18s/it, loss=0.8684]\n"
     ]
    },
    {
     "name": "stdout",
     "output_type": "stream",
     "text": [
      "Epoch 37 | Train Loss: 0.9201 | Val Acc: 0.4908 | Val Prec: 0.4793 | Val Recall: 0.4908 | Val F1: 0.4524\n"
     ]
    },
    {
     "name": "stderr",
     "output_type": "stream",
     "text": [
      "Epoch 38/200: 100%|██████████| 8/8 [01:11<00:00,  8.98s/it, loss=0.9611]\n"
     ]
    },
    {
     "name": "stdout",
     "output_type": "stream",
     "text": [
      "Epoch 38 | Train Loss: 0.8973 | Val Acc: 0.4974 | Val Prec: 0.4946 | Val Recall: 0.4974 | Val F1: 0.4333\n"
     ]
    },
    {
     "name": "stderr",
     "output_type": "stream",
     "text": [
      "Epoch 39/200: 100%|██████████| 8/8 [01:14<00:00,  9.27s/it, loss=0.8684]\n"
     ]
    },
    {
     "name": "stdout",
     "output_type": "stream",
     "text": [
      "Epoch 39 | Train Loss: 0.9099 | Val Acc: 0.4872 | Val Prec: 0.4882 | Val Recall: 0.4872 | Val F1: 0.4297\n"
     ]
    },
    {
     "name": "stderr",
     "output_type": "stream",
     "text": [
      "Epoch 40/200: 100%|██████████| 8/8 [01:12<00:00,  9.09s/it, loss=0.9280]\n"
     ]
    },
    {
     "name": "stdout",
     "output_type": "stream",
     "text": [
      "Epoch 40 | Train Loss: 0.9145 | Val Acc: 0.4730 | Val Prec: 0.5056 | Val Recall: 0.4730 | Val F1: 0.4030\n"
     ]
    },
    {
     "name": "stderr",
     "output_type": "stream",
     "text": [
      "Epoch 41/200: 100%|██████████| 8/8 [01:12<00:00,  9.11s/it, loss=0.8988]\n"
     ]
    },
    {
     "name": "stdout",
     "output_type": "stream",
     "text": [
      "Epoch 41 | Train Loss: 0.9350 | Val Acc: 0.4746 | Val Prec: 0.4804 | Val Recall: 0.4746 | Val F1: 0.4185\n"
     ]
    },
    {
     "name": "stderr",
     "output_type": "stream",
     "text": [
      "Epoch 42/200: 100%|██████████| 8/8 [01:15<00:00,  9.39s/it, loss=0.9349]\n"
     ]
    },
    {
     "name": "stdout",
     "output_type": "stream",
     "text": [
      "Epoch 42 | Train Loss: 0.9378 | Val Acc: 0.4869 | Val Prec: 0.4784 | Val Recall: 0.4869 | Val F1: 0.4622\n"
     ]
    },
    {
     "name": "stderr",
     "output_type": "stream",
     "text": [
      "Epoch 43/200: 100%|██████████| 8/8 [01:11<00:00,  8.98s/it, loss=0.8958]\n"
     ]
    },
    {
     "name": "stdout",
     "output_type": "stream",
     "text": [
      "Epoch 43 | Train Loss: 0.9069 | Val Acc: 0.4882 | Val Prec: 0.4831 | Val Recall: 0.4882 | Val F1: 0.4388\n"
     ]
    },
    {
     "name": "stderr",
     "output_type": "stream",
     "text": [
      "Epoch 44/200: 100%|██████████| 8/8 [01:09<00:00,  8.70s/it, loss=0.8675]\n"
     ]
    },
    {
     "name": "stdout",
     "output_type": "stream",
     "text": [
      "Epoch 44 | Train Loss: 0.8766 | Val Acc: 0.4926 | Val Prec: 0.4846 | Val Recall: 0.4926 | Val F1: 0.4351\n"
     ]
    },
    {
     "name": "stderr",
     "output_type": "stream",
     "text": [
      "Epoch 45/200: 100%|██████████| 8/8 [01:14<00:00,  9.25s/it, loss=0.8771]\n"
     ]
    },
    {
     "name": "stdout",
     "output_type": "stream",
     "text": [
      "Epoch 45 | Train Loss: 0.8556 | Val Acc: 0.5017 | Val Prec: 0.5028 | Val Recall: 0.5017 | Val F1: 0.4520\n"
     ]
    },
    {
     "name": "stderr",
     "output_type": "stream",
     "text": [
      "Epoch 46/200: 100%|██████████| 8/8 [01:09<00:00,  8.71s/it, loss=0.8573]\n"
     ]
    },
    {
     "name": "stdout",
     "output_type": "stream",
     "text": [
      "Epoch 46 | Train Loss: 0.8421 | Val Acc: 0.5053 | Val Prec: 0.5002 | Val Recall: 0.5053 | Val F1: 0.4546\n"
     ]
    },
    {
     "name": "stderr",
     "output_type": "stream",
     "text": [
      "Epoch 47/200: 100%|██████████| 8/8 [01:10<00:00,  8.76s/it, loss=0.8013]\n"
     ]
    },
    {
     "name": "stdout",
     "output_type": "stream",
     "text": [
      "Epoch 47 | Train Loss: 0.8470 | Val Acc: 0.5041 | Val Prec: 0.4989 | Val Recall: 0.5041 | Val F1: 0.4562\n"
     ]
    },
    {
     "name": "stderr",
     "output_type": "stream",
     "text": [
      "Epoch 48/200: 100%|██████████| 8/8 [01:11<00:00,  8.92s/it, loss=0.7926]\n"
     ]
    },
    {
     "name": "stdout",
     "output_type": "stream",
     "text": [
      "Epoch 48 | Train Loss: 0.8290 | Val Acc: 0.4982 | Val Prec: 0.5256 | Val Recall: 0.4982 | Val F1: 0.4326\n"
     ]
    },
    {
     "name": "stderr",
     "output_type": "stream",
     "text": [
      "Epoch 49/200: 100%|██████████| 8/8 [01:10<00:00,  8.86s/it, loss=0.8648]\n"
     ]
    },
    {
     "name": "stdout",
     "output_type": "stream",
     "text": [
      "Epoch 49 | Train Loss: 0.8406 | Val Acc: 0.5008 | Val Prec: 0.4987 | Val Recall: 0.5008 | Val F1: 0.4469\n"
     ]
    },
    {
     "name": "stderr",
     "output_type": "stream",
     "text": [
      "Epoch 50/200: 100%|██████████| 8/8 [01:11<00:00,  8.88s/it, loss=0.8717]\n"
     ]
    },
    {
     "name": "stdout",
     "output_type": "stream",
     "text": [
      "Epoch 50 | Train Loss: 0.8485 | Val Acc: 0.5059 | Val Prec: 0.5113 | Val Recall: 0.5059 | Val F1: 0.4506\n"
     ]
    },
    {
     "name": "stderr",
     "output_type": "stream",
     "text": [
      "Epoch 51/200: 100%|██████████| 8/8 [01:11<00:00,  8.89s/it, loss=0.8852]\n"
     ]
    },
    {
     "name": "stdout",
     "output_type": "stream",
     "text": [
      "Epoch 51 | Train Loss: 0.8551 | Val Acc: 0.5095 | Val Prec: 0.5069 | Val Recall: 0.5095 | Val F1: 0.4579\n"
     ]
    },
    {
     "name": "stderr",
     "output_type": "stream",
     "text": [
      "Epoch 52/200: 100%|██████████| 8/8 [01:12<00:00,  9.03s/it, loss=0.9129]\n"
     ]
    },
    {
     "name": "stdout",
     "output_type": "stream",
     "text": [
      "Epoch 52 | Train Loss: 0.8561 | Val Acc: 0.4980 | Val Prec: 0.4864 | Val Recall: 0.4980 | Val F1: 0.4575\n"
     ]
    },
    {
     "name": "stderr",
     "output_type": "stream",
     "text": [
      "Epoch 53/200: 100%|██████████| 8/8 [01:07<00:00,  8.48s/it, loss=0.8293]\n"
     ]
    },
    {
     "name": "stdout",
     "output_type": "stream",
     "text": [
      "Epoch 53 | Train Loss: 0.8485 | Val Acc: 0.4945 | Val Prec: 0.4959 | Val Recall: 0.4945 | Val F1: 0.4326\n"
     ]
    },
    {
     "name": "stderr",
     "output_type": "stream",
     "text": [
      "Epoch 54/200: 100%|██████████| 8/8 [01:12<00:00,  9.05s/it, loss=0.8799]\n"
     ]
    },
    {
     "name": "stdout",
     "output_type": "stream",
     "text": [
      "Epoch 54 | Train Loss: 0.8398 | Val Acc: 0.5097 | Val Prec: 0.5162 | Val Recall: 0.5097 | Val F1: 0.4537\n"
     ]
    },
    {
     "name": "stderr",
     "output_type": "stream",
     "text": [
      "Epoch 55/200: 100%|██████████| 8/8 [01:04<00:00,  8.03s/it, loss=0.8211]\n"
     ]
    },
    {
     "name": "stdout",
     "output_type": "stream",
     "text": [
      "Epoch 55 | Train Loss: 0.8351 | Val Acc: 0.5007 | Val Prec: 0.5142 | Val Recall: 0.5007 | Val F1: 0.4428\n"
     ]
    },
    {
     "name": "stderr",
     "output_type": "stream",
     "text": [
      "Epoch 56/200: 100%|██████████| 8/8 [01:09<00:00,  8.75s/it, loss=0.8346]\n"
     ]
    },
    {
     "name": "stdout",
     "output_type": "stream",
     "text": [
      "Epoch 56 | Train Loss: 0.8461 | Val Acc: 0.4992 | Val Prec: 0.4962 | Val Recall: 0.4992 | Val F1: 0.4463\n"
     ]
    },
    {
     "name": "stderr",
     "output_type": "stream",
     "text": [
      "Epoch 57/200: 100%|██████████| 8/8 [01:10<00:00,  8.78s/it, loss=0.8472]\n"
     ]
    },
    {
     "name": "stdout",
     "output_type": "stream",
     "text": [
      "Epoch 57 | Train Loss: 0.8578 | Val Acc: 0.4962 | Val Prec: 0.4963 | Val Recall: 0.4962 | Val F1: 0.4466\n"
     ]
    },
    {
     "name": "stderr",
     "output_type": "stream",
     "text": [
      "Epoch 58/200: 100%|██████████| 8/8 [01:11<00:00,  8.92s/it, loss=0.8305]\n"
     ]
    },
    {
     "name": "stdout",
     "output_type": "stream",
     "text": [
      "Epoch 58 | Train Loss: 0.8457 | Val Acc: 0.5063 | Val Prec: 0.5110 | Val Recall: 0.5063 | Val F1: 0.4493\n"
     ]
    },
    {
     "name": "stderr",
     "output_type": "stream",
     "text": [
      "Epoch 59/200: 100%|██████████| 8/8 [01:15<00:00,  9.46s/it, loss=0.8542]\n"
     ]
    },
    {
     "name": "stdout",
     "output_type": "stream",
     "text": [
      "Epoch 59 | Train Loss: 0.8449 | Val Acc: 0.4997 | Val Prec: 0.4898 | Val Recall: 0.4997 | Val F1: 0.4608\n"
     ]
    },
    {
     "name": "stderr",
     "output_type": "stream",
     "text": [
      "Epoch 60/200: 100%|██████████| 8/8 [01:13<00:00,  9.22s/it, loss=0.8588]\n"
     ]
    },
    {
     "name": "stdout",
     "output_type": "stream",
     "text": [
      "Epoch 60 | Train Loss: 0.8516 | Val Acc: 0.5129 | Val Prec: 0.5207 | Val Recall: 0.5129 | Val F1: 0.4664\n"
     ]
    },
    {
     "name": "stderr",
     "output_type": "stream",
     "text": [
      "Epoch 61/200: 100%|██████████| 8/8 [01:11<00:00,  8.92s/it, loss=0.7661]\n"
     ]
    },
    {
     "name": "stdout",
     "output_type": "stream",
     "text": [
      "Epoch 61 | Train Loss: 0.8178 | Val Acc: 0.5096 | Val Prec: 0.5163 | Val Recall: 0.5096 | Val F1: 0.4543\n"
     ]
    },
    {
     "name": "stderr",
     "output_type": "stream",
     "text": [
      "Epoch 62/200: 100%|██████████| 8/8 [01:15<00:00,  9.40s/it, loss=0.8678]\n"
     ]
    },
    {
     "name": "stdout",
     "output_type": "stream",
     "text": [
      "Epoch 62 | Train Loss: 0.8597 | Val Acc: 0.5012 | Val Prec: 0.5231 | Val Recall: 0.5012 | Val F1: 0.4469\n"
     ]
    },
    {
     "name": "stderr",
     "output_type": "stream",
     "text": [
      "Epoch 63/200: 100%|██████████| 8/8 [01:13<00:00,  9.16s/it, loss=0.9084]\n"
     ]
    },
    {
     "name": "stdout",
     "output_type": "stream",
     "text": [
      "Epoch 63 | Train Loss: 0.8509 | Val Acc: 0.5083 | Val Prec: 0.5131 | Val Recall: 0.5083 | Val F1: 0.4582\n"
     ]
    },
    {
     "name": "stderr",
     "output_type": "stream",
     "text": [
      "Epoch 64/200: 100%|██████████| 8/8 [01:15<00:00,  9.48s/it, loss=0.7860]\n"
     ]
    },
    {
     "name": "stdout",
     "output_type": "stream",
     "text": [
      "Epoch 64 | Train Loss: 0.8525 | Val Acc: 0.5032 | Val Prec: 0.4944 | Val Recall: 0.5032 | Val F1: 0.4708\n"
     ]
    },
    {
     "name": "stderr",
     "output_type": "stream",
     "text": [
      "Epoch 65/200: 100%|██████████| 8/8 [01:14<00:00,  9.32s/it, loss=0.8624]\n"
     ]
    },
    {
     "name": "stdout",
     "output_type": "stream",
     "text": [
      "Epoch 65 | Train Loss: 0.8431 | Val Acc: 0.5101 | Val Prec: 0.5000 | Val Recall: 0.5101 | Val F1: 0.4691\n"
     ]
    },
    {
     "name": "stderr",
     "output_type": "stream",
     "text": [
      "Epoch 66/200: 100%|██████████| 8/8 [01:14<00:00,  9.27s/it, loss=0.8329]\n"
     ]
    },
    {
     "name": "stdout",
     "output_type": "stream",
     "text": [
      "Epoch 66 | Train Loss: 0.8507 | Val Acc: 0.4995 | Val Prec: 0.5120 | Val Recall: 0.4995 | Val F1: 0.4435\n"
     ]
    },
    {
     "name": "stderr",
     "output_type": "stream",
     "text": [
      "Epoch 67/200: 100%|██████████| 8/8 [01:11<00:00,  8.98s/it, loss=0.8737]\n"
     ]
    },
    {
     "name": "stdout",
     "output_type": "stream",
     "text": [
      "Epoch 67 | Train Loss: 0.8226 | Val Acc: 0.5067 | Val Prec: 0.5138 | Val Recall: 0.5067 | Val F1: 0.4577\n"
     ]
    },
    {
     "name": "stderr",
     "output_type": "stream",
     "text": [
      "Epoch 68/200: 100%|██████████| 8/8 [01:09<00:00,  8.67s/it, loss=0.8936]\n"
     ]
    },
    {
     "name": "stdout",
     "output_type": "stream",
     "text": [
      "Epoch 68 | Train Loss: 0.8243 | Val Acc: 0.5233 | Val Prec: 0.5269 | Val Recall: 0.5233 | Val F1: 0.4773\n"
     ]
    },
    {
     "name": "stderr",
     "output_type": "stream",
     "text": [
      "Epoch 69/200: 100%|██████████| 8/8 [01:09<00:00,  8.74s/it, loss=0.8519]\n"
     ]
    },
    {
     "name": "stdout",
     "output_type": "stream",
     "text": [
      "Epoch 69 | Train Loss: 0.8217 | Val Acc: 0.5175 | Val Prec: 0.5267 | Val Recall: 0.5175 | Val F1: 0.4711\n"
     ]
    },
    {
     "name": "stderr",
     "output_type": "stream",
     "text": [
      "Epoch 70/200: 100%|██████████| 8/8 [01:10<00:00,  8.76s/it, loss=0.8462]\n"
     ]
    },
    {
     "name": "stdout",
     "output_type": "stream",
     "text": [
      "Epoch 70 | Train Loss: 0.8169 | Val Acc: 0.5100 | Val Prec: 0.5039 | Val Recall: 0.5100 | Val F1: 0.4808\n"
     ]
    },
    {
     "name": "stderr",
     "output_type": "stream",
     "text": [
      "Epoch 71/200: 100%|██████████| 8/8 [01:11<00:00,  9.00s/it, loss=0.7666]\n"
     ]
    },
    {
     "name": "stdout",
     "output_type": "stream",
     "text": [
      "Epoch 71 | Train Loss: 0.8298 | Val Acc: 0.5165 | Val Prec: 0.5082 | Val Recall: 0.5165 | Val F1: 0.4831\n"
     ]
    },
    {
     "name": "stderr",
     "output_type": "stream",
     "text": [
      "Epoch 72/200: 100%|██████████| 8/8 [01:10<00:00,  8.79s/it, loss=0.8987]\n"
     ]
    },
    {
     "name": "stdout",
     "output_type": "stream",
     "text": [
      "Epoch 72 | Train Loss: 0.8092 | Val Acc: 0.5162 | Val Prec: 0.5330 | Val Recall: 0.5162 | Val F1: 0.4620\n"
     ]
    },
    {
     "name": "stderr",
     "output_type": "stream",
     "text": [
      "Epoch 73/200: 100%|██████████| 8/8 [01:09<00:00,  8.63s/it, loss=0.7625]\n"
     ]
    },
    {
     "name": "stdout",
     "output_type": "stream",
     "text": [
      "Epoch 73 | Train Loss: 0.7996 | Val Acc: 0.5191 | Val Prec: 0.5210 | Val Recall: 0.5191 | Val F1: 0.4790\n"
     ]
    },
    {
     "name": "stderr",
     "output_type": "stream",
     "text": [
      "Epoch 74/200: 100%|██████████| 8/8 [01:12<00:00,  9.02s/it, loss=0.7699]\n"
     ]
    },
    {
     "name": "stdout",
     "output_type": "stream",
     "text": [
      "Epoch 74 | Train Loss: 0.8026 | Val Acc: 0.5205 | Val Prec: 0.5218 | Val Recall: 0.5205 | Val F1: 0.4722\n"
     ]
    },
    {
     "name": "stderr",
     "output_type": "stream",
     "text": [
      "Epoch 75/200: 100%|██████████| 8/8 [01:11<00:00,  8.88s/it, loss=0.7834]\n"
     ]
    },
    {
     "name": "stdout",
     "output_type": "stream",
     "text": [
      "Epoch 75 | Train Loss: 0.8085 | Val Acc: 0.5136 | Val Prec: 0.5207 | Val Recall: 0.5136 | Val F1: 0.4736\n"
     ]
    },
    {
     "name": "stderr",
     "output_type": "stream",
     "text": [
      "Epoch 76/200: 100%|██████████| 8/8 [01:11<00:00,  8.95s/it, loss=0.7691]\n"
     ]
    },
    {
     "name": "stdout",
     "output_type": "stream",
     "text": [
      "Epoch 76 | Train Loss: 0.8106 | Val Acc: 0.5167 | Val Prec: 0.5100 | Val Recall: 0.5167 | Val F1: 0.4663\n"
     ]
    },
    {
     "name": "stderr",
     "output_type": "stream",
     "text": [
      "Epoch 77/200: 100%|██████████| 8/8 [01:11<00:00,  8.92s/it, loss=0.8552]\n"
     ]
    },
    {
     "name": "stdout",
     "output_type": "stream",
     "text": [
      "Epoch 77 | Train Loss: 0.8094 | Val Acc: 0.5249 | Val Prec: 0.5250 | Val Recall: 0.5249 | Val F1: 0.4778\n"
     ]
    },
    {
     "name": "stderr",
     "output_type": "stream",
     "text": [
      "Epoch 78/200: 100%|██████████| 8/8 [01:13<00:00,  9.13s/it, loss=0.8203]\n"
     ]
    },
    {
     "name": "stdout",
     "output_type": "stream",
     "text": [
      "Epoch 78 | Train Loss: 0.7925 | Val Acc: 0.5208 | Val Prec: 0.5236 | Val Recall: 0.5208 | Val F1: 0.4860\n"
     ]
    },
    {
     "name": "stderr",
     "output_type": "stream",
     "text": [
      "Epoch 79/200: 100%|██████████| 8/8 [01:09<00:00,  8.71s/it, loss=0.8724]\n"
     ]
    },
    {
     "name": "stdout",
     "output_type": "stream",
     "text": [
      "Epoch 79 | Train Loss: 0.8256 | Val Acc: 0.5081 | Val Prec: 0.5025 | Val Recall: 0.5081 | Val F1: 0.4623\n"
     ]
    },
    {
     "name": "stderr",
     "output_type": "stream",
     "text": [
      "Epoch 80/200: 100%|██████████| 8/8 [01:12<00:00,  9.07s/it, loss=0.7570]\n"
     ]
    },
    {
     "name": "stdout",
     "output_type": "stream",
     "text": [
      "Epoch 80 | Train Loss: 0.8424 | Val Acc: 0.4974 | Val Prec: 0.5387 | Val Recall: 0.4974 | Val F1: 0.4303\n"
     ]
    },
    {
     "name": "stderr",
     "output_type": "stream",
     "text": [
      "Epoch 81/200: 100%|██████████| 8/8 [01:11<00:00,  8.92s/it, loss=0.8536]\n"
     ]
    },
    {
     "name": "stdout",
     "output_type": "stream",
     "text": [
      "Epoch 81 | Train Loss: 0.8519 | Val Acc: 0.4967 | Val Prec: 0.4987 | Val Recall: 0.4967 | Val F1: 0.4478\n"
     ]
    },
    {
     "name": "stderr",
     "output_type": "stream",
     "text": [
      "Epoch 82/200: 100%|██████████| 8/8 [01:09<00:00,  8.74s/it, loss=0.8123]\n"
     ]
    },
    {
     "name": "stdout",
     "output_type": "stream",
     "text": [
      "Epoch 82 | Train Loss: 0.8693 | Val Acc: 0.5156 | Val Prec: 0.5216 | Val Recall: 0.5156 | Val F1: 0.4813\n"
     ]
    },
    {
     "name": "stderr",
     "output_type": "stream",
     "text": [
      "Epoch 83/200: 100%|██████████| 8/8 [01:10<00:00,  8.81s/it, loss=0.7940]\n"
     ]
    },
    {
     "name": "stdout",
     "output_type": "stream",
     "text": [
      "Epoch 83 | Train Loss: 0.8227 | Val Acc: 0.5084 | Val Prec: 0.5264 | Val Recall: 0.5084 | Val F1: 0.4573\n"
     ]
    },
    {
     "name": "stderr",
     "output_type": "stream",
     "text": [
      "Epoch 84/200: 100%|██████████| 8/8 [01:15<00:00,  9.40s/it, loss=0.9350]\n"
     ]
    },
    {
     "name": "stdout",
     "output_type": "stream",
     "text": [
      "Epoch 84 | Train Loss: 0.8487 | Val Acc: 0.4963 | Val Prec: 0.5247 | Val Recall: 0.4963 | Val F1: 0.4438\n"
     ]
    },
    {
     "name": "stderr",
     "output_type": "stream",
     "text": [
      "Epoch 85/200: 100%|██████████| 8/8 [01:12<00:00,  9.00s/it, loss=0.8378]\n"
     ]
    },
    {
     "name": "stdout",
     "output_type": "stream",
     "text": [
      "Epoch 85 | Train Loss: 0.8257 | Val Acc: 0.5105 | Val Prec: 0.5206 | Val Recall: 0.5105 | Val F1: 0.4527\n"
     ]
    },
    {
     "name": "stderr",
     "output_type": "stream",
     "text": [
      "Epoch 86/200: 100%|██████████| 8/8 [01:10<00:00,  8.78s/it, loss=0.9026]\n"
     ]
    },
    {
     "name": "stdout",
     "output_type": "stream",
     "text": [
      "Epoch 86 | Train Loss: 0.8269 | Val Acc: 0.5159 | Val Prec: 0.5361 | Val Recall: 0.5159 | Val F1: 0.4689\n"
     ]
    },
    {
     "name": "stderr",
     "output_type": "stream",
     "text": [
      "Epoch 87/200: 100%|██████████| 8/8 [01:20<00:00, 10.03s/it, loss=0.9491]\n"
     ]
    },
    {
     "name": "stdout",
     "output_type": "stream",
     "text": [
      "Epoch 87 | Train Loss: 0.8676 | Val Acc: 0.5120 | Val Prec: 0.5097 | Val Recall: 0.5120 | Val F1: 0.4731\n"
     ]
    },
    {
     "name": "stderr",
     "output_type": "stream",
     "text": [
      "Epoch 88/200: 100%|██████████| 8/8 [01:25<00:00, 10.70s/it, loss=0.8166]\n"
     ]
    },
    {
     "name": "stdout",
     "output_type": "stream",
     "text": [
      "Epoch 88 | Train Loss: 0.8398 | Val Acc: 0.5073 | Val Prec: 0.5240 | Val Recall: 0.5073 | Val F1: 0.4568\n"
     ]
    },
    {
     "name": "stderr",
     "output_type": "stream",
     "text": [
      "Epoch 89/200: 100%|██████████| 8/8 [01:26<00:00, 10.83s/it, loss=0.8547]\n"
     ]
    },
    {
     "name": "stdout",
     "output_type": "stream",
     "text": [
      "Epoch 89 | Train Loss: 0.8346 | Val Acc: 0.5195 | Val Prec: 0.5231 | Val Recall: 0.5195 | Val F1: 0.4717\n"
     ]
    },
    {
     "name": "stderr",
     "output_type": "stream",
     "text": [
      "Epoch 90/200: 100%|██████████| 8/8 [01:10<00:00,  8.81s/it, loss=0.7912]\n"
     ]
    },
    {
     "name": "stdout",
     "output_type": "stream",
     "text": [
      "Epoch 90 | Train Loss: 0.8208 | Val Acc: 0.5296 | Val Prec: 0.5376 | Val Recall: 0.5296 | Val F1: 0.4856\n"
     ]
    },
    {
     "name": "stderr",
     "output_type": "stream",
     "text": [
      "Epoch 91/200: 100%|██████████| 8/8 [01:11<00:00,  8.88s/it, loss=0.8078]\n"
     ]
    },
    {
     "name": "stdout",
     "output_type": "stream",
     "text": [
      "Epoch 91 | Train Loss: 0.7930 | Val Acc: 0.5250 | Val Prec: 0.5646 | Val Recall: 0.5250 | Val F1: 0.4979\n"
     ]
    },
    {
     "name": "stderr",
     "output_type": "stream",
     "text": [
      "Epoch 92/200: 100%|██████████| 8/8 [01:10<00:00,  8.78s/it, loss=0.7879]\n"
     ]
    },
    {
     "name": "stdout",
     "output_type": "stream",
     "text": [
      "Epoch 92 | Train Loss: 0.7894 | Val Acc: 0.5133 | Val Prec: 0.5221 | Val Recall: 0.5133 | Val F1: 0.5086\n"
     ]
    },
    {
     "name": "stderr",
     "output_type": "stream",
     "text": [
      "Epoch 93/200: 100%|██████████| 8/8 [01:04<00:00,  8.03s/it, loss=0.7518]\n"
     ]
    },
    {
     "name": "stdout",
     "output_type": "stream",
     "text": [
      "Epoch 93 | Train Loss: 0.7978 | Val Acc: 0.5361 | Val Prec: 0.5294 | Val Recall: 0.5361 | Val F1: 0.4957\n"
     ]
    },
    {
     "name": "stderr",
     "output_type": "stream",
     "text": [
      "Epoch 94/200: 100%|██████████| 8/8 [01:14<00:00,  9.26s/it, loss=0.7162]\n"
     ]
    },
    {
     "name": "stdout",
     "output_type": "stream",
     "text": [
      "Epoch 94 | Train Loss: 0.7500 | Val Acc: 0.5454 | Val Prec: 0.5462 | Val Recall: 0.5454 | Val F1: 0.5087\n"
     ]
    },
    {
     "name": "stderr",
     "output_type": "stream",
     "text": [
      "Epoch 95/200: 100%|██████████| 8/8 [01:11<00:00,  8.97s/it, loss=0.7019]\n"
     ]
    },
    {
     "name": "stdout",
     "output_type": "stream",
     "text": [
      "Epoch 95 | Train Loss: 0.7423 | Val Acc: 0.5410 | Val Prec: 0.5591 | Val Recall: 0.5410 | Val F1: 0.4983\n"
     ]
    },
    {
     "name": "stderr",
     "output_type": "stream",
     "text": [
      "Epoch 96/200: 100%|██████████| 8/8 [01:03<00:00,  7.88s/it, loss=0.7848]\n"
     ]
    },
    {
     "name": "stdout",
     "output_type": "stream",
     "text": [
      "Epoch 96 | Train Loss: 0.7380 | Val Acc: 0.5400 | Val Prec: 0.5559 | Val Recall: 0.5400 | Val F1: 0.4954\n"
     ]
    },
    {
     "name": "stderr",
     "output_type": "stream",
     "text": [
      "Epoch 97/200: 100%|██████████| 8/8 [01:09<00:00,  8.64s/it, loss=0.6926]\n"
     ]
    },
    {
     "name": "stdout",
     "output_type": "stream",
     "text": [
      "Epoch 97 | Train Loss: 0.7493 | Val Acc: 0.5306 | Val Prec: 0.5549 | Val Recall: 0.5306 | Val F1: 0.4847\n"
     ]
    },
    {
     "name": "stderr",
     "output_type": "stream",
     "text": [
      "Epoch 98/200: 100%|██████████| 8/8 [01:12<00:00,  9.04s/it, loss=0.7078]\n"
     ]
    },
    {
     "name": "stdout",
     "output_type": "stream",
     "text": [
      "Epoch 98 | Train Loss: 0.7494 | Val Acc: 0.5534 | Val Prec: 0.5757 | Val Recall: 0.5534 | Val F1: 0.5133\n"
     ]
    },
    {
     "name": "stderr",
     "output_type": "stream",
     "text": [
      "Epoch 99/200: 100%|██████████| 8/8 [01:15<00:00,  9.43s/it, loss=0.8305]\n"
     ]
    },
    {
     "name": "stdout",
     "output_type": "stream",
     "text": [
      "Epoch 99 | Train Loss: 0.7582 | Val Acc: 0.5416 | Val Prec: 0.5338 | Val Recall: 0.5416 | Val F1: 0.5238\n"
     ]
    },
    {
     "name": "stderr",
     "output_type": "stream",
     "text": [
      "Epoch 100/200: 100%|██████████| 8/8 [01:09<00:00,  8.74s/it, loss=0.7784]\n"
     ]
    },
    {
     "name": "stdout",
     "output_type": "stream",
     "text": [
      "Epoch 100 | Train Loss: 0.7569 | Val Acc: 0.5361 | Val Prec: 0.5530 | Val Recall: 0.5361 | Val F1: 0.4928\n"
     ]
    },
    {
     "name": "stderr",
     "output_type": "stream",
     "text": [
      "Epoch 101/200: 100%|██████████| 8/8 [01:09<00:00,  8.69s/it, loss=0.7727]\n"
     ]
    },
    {
     "name": "stdout",
     "output_type": "stream",
     "text": [
      "Epoch 101 | Train Loss: 0.7615 | Val Acc: 0.5397 | Val Prec: 0.5391 | Val Recall: 0.5397 | Val F1: 0.5256\n"
     ]
    },
    {
     "name": "stderr",
     "output_type": "stream",
     "text": [
      "Epoch 102/200: 100%|██████████| 8/8 [01:08<00:00,  8.55s/it, loss=0.7501]\n"
     ]
    },
    {
     "name": "stdout",
     "output_type": "stream",
     "text": [
      "Epoch 102 | Train Loss: 0.7501 | Val Acc: 0.5296 | Val Prec: 0.5271 | Val Recall: 0.5296 | Val F1: 0.5273\n"
     ]
    },
    {
     "name": "stderr",
     "output_type": "stream",
     "text": [
      "Epoch 103/200: 100%|██████████| 8/8 [01:10<00:00,  8.85s/it, loss=0.8697]\n"
     ]
    },
    {
     "name": "stdout",
     "output_type": "stream",
     "text": [
      "Epoch 103 | Train Loss: 0.7681 | Val Acc: 0.5398 | Val Prec: 0.5431 | Val Recall: 0.5398 | Val F1: 0.5151\n"
     ]
    },
    {
     "name": "stderr",
     "output_type": "stream",
     "text": [
      "Epoch 104/200: 100%|██████████| 8/8 [01:11<00:00,  8.89s/it, loss=0.7504]\n"
     ]
    },
    {
     "name": "stdout",
     "output_type": "stream",
     "text": [
      "Epoch 104 | Train Loss: 0.7723 | Val Acc: 0.5233 | Val Prec: 0.5328 | Val Recall: 0.5233 | Val F1: 0.4962\n"
     ]
    },
    {
     "name": "stderr",
     "output_type": "stream",
     "text": [
      "Epoch 105/200: 100%|██████████| 8/8 [01:11<00:00,  8.94s/it, loss=0.7870]\n"
     ]
    },
    {
     "name": "stdout",
     "output_type": "stream",
     "text": [
      "Epoch 105 | Train Loss: 0.7985 | Val Acc: 0.5175 | Val Prec: 0.5511 | Val Recall: 0.5175 | Val F1: 0.4652\n"
     ]
    },
    {
     "name": "stderr",
     "output_type": "stream",
     "text": [
      "Epoch 106/200: 100%|██████████| 8/8 [01:16<00:00,  9.62s/it, loss=0.7921]\n"
     ]
    },
    {
     "name": "stdout",
     "output_type": "stream",
     "text": [
      "Epoch 106 | Train Loss: 0.7763 | Val Acc: 0.5400 | Val Prec: 0.5451 | Val Recall: 0.5400 | Val F1: 0.5231\n"
     ]
    },
    {
     "name": "stderr",
     "output_type": "stream",
     "text": [
      "Epoch 107/200: 100%|██████████| 8/8 [01:16<00:00,  9.52s/it, loss=0.8309]\n"
     ]
    },
    {
     "name": "stdout",
     "output_type": "stream",
     "text": [
      "Epoch 107 | Train Loss: 0.7575 | Val Acc: 0.5353 | Val Prec: 0.5332 | Val Recall: 0.5353 | Val F1: 0.5082\n"
     ]
    },
    {
     "name": "stderr",
     "output_type": "stream",
     "text": [
      "Epoch 108/200: 100%|██████████| 8/8 [01:13<00:00,  9.24s/it, loss=0.7384]\n"
     ]
    },
    {
     "name": "stdout",
     "output_type": "stream",
     "text": [
      "Epoch 108 | Train Loss: 0.7387 | Val Acc: 0.5341 | Val Prec: 0.5393 | Val Recall: 0.5341 | Val F1: 0.4932\n"
     ]
    },
    {
     "name": "stderr",
     "output_type": "stream",
     "text": [
      "Epoch 109/200: 100%|██████████| 8/8 [01:13<00:00,  9.13s/it, loss=0.6959]\n"
     ]
    },
    {
     "name": "stdout",
     "output_type": "stream",
     "text": [
      "Epoch 109 | Train Loss: 0.7256 | Val Acc: 0.5531 | Val Prec: 0.5499 | Val Recall: 0.5531 | Val F1: 0.5449\n"
     ]
    },
    {
     "name": "stderr",
     "output_type": "stream",
     "text": [
      "Epoch 110/200: 100%|██████████| 8/8 [01:23<00:00, 10.45s/it, loss=0.8230]\n"
     ]
    },
    {
     "name": "stdout",
     "output_type": "stream",
     "text": [
      "Epoch 110 | Train Loss: 0.7182 | Val Acc: 0.5597 | Val Prec: 0.5716 | Val Recall: 0.5597 | Val F1: 0.5242\n"
     ]
    },
    {
     "name": "stderr",
     "output_type": "stream",
     "text": [
      "Epoch 111/200: 100%|██████████| 8/8 [01:08<00:00,  8.55s/it, loss=0.6513]\n"
     ]
    },
    {
     "name": "stdout",
     "output_type": "stream",
     "text": [
      "Epoch 111 | Train Loss: 0.6987 | Val Acc: 0.5457 | Val Prec: 0.5533 | Val Recall: 0.5457 | Val F1: 0.5101\n"
     ]
    },
    {
     "name": "stderr",
     "output_type": "stream",
     "text": [
      "Epoch 112/200: 100%|██████████| 8/8 [01:08<00:00,  8.58s/it, loss=0.7714]\n"
     ]
    },
    {
     "name": "stdout",
     "output_type": "stream",
     "text": [
      "Epoch 112 | Train Loss: 0.7287 | Val Acc: 0.5638 | Val Prec: 0.5689 | Val Recall: 0.5638 | Val F1: 0.5311\n"
     ]
    },
    {
     "name": "stderr",
     "output_type": "stream",
     "text": [
      "Epoch 113/200: 100%|██████████| 8/8 [01:10<00:00,  8.83s/it, loss=0.7506]\n"
     ]
    },
    {
     "name": "stdout",
     "output_type": "stream",
     "text": [
      "Epoch 113 | Train Loss: 0.6989 | Val Acc: 0.5730 | Val Prec: 0.5740 | Val Recall: 0.5730 | Val F1: 0.5472\n"
     ]
    },
    {
     "name": "stderr",
     "output_type": "stream",
     "text": [
      "Epoch 114/200: 100%|██████████| 8/8 [01:11<00:00,  8.96s/it, loss=0.6569]\n"
     ]
    },
    {
     "name": "stdout",
     "output_type": "stream",
     "text": [
      "Epoch 114 | Train Loss: 0.6616 | Val Acc: 0.5629 | Val Prec: 0.5866 | Val Recall: 0.5629 | Val F1: 0.5242\n"
     ]
    },
    {
     "name": "stderr",
     "output_type": "stream",
     "text": [
      "Epoch 115/200: 100%|██████████| 8/8 [01:06<00:00,  8.36s/it, loss=0.6856]\n"
     ]
    },
    {
     "name": "stdout",
     "output_type": "stream",
     "text": [
      "Epoch 115 | Train Loss: 0.6672 | Val Acc: 0.5704 | Val Prec: 0.5661 | Val Recall: 0.5704 | Val F1: 0.5516\n"
     ]
    },
    {
     "name": "stderr",
     "output_type": "stream",
     "text": [
      "Epoch 116/200: 100%|██████████| 8/8 [01:09<00:00,  8.65s/it, loss=0.6420]\n"
     ]
    },
    {
     "name": "stdout",
     "output_type": "stream",
     "text": [
      "Epoch 116 | Train Loss: 0.6673 | Val Acc: 0.5617 | Val Prec: 0.5789 | Val Recall: 0.5617 | Val F1: 0.5277\n"
     ]
    },
    {
     "name": "stderr",
     "output_type": "stream",
     "text": [
      "Epoch 117/200: 100%|██████████| 8/8 [01:18<00:00,  9.85s/it, loss=0.7377]\n"
     ]
    },
    {
     "name": "stdout",
     "output_type": "stream",
     "text": [
      "Epoch 117 | Train Loss: 0.6790 | Val Acc: 0.5534 | Val Prec: 0.5433 | Val Recall: 0.5534 | Val F1: 0.5298\n"
     ]
    },
    {
     "name": "stderr",
     "output_type": "stream",
     "text": [
      "Epoch 118/200: 100%|██████████| 8/8 [01:06<00:00,  8.28s/it, loss=0.6790]\n"
     ]
    },
    {
     "name": "stdout",
     "output_type": "stream",
     "text": [
      "Epoch 118 | Train Loss: 0.6967 | Val Acc: 0.5552 | Val Prec: 0.5945 | Val Recall: 0.5552 | Val F1: 0.5355\n"
     ]
    },
    {
     "name": "stderr",
     "output_type": "stream",
     "text": [
      "Epoch 119/200: 100%|██████████| 8/8 [01:08<00:00,  8.62s/it, loss=0.6354]\n"
     ]
    },
    {
     "name": "stdout",
     "output_type": "stream",
     "text": [
      "Epoch 119 | Train Loss: 0.6878 | Val Acc: 0.5667 | Val Prec: 0.5619 | Val Recall: 0.5667 | Val F1: 0.5464\n"
     ]
    },
    {
     "name": "stderr",
     "output_type": "stream",
     "text": [
      "Epoch 120/200: 100%|██████████| 8/8 [01:17<00:00,  9.72s/it, loss=0.7496]\n"
     ]
    },
    {
     "name": "stdout",
     "output_type": "stream",
     "text": [
      "Epoch 120 | Train Loss: 0.7327 | Val Acc: 0.5295 | Val Prec: 0.5336 | Val Recall: 0.5295 | Val F1: 0.4941\n"
     ]
    },
    {
     "name": "stderr",
     "output_type": "stream",
     "text": [
      "Epoch 121/200: 100%|██████████| 8/8 [01:12<00:00,  9.09s/it, loss=0.8026]\n"
     ]
    },
    {
     "name": "stdout",
     "output_type": "stream",
     "text": [
      "Epoch 121 | Train Loss: 0.7674 | Val Acc: 0.5196 | Val Prec: 0.5608 | Val Recall: 0.5196 | Val F1: 0.4641\n"
     ]
    },
    {
     "name": "stderr",
     "output_type": "stream",
     "text": [
      "Epoch 122/200: 100%|██████████| 8/8 [01:09<00:00,  8.72s/it, loss=0.7137]\n"
     ]
    },
    {
     "name": "stdout",
     "output_type": "stream",
     "text": [
      "Epoch 122 | Train Loss: 0.7708 | Val Acc: 0.5140 | Val Prec: 0.5022 | Val Recall: 0.5140 | Val F1: 0.4979\n"
     ]
    },
    {
     "name": "stderr",
     "output_type": "stream",
     "text": [
      "Epoch 123/200: 100%|██████████| 8/8 [01:15<00:00,  9.45s/it, loss=0.6965]\n"
     ]
    },
    {
     "name": "stdout",
     "output_type": "stream",
     "text": [
      "Epoch 123 | Train Loss: 0.7742 | Val Acc: 0.5511 | Val Prec: 0.5541 | Val Recall: 0.5511 | Val F1: 0.5239\n"
     ]
    },
    {
     "name": "stderr",
     "output_type": "stream",
     "text": [
      "Epoch 124/200: 100%|██████████| 8/8 [01:19<00:00,  9.90s/it, loss=0.7949]\n"
     ]
    },
    {
     "name": "stdout",
     "output_type": "stream",
     "text": [
      "Epoch 124 | Train Loss: 0.7505 | Val Acc: 0.5229 | Val Prec: 0.5376 | Val Recall: 0.5229 | Val F1: 0.4921\n"
     ]
    },
    {
     "name": "stderr",
     "output_type": "stream",
     "text": [
      "Epoch 125/200: 100%|██████████| 8/8 [01:07<00:00,  8.50s/it, loss=0.7657]\n"
     ]
    },
    {
     "name": "stdout",
     "output_type": "stream",
     "text": [
      "Epoch 125 | Train Loss: 0.7770 | Val Acc: 0.5369 | Val Prec: 0.5342 | Val Recall: 0.5369 | Val F1: 0.5135\n"
     ]
    },
    {
     "name": "stderr",
     "output_type": "stream",
     "text": [
      "Epoch 126/200: 100%|██████████| 8/8 [01:10<00:00,  8.83s/it, loss=0.6995]\n"
     ]
    },
    {
     "name": "stdout",
     "output_type": "stream",
     "text": [
      "Epoch 126 | Train Loss: 0.7431 | Val Acc: 0.5375 | Val Prec: 0.5615 | Val Recall: 0.5375 | Val F1: 0.4931\n"
     ]
    },
    {
     "name": "stderr",
     "output_type": "stream",
     "text": [
      "Epoch 127/200: 100%|██████████| 8/8 [01:08<00:00,  8.61s/it, loss=0.7411]\n"
     ]
    },
    {
     "name": "stdout",
     "output_type": "stream",
     "text": [
      "Epoch 127 | Train Loss: 0.7238 | Val Acc: 0.5577 | Val Prec: 0.5874 | Val Recall: 0.5577 | Val F1: 0.5222\n"
     ]
    },
    {
     "name": "stderr",
     "output_type": "stream",
     "text": [
      "Epoch 128/200: 100%|██████████| 8/8 [01:09<00:00,  8.64s/it, loss=0.7167]\n"
     ]
    },
    {
     "name": "stdout",
     "output_type": "stream",
     "text": [
      "Epoch 128 | Train Loss: 0.6929 | Val Acc: 0.5655 | Val Prec: 0.5667 | Val Recall: 0.5655 | Val F1: 0.5356\n",
      "Early stopping triggered at epoch 128\n",
      "Best validation F1: 0.5472\n",
      "\n",
      "=== Training Scene: ebike ===\n",
      "未找到缓存文件，重新加载数据...\n",
      "正在加载数据目录: ./dataset\\driving-scene-graph/ebike\n"
     ]
    },
    {
     "name": "stderr",
     "output_type": "stream",
     "text": [
      "d:\\software\\anaconda3\\envs\\biye\\lib\\site-packages\\sklearn\\cluster\\_kmeans.py:1419: UserWarning: KMeans is known to have a memory leak on Windows with MKL, when there are less chunks than available threads. You can avoid it by setting the environment variable OMP_NUM_THREADS=7.\n",
      "  warnings.warn(\n"
     ]
    },
    {
     "name": "stdout",
     "output_type": "stream",
     "text": [
      "[Warning] 图和标签数量不匹配, 裁剪: ./dataset\\driving-scene-graph/ebike\\0601-111810-114434\\0601-111810-114434_scenario_graphs.pkl\n",
      "[Warning] graph: 1587, ranked_labels: 1581\n"
     ]
    },
    {
     "name": "stderr",
     "output_type": "stream",
     "text": [
      "d:\\software\\anaconda3\\envs\\biye\\lib\\site-packages\\sklearn\\cluster\\_kmeans.py:1419: UserWarning: KMeans is known to have a memory leak on Windows with MKL, when there are less chunks than available threads. You can avoid it by setting the environment variable OMP_NUM_THREADS=6.\n",
      "  warnings.warn(\n"
     ]
    },
    {
     "name": "stdout",
     "output_type": "stream",
     "text": [
      "[Warning] 图和标签数量不匹配, 裁剪: ./dataset\\driving-scene-graph/ebike\\0604-123144-125650\\0604-123144-125650_scenario_graphs.pkl\n",
      "[Warning] graph: 1507, ranked_labels: 1503\n"
     ]
    },
    {
     "name": "stderr",
     "output_type": "stream",
     "text": [
      "d:\\software\\anaconda3\\envs\\biye\\lib\\site-packages\\sklearn\\cluster\\_kmeans.py:1419: UserWarning: KMeans is known to have a memory leak on Windows with MKL, when there are less chunks than available threads. You can avoid it by setting the environment variable OMP_NUM_THREADS=6.\n",
      "  warnings.warn(\n"
     ]
    },
    {
     "name": "stdout",
     "output_type": "stream",
     "text": [
      "[Warning] 图和标签数量不匹配, 裁剪: ./dataset\\driving-scene-graph/ebike\\0604-125803-132249\\0604-125803-132249_scenario_graphs.pkl\n",
      "[Warning] graph: 1487, ranked_labels: 1483\n"
     ]
    },
    {
     "name": "stderr",
     "output_type": "stream",
     "text": [
      "d:\\software\\anaconda3\\envs\\biye\\lib\\site-packages\\sklearn\\cluster\\_kmeans.py:1419: UserWarning: KMeans is known to have a memory leak on Windows with MKL, when there are less chunks than available threads. You can avoid it by setting the environment variable OMP_NUM_THREADS=7.\n",
      "  warnings.warn(\n"
     ]
    },
    {
     "name": "stdout",
     "output_type": "stream",
     "text": [
      "[Warning] 图和标签数量不匹配, 裁剪: ./dataset\\driving-scene-graph/ebike\\0605-170454-173200\\0605-170454-173200_scenario_graphs.pkl\n",
      "[Warning] graph: 1626, ranked_labels: 1623\n"
     ]
    },
    {
     "name": "stderr",
     "output_type": "stream",
     "text": [
      "d:\\software\\anaconda3\\envs\\biye\\lib\\site-packages\\sklearn\\cluster\\_kmeans.py:1419: UserWarning: KMeans is known to have a memory leak on Windows with MKL, when there are less chunks than available threads. You can avoid it by setting the environment variable OMP_NUM_THREADS=7.\n",
      "  warnings.warn(\n"
     ]
    },
    {
     "name": "stdout",
     "output_type": "stream",
     "text": [
      "[Warning] 图和标签数量不匹配, 裁剪: ./dataset\\driving-scene-graph/ebike\\0607-152952-155834\\0607-152952-155834_scenario_graphs.pkl\n",
      "[Warning] graph: 1724, ranked_labels: 1719\n"
     ]
    },
    {
     "name": "stderr",
     "output_type": "stream",
     "text": [
      "d:\\software\\anaconda3\\envs\\biye\\lib\\site-packages\\sklearn\\cluster\\_kmeans.py:1419: UserWarning: KMeans is known to have a memory leak on Windows with MKL, when there are less chunks than available threads. You can avoid it by setting the environment variable OMP_NUM_THREADS=6.\n",
      "  warnings.warn(\n"
     ]
    },
    {
     "name": "stdout",
     "output_type": "stream",
     "text": [
      "[Warning] 图和标签数量不匹配, 裁剪: ./dataset\\driving-scene-graph/ebike\\0607-154818-161323\\0607-154818-161323_scenario_graphs.pkl\n",
      "[Warning] graph: 1506, ranked_labels: 1502\n"
     ]
    },
    {
     "name": "stderr",
     "output_type": "stream",
     "text": [
      "d:\\software\\anaconda3\\envs\\biye\\lib\\site-packages\\sklearn\\cluster\\_kmeans.py:1419: UserWarning: KMeans is known to have a memory leak on Windows with MKL, when there are less chunks than available threads. You can avoid it by setting the environment variable OMP_NUM_THREADS=6.\n",
      "  warnings.warn(\n"
     ]
    },
    {
     "name": "stdout",
     "output_type": "stream",
     "text": [
      "[Warning] 图和标签数量不匹配, 裁剪: ./dataset\\driving-scene-graph/ebike\\0625-164229_170727\\0625-164229_170727_scenario_graphs.pkl\n",
      "[Warning] graph: 1499, ranked_labels: 1495\n"
     ]
    },
    {
     "name": "stderr",
     "output_type": "stream",
     "text": [
      "d:\\software\\anaconda3\\envs\\biye\\lib\\site-packages\\sklearn\\cluster\\_kmeans.py:1419: UserWarning: KMeans is known to have a memory leak on Windows with MKL, when there are less chunks than available threads. You can avoid it by setting the environment variable OMP_NUM_THREADS=7.\n",
      "  warnings.warn(\n"
     ]
    },
    {
     "name": "stdout",
     "output_type": "stream",
     "text": [
      "[Warning] 图和标签数量不匹配, 裁剪: ./dataset\\driving-scene-graph/ebike\\0625-172146-174908\\0625-172146-174908_scenario_graphs.pkl\n",
      "[Warning] graph: 1643, ranked_labels: 1639\n"
     ]
    },
    {
     "name": "stderr",
     "output_type": "stream",
     "text": [
      "d:\\software\\anaconda3\\envs\\biye\\lib\\site-packages\\sklearn\\cluster\\_kmeans.py:1419: UserWarning: KMeans is known to have a memory leak on Windows with MKL, when there are less chunks than available threads. You can avoid it by setting the environment variable OMP_NUM_THREADS=7.\n",
      "  warnings.warn(\n"
     ]
    },
    {
     "name": "stdout",
     "output_type": "stream",
     "text": [
      "[Warning] 图和标签数量不匹配, 裁剪: ./dataset\\driving-scene-graph/ebike\\0626-163020-165749\\0626-163020-165749_scenario_graphs.pkl\n",
      "[Warning] graph: 1650, ranked_labels: 1646\n"
     ]
    },
    {
     "name": "stderr",
     "output_type": "stream",
     "text": [
      "d:\\software\\anaconda3\\envs\\biye\\lib\\site-packages\\sklearn\\cluster\\_kmeans.py:1419: UserWarning: KMeans is known to have a memory leak on Windows with MKL, when there are less chunks than available threads. You can avoid it by setting the environment variable OMP_NUM_THREADS=7.\n",
      "  warnings.warn(\n"
     ]
    },
    {
     "name": "stdout",
     "output_type": "stream",
     "text": [
      "[Warning] 图和标签数量不匹配, 裁剪: ./dataset\\driving-scene-graph/ebike\\0626-170818-173605\\0626-170818-173605_scenario_graphs.pkl\n",
      "[Warning] graph: 1669, ranked_labels: 1664\n"
     ]
    },
    {
     "name": "stderr",
     "output_type": "stream",
     "text": [
      "d:\\software\\anaconda3\\envs\\biye\\lib\\site-packages\\sklearn\\cluster\\_kmeans.py:1419: UserWarning: KMeans is known to have a memory leak on Windows with MKL, when there are less chunks than available threads. You can avoid it by setting the environment variable OMP_NUM_THREADS=6.\n",
      "  warnings.warn(\n"
     ]
    },
    {
     "name": "stdout",
     "output_type": "stream",
     "text": [
      "[Warning] 图和标签数量不匹配, 裁剪: ./dataset\\driving-scene-graph/ebike\\0627-163555-170056\\0627-163555-170056_scenario_graphs.pkl\n",
      "[Warning] graph: 1502, ranked_labels: 1498\n"
     ]
    },
    {
     "name": "stderr",
     "output_type": "stream",
     "text": [
      "d:\\software\\anaconda3\\envs\\biye\\lib\\site-packages\\sklearn\\cluster\\_kmeans.py:1419: UserWarning: KMeans is known to have a memory leak on Windows with MKL, when there are less chunks than available threads. You can avoid it by setting the environment variable OMP_NUM_THREADS=6.\n",
      "  warnings.warn(\n"
     ]
    },
    {
     "name": "stdout",
     "output_type": "stream",
     "text": [
      "[Warning] 图和标签数量不匹配, 裁剪: ./dataset\\driving-scene-graph/ebike\\0627-170211-172641\\0627-170211-172641_scenario_graphs.pkl\n",
      "[Warning] graph: 1471, ranked_labels: 1467\n"
     ]
    },
    {
     "name": "stderr",
     "output_type": "stream",
     "text": [
      "d:\\software\\anaconda3\\envs\\biye\\lib\\site-packages\\sklearn\\cluster\\_kmeans.py:1419: UserWarning: KMeans is known to have a memory leak on Windows with MKL, when there are less chunks than available threads. You can avoid it by setting the environment variable OMP_NUM_THREADS=6.\n",
      "  warnings.warn(\n"
     ]
    },
    {
     "name": "stdout",
     "output_type": "stream",
     "text": [
      "[Warning] 图和标签数量不匹配, 裁剪: ./dataset\\driving-scene-graph/ebike\\0703-112914-115425\\0703-112914-115425_scenario_graphs.pkl\n",
      "[Warning] graph: 1512, ranked_labels: 1508\n"
     ]
    },
    {
     "name": "stderr",
     "output_type": "stream",
     "text": [
      "d:\\software\\anaconda3\\envs\\biye\\lib\\site-packages\\sklearn\\cluster\\_kmeans.py:1419: UserWarning: KMeans is known to have a memory leak on Windows with MKL, when there are less chunks than available threads. You can avoid it by setting the environment variable OMP_NUM_THREADS=6.\n",
      "  warnings.warn(\n"
     ]
    },
    {
     "name": "stdout",
     "output_type": "stream",
     "text": [
      "[Warning] 图和标签数量不匹配, 裁剪: ./dataset\\driving-scene-graph/ebike\\0703-163620-170055\\0703-163620-170055_scenario_graphs.pkl\n",
      "[Warning] graph: 1477, ranked_labels: 1472\n"
     ]
    },
    {
     "name": "stderr",
     "output_type": "stream",
     "text": [
      "d:\\software\\anaconda3\\envs\\biye\\lib\\site-packages\\sklearn\\cluster\\_kmeans.py:1419: UserWarning: KMeans is known to have a memory leak on Windows with MKL, when there are less chunks than available threads. You can avoid it by setting the environment variable OMP_NUM_THREADS=7.\n",
      "  warnings.warn(\n"
     ]
    },
    {
     "name": "stdout",
     "output_type": "stream",
     "text": [
      "[Warning] 图和标签数量不匹配, 裁剪: ./dataset\\driving-scene-graph/ebike\\0703-171308-173901\\0703-171308-173901_scenario_graphs.pkl\n",
      "[Warning] graph: 1553, ranked_labels: 1550\n"
     ]
    },
    {
     "name": "stderr",
     "output_type": "stream",
     "text": [
      "d:\\software\\anaconda3\\envs\\biye\\lib\\site-packages\\sklearn\\cluster\\_kmeans.py:1419: UserWarning: KMeans is known to have a memory leak on Windows with MKL, when there are less chunks than available threads. You can avoid it by setting the environment variable OMP_NUM_THREADS=6.\n",
      "  warnings.warn(\n"
     ]
    },
    {
     "name": "stdout",
     "output_type": "stream",
     "text": [
      "[Warning] 图和标签数量不匹配, 裁剪: ./dataset\\driving-scene-graph/ebike\\0705-162803-165309\\0705-162803-165309_scenario_graphs.pkl\n",
      "[Warning] graph: 1507, ranked_labels: 1503\n"
     ]
    },
    {
     "name": "stderr",
     "output_type": "stream",
     "text": [
      "d:\\software\\anaconda3\\envs\\biye\\lib\\site-packages\\sklearn\\cluster\\_kmeans.py:1419: UserWarning: KMeans is known to have a memory leak on Windows with MKL, when there are less chunks than available threads. You can avoid it by setting the environment variable OMP_NUM_THREADS=6.\n",
      "  warnings.warn(\n"
     ]
    },
    {
     "name": "stdout",
     "output_type": "stream",
     "text": [
      "[Warning] 图和标签数量不匹配, 裁剪: ./dataset\\driving-scene-graph/ebike\\0705-170613-173142\\0705-170613-173142_scenario_graphs.pkl\n",
      "[Warning] graph: 1530, ranked_labels: 1526\n"
     ]
    },
    {
     "name": "stderr",
     "output_type": "stream",
     "text": [
      "d:\\software\\anaconda3\\envs\\biye\\lib\\site-packages\\sklearn\\cluster\\_kmeans.py:1419: UserWarning: KMeans is known to have a memory leak on Windows with MKL, when there are less chunks than available threads. You can avoid it by setting the environment variable OMP_NUM_THREADS=6.\n",
      "  warnings.warn(\n"
     ]
    },
    {
     "name": "stdout",
     "output_type": "stream",
     "text": [
      "[Warning] 图和标签数量不匹配, 裁剪: ./dataset\\driving-scene-graph/ebike\\0706-163750-170210\\0706-163750-170210_scenario_graphs.pkl\n",
      "[Warning] graph: 1476, ranked_labels: 1457\n"
     ]
    },
    {
     "name": "stderr",
     "output_type": "stream",
     "text": [
      "d:\\software\\anaconda3\\envs\\biye\\lib\\site-packages\\sklearn\\cluster\\_kmeans.py:1419: UserWarning: KMeans is known to have a memory leak on Windows with MKL, when there are less chunks than available threads. You can avoid it by setting the environment variable OMP_NUM_THREADS=7.\n",
      "  warnings.warn(\n"
     ]
    },
    {
     "name": "stdout",
     "output_type": "stream",
     "text": [
      "[Warning] 图和标签数量不匹配, 裁剪: ./dataset\\driving-scene-graph/ebike\\0706-171445-174120\\0706-171445-174120_scenario_graphs.pkl\n",
      "[Warning] graph: 1596, ranked_labels: 1592\n"
     ]
    },
    {
     "name": "stderr",
     "output_type": "stream",
     "text": [
      "d:\\software\\anaconda3\\envs\\biye\\lib\\site-packages\\sklearn\\cluster\\_kmeans.py:1419: UserWarning: KMeans is known to have a memory leak on Windows with MKL, when there are less chunks than available threads. You can avoid it by setting the environment variable OMP_NUM_THREADS=7.\n",
      "  warnings.warn(\n",
      "d:\\software\\anaconda3\\envs\\biye\\lib\\site-packages\\sklearn\\cluster\\_kmeans.py:1419: UserWarning: KMeans is known to have a memory leak on Windows with MKL, when there are less chunks than available threads. You can avoid it by setting the environment variable OMP_NUM_THREADS=7.\n",
      "  warnings.warn(\n"
     ]
    },
    {
     "name": "stdout",
     "output_type": "stream",
     "text": [
      "[Warning] 图和标签数量不匹配, 裁剪: ./dataset\\driving-scene-graph/ebike\\0906-2\\0906-2_scenario_graphs.pkl\n",
      "[Warning] graph: 1676, ranked_labels: 1672\n",
      "正在将数据保存到缓存文件: ./dataset/cache/ebike_30_1_dataset_pre_cache.pkl\n",
      "class weights: tensor([1.3697, 0.6183, 1.5323])\n"
     ]
    },
    {
     "name": "stderr",
     "output_type": "stream",
     "text": [
      "Epoch 1/200: 100%|██████████| 51/51 [05:53<00:00,  6.93s/it, loss=1.0675]\n"
     ]
    },
    {
     "name": "stdout",
     "output_type": "stream",
     "text": [
      "Epoch 1 | Train Loss: 1.1855 | Val Acc: 0.4159 | Val Prec: 0.4298 | Val Recall: 0.4159 | Val F1: 0.2889\n"
     ]
    },
    {
     "name": "stderr",
     "output_type": "stream",
     "text": [
      "Epoch 2/200: 100%|██████████| 51/51 [05:49<00:00,  6.85s/it, loss=1.1432]\n"
     ]
    },
    {
     "name": "stdout",
     "output_type": "stream",
     "text": [
      "Epoch 2 | Train Loss: 1.1620 | Val Acc: 0.4448 | Val Prec: 0.4286 | Val Recall: 0.4448 | Val F1: 0.3992\n"
     ]
    },
    {
     "name": "stderr",
     "output_type": "stream",
     "text": [
      "Epoch 3/200: 100%|██████████| 51/51 [05:47<00:00,  6.82s/it, loss=1.0119]\n"
     ]
    },
    {
     "name": "stdout",
     "output_type": "stream",
     "text": [
      "Epoch 3 | Train Loss: 1.1312 | Val Acc: 0.4520 | Val Prec: 0.4510 | Val Recall: 0.4520 | Val F1: 0.4480\n"
     ]
    },
    {
     "name": "stderr",
     "output_type": "stream",
     "text": [
      "Epoch 4/200: 100%|██████████| 51/51 [05:44<00:00,  6.76s/it, loss=1.1531]\n"
     ]
    },
    {
     "name": "stdout",
     "output_type": "stream",
     "text": [
      "Epoch 4 | Train Loss: 1.1197 | Val Acc: 0.4431 | Val Prec: 0.5179 | Val Recall: 0.4431 | Val F1: 0.4005\n"
     ]
    },
    {
     "name": "stderr",
     "output_type": "stream",
     "text": [
      "Epoch 5/200: 100%|██████████| 51/51 [05:44<00:00,  6.75s/it, loss=1.0739]\n"
     ]
    },
    {
     "name": "stdout",
     "output_type": "stream",
     "text": [
      "Epoch 5 | Train Loss: 1.0809 | Val Acc: 0.4593 | Val Prec: 0.4653 | Val Recall: 0.4593 | Val F1: 0.4125\n"
     ]
    },
    {
     "name": "stderr",
     "output_type": "stream",
     "text": [
      "Epoch 6/200: 100%|██████████| 51/51 [05:32<00:00,  6.52s/it, loss=0.9378]\n"
     ]
    },
    {
     "name": "stdout",
     "output_type": "stream",
     "text": [
      "Epoch 6 | Train Loss: 1.0726 | Val Acc: 0.4628 | Val Prec: 0.4613 | Val Recall: 0.4628 | Val F1: 0.4272\n"
     ]
    },
    {
     "name": "stderr",
     "output_type": "stream",
     "text": [
      "Epoch 7/200: 100%|██████████| 51/51 [05:43<00:00,  6.73s/it, loss=1.1597]\n"
     ]
    },
    {
     "name": "stdout",
     "output_type": "stream",
     "text": [
      "Epoch 7 | Train Loss: 1.0480 | Val Acc: 0.4946 | Val Prec: 0.4778 | Val Recall: 0.4946 | Val F1: 0.4746\n"
     ]
    },
    {
     "name": "stderr",
     "output_type": "stream",
     "text": [
      "Epoch 8/200: 100%|██████████| 51/51 [05:29<00:00,  6.47s/it, loss=1.1458]\n"
     ]
    },
    {
     "name": "stdout",
     "output_type": "stream",
     "text": [
      "Epoch 8 | Train Loss: 1.0410 | Val Acc: 0.4796 | Val Prec: 0.4903 | Val Recall: 0.4796 | Val F1: 0.4785\n"
     ]
    },
    {
     "name": "stderr",
     "output_type": "stream",
     "text": [
      "Epoch 9/200: 100%|██████████| 51/51 [05:48<00:00,  6.83s/it, loss=0.9644]\n"
     ]
    },
    {
     "name": "stdout",
     "output_type": "stream",
     "text": [
      "Epoch 9 | Train Loss: 1.0412 | Val Acc: 0.4778 | Val Prec: 0.5050 | Val Recall: 0.4778 | Val F1: 0.4737\n"
     ]
    },
    {
     "name": "stderr",
     "output_type": "stream",
     "text": [
      "Epoch 10/200: 100%|██████████| 51/51 [05:55<00:00,  6.97s/it, loss=0.9418]\n"
     ]
    },
    {
     "name": "stdout",
     "output_type": "stream",
     "text": [
      "Epoch 10 | Train Loss: 1.0176 | Val Acc: 0.4612 | Val Prec: 0.4982 | Val Recall: 0.4612 | Val F1: 0.4215\n"
     ]
    },
    {
     "name": "stderr",
     "output_type": "stream",
     "text": [
      "Epoch 11/200: 100%|██████████| 51/51 [05:35<00:00,  6.58s/it, loss=0.8066]\n"
     ]
    },
    {
     "name": "stdout",
     "output_type": "stream",
     "text": [
      "Epoch 11 | Train Loss: 0.9780 | Val Acc: 0.5176 | Val Prec: 0.4977 | Val Recall: 0.5176 | Val F1: 0.5004\n"
     ]
    },
    {
     "name": "stderr",
     "output_type": "stream",
     "text": [
      "Epoch 12/200: 100%|██████████| 51/51 [05:52<00:00,  6.91s/it, loss=1.0071]\n"
     ]
    },
    {
     "name": "stdout",
     "output_type": "stream",
     "text": [
      "Epoch 12 | Train Loss: 0.9707 | Val Acc: 0.5310 | Val Prec: 0.5189 | Val Recall: 0.5310 | Val F1: 0.5220\n"
     ]
    },
    {
     "name": "stderr",
     "output_type": "stream",
     "text": [
      "Epoch 13/200: 100%|██████████| 51/51 [05:48<00:00,  6.83s/it, loss=1.0373]\n"
     ]
    },
    {
     "name": "stdout",
     "output_type": "stream",
     "text": [
      "Epoch 13 | Train Loss: 1.0141 | Val Acc: 0.5165 | Val Prec: 0.5056 | Val Recall: 0.5165 | Val F1: 0.5070\n"
     ]
    },
    {
     "name": "stderr",
     "output_type": "stream",
     "text": [
      "Epoch 14/200: 100%|██████████| 51/51 [05:39<00:00,  6.67s/it, loss=0.7878]\n"
     ]
    },
    {
     "name": "stdout",
     "output_type": "stream",
     "text": [
      "Epoch 14 | Train Loss: 0.9689 | Val Acc: 0.5010 | Val Prec: 0.5198 | Val Recall: 0.5010 | Val F1: 0.5050\n"
     ]
    },
    {
     "name": "stderr",
     "output_type": "stream",
     "text": [
      "Epoch 15/200: 100%|██████████| 51/51 [05:21<00:00,  6.29s/it, loss=1.1918]\n"
     ]
    },
    {
     "name": "stdout",
     "output_type": "stream",
     "text": [
      "Epoch 15 | Train Loss: 1.0062 | Val Acc: 0.5173 | Val Prec: 0.5827 | Val Recall: 0.5173 | Val F1: 0.5083\n"
     ]
    },
    {
     "name": "stderr",
     "output_type": "stream",
     "text": [
      "Epoch 16/200: 100%|██████████| 51/51 [05:26<00:00,  6.40s/it, loss=0.9430]\n"
     ]
    },
    {
     "name": "stdout",
     "output_type": "stream",
     "text": [
      "Epoch 16 | Train Loss: 0.9491 | Val Acc: 0.5263 | Val Prec: 0.6073 | Val Recall: 0.5263 | Val F1: 0.5445\n"
     ]
    },
    {
     "name": "stderr",
     "output_type": "stream",
     "text": [
      "Epoch 17/200: 100%|██████████| 51/51 [05:35<00:00,  6.59s/it, loss=0.7239]\n"
     ]
    },
    {
     "name": "stdout",
     "output_type": "stream",
     "text": [
      "Epoch 17 | Train Loss: 0.8932 | Val Acc: 0.5525 | Val Prec: 0.5906 | Val Recall: 0.5525 | Val F1: 0.5629\n"
     ]
    },
    {
     "name": "stderr",
     "output_type": "stream",
     "text": [
      "Epoch 18/200: 100%|██████████| 51/51 [05:39<00:00,  6.65s/it, loss=0.7590]\n"
     ]
    },
    {
     "name": "stdout",
     "output_type": "stream",
     "text": [
      "Epoch 18 | Train Loss: 0.8625 | Val Acc: 0.5424 | Val Prec: 0.5499 | Val Recall: 0.5424 | Val F1: 0.5443\n"
     ]
    },
    {
     "name": "stderr",
     "output_type": "stream",
     "text": [
      "Epoch 19/200: 100%|██████████| 51/51 [05:46<00:00,  6.79s/it, loss=1.0572]\n"
     ]
    },
    {
     "name": "stdout",
     "output_type": "stream",
     "text": [
      "Epoch 19 | Train Loss: 0.9416 | Val Acc: 0.5389 | Val Prec: 0.5935 | Val Recall: 0.5389 | Val F1: 0.5492\n"
     ]
    },
    {
     "name": "stderr",
     "output_type": "stream",
     "text": [
      "Epoch 20/200: 100%|██████████| 51/51 [05:48<00:00,  6.83s/it, loss=0.7203]\n"
     ]
    },
    {
     "name": "stdout",
     "output_type": "stream",
     "text": [
      "Epoch 20 | Train Loss: 0.8710 | Val Acc: 0.5484 | Val Prec: 0.5433 | Val Recall: 0.5484 | Val F1: 0.5435\n"
     ]
    },
    {
     "name": "stderr",
     "output_type": "stream",
     "text": [
      "Epoch 21/200: 100%|██████████| 51/51 [05:50<00:00,  6.87s/it, loss=0.6193]\n"
     ]
    },
    {
     "name": "stdout",
     "output_type": "stream",
     "text": [
      "Epoch 21 | Train Loss: 0.8605 | Val Acc: 0.5733 | Val Prec: 0.5906 | Val Recall: 0.5733 | Val F1: 0.5802\n"
     ]
    },
    {
     "name": "stderr",
     "output_type": "stream",
     "text": [
      "Epoch 22/200: 100%|██████████| 51/51 [05:46<00:00,  6.80s/it, loss=0.6559]\n"
     ]
    },
    {
     "name": "stdout",
     "output_type": "stream",
     "text": [
      "Epoch 22 | Train Loss: 0.7974 | Val Acc: 0.5912 | Val Prec: 0.5909 | Val Recall: 0.5912 | Val F1: 0.5911\n"
     ]
    },
    {
     "name": "stderr",
     "output_type": "stream",
     "text": [
      "Epoch 23/200: 100%|██████████| 51/51 [05:40<00:00,  6.67s/it, loss=0.7825]\n"
     ]
    },
    {
     "name": "stdout",
     "output_type": "stream",
     "text": [
      "Epoch 23 | Train Loss: 0.7658 | Val Acc: 0.5486 | Val Prec: 0.6568 | Val Recall: 0.5486 | Val F1: 0.5704\n"
     ]
    },
    {
     "name": "stderr",
     "output_type": "stream",
     "text": [
      "Epoch 24/200: 100%|██████████| 51/51 [05:38<00:00,  6.64s/it, loss=0.5341]\n"
     ]
    },
    {
     "name": "stdout",
     "output_type": "stream",
     "text": [
      "Epoch 24 | Train Loss: 0.7935 | Val Acc: 0.6067 | Val Prec: 0.6413 | Val Recall: 0.6067 | Val F1: 0.6185\n"
     ]
    },
    {
     "name": "stderr",
     "output_type": "stream",
     "text": [
      "Epoch 25/200: 100%|██████████| 51/51 [05:51<00:00,  6.89s/it, loss=0.8531]\n"
     ]
    },
    {
     "name": "stdout",
     "output_type": "stream",
     "text": [
      "Epoch 25 | Train Loss: 0.7248 | Val Acc: 0.6184 | Val Prec: 0.6586 | Val Recall: 0.6184 | Val F1: 0.6319\n"
     ]
    },
    {
     "name": "stderr",
     "output_type": "stream",
     "text": [
      "Epoch 26/200: 100%|██████████| 51/51 [05:41<00:00,  6.69s/it, loss=0.6330]\n"
     ]
    },
    {
     "name": "stdout",
     "output_type": "stream",
     "text": [
      "Epoch 26 | Train Loss: 0.7253 | Val Acc: 0.6178 | Val Prec: 0.6623 | Val Recall: 0.6178 | Val F1: 0.6312\n"
     ]
    },
    {
     "name": "stderr",
     "output_type": "stream",
     "text": [
      "Epoch 27/200: 100%|██████████| 51/51 [05:35<00:00,  6.57s/it, loss=0.7029]\n"
     ]
    },
    {
     "name": "stdout",
     "output_type": "stream",
     "text": [
      "Epoch 27 | Train Loss: 0.8416 | Val Acc: 0.5678 | Val Prec: 0.5421 | Val Recall: 0.5678 | Val F1: 0.5430\n"
     ]
    },
    {
     "name": "stderr",
     "output_type": "stream",
     "text": [
      "Epoch 28/200: 100%|██████████| 51/51 [05:26<00:00,  6.40s/it, loss=0.7305]\n"
     ]
    },
    {
     "name": "stdout",
     "output_type": "stream",
     "text": [
      "Epoch 28 | Train Loss: 0.7680 | Val Acc: 0.6144 | Val Prec: 0.6519 | Val Recall: 0.6144 | Val F1: 0.6281\n"
     ]
    },
    {
     "name": "stderr",
     "output_type": "stream",
     "text": [
      "Epoch 29/200: 100%|██████████| 51/51 [06:13<00:00,  7.32s/it, loss=0.6373]\n"
     ]
    },
    {
     "name": "stdout",
     "output_type": "stream",
     "text": [
      "Epoch 29 | Train Loss: 0.6961 | Val Acc: 0.6187 | Val Prec: 0.6357 | Val Recall: 0.6187 | Val F1: 0.6229\n"
     ]
    },
    {
     "name": "stderr",
     "output_type": "stream",
     "text": [
      "Epoch 30/200:  35%|███▌      | 18/51 [02:13<04:09,  7.57s/it, loss=0.6800]"
     ]
    }
   ],
   "source": [
    "import os\n",
    "import torch\n",
    "import torch.nn as nn\n",
    "import torch.optim as optim\n",
    "import torch.nn.functional as F\n",
    "from torch_geometric.data import Batch\n",
    "from torch_geometric.loader import DataLoader\n",
    "from stnet.stnet import SpatioTemporalModel\n",
    "from utils.utils import ModelConfig, FocalLoss, train_model\n",
    "from utils.dataset import AugmentedScenarioGraphDataset\n",
    "from utils.dataset import ScenarioGraphDataset\n",
    "from utils.dataset_utils import NODE_TYPE_MAP, EDGE_TYPE_MAP\n",
    "\n",
    "if __name__ == '__main__':\n",
    "    # 设备配置\n",
    "    device = torch.device(\"cuda\" if torch.cuda.is_available() else \"cpu\")\n",
    "    if torch.cuda.is_available():\n",
    "        torch.cuda.empty_cache()\n",
    "        torch.set_float32_matmul_precision('high')\n",
    "\n",
    "    # 滑动窗口配置\n",
    "    window_size = 30\n",
    "    step_size = 1\n",
    "\n",
    "    # 初始化配置\n",
    "    config = ModelConfig(\n",
    "        num_layers=2,\n",
    "        num_features=12 + len(NODE_TYPE_MAP),\n",
    "        hidden_dim=16,\n",
    "        num_relations=8,\n",
    "        edge_dim=8,\n",
    "        num_epochs=200,\n",
    "        num_classes=3,\n",
    "        window_size=window_size,\n",
    "        step_size=step_size\n",
    "    )\n",
    "\n",
    "    working_dir = \"./\"\n",
    "    model_dir = f\"{working_dir}/model\"\n",
    "    dataset_dir = \"./dataset\"\n",
    "\n",
    "    # 数据集配置\n",
    "    scene_datasets = {\n",
    "        \"main_secondary\": ['/main-secondary'],\n",
    "        \"secondary_road\": [\"/secondary-road\"],\n",
    "        \"motor\": [\n",
    "            \"/secondary-road\",\n",
    "            '/main-secondary'\n",
    "        ],\n",
    "        \"ebike\": ['/ebike'],\n",
    "        \"total\": [\n",
    "            \"/secondary-road\",\n",
    "            '/main-secondary',\n",
    "            '/ebike'\n",
    "        ]\n",
    "    }\n",
    "\n",
    "    # 训练循环\n",
    "    for scene_name, data_dirs in scene_datasets.items():\n",
    "        print(f\"\\n=== Training Scene: {scene_name} ===\")\n",
    "        \n",
    "        data_dirs = [f\"{dataset_dir}\\driving-scene-graph{d}\" for d in data_dirs]\n",
    "        \n",
    "        # 数据集加载\n",
    "        cache_path = f\"{dataset_dir}/cache/{scene_name}_{window_size}_{step_size}_dataset_pre_cache.pkl\"\n",
    "        generator_model_path = f\"{working_dir}/model/data_aug/{scene_name}_{window_size}_{step_size}_generator_model.pth\"\n",
    "\n",
    "        # 加载数据集\n",
    "        dataset = ScenarioGraphDataset(data_dirs, window_size, step_size, device, cache_path)\n",
    "        weights = dataset.compute_class_weights()\n",
    "        \n",
    "        # 划分训练集和验证集\n",
    "        train_size = int(0.8 * len(dataset))\n",
    "        val_size = len(dataset) - train_size\n",
    "        train_dataset, val_dataset = torch.utils.data.random_split(dataset, \n",
    "                                                                    [train_size, val_size], \n",
    "                                                                    generator=torch.Generator().manual_seed(42))\n",
    "\n",
    "        # 创建数据加载器\n",
    "        train_loader = DataLoader(train_dataset, batch_size=512, shuffle=True)\n",
    "        val_loader = DataLoader(val_dataset, batch_size=512, shuffle=False)\n",
    "\n",
    "        # 模型初始化\n",
    "        model = SpatioTemporalModel(config).to(device)\n",
    "        optimizer = optim.AdamW(model.parameters(), lr=1e-2, weight_decay=1e-4)\n",
    "        # criterion = FocalLoss(alpha=0.25, gamma=2)\n",
    "        criterion = nn.CrossEntropyLoss(weight=weights.to(device))\n",
    "        print(f\"class weights: {weights}\")\n",
    "\n",
    "        # 开始训练\n",
    "        train_model(\n",
    "            model=model,\n",
    "            train_loader=train_loader,\n",
    "            val_loader=train_loader,\n",
    "            optimizer=optimizer,\n",
    "            criterion=criterion,\n",
    "            device=device,\n",
    "            config=config,\n",
    "            checkpoint_dir=f\"model/checkpoint/\",\n",
    "            bestmodel_dir=f\"model/data_aug/\",\n",
    "            scene_name=scene_name,\n",
    "            patience=15\n",
    "        )"
   ]
  }
 ],
 "metadata": {
  "kernelspec": {
   "display_name": "Python 3",
   "language": "python",
   "name": "python3"
  },
  "language_info": {
   "codemirror_mode": {
    "name": "ipython",
    "version": 3
   },
   "file_extension": ".py",
   "mimetype": "text/x-python",
   "name": "python",
   "nbconvert_exporter": "python",
   "pygments_lexer": "ipython3",
   "version": "3.10.16"
  }
 },
 "nbformat": 4,
 "nbformat_minor": 2
}
