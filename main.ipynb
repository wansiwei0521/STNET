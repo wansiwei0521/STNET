{
 "cells": [
  {
   "cell_type": "code",
   "execution_count": null,
   "metadata": {},
   "outputs": [
    {
     "name": "stdout",
     "output_type": "stream",
     "text": [
      "\n",
      "=== 开始训练场景: secondary_road ===\n",
      "从缓存文件加载数据: dataset/cache/secondary_road_30_1_dataset_pre_cache.pkl\n"
     ]
    },
    {
     "name": "stderr",
     "output_type": "stream",
     "text": [
      "Epoch 1/100:   0%|          | 0/43 [00:00<?, ?it/s]"
     ]
    }
   ],
   "source": [
    "import torch\n",
    "from utils.dataset import ScenarioGraphDataset\n",
    "from torch_geometric.loader import DataLoader\n",
    "from utils.data_aug_model import Generator, Discriminator, train_gan, evaluate_generator\n",
    "from utils.dataset_utils import NODE_TYPE_MAP\n",
    "import torch.optim as optim\n",
    "\n",
    "import os\n",
    "os.environ[\"OMP_NUM_THREADS\"] = '1'\n",
    "\n",
    "# ------------------ 主程序示例 ------------------\n",
    "if __name__ == \"__main__\":\n",
    "    # 假设已有场景及数据路径\n",
    "    scene_datasets = {\n",
    "        \"secondary_road\": [\"dataset/driving-scene-graph/secondary-road\"],\n",
    "        \"ebike\": ['dataset/driving-scene-graph/ebike'],\n",
    "        \"main_secondary\": ['dataset/driving-scene-graph/main-secondary'],\n",
    "        \"motor\": [\n",
    "            \"dataset/driving-scene-graph/secondary-road\",\n",
    "            'dataset/driving-scene-graph/main-secondary'\n",
    "        ],\n",
    "        \"total\": [\n",
    "            \"dataset/driving-scene-graph/secondary-road\",\n",
    "            'dataset/driving-scene-graph/main-secondary',\n",
    "            'dataset/driving-scene-graph/ebike'\n",
    "        ]\n",
    "    }\n",
    "    # 数据集参数\n",
    "    window_size = 30  # 窗口步长\n",
    "    step_size = 1  # 假设的步长值\n",
    "    node_feature_dim = 19 + len(NODE_TYPE_MAP)  # 节点特征维度 # 假设改为10\n",
    "    num_classes = 3  # 标签类别数量\n",
    "\n",
    "    # 训练参数\n",
    "    hidden_dim = 64\n",
    "    num_epochs = 100\n",
    "    batch_size = 48\n",
    "    num_workers = 8  # 使用 4 个进程加载数据\n",
    "    device = torch.device(\"cuda\" if torch.cuda.is_available() else \"cpu\")\n",
    "\n",
    "    # 逐场景训练\n",
    "    for scene_name, root_dirs in scene_datasets.items():\n",
    "        print(f\"\\n=== 开始训练场景: {scene_name} ===\")\n",
    "\n",
    "        # 定义缓存路径，针对每个场景使用单独的缓存文件\n",
    "        cache_path = f\"dataset/cache/{scene_name}_{window_size}_{step_size}_dataset_pre_cache.pkl\" \n",
    "        generator_model_path = f\"model/data_aug/{scene_name}_{window_size}_{step_size}_generator_model.pth\"\n",
    "        checkpoint_path = f\"model/checkpoint/{scene_name}_generator_model_checkpoint.pth\" # 定义检查点路径\n",
    "\n",
    "        dataset = ScenarioGraphDataset(root_dirs, window_size, step_size, device, cache_path)\n",
    "        # 假设数据集的 80% 用于训练，20% 用于验证\n",
    "        train_size = int(0.8 * len(dataset))\n",
    "        val_size = len(dataset) - train_size\n",
    "        train_dataset, val_dataset = torch.utils.data.random_split(dataset, [train_size, val_size])\n",
    "\n",
    "        # 在初始化 DataLoader\n",
    "        train_dataloader = DataLoader(train_dataset, batch_size=batch_size, shuffle=True, num_workers=num_workers)\n",
    "        val_dataloader = DataLoader(val_dataset, batch_size=batch_size, shuffle=False, num_workers=num_workers)\n",
    "\n",
    "        # 初始化生成器和判别器, 并添加 Dropout\n",
    "        generator = Generator(node_feature_dim, hidden_dim, window_size, num_classes, dropout_rate=0.5).to(device)\n",
    "        discriminator = Discriminator(node_feature_dim, hidden_dim, window_size, dropout_rate=0.5).to(device)\n",
    "    \n",
    "        # 初始化优化器\n",
    "        g_optimizer = optim.AdamW(generator.parameters(), lr=1e-3, weight_decay=1e-4)\n",
    "        d_optimizer = optim.AdamW(discriminator.parameters(), lr=1e-3, weight_decay=1e-4)\n",
    "    \n",
    "        # 训练 GAN\n",
    "        train_gan(train_dataloader, generator, discriminator, g_optimizer, d_optimizer, num_epochs, device, window_size, val_dataloader, checkpoint_path, scene_name,num_classes=num_classes, generator_model_path=generator_model_path)\n",
    "\n",
    "        # 保存模型\n",
    "        # torch.save(generator.state_dict(), generator_model_path) # 已在早停中保存\n",
    "        # torch.save(discriminator.state_dict(), f\"{scene_name}_discriminator.pth\")\n",
    "        print(f\"场景 {scene_name} 训练完成\\n\")"
   ]
  },
  {
   "cell_type": "code",
   "execution_count": null,
   "metadata": {},
   "outputs": [],
   "source": [
    "import os\n",
    "import torch\n",
    "import torch.nn as nn\n",
    "import torch.optim as optim\n",
    "import torch.nn.functional as F\n",
    "from torch_geometric.data import Batch\n",
    "from torch_geometric.loader import DataLoader\n",
    "from stnet.stnet import SpatioTemporalModel\n",
    "from utils.utils import ModelConfig, FocalLoss, train_model\n",
    "from utils.dataset import AugmentedScenarioGraphDataset\n",
    "from utils.dataset import ScenarioGraphDataset\n",
    "from utils.dataset_utils import NODE_TYPE_MAP, EDGE_TYPE_MAP\n",
    "\n",
    "if __name__ == '__main__':\n",
    "    # 设备配置\n",
    "    device = torch.device(\"cuda\" if torch.cuda.is_available() else \"cpu\")\n",
    "    if torch.cuda.is_available():\n",
    "        torch.cuda.empty_cache()\n",
    "        torch.set_float32_matmul_precision('high')\n",
    "\n",
    "    # 滑动窗口配置\n",
    "    window_size = 30\n",
    "    step_size = 1\n",
    "\n",
    "    # 初始化配置\n",
    "    config = ModelConfig(\n",
    "        num_layers=3,\n",
    "        num_features=12 + len(NODE_TYPE_MAP),\n",
    "        hidden_dim=16,\n",
    "        num_relations=8,\n",
    "        edge_dim=8,\n",
    "        num_epochs=200,\n",
    "        num_classes=3,\n",
    "        window_size=window_size,\n",
    "        step_size=step_size\n",
    "    )\n",
    "\n",
    "    working_dir = \"./\"\n",
    "    model_dir = f\"{working_dir}/model\"\n",
    "    dataset_dir = \"./dataset\"\n",
    "\n",
    "    # 数据集配置\n",
    "    scene_datasets = {\n",
    "        \"main_secondary\": ['/main-secondary'],\n",
    "        \"secondary_road\": [\"/secondary-road\"],\n",
    "        \"motor\": [\n",
    "            \"/secondary-road\",\n",
    "            '/main-secondary'\n",
    "        ],\n",
    "        # \"ebike\": ['/ebike'],\n",
    "        # \"total\": [\n",
    "        #     \"/secondary-road\",\n",
    "        #     '/main-secondary',\n",
    "        #     '/ebike'\n",
    "        # ]\n",
    "    }\n",
    "\n",
    "    # 训练循环\n",
    "    for scene_name, data_dirs in scene_datasets.items():\n",
    "        print(f\"\\n=== Training Scene: {scene_name} ===\")\n",
    "        \n",
    "        data_dirs = [f\"{dataset_dir}\\driving-scene-graph{d}\" for d in data_dirs]\n",
    "        \n",
    "        # 数据集加载\n",
    "        cache_path = f\"{dataset_dir}/cache/{scene_name}_{window_size}_{step_size}_dataset_pre_cache.pkl\"\n",
    "        generator_model_path = f\"{working_dir}/model/data_aug/{scene_name}_{window_size}_{step_size}_generator_model.pth\"\n",
    "\n",
    "        # 加载数据集\n",
    "        dataset = ScenarioGraphDataset(data_dirs, window_size, step_size, device, cache_path)\n",
    "        weights = dataset.compute_class_weights()\n",
    "        \n",
    "        # 划分训练集和验证集\n",
    "        train_size = int(0.8 * len(dataset))\n",
    "        val_size = len(dataset) - train_size\n",
    "        train_dataset, val_dataset = torch.utils.data.random_split(dataset, \n",
    "                                                                    [train_size, val_size], \n",
    "                                                                    generator=torch.Generator().manual_seed(42))\n",
    "\n",
    "        # 创建数据加载器\n",
    "        train_loader = DataLoader(train_dataset, batch_size=512, shuffle=True)\n",
    "        val_loader = DataLoader(val_dataset, batch_size=512, shuffle=False)\n",
    "\n",
    "        # 模型初始化\n",
    "        model = SpatioTemporalModel(config).to(device)\n",
    "        optimizer = optim.AdamW(model.parameters(), lr=1e-2, weight_decay=1e-4)\n",
    "        # criterion = FocalLoss(alpha=0.25, gamma=2)\n",
    "        criterion = nn.CrossEntropyLoss(weight=weights.to(device))\n",
    "        print(f\"class weights: {weights}\")\n",
    "\n",
    "        # 开始训练\n",
    "        train_model(\n",
    "            model=model,\n",
    "            train_loader=train_loader,\n",
    "            val_loader=train_loader,\n",
    "            optimizer=optimizer,\n",
    "            criterion=criterion,\n",
    "            device=device,\n",
    "            config=config,\n",
    "            checkpoint_dir=f\"model/checkpoint/\",\n",
    "            bestmodel_dir=f\"model/data_aug/\",\n",
    "            scene_name=scene_name,\n",
    "            patience=15\n",
    "        )"
   ]
  },
  {
   "cell_type": "code",
   "execution_count": null,
   "metadata": {},
   "outputs": [
    {
     "name": "stdout",
     "output_type": "stream",
     "text": [
      "\n",
      "=== Training Scene: secondary_road ===\n",
      "从缓存文件加载数据: ./dataset/cache/secondary_road_30_1_dataset_aug_cache.pkl\n"
     ]
    },
    {
     "name": "stderr",
     "output_type": "stream",
     "text": [
      "Epoch 1/200: 100%|██████████| 16/16 [04:22<00:00, 16.41s/it, loss=0.0162]\n"
     ]
    },
    {
     "name": "stdout",
     "output_type": "stream",
     "text": [
      "Epoch 1 | Train Loss: 0.0156 | Val Acc: 0.3333 | Val Prec: 0.1113 | Val Recall: 0.3333 | Val F1: 0.1669\n"
     ]
    },
    {
     "name": "stderr",
     "output_type": "stream",
     "text": [
      "Epoch 2/200: 100%|██████████| 16/16 [03:39<00:00, 13.73s/it, loss=0.0151]\n"
     ]
    },
    {
     "name": "stdout",
     "output_type": "stream",
     "text": [
      "Epoch 2 | Train Loss: 0.0150 | Val Acc: 0.3338 | Val Prec: 0.2843 | Val Recall: 0.3338 | Val F1: 0.1749\n"
     ]
    },
    {
     "name": "stderr",
     "output_type": "stream",
     "text": [
      "Epoch 3/200: 100%|██████████| 16/16 [03:28<00:00, 13.05s/it, loss=0.0150]\n"
     ]
    },
    {
     "name": "stdout",
     "output_type": "stream",
     "text": [
      "Epoch 3 | Train Loss: 0.0150 | Val Acc: 0.3333 | Val Prec: 0.1176 | Val Recall: 0.3333 | Val F1: 0.1738\n"
     ]
    },
    {
     "name": "stderr",
     "output_type": "stream",
     "text": [
      "Epoch 4/200:  62%|██████▎   | 10/16 [02:51<01:42, 17.12s/it, loss=0.0149]"
     ]
    },
    {
     "name": "stdout",
     "output_type": "stream",
     "text": [
      "\n",
      "Interrupt received, saving checkpoint...\n",
      "Checkpoint saved at epoch 3\n",
      "Best validation F1: 0.1749\n"
     ]
    },
    {
     "name": "stderr",
     "output_type": "stream",
     "text": [
      "\n"
     ]
    },
    {
     "ename": "NameError",
     "evalue": "name 'exit' is not defined",
     "output_type": "error",
     "traceback": [
      "\u001b[1;31m---------------------------------------------------------------------------\u001b[0m",
      "\u001b[1;31mNameError\u001b[0m                                 Traceback (most recent call last)",
      "Cell \u001b[1;32mIn[3], line 99\u001b[0m\n\u001b[0;32m     95\u001b[0m criterion \u001b[38;5;241m=\u001b[39m FocalLoss(alpha\u001b[38;5;241m=\u001b[39m\u001b[38;5;241m0.25\u001b[39m, gamma\u001b[38;5;241m=\u001b[39m\u001b[38;5;241m2\u001b[39m)\n\u001b[0;32m     96\u001b[0m \u001b[38;5;66;03m# criterion = nn.CrossEntropyLoss()\u001b[39;00m\n\u001b[0;32m     97\u001b[0m \n\u001b[0;32m     98\u001b[0m \u001b[38;5;66;03m# 开始训练\u001b[39;00m\n\u001b[1;32m---> 99\u001b[0m \u001b[43mtrain_model\u001b[49m\u001b[43m(\u001b[49m\n\u001b[0;32m    100\u001b[0m \u001b[43m    \u001b[49m\u001b[43mmodel\u001b[49m\u001b[38;5;241;43m=\u001b[39;49m\u001b[43mmodel\u001b[49m\u001b[43m,\u001b[49m\n\u001b[0;32m    101\u001b[0m \u001b[43m    \u001b[49m\u001b[43mtrain_loader\u001b[49m\u001b[38;5;241;43m=\u001b[39;49m\u001b[43mtrain_loader\u001b[49m\u001b[43m,\u001b[49m\n\u001b[0;32m    102\u001b[0m \u001b[43m    \u001b[49m\u001b[43mval_loader\u001b[49m\u001b[38;5;241;43m=\u001b[39;49m\u001b[43mtrain_loader\u001b[49m\u001b[43m,\u001b[49m\n\u001b[0;32m    103\u001b[0m \u001b[43m    \u001b[49m\u001b[43moptimizer\u001b[49m\u001b[38;5;241;43m=\u001b[39;49m\u001b[43moptimizer\u001b[49m\u001b[43m,\u001b[49m\n\u001b[0;32m    104\u001b[0m \u001b[43m    \u001b[49m\u001b[43mcriterion\u001b[49m\u001b[38;5;241;43m=\u001b[39;49m\u001b[43mcriterion\u001b[49m\u001b[43m,\u001b[49m\n\u001b[0;32m    105\u001b[0m \u001b[43m    \u001b[49m\u001b[43mdevice\u001b[49m\u001b[38;5;241;43m=\u001b[39;49m\u001b[43mdevice\u001b[49m\u001b[43m,\u001b[49m\n\u001b[0;32m    106\u001b[0m \u001b[43m    \u001b[49m\u001b[43mconfig\u001b[49m\u001b[38;5;241;43m=\u001b[39;49m\u001b[43mconfig\u001b[49m\u001b[43m,\u001b[49m\n\u001b[0;32m    107\u001b[0m \u001b[43m    \u001b[49m\u001b[43mcheckpoint_dir\u001b[49m\u001b[38;5;241;43m=\u001b[39;49m\u001b[38;5;124;43mf\u001b[39;49m\u001b[38;5;124;43m\"\u001b[39;49m\u001b[38;5;132;43;01m{\u001b[39;49;00m\u001b[43mmodel_dir\u001b[49m\u001b[38;5;132;43;01m}\u001b[39;49;00m\u001b[38;5;124;43m/checkpoint\u001b[39;49m\u001b[38;5;124;43m\"\u001b[39;49m\u001b[43m,\u001b[49m\n\u001b[0;32m    108\u001b[0m \u001b[43m    \u001b[49m\u001b[43mbestmodel_dir\u001b[49m\u001b[38;5;241;43m=\u001b[39;49m\u001b[38;5;124;43mf\u001b[39;49m\u001b[38;5;124;43m\"\u001b[39;49m\u001b[38;5;132;43;01m{\u001b[39;49;00m\u001b[43mmodel_dir\u001b[49m\u001b[38;5;132;43;01m}\u001b[39;49;00m\u001b[38;5;124;43m/bestmodel\u001b[39;49m\u001b[38;5;124;43m\"\u001b[39;49m\u001b[43m,\u001b[49m\n\u001b[0;32m    109\u001b[0m \u001b[43m    \u001b[49m\u001b[43mscene_name\u001b[49m\u001b[38;5;241;43m=\u001b[39;49m\u001b[43mscene_name\u001b[49m\u001b[43m,\u001b[49m\n\u001b[0;32m    110\u001b[0m \u001b[43m    \u001b[49m\u001b[43mpatience\u001b[49m\u001b[38;5;241;43m=\u001b[39;49m\u001b[38;5;241;43m15\u001b[39;49m\n\u001b[0;32m    111\u001b[0m \u001b[43m\u001b[49m\u001b[43m)\u001b[49m\n",
      "File \u001b[1;32md:\\OneDrive - chd.edu.cn\\Desktop\\毕业论文数据\\code\\STNet\\utils\\utils.py:177\u001b[0m, in \u001b[0;36mtrain_model\u001b[1;34m(model, train_loader, val_loader, optimizer, criterion, device, config, checkpoint_dir, bestmodel_dir, scene_name, patience)\u001b[0m\n\u001b[0;32m    173\u001b[0m loss \u001b[38;5;241m=\u001b[39m loss \u001b[38;5;241m*\u001b[39m\u001b[38;5;241m*\u001b[39m \u001b[38;5;241m2\u001b[39m\n\u001b[0;32m    174\u001b[0m \u001b[38;5;66;03m# print(outputs)\u001b[39;00m\n\u001b[0;32m    175\u001b[0m \n\u001b[0;32m    176\u001b[0m \u001b[38;5;66;03m# 反向传播\u001b[39;00m\n\u001b[1;32m--> 177\u001b[0m \u001b[43mloss\u001b[49m\u001b[38;5;241;43m.\u001b[39;49m\u001b[43mbackward\u001b[49m\u001b[43m(\u001b[49m\u001b[43m)\u001b[49m\n\u001b[0;32m    178\u001b[0m nn\u001b[38;5;241m.\u001b[39mutils\u001b[38;5;241m.\u001b[39mclip_grad_norm_(model\u001b[38;5;241m.\u001b[39mparameters(), max_norm\u001b[38;5;241m=\u001b[39m\u001b[38;5;241m30\u001b[39m, norm_type\u001b[38;5;241m=\u001b[39m\u001b[38;5;241m2\u001b[39m)\n\u001b[0;32m    179\u001b[0m optimizer\u001b[38;5;241m.\u001b[39mstep()\n",
      "File \u001b[1;32md:\\software\\anaconda3\\envs\\biye\\lib\\site-packages\\torch\\_tensor.py:626\u001b[0m, in \u001b[0;36mTensor.backward\u001b[1;34m(self, gradient, retain_graph, create_graph, inputs)\u001b[0m\n\u001b[0;32m    616\u001b[0m \u001b[38;5;28;01mif\u001b[39;00m has_torch_function_unary(\u001b[38;5;28mself\u001b[39m):\n\u001b[0;32m    617\u001b[0m     \u001b[38;5;28;01mreturn\u001b[39;00m handle_torch_function(\n\u001b[0;32m    618\u001b[0m         Tensor\u001b[38;5;241m.\u001b[39mbackward,\n\u001b[0;32m    619\u001b[0m         (\u001b[38;5;28mself\u001b[39m,),\n\u001b[1;32m   (...)\u001b[0m\n\u001b[0;32m    624\u001b[0m         inputs\u001b[38;5;241m=\u001b[39minputs,\n\u001b[0;32m    625\u001b[0m     )\n\u001b[1;32m--> 626\u001b[0m \u001b[43mtorch\u001b[49m\u001b[38;5;241;43m.\u001b[39;49m\u001b[43mautograd\u001b[49m\u001b[38;5;241;43m.\u001b[39;49m\u001b[43mbackward\u001b[49m\u001b[43m(\u001b[49m\n\u001b[0;32m    627\u001b[0m \u001b[43m    \u001b[49m\u001b[38;5;28;43mself\u001b[39;49m\u001b[43m,\u001b[49m\u001b[43m \u001b[49m\u001b[43mgradient\u001b[49m\u001b[43m,\u001b[49m\u001b[43m \u001b[49m\u001b[43mretain_graph\u001b[49m\u001b[43m,\u001b[49m\u001b[43m \u001b[49m\u001b[43mcreate_graph\u001b[49m\u001b[43m,\u001b[49m\u001b[43m \u001b[49m\u001b[43minputs\u001b[49m\u001b[38;5;241;43m=\u001b[39;49m\u001b[43minputs\u001b[49m\n\u001b[0;32m    628\u001b[0m \u001b[43m\u001b[49m\u001b[43m)\u001b[49m\n",
      "File \u001b[1;32md:\\software\\anaconda3\\envs\\biye\\lib\\site-packages\\torch\\autograd\\__init__.py:347\u001b[0m, in \u001b[0;36mbackward\u001b[1;34m(tensors, grad_tensors, retain_graph, create_graph, grad_variables, inputs)\u001b[0m\n\u001b[0;32m    342\u001b[0m     retain_graph \u001b[38;5;241m=\u001b[39m create_graph\n\u001b[0;32m    344\u001b[0m \u001b[38;5;66;03m# The reason we repeat the same comment below is that\u001b[39;00m\n\u001b[0;32m    345\u001b[0m \u001b[38;5;66;03m# some Python versions print out the first line of a multi-line function\u001b[39;00m\n\u001b[0;32m    346\u001b[0m \u001b[38;5;66;03m# calls in the traceback and some print out the last line\u001b[39;00m\n\u001b[1;32m--> 347\u001b[0m \u001b[43m_engine_run_backward\u001b[49m\u001b[43m(\u001b[49m\n\u001b[0;32m    348\u001b[0m \u001b[43m    \u001b[49m\u001b[43mtensors\u001b[49m\u001b[43m,\u001b[49m\n\u001b[0;32m    349\u001b[0m \u001b[43m    \u001b[49m\u001b[43mgrad_tensors_\u001b[49m\u001b[43m,\u001b[49m\n\u001b[0;32m    350\u001b[0m \u001b[43m    \u001b[49m\u001b[43mretain_graph\u001b[49m\u001b[43m,\u001b[49m\n\u001b[0;32m    351\u001b[0m \u001b[43m    \u001b[49m\u001b[43mcreate_graph\u001b[49m\u001b[43m,\u001b[49m\n\u001b[0;32m    352\u001b[0m \u001b[43m    \u001b[49m\u001b[43minputs\u001b[49m\u001b[43m,\u001b[49m\n\u001b[0;32m    353\u001b[0m \u001b[43m    \u001b[49m\u001b[43mallow_unreachable\u001b[49m\u001b[38;5;241;43m=\u001b[39;49m\u001b[38;5;28;43;01mTrue\u001b[39;49;00m\u001b[43m,\u001b[49m\n\u001b[0;32m    354\u001b[0m \u001b[43m    \u001b[49m\u001b[43maccumulate_grad\u001b[49m\u001b[38;5;241;43m=\u001b[39;49m\u001b[38;5;28;43;01mTrue\u001b[39;49;00m\u001b[43m,\u001b[49m\n\u001b[0;32m    355\u001b[0m \u001b[43m\u001b[49m\u001b[43m)\u001b[49m\n",
      "File \u001b[1;32md:\\software\\anaconda3\\envs\\biye\\lib\\site-packages\\torch\\autograd\\graph.py:823\u001b[0m, in \u001b[0;36m_engine_run_backward\u001b[1;34m(t_outputs, *args, **kwargs)\u001b[0m\n\u001b[0;32m    821\u001b[0m     unregister_hooks \u001b[38;5;241m=\u001b[39m _register_logging_hooks_on_whole_graph(t_outputs)\n\u001b[0;32m    822\u001b[0m \u001b[38;5;28;01mtry\u001b[39;00m:\n\u001b[1;32m--> 823\u001b[0m     \u001b[38;5;28;01mreturn\u001b[39;00m Variable\u001b[38;5;241m.\u001b[39m_execution_engine\u001b[38;5;241m.\u001b[39mrun_backward(  \u001b[38;5;66;03m# Calls into the C++ engine to run the backward pass\u001b[39;00m\n\u001b[0;32m    824\u001b[0m         t_outputs, \u001b[38;5;241m*\u001b[39margs, \u001b[38;5;241m*\u001b[39m\u001b[38;5;241m*\u001b[39mkwargs\n\u001b[0;32m    825\u001b[0m     )  \u001b[38;5;66;03m# Calls into the C++ engine to run the backward pass\u001b[39;00m\n\u001b[0;32m    826\u001b[0m \u001b[38;5;28;01mfinally\u001b[39;00m:\n\u001b[0;32m    827\u001b[0m     \u001b[38;5;28;01mif\u001b[39;00m attach_logging_hooks:\n",
      "File \u001b[1;32md:\\OneDrive - chd.edu.cn\\Desktop\\毕业论文数据\\code\\STNet\\utils\\utils.py:124\u001b[0m, in \u001b[0;36mtrain_model.<locals>._signal_handler\u001b[1;34m(sig, frame)\u001b[0m\n\u001b[0;32m    122\u001b[0m \u001b[38;5;28mprint\u001b[39m(\u001b[38;5;124m\"\u001b[39m\u001b[38;5;130;01m\\n\u001b[39;00m\u001b[38;5;124mInterrupt received, saving checkpoint...\u001b[39m\u001b[38;5;124m\"\u001b[39m)\n\u001b[0;32m    123\u001b[0m _save_checkpoint(epoch, force_save\u001b[38;5;241m=\u001b[39m\u001b[38;5;28;01mTrue\u001b[39;00m)\n\u001b[1;32m--> 124\u001b[0m \u001b[43mexit\u001b[49m(\u001b[38;5;241m0\u001b[39m)\n",
      "\u001b[1;31mNameError\u001b[0m: name 'exit' is not defined"
     ]
    },
    {
     "ename": "",
     "evalue": "",
     "output_type": "error",
     "traceback": [
      "\u001b[1;31m在当前单元格或上一个单元格中执行代码时 Kernel 崩溃。\n",
      "\u001b[1;31m请查看单元格中的代码，以确定故障的可能原因。\n",
      "\u001b[1;31m单击<a href='https://aka.ms/vscodeJupyterKernelCrash'>此处</a>了解详细信息。\n",
      "\u001b[1;31m有关更多详细信息，请查看 Jupyter <a href='command:jupyter.viewOutput'>log</a>。"
     ]
    }
   ],
   "source": [
    "import os\n",
    "import torch\n",
    "import wandb\n",
    "import torch.nn as nn\n",
    "import torch.optim as optim\n",
    "import torch.nn.functional as F\n",
    "from torch_geometric.data import Batch\n",
    "from torch_geometric.loader import DataLoader\n",
    "from stnet.stnet import SpatioTemporalModel\n",
    "from utils.utils import ModelConfig, FocalLoss, train_model\n",
    "from utils.dataset import AugmentedScenarioGraphDataset\n",
    "from utils.dataset_utils import NODE_TYPE_MAP, EDGE_TYPE_MAP\n",
    "\n",
    "if __name__ == '__main__':\n",
    "    # 设备配置\n",
    "    device = torch.device(\"cuda\" if torch.cuda.is_available() else \"cpu\")\n",
    "    if torch.cuda.is_available():\n",
    "        torch.cuda.empty_cache()\n",
    "        torch.set_float32_matmul_precision('high')\n",
    "\n",
    "    # 滑动窗口配置\n",
    "    window_size = 30\n",
    "    step_size = 1\n",
    "\n",
    "    # 初始化配置\n",
    "    config = ModelConfig(\n",
    "        num_layers=3,\n",
    "        num_features=12 + len(NODE_TYPE_MAP),\n",
    "        hidden_dim=16,\n",
    "        num_relations=8,\n",
    "        edge_dim=8,\n",
    "        num_epochs=200,\n",
    "        num_classes=3,\n",
    "        window_size=window_size,\n",
    "        step_size=step_size\n",
    "    )\n",
    "\n",
    "    working_dir = \"./\"\n",
    "    model_dir = f\"{working_dir}/model\"\n",
    "    dataset_dir = \"./dataset\"\n",
    "\n",
    "    # 数据集配置\n",
    "    scene_datasets = {\n",
    "        \"motor\": [\n",
    "            \"/secondary-road\",\n",
    "            '/main-secondary'\n",
    "        ]\n",
    "    }\n",
    "    num_layer = 2\n",
    "    num_hidden = 16\n",
    "\n",
    "    # 训练循环\n",
    "    for scene_name, data_dirs in scene_datasets.items():\n",
    "        print(f\"\\n=== Training Scene: {scene_name} ===\")\n",
    "        \n",
    "        # 初始化 wandb\n",
    "        wandb.init(config={})  # 自动使用配置参数\n",
    "        config = wandb.config  # 获取超参数配置\n",
    "\n",
    "        # 数据集路径配置\n",
    "        data_dirs = [f\"{dataset_dir}/driving-scene-graph{d}\" for d in data_dirs]\n",
    "\n",
    "        # 数据集加载\n",
    "        cache_path = f\"{dataset_dir}/cache/{scene_name}_{config.window_size}_{config.step_size}_dataset_aug_cache.pkl\"\n",
    "        generator_model_path = f\"{working_dir}/model/data_aug/{scene_name}_{config.window_size}_{config.step_size}_{num_layer}_{num_hidden}_generator_model.pth\"\n",
    "\n",
    "        # 加载数据集\n",
    "        dataset = AugmentedScenarioGraphDataset(\n",
    "            root_dirs=data_dirs,\n",
    "            window_size=config.window_size,\n",
    "            step_size=config.step_size,\n",
    "            generator_model_path=generator_model_path,\n",
    "            node_feature_dim=config.num_features,\n",
    "            device=device,\n",
    "            cache_path=cache_path,\n",
    "            num_classes=config.num_classes\n",
    "        )\n",
    "\n",
    "        # 划分训练集和验证集\n",
    "        train_size = int(0.8 * len(dataset))\n",
    "        val_size = len(dataset) - train_size\n",
    "        train_dataset, val_dataset = torch.utils.data.random_split(dataset, \n",
    "                                                                    [train_size, val_size], \n",
    "                                                                    generator=torch.Generator().manual_seed(0))\n",
    "\n",
    "        # 创建数据加载器\n",
    "        train_loader = DataLoader(train_dataset, batch_size=config.batch_size, shuffle=True)\n",
    "        val_loader = DataLoader(val_dataset, batch_size=config.batch_size, shuffle=False)\n",
    "\n",
    "        # 模型初始化\n",
    "        model = SpatioTemporalModel(config).to(device)\n",
    "        optimizer = optim.AdamW(model.parameters(), lr=config.learning_rate, weight_decay=config.weight_decay)\n",
    "        criterion = nn.CrossEntropyLoss()\n",
    "\n",
    "        # 开始训练\n",
    "        train_model(\n",
    "            model=model,\n",
    "            train_loader=train_loader,\n",
    "            val_loader=val_loader,\n",
    "            optimizer=optimizer,\n",
    "            criterion=criterion,\n",
    "            device=device,\n",
    "            config=config,\n",
    "            checkpoint_dir=f\"{model_dir}/checkpoint\",\n",
    "            bestmodel_dir=f\"{model_dir}/bestmodel\",\n",
    "            scene_name=scene_name,\n",
    "            patience=15\n",
    "        )"
   ]
  },
  {
   "cell_type": "code",
   "execution_count": 3,
   "metadata": {},
   "outputs": [
    {
     "name": "stdout",
     "output_type": "stream",
     "text": [
      "Create sweep with ID: 03j3zy9k\n",
      "Sweep URL: https://wandb.ai/1422909005/pytorch-sweeps-demo/sweeps/03j3zy9k\n"
     ]
    },
    {
     "name": "stderr",
     "output_type": "stream",
     "text": [
      "\u001b[34m\u001b[1mwandb\u001b[0m: Agent Starting Run: i2bv1w9m with config:\n",
      "\u001b[34m\u001b[1mwandb\u001b[0m: \tbatch_size: 16\n",
      "\u001b[34m\u001b[1mwandb\u001b[0m: \tfc_dropout: 0.1\n",
      "\u001b[34m\u001b[1mwandb\u001b[0m: \tgraph_dropout: 1\n",
      "\u001b[34m\u001b[1mwandb\u001b[0m: \tgraph_num_head: 1\n",
      "\u001b[34m\u001b[1mwandb\u001b[0m: \thidden_dim: 16\n",
      "\u001b[34m\u001b[1mwandb\u001b[0m: \tlearning_rate: 0.001\n",
      "\u001b[34m\u001b[1mwandb\u001b[0m: \tlstm_bidirectional: True\n",
      "\u001b[34m\u001b[1mwandb\u001b[0m: \tlstm_hidden_dim: 16\n",
      "\u001b[34m\u001b[1mwandb\u001b[0m: \tlstm_num_layers: 1\n",
      "\u001b[34m\u001b[1mwandb\u001b[0m: \tnum_classes: 3\n",
      "\u001b[34m\u001b[1mwandb\u001b[0m: \tnum_layers: 2\n",
      "\u001b[34m\u001b[1mwandb\u001b[0m: \tnum_seed_points: 2\n",
      "\u001b[34m\u001b[1mwandb\u001b[0m: \tpool_ratio: 0.5\n",
      "\u001b[34m\u001b[1mwandb\u001b[0m: \tstep_size: 1\n",
      "\u001b[34m\u001b[1mwandb\u001b[0m: \tweight_decay: 0.0001\n",
      "\u001b[34m\u001b[1mwandb\u001b[0m: \twindow_size: 10\n"
     ]
    },
    {
     "data": {
      "text/html": [
       "Tracking run with wandb version 0.19.6"
      ],
      "text/plain": [
       "<IPython.core.display.HTML object>"
      ]
     },
     "metadata": {},
     "output_type": "display_data"
    },
    {
     "data": {
      "text/html": [
       "W&B syncing is set to <code>`offline`<code> in this directory.  <br>Run <code>`wandb online`<code> or set <code>WANDB_MODE=online<code> to enable cloud syncing."
      ],
      "text/plain": [
       "<IPython.core.display.HTML object>"
      ]
     },
     "metadata": {},
     "output_type": "display_data"
    },
    {
     "name": "stdout",
     "output_type": "stream",
     "text": [
      "{'batch_size': 16, 'fc_dropout': 0.1, 'graph_dropout': 1, 'graph_num_head': 1, 'hidden_dim': 16, 'learning_rate': 0.001, 'lstm_bidirectional': True, 'lstm_hidden_dim': 16, 'lstm_num_layers': 1, 'num_classes': 3, 'num_layers': 2, 'num_seed_points': 2, 'pool_ratio': 0.5, 'step_size': 1, 'weight_decay': 0.0001, 'window_size': 10}\n",
      "\n",
      "=== Training Scene: motor ===\n",
      "从缓存文件加载数据: ./dataset/cache/motor_10_1_dataset_aug_cache.pkl\n"
     ]
    },
    {
     "name": "stderr",
     "output_type": "stream",
     "text": [
      "Epoch 1/5: 100%|██████████| 336/336 [02:20<00:00,  2.39it/s, loss=1.2129]\n"
     ]
    },
    {
     "name": "stdout",
     "output_type": "stream",
     "text": [
      "Epoch 1 | Train Loss: 1.2060 | Val Acc: 0.3470 | Val Prec: 0.2385 | Val Recall: 0.3470 | Val F1: 0.2802\n"
     ]
    },
    {
     "name": "stderr",
     "output_type": "stream",
     "text": [
      "Epoch 2/5: 100%|██████████| 336/336 [01:32<00:00,  3.63it/s, loss=0.6584]\n"
     ]
    },
    {
     "name": "stdout",
     "output_type": "stream",
     "text": [
      "Epoch 2 | Train Loss: 1.1618 | Val Acc: 0.4201 | Val Prec: 0.4467 | Val Recall: 0.4201 | Val F1: 0.3872\n"
     ]
    },
    {
     "name": "stderr",
     "output_type": "stream",
     "text": [
      "Epoch 3/5: 100%|██████████| 336/336 [01:29<00:00,  3.73it/s, loss=1.3855]\n"
     ]
    },
    {
     "name": "stdout",
     "output_type": "stream",
     "text": [
      "Epoch 3 | Train Loss: 1.1831 | Val Acc: 0.3602 | Val Prec: 0.2360 | Val Recall: 0.3602 | Val F1: 0.2787\n"
     ]
    },
    {
     "name": "stderr",
     "output_type": "stream",
     "text": [
      "Epoch 4/5: 100%|██████████| 336/336 [01:20<00:00,  4.19it/s, loss=1.2380]\n"
     ]
    },
    {
     "name": "stdout",
     "output_type": "stream",
     "text": [
      "Epoch 4 | Train Loss: 1.1750 | Val Acc: 0.3936 | Val Prec: 0.4137 | Val Recall: 0.3936 | Val F1: 0.3934\n"
     ]
    },
    {
     "name": "stderr",
     "output_type": "stream",
     "text": [
      "Epoch 5/5: 100%|██████████| 336/336 [01:22<00:00,  4.07it/s, loss=0.6447]\n"
     ]
    },
    {
     "name": "stdout",
     "output_type": "stream",
     "text": [
      "Epoch 5 | Train Loss: 1.0932 | Val Acc: 0.3927 | Val Prec: 0.4005 | Val Recall: 0.3927 | Val F1: 0.3726\n",
      "Best validation F1: 0.3872\n",
      "Checkpoint saved at epoch 4\n"
     ]
    },
    {
     "data": {
      "text/html": [],
      "text/plain": [
       "<IPython.core.display.HTML object>"
      ]
     },
     "metadata": {},
     "output_type": "display_data"
    },
    {
     "data": {
      "text/html": [
       "<br>    <style><br>        .wandb-row {<br>            display: flex;<br>            flex-direction: row;<br>            flex-wrap: wrap;<br>            justify-content: flex-start;<br>            width: 100%;<br>        }<br>        .wandb-col {<br>            display: flex;<br>            flex-direction: column;<br>            flex-basis: 100%;<br>            flex: 1;<br>            padding: 10px;<br>        }<br>    </style><br><div class=\"wandb-row\"><div class=\"wandb-col\"><h3>Run history:</h3><br/><table class=\"wandb\"><tr><td>epoch</td><td>▁▃▅▆█</td></tr><tr><td>train_loss</td><td>█▅▇▆▁</td></tr><tr><td>val_accuracy</td><td>▁█▂▅▅</td></tr><tr><td>val_f1</td><td>▁█▁█▇</td></tr><tr><td>val_precision</td><td>▁█▁▇▆</td></tr><tr><td>val_recall</td><td>▁█▂▅▅</td></tr><tr><td>validation_accuracy</td><td>▁█▂▅▅</td></tr><tr><td>validation_f1</td><td>▁█▁█▇</td></tr><tr><td>validation_precision</td><td>▁█▁▇▆</td></tr><tr><td>validation_recall</td><td>▁█▂▅▅</td></tr></table><br/></div><div class=\"wandb-col\"><h3>Run summary:</h3><br/><table class=\"wandb\"><tr><td>best_val_f1</td><td>0.38724</td></tr><tr><td>epoch</td><td>5</td></tr><tr><td>train_loss</td><td>1.09315</td></tr><tr><td>val_accuracy</td><td>0.39268</td></tr><tr><td>val_f1</td><td>0.37265</td></tr><tr><td>val_precision</td><td>0.40047</td></tr><tr><td>val_recall</td><td>0.39268</td></tr><tr><td>validation_accuracy</td><td>0.39268</td></tr><tr><td>validation_f1</td><td>0.37265</td></tr><tr><td>validation_precision</td><td>0.40047</td></tr><tr><td>validation_recall</td><td>0.39268</td></tr></table><br/></div></div>"
      ],
      "text/plain": [
       "<IPython.core.display.HTML object>"
      ]
     },
     "metadata": {},
     "output_type": "display_data"
    },
    {
     "data": {
      "text/html": [
       "You can sync this run to the cloud by running:<br><code>wandb sync d:\\OneDrive - chd.edu.cn\\Desktop\\毕业论文数据\\code\\STNet\\wandb\\offline-run-20250206_230610-i2bv1w9m<code>"
      ],
      "text/plain": [
       "<IPython.core.display.HTML object>"
      ]
     },
     "metadata": {},
     "output_type": "display_data"
    },
    {
     "data": {
      "text/html": [
       "Find logs at: <code>.\\wandb\\offline-run-20250206_230610-i2bv1w9m\\logs</code>"
      ],
      "text/plain": [
       "<IPython.core.display.HTML object>"
      ]
     },
     "metadata": {},
     "output_type": "display_data"
    },
    {
     "name": "stderr",
     "output_type": "stream",
     "text": [
      "\u001b[34m\u001b[1mwandb\u001b[0m: Agent Starting Run: idf5rv2d with config:\n",
      "\u001b[34m\u001b[1mwandb\u001b[0m: \tbatch_size: 16\n",
      "\u001b[34m\u001b[1mwandb\u001b[0m: \tfc_dropout: 0.1\n",
      "\u001b[34m\u001b[1mwandb\u001b[0m: \tgraph_dropout: 1\n",
      "\u001b[34m\u001b[1mwandb\u001b[0m: \tgraph_num_head: 1\n",
      "\u001b[34m\u001b[1mwandb\u001b[0m: \thidden_dim: 16\n",
      "\u001b[34m\u001b[1mwandb\u001b[0m: \tlearning_rate: 0.001\n",
      "\u001b[34m\u001b[1mwandb\u001b[0m: \tlstm_bidirectional: True\n",
      "\u001b[34m\u001b[1mwandb\u001b[0m: \tlstm_hidden_dim: 16\n",
      "\u001b[34m\u001b[1mwandb\u001b[0m: \tlstm_num_layers: 1\n",
      "\u001b[34m\u001b[1mwandb\u001b[0m: \tnum_classes: 3\n",
      "\u001b[34m\u001b[1mwandb\u001b[0m: \tnum_layers: 2\n",
      "\u001b[34m\u001b[1mwandb\u001b[0m: \tnum_seed_points: 2\n",
      "\u001b[34m\u001b[1mwandb\u001b[0m: \tpool_ratio: 0.5\n",
      "\u001b[34m\u001b[1mwandb\u001b[0m: \tstep_size: 1\n",
      "\u001b[34m\u001b[1mwandb\u001b[0m: \tweight_decay: 0.0001\n",
      "\u001b[34m\u001b[1mwandb\u001b[0m: \twindow_size: 20\n"
     ]
    },
    {
     "data": {
      "text/html": [
       "Tracking run with wandb version 0.19.6"
      ],
      "text/plain": [
       "<IPython.core.display.HTML object>"
      ]
     },
     "metadata": {},
     "output_type": "display_data"
    },
    {
     "data": {
      "text/html": [
       "W&B syncing is set to <code>`offline`<code> in this directory.  <br>Run <code>`wandb online`<code> or set <code>WANDB_MODE=online<code> to enable cloud syncing."
      ],
      "text/plain": [
       "<IPython.core.display.HTML object>"
      ]
     },
     "metadata": {},
     "output_type": "display_data"
    },
    {
     "name": "stdout",
     "output_type": "stream",
     "text": [
      "{'batch_size': 16, 'fc_dropout': 0.1, 'graph_dropout': 1, 'graph_num_head': 1, 'hidden_dim': 16, 'learning_rate': 0.001, 'lstm_bidirectional': True, 'lstm_hidden_dim': 16, 'lstm_num_layers': 1, 'num_classes': 3, 'num_layers': 2, 'num_seed_points': 2, 'pool_ratio': 0.5, 'step_size': 1, 'weight_decay': 0.0001, 'window_size': 20}\n",
      "\n",
      "=== Training Scene: motor ===\n",
      "未找到缓存文件，重新加载数据...\n",
      "Extracted num_layers: 2, hidden_dim: 16\n",
      "正在加载数据目录: ./dataset/driving-scene-graph/secondary-road\n"
     ]
    },
    {
     "name": "stderr",
     "output_type": "stream",
     "text": [
      "d:\\software\\anaconda3\\envs\\biye\\lib\\site-packages\\sklearn\\cluster\\_kmeans.py:1419: UserWarning: KMeans is known to have a memory leak on Windows with MKL, when there are less chunks than available threads. You can avoid it by setting the environment variable OMP_NUM_THREADS=4.\n",
      "  warnings.warn(\n"
     ]
    },
    {
     "name": "stdout",
     "output_type": "stream",
     "text": [
      "[Warning] 图和标签数量不匹配, 补充: ./dataset/driving-scene-graph/secondary-road\\1.13_h.264_seg-0\\1.13_h.264_seg-0_scenario_graphs.pkl\n"
     ]
    },
    {
     "name": "stderr",
     "output_type": "stream",
     "text": [
      "d:\\software\\anaconda3\\envs\\biye\\lib\\site-packages\\sklearn\\cluster\\_kmeans.py:1419: UserWarning: KMeans is known to have a memory leak on Windows with MKL, when there are less chunks than available threads. You can avoid it by setting the environment variable OMP_NUM_THREADS=4.\n",
      "  warnings.warn(\n"
     ]
    },
    {
     "name": "stdout",
     "output_type": "stream",
     "text": [
      "[Warning] 图和标签数量不匹配, 补充: ./dataset/driving-scene-graph/secondary-road\\1.13_h.264_seg-1\\1.13_h.264_seg-1_scenario_graphs.pkl\n"
     ]
    },
    {
     "name": "stderr",
     "output_type": "stream",
     "text": [
      "d:\\software\\anaconda3\\envs\\biye\\lib\\site-packages\\sklearn\\cluster\\_kmeans.py:1419: UserWarning: KMeans is known to have a memory leak on Windows with MKL, when there are less chunks than available threads. You can avoid it by setting the environment variable OMP_NUM_THREADS=3.\n",
      "  warnings.warn(\n"
     ]
    },
    {
     "name": "stdout",
     "output_type": "stream",
     "text": [
      "[Warning] 图和标签数量不匹配, 补充: ./dataset/driving-scene-graph/secondary-road\\1.13_h.264_seg-2\\1.13_h.264_seg-2_scenario_graphs.pkl\n"
     ]
    },
    {
     "name": "stderr",
     "output_type": "stream",
     "text": [
      "d:\\software\\anaconda3\\envs\\biye\\lib\\site-packages\\sklearn\\cluster\\_kmeans.py:1419: UserWarning: KMeans is known to have a memory leak on Windows with MKL, when there are less chunks than available threads. You can avoid it by setting the environment variable OMP_NUM_THREADS=1.\n",
      "  warnings.warn(\n"
     ]
    },
    {
     "name": "stdout",
     "output_type": "stream",
     "text": [
      "[Warning] 图和标签数量不匹配, 补充: ./dataset/driving-scene-graph/secondary-road\\1.13_h.264_seg-3\\1.13_h.264_seg-3_scenario_graphs.pkl\n",
      "正在加载数据目录: ./dataset/driving-scene-graph/main-secondary\n",
      "[Warning] 当前路径下没有找到 CSV 文件，使用伪标签: ./dataset/driving-scene-graph/main-secondary\\140327_0751\n"
     ]
    },
    {
     "name": "stderr",
     "output_type": "stream",
     "text": [
      "d:\\software\\anaconda3\\envs\\biye\\lib\\site-packages\\sklearn\\cluster\\_kmeans.py:1419: UserWarning: KMeans is known to have a memory leak on Windows with MKL, when there are less chunks than available threads. You can avoid it by setting the environment variable OMP_NUM_THREADS=4.\n",
      "  warnings.warn(\n",
      "d:\\software\\anaconda3\\envs\\biye\\lib\\site-packages\\sklearn\\cluster\\_kmeans.py:1419: UserWarning: KMeans is known to have a memory leak on Windows with MKL, when there are less chunks than available threads. You can avoid it by setting the environment variable OMP_NUM_THREADS=5.\n",
      "  warnings.warn(\n",
      "d:\\software\\anaconda3\\envs\\biye\\lib\\site-packages\\sklearn\\cluster\\_kmeans.py:1419: UserWarning: KMeans is known to have a memory leak on Windows with MKL, when there are less chunks than available threads. You can avoid it by setting the environment variable OMP_NUM_THREADS=3.\n",
      "  warnings.warn(\n",
      "d:\\software\\anaconda3\\envs\\biye\\lib\\site-packages\\sklearn\\cluster\\_kmeans.py:1419: UserWarning: KMeans is known to have a memory leak on Windows with MKL, when there are less chunks than available threads. You can avoid it by setting the environment variable OMP_NUM_THREADS=2.\n",
      "  warnings.warn(\n",
      "d:\\software\\anaconda3\\envs\\biye\\lib\\site-packages\\sklearn\\cluster\\_kmeans.py:1419: UserWarning: KMeans is known to have a memory leak on Windows with MKL, when there are less chunks than available threads. You can avoid it by setting the environment variable OMP_NUM_THREADS=4.\n",
      "  warnings.warn(\n"
     ]
    },
    {
     "name": "stdout",
     "output_type": "stream",
     "text": [
      "[Warning] 当前路径下没有找到 CSV 文件，使用伪标签: ./dataset/driving-scene-graph/main-secondary\\144727_0207\n",
      "[Warning] 当前路径下没有找到 CSV 文件，使用伪标签: ./dataset/driving-scene-graph/main-secondary\\161531_2250\n"
     ]
    },
    {
     "name": "stderr",
     "output_type": "stream",
     "text": [
      "d:\\software\\anaconda3\\envs\\biye\\lib\\site-packages\\sklearn\\cluster\\_kmeans.py:1419: UserWarning: KMeans is known to have a memory leak on Windows with MKL, when there are less chunks than available threads. You can avoid it by setting the environment variable OMP_NUM_THREADS=3.\n",
      "  warnings.warn(\n",
      "d:\\software\\anaconda3\\envs\\biye\\lib\\site-packages\\sklearn\\cluster\\_kmeans.py:1419: UserWarning: KMeans is known to have a memory leak on Windows with MKL, when there are less chunks than available threads. You can avoid it by setting the environment variable OMP_NUM_THREADS=6.\n",
      "  warnings.warn(\n"
     ]
    },
    {
     "name": "stdout",
     "output_type": "stream",
     "text": [
      "正在将数据保存到缓存文件: ./dataset/cache/motor_20_1_dataset_aug_cache.pkl\n"
     ]
    },
    {
     "name": "stderr",
     "output_type": "stream",
     "text": [
      "Epoch 1/5: 100%|██████████| 329/329 [01:23<00:00,  3.94it/s, loss=1.1794]\n"
     ]
    },
    {
     "name": "stdout",
     "output_type": "stream",
     "text": [
      "Epoch 1 | Train Loss: 1.2033 | Val Acc: 0.3333 | Val Prec: 0.1208 | Val Recall: 0.3333 | Val F1: 0.1773\n"
     ]
    },
    {
     "name": "stderr",
     "output_type": "stream",
     "text": [
      "Epoch 2/5: 100%|██████████| 329/329 [01:22<00:00,  3.99it/s, loss=1.0961]\n"
     ]
    },
    {
     "name": "stdout",
     "output_type": "stream",
     "text": [
      "Epoch 2 | Train Loss: 1.2003 | Val Acc: 0.3333 | Val Prec: 0.1208 | Val Recall: 0.3333 | Val F1: 0.1773\n"
     ]
    },
    {
     "name": "stderr",
     "output_type": "stream",
     "text": [
      "Epoch 3/5: 100%|██████████| 329/329 [01:23<00:00,  3.95it/s, loss=1.3133]\n"
     ]
    },
    {
     "name": "stdout",
     "output_type": "stream",
     "text": [
      "Epoch 3 | Train Loss: 1.2003 | Val Acc: 0.3333 | Val Prec: 0.1134 | Val Recall: 0.3333 | Val F1: 0.1692\n"
     ]
    },
    {
     "name": "stderr",
     "output_type": "stream",
     "text": [
      "Epoch 4/5: 100%|██████████| 329/329 [01:22<00:00,  4.00it/s, loss=1.1545]\n"
     ]
    },
    {
     "name": "stdout",
     "output_type": "stream",
     "text": [
      "Epoch 4 | Train Loss: 1.2003 | Val Acc: 0.3333 | Val Prec: 0.1208 | Val Recall: 0.3333 | Val F1: 0.1773\n"
     ]
    },
    {
     "name": "stderr",
     "output_type": "stream",
     "text": [
      "Epoch 5/5: 100%|██████████| 329/329 [01:22<00:00,  4.00it/s, loss=1.2330]\n"
     ]
    },
    {
     "name": "stdout",
     "output_type": "stream",
     "text": [
      "Epoch 5 | Train Loss: 1.1997 | Val Acc: 0.3333 | Val Prec: 0.1134 | Val Recall: 0.3333 | Val F1: 0.1692\n",
      "Best validation F1: 0.1773\n",
      "Checkpoint saved at epoch 4\n"
     ]
    },
    {
     "data": {
      "text/html": [],
      "text/plain": [
       "<IPython.core.display.HTML object>"
      ]
     },
     "metadata": {},
     "output_type": "display_data"
    },
    {
     "data": {
      "text/html": [
       "<br>    <style><br>        .wandb-row {<br>            display: flex;<br>            flex-direction: row;<br>            flex-wrap: wrap;<br>            justify-content: flex-start;<br>            width: 100%;<br>        }<br>        .wandb-col {<br>            display: flex;<br>            flex-direction: column;<br>            flex-basis: 100%;<br>            flex: 1;<br>            padding: 10px;<br>        }<br>    </style><br><div class=\"wandb-row\"><div class=\"wandb-col\"><h3>Run history:</h3><br/><table class=\"wandb\"><tr><td>epoch</td><td>▁▃▅▆█</td></tr><tr><td>train_loss</td><td>█▂▂▂▁</td></tr><tr><td>val_accuracy</td><td>▁▁▁▁▁</td></tr><tr><td>val_f1</td><td>██▁█▁</td></tr><tr><td>val_precision</td><td>██▁█▁</td></tr><tr><td>val_recall</td><td>▁▁▁▁▁</td></tr><tr><td>validation_accuracy</td><td>▁▁▁▁▁</td></tr><tr><td>validation_f1</td><td>██▁█▁</td></tr><tr><td>validation_precision</td><td>██▁█▁</td></tr><tr><td>validation_recall</td><td>▁▁▁▁▁</td></tr></table><br/></div><div class=\"wandb-col\"><h3>Run summary:</h3><br/><table class=\"wandb\"><tr><td>best_val_f1</td><td>0.17728</td></tr><tr><td>epoch</td><td>5</td></tr><tr><td>train_loss</td><td>1.19974</td></tr><tr><td>val_accuracy</td><td>0.33333</td></tr><tr><td>val_f1</td><td>0.16922</td></tr><tr><td>val_precision</td><td>0.11339</td></tr><tr><td>val_recall</td><td>0.33333</td></tr><tr><td>validation_accuracy</td><td>0.33333</td></tr><tr><td>validation_f1</td><td>0.16922</td></tr><tr><td>validation_precision</td><td>0.11339</td></tr><tr><td>validation_recall</td><td>0.33333</td></tr></table><br/></div></div>"
      ],
      "text/plain": [
       "<IPython.core.display.HTML object>"
      ]
     },
     "metadata": {},
     "output_type": "display_data"
    },
    {
     "data": {
      "text/html": [
       "You can sync this run to the cloud by running:<br><code>wandb sync d:\\OneDrive - chd.edu.cn\\Desktop\\毕业论文数据\\code\\STNet\\wandb\\offline-run-20250206_231435-idf5rv2d<code>"
      ],
      "text/plain": [
       "<IPython.core.display.HTML object>"
      ]
     },
     "metadata": {},
     "output_type": "display_data"
    },
    {
     "data": {
      "text/html": [
       "Find logs at: <code>.\\wandb\\offline-run-20250206_231435-idf5rv2d\\logs</code>"
      ],
      "text/plain": [
       "<IPython.core.display.HTML object>"
      ]
     },
     "metadata": {},
     "output_type": "display_data"
    },
    {
     "name": "stderr",
     "output_type": "stream",
     "text": [
      "\u001b[34m\u001b[1mwandb\u001b[0m: Agent Starting Run: 1exlqsut with config:\n",
      "\u001b[34m\u001b[1mwandb\u001b[0m: \tbatch_size: 16\n",
      "\u001b[34m\u001b[1mwandb\u001b[0m: \tfc_dropout: 0.1\n",
      "\u001b[34m\u001b[1mwandb\u001b[0m: \tgraph_dropout: 1\n",
      "\u001b[34m\u001b[1mwandb\u001b[0m: \tgraph_num_head: 1\n",
      "\u001b[34m\u001b[1mwandb\u001b[0m: \thidden_dim: 16\n",
      "\u001b[34m\u001b[1mwandb\u001b[0m: \tlearning_rate: 0.001\n",
      "\u001b[34m\u001b[1mwandb\u001b[0m: \tlstm_bidirectional: True\n",
      "\u001b[34m\u001b[1mwandb\u001b[0m: \tlstm_hidden_dim: 16\n",
      "\u001b[34m\u001b[1mwandb\u001b[0m: \tlstm_num_layers: 1\n",
      "\u001b[34m\u001b[1mwandb\u001b[0m: \tnum_classes: 3\n",
      "\u001b[34m\u001b[1mwandb\u001b[0m: \tnum_layers: 2\n",
      "\u001b[34m\u001b[1mwandb\u001b[0m: \tnum_seed_points: 2\n",
      "\u001b[34m\u001b[1mwandb\u001b[0m: \tpool_ratio: 0.5\n",
      "\u001b[34m\u001b[1mwandb\u001b[0m: \tstep_size: 1\n",
      "\u001b[34m\u001b[1mwandb\u001b[0m: \tweight_decay: 0.0001\n",
      "\u001b[34m\u001b[1mwandb\u001b[0m: \twindow_size: 30\n"
     ]
    },
    {
     "data": {
      "text/html": [
       "Tracking run with wandb version 0.19.6"
      ],
      "text/plain": [
       "<IPython.core.display.HTML object>"
      ]
     },
     "metadata": {},
     "output_type": "display_data"
    },
    {
     "data": {
      "text/html": [
       "W&B syncing is set to <code>`offline`<code> in this directory.  <br>Run <code>`wandb online`<code> or set <code>WANDB_MODE=online<code> to enable cloud syncing."
      ],
      "text/plain": [
       "<IPython.core.display.HTML object>"
      ]
     },
     "metadata": {},
     "output_type": "display_data"
    },
    {
     "name": "stdout",
     "output_type": "stream",
     "text": [
      "{'batch_size': 16, 'fc_dropout': 0.1, 'graph_dropout': 1, 'graph_num_head': 1, 'hidden_dim': 16, 'learning_rate': 0.001, 'lstm_bidirectional': True, 'lstm_hidden_dim': 16, 'lstm_num_layers': 1, 'num_classes': 3, 'num_layers': 2, 'num_seed_points': 2, 'pool_ratio': 0.5, 'step_size': 1, 'weight_decay': 0.0001, 'window_size': 30}\n",
      "\n",
      "=== Training Scene: motor ===\n",
      "从缓存文件加载数据: ./dataset/cache/motor_30_1_dataset_aug_cache.pkl\n"
     ]
    },
    {
     "name": "stderr",
     "output_type": "stream",
     "text": [
      "Epoch 1/5: 100%|██████████| 322/322 [01:25<00:00,  3.79it/s, loss=1.3248]\n"
     ]
    },
    {
     "name": "stdout",
     "output_type": "stream",
     "text": [
      "Epoch 1 | Train Loss: 1.2062 | Val Acc: 0.3333 | Val Prec: 0.1239 | Val Recall: 0.3333 | Val F1: 0.1807\n"
     ]
    },
    {
     "name": "stderr",
     "output_type": "stream",
     "text": [
      "Epoch 2/5: 100%|██████████| 322/322 [01:23<00:00,  3.86it/s, loss=1.0772]\n"
     ]
    },
    {
     "name": "stdout",
     "output_type": "stream",
     "text": [
      "Epoch 2 | Train Loss: 1.1858 | Val Acc: 0.4080 | Val Prec: 0.4176 | Val Recall: 0.4080 | Val F1: 0.4046\n"
     ]
    },
    {
     "name": "stderr",
     "output_type": "stream",
     "text": [
      "Epoch 3/5: 100%|██████████| 322/322 [01:24<00:00,  3.81it/s, loss=0.8326]\n"
     ]
    },
    {
     "name": "stdout",
     "output_type": "stream",
     "text": [
      "Epoch 3 | Train Loss: 1.1494 | Val Acc: 0.4156 | Val Prec: 0.4959 | Val Recall: 0.4156 | Val F1: 0.4043\n"
     ]
    },
    {
     "name": "stderr",
     "output_type": "stream",
     "text": [
      "Epoch 4/5: 100%|██████████| 322/322 [01:23<00:00,  3.85it/s, loss=1.1574]\n"
     ]
    },
    {
     "name": "stdout",
     "output_type": "stream",
     "text": [
      "Epoch 4 | Train Loss: 1.1215 | Val Acc: 0.4413 | Val Prec: 0.4513 | Val Recall: 0.4413 | Val F1: 0.4451\n"
     ]
    },
    {
     "name": "stderr",
     "output_type": "stream",
     "text": [
      "Epoch 5/5: 100%|██████████| 322/322 [01:24<00:00,  3.81it/s, loss=0.8230]\n"
     ]
    },
    {
     "name": "stdout",
     "output_type": "stream",
     "text": [
      "Epoch 5 | Train Loss: 1.0760 | Val Acc: 0.4491 | Val Prec: 0.4299 | Val Recall: 0.4491 | Val F1: 0.4289\n",
      "Best validation F1: 0.4289\n",
      "Checkpoint saved at epoch 4\n"
     ]
    },
    {
     "data": {
      "text/html": [],
      "text/plain": [
       "<IPython.core.display.HTML object>"
      ]
     },
     "metadata": {},
     "output_type": "display_data"
    },
    {
     "data": {
      "text/html": [
       "<br>    <style><br>        .wandb-row {<br>            display: flex;<br>            flex-direction: row;<br>            flex-wrap: wrap;<br>            justify-content: flex-start;<br>            width: 100%;<br>        }<br>        .wandb-col {<br>            display: flex;<br>            flex-direction: column;<br>            flex-basis: 100%;<br>            flex: 1;<br>            padding: 10px;<br>        }<br>    </style><br><div class=\"wandb-row\"><div class=\"wandb-col\"><h3>Run history:</h3><br/><table class=\"wandb\"><tr><td>epoch</td><td>▁▃▅▆█</td></tr><tr><td>train_loss</td><td>█▇▅▃▁</td></tr><tr><td>val_accuracy</td><td>▁▆▆██</td></tr><tr><td>val_f1</td><td>▁▇▇██</td></tr><tr><td>val_precision</td><td>▁▇█▇▇</td></tr><tr><td>val_recall</td><td>▁▆▆██</td></tr><tr><td>validation_accuracy</td><td>▁▆▆██</td></tr><tr><td>validation_f1</td><td>▁▇▇██</td></tr><tr><td>validation_precision</td><td>▁▇█▇▇</td></tr><tr><td>validation_recall</td><td>▁▆▆██</td></tr></table><br/></div><div class=\"wandb-col\"><h3>Run summary:</h3><br/><table class=\"wandb\"><tr><td>best_val_f1</td><td>0.42892</td></tr><tr><td>epoch</td><td>5</td></tr><tr><td>train_loss</td><td>1.07602</td></tr><tr><td>val_accuracy</td><td>0.44911</td></tr><tr><td>val_f1</td><td>0.42892</td></tr><tr><td>val_precision</td><td>0.42994</td></tr><tr><td>val_recall</td><td>0.44911</td></tr><tr><td>validation_accuracy</td><td>0.44911</td></tr><tr><td>validation_f1</td><td>0.42892</td></tr><tr><td>validation_precision</td><td>0.42994</td></tr><tr><td>validation_recall</td><td>0.44911</td></tr></table><br/></div></div>"
      ],
      "text/plain": [
       "<IPython.core.display.HTML object>"
      ]
     },
     "metadata": {},
     "output_type": "display_data"
    },
    {
     "data": {
      "text/html": [
       "You can sync this run to the cloud by running:<br><code>wandb sync d:\\OneDrive - chd.edu.cn\\Desktop\\毕业论文数据\\code\\STNet\\wandb\\offline-run-20250206_232708-1exlqsut<code>"
      ],
      "text/plain": [
       "<IPython.core.display.HTML object>"
      ]
     },
     "metadata": {},
     "output_type": "display_data"
    },
    {
     "data": {
      "text/html": [
       "Find logs at: <code>.\\wandb\\offline-run-20250206_232708-1exlqsut\\logs</code>"
      ],
      "text/plain": [
       "<IPython.core.display.HTML object>"
      ]
     },
     "metadata": {},
     "output_type": "display_data"
    },
    {
     "name": "stderr",
     "output_type": "stream",
     "text": [
      "\u001b[34m\u001b[1mwandb\u001b[0m: Agent Starting Run: rqx3nm83 with config:\n",
      "\u001b[34m\u001b[1mwandb\u001b[0m: \tbatch_size: 16\n",
      "\u001b[34m\u001b[1mwandb\u001b[0m: \tfc_dropout: 0.1\n",
      "\u001b[34m\u001b[1mwandb\u001b[0m: \tgraph_dropout: 1\n",
      "\u001b[34m\u001b[1mwandb\u001b[0m: \tgraph_num_head: 1\n",
      "\u001b[34m\u001b[1mwandb\u001b[0m: \thidden_dim: 16\n",
      "\u001b[34m\u001b[1mwandb\u001b[0m: \tlearning_rate: 0.001\n",
      "\u001b[34m\u001b[1mwandb\u001b[0m: \tlstm_bidirectional: True\n",
      "\u001b[34m\u001b[1mwandb\u001b[0m: \tlstm_hidden_dim: 16\n",
      "\u001b[34m\u001b[1mwandb\u001b[0m: \tlstm_num_layers: 1\n",
      "\u001b[34m\u001b[1mwandb\u001b[0m: \tnum_classes: 3\n",
      "\u001b[34m\u001b[1mwandb\u001b[0m: \tnum_layers: 2\n",
      "\u001b[34m\u001b[1mwandb\u001b[0m: \tnum_seed_points: 2\n",
      "\u001b[34m\u001b[1mwandb\u001b[0m: \tpool_ratio: 0.5\n",
      "\u001b[34m\u001b[1mwandb\u001b[0m: \tstep_size: 1\n",
      "\u001b[34m\u001b[1mwandb\u001b[0m: \tweight_decay: 0.0001\n",
      "\u001b[34m\u001b[1mwandb\u001b[0m: \twindow_size: 40\n"
     ]
    },
    {
     "data": {
      "text/html": [
       "Tracking run with wandb version 0.19.6"
      ],
      "text/plain": [
       "<IPython.core.display.HTML object>"
      ]
     },
     "metadata": {},
     "output_type": "display_data"
    },
    {
     "data": {
      "text/html": [
       "W&B syncing is set to <code>`offline`<code> in this directory.  <br>Run <code>`wandb online`<code> or set <code>WANDB_MODE=online<code> to enable cloud syncing."
      ],
      "text/plain": [
       "<IPython.core.display.HTML object>"
      ]
     },
     "metadata": {},
     "output_type": "display_data"
    },
    {
     "name": "stdout",
     "output_type": "stream",
     "text": [
      "{'batch_size': 16, 'fc_dropout': 0.1, 'graph_dropout': 1, 'graph_num_head': 1, 'hidden_dim': 16, 'learning_rate': 0.001, 'lstm_bidirectional': True, 'lstm_hidden_dim': 16, 'lstm_num_layers': 1, 'num_classes': 3, 'num_layers': 2, 'num_seed_points': 2, 'pool_ratio': 0.5, 'step_size': 1, 'weight_decay': 0.0001, 'window_size': 40}\n",
      "\n",
      "=== Training Scene: motor ===\n",
      "未找到缓存文件，重新加载数据...\n",
      "Extracted num_layers: 2, hidden_dim: 16\n",
      "正在加载数据目录: ./dataset/driving-scene-graph/secondary-road\n"
     ]
    },
    {
     "name": "stderr",
     "output_type": "stream",
     "text": [
      "d:\\software\\anaconda3\\envs\\biye\\lib\\site-packages\\sklearn\\cluster\\_kmeans.py:1419: UserWarning: KMeans is known to have a memory leak on Windows with MKL, when there are less chunks than available threads. You can avoid it by setting the environment variable OMP_NUM_THREADS=4.\n",
      "  warnings.warn(\n"
     ]
    },
    {
     "name": "stdout",
     "output_type": "stream",
     "text": [
      "[Warning] 图和标签数量不匹配, 补充: ./dataset/driving-scene-graph/secondary-road\\1.13_h.264_seg-0\\1.13_h.264_seg-0_scenario_graphs.pkl\n"
     ]
    },
    {
     "name": "stderr",
     "output_type": "stream",
     "text": [
      "d:\\software\\anaconda3\\envs\\biye\\lib\\site-packages\\sklearn\\cluster\\_kmeans.py:1419: UserWarning: KMeans is known to have a memory leak on Windows with MKL, when there are less chunks than available threads. You can avoid it by setting the environment variable OMP_NUM_THREADS=4.\n",
      "  warnings.warn(\n"
     ]
    },
    {
     "name": "stdout",
     "output_type": "stream",
     "text": [
      "[Warning] 图和标签数量不匹配, 补充: ./dataset/driving-scene-graph/secondary-road\\1.13_h.264_seg-1\\1.13_h.264_seg-1_scenario_graphs.pkl\n"
     ]
    },
    {
     "name": "stderr",
     "output_type": "stream",
     "text": [
      "d:\\software\\anaconda3\\envs\\biye\\lib\\site-packages\\sklearn\\cluster\\_kmeans.py:1419: UserWarning: KMeans is known to have a memory leak on Windows with MKL, when there are less chunks than available threads. You can avoid it by setting the environment variable OMP_NUM_THREADS=3.\n",
      "  warnings.warn(\n"
     ]
    },
    {
     "name": "stdout",
     "output_type": "stream",
     "text": [
      "[Warning] 图和标签数量不匹配, 补充: ./dataset/driving-scene-graph/secondary-road\\1.13_h.264_seg-2\\1.13_h.264_seg-2_scenario_graphs.pkl\n"
     ]
    },
    {
     "name": "stderr",
     "output_type": "stream",
     "text": [
      "d:\\software\\anaconda3\\envs\\biye\\lib\\site-packages\\sklearn\\cluster\\_kmeans.py:1419: UserWarning: KMeans is known to have a memory leak on Windows with MKL, when there are less chunks than available threads. You can avoid it by setting the environment variable OMP_NUM_THREADS=1.\n",
      "  warnings.warn(\n"
     ]
    },
    {
     "name": "stdout",
     "output_type": "stream",
     "text": [
      "[Warning] 图和标签数量不匹配, 补充: ./dataset/driving-scene-graph/secondary-road\\1.13_h.264_seg-3\\1.13_h.264_seg-3_scenario_graphs.pkl\n",
      "正在加载数据目录: ./dataset/driving-scene-graph/main-secondary\n",
      "[Warning] 当前路径下没有找到 CSV 文件，使用伪标签: ./dataset/driving-scene-graph/main-secondary\\140327_0751\n"
     ]
    },
    {
     "name": "stderr",
     "output_type": "stream",
     "text": [
      "d:\\software\\anaconda3\\envs\\biye\\lib\\site-packages\\sklearn\\cluster\\_kmeans.py:1419: UserWarning: KMeans is known to have a memory leak on Windows with MKL, when there are less chunks than available threads. You can avoid it by setting the environment variable OMP_NUM_THREADS=4.\n",
      "  warnings.warn(\n",
      "d:\\software\\anaconda3\\envs\\biye\\lib\\site-packages\\sklearn\\cluster\\_kmeans.py:1419: UserWarning: KMeans is known to have a memory leak on Windows with MKL, when there are less chunks than available threads. You can avoid it by setting the environment variable OMP_NUM_THREADS=5.\n",
      "  warnings.warn(\n",
      "d:\\software\\anaconda3\\envs\\biye\\lib\\site-packages\\sklearn\\cluster\\_kmeans.py:1419: UserWarning: KMeans is known to have a memory leak on Windows with MKL, when there are less chunks than available threads. You can avoid it by setting the environment variable OMP_NUM_THREADS=3.\n",
      "  warnings.warn(\n",
      "d:\\software\\anaconda3\\envs\\biye\\lib\\site-packages\\sklearn\\cluster\\_kmeans.py:1419: UserWarning: KMeans is known to have a memory leak on Windows with MKL, when there are less chunks than available threads. You can avoid it by setting the environment variable OMP_NUM_THREADS=2.\n",
      "  warnings.warn(\n",
      "d:\\software\\anaconda3\\envs\\biye\\lib\\site-packages\\sklearn\\cluster\\_kmeans.py:1419: UserWarning: KMeans is known to have a memory leak on Windows with MKL, when there are less chunks than available threads. You can avoid it by setting the environment variable OMP_NUM_THREADS=4.\n",
      "  warnings.warn(\n"
     ]
    },
    {
     "name": "stdout",
     "output_type": "stream",
     "text": [
      "[Warning] 当前路径下没有找到 CSV 文件，使用伪标签: ./dataset/driving-scene-graph/main-secondary\\144727_0207\n",
      "[Warning] 当前路径下没有找到 CSV 文件，使用伪标签: ./dataset/driving-scene-graph/main-secondary\\161531_2250\n"
     ]
    },
    {
     "name": "stderr",
     "output_type": "stream",
     "text": [
      "d:\\software\\anaconda3\\envs\\biye\\lib\\site-packages\\sklearn\\cluster\\_kmeans.py:1419: UserWarning: KMeans is known to have a memory leak on Windows with MKL, when there are less chunks than available threads. You can avoid it by setting the environment variable OMP_NUM_THREADS=3.\n",
      "  warnings.warn(\n",
      "d:\\software\\anaconda3\\envs\\biye\\lib\\site-packages\\sklearn\\cluster\\_kmeans.py:1419: UserWarning: KMeans is known to have a memory leak on Windows with MKL, when there are less chunks than available threads. You can avoid it by setting the environment variable OMP_NUM_THREADS=6.\n",
      "  warnings.warn(\n"
     ]
    },
    {
     "name": "stdout",
     "output_type": "stream",
     "text": [
      "正在将数据保存到缓存文件: ./dataset/cache/motor_40_1_dataset_aug_cache.pkl\n"
     ]
    },
    {
     "name": "stderr",
     "output_type": "stream",
     "text": [
      "Epoch 1/5: 100%|██████████| 315/315 [01:27<00:00,  3.61it/s, loss=1.0152]\n"
     ]
    },
    {
     "name": "stdout",
     "output_type": "stream",
     "text": [
      "Epoch 1 | Train Loss: 1.1792 | Val Acc: 0.4330 | Val Prec: 0.4739 | Val Recall: 0.4330 | Val F1: 0.3753\n"
     ]
    },
    {
     "name": "stderr",
     "output_type": "stream",
     "text": [
      "Epoch 2/5: 100%|██████████| 315/315 [01:25<00:00,  3.67it/s, loss=1.0274]\n"
     ]
    },
    {
     "name": "stdout",
     "output_type": "stream",
     "text": [
      "Epoch 2 | Train Loss: 1.0916 | Val Acc: 0.4376 | Val Prec: 0.4208 | Val Recall: 0.4376 | Val F1: 0.4229\n"
     ]
    },
    {
     "name": "stderr",
     "output_type": "stream",
     "text": [
      "Epoch 3/5: 100%|██████████| 315/315 [01:53<00:00,  2.76it/s, loss=0.9631]\n"
     ]
    },
    {
     "name": "stdout",
     "output_type": "stream",
     "text": [
      "Epoch 3 | Train Loss: 1.0167 | Val Acc: 0.4694 | Val Prec: 0.4454 | Val Recall: 0.4694 | Val F1: 0.4125\n"
     ]
    },
    {
     "name": "stderr",
     "output_type": "stream",
     "text": [
      "Epoch 4/5: 100%|██████████| 315/315 [04:21<00:00,  1.21it/s, loss=0.6860]\n"
     ]
    },
    {
     "name": "stdout",
     "output_type": "stream",
     "text": [
      "Epoch 4 | Train Loss: 0.9762 | Val Acc: 0.4322 | Val Prec: 0.4492 | Val Recall: 0.4322 | Val F1: 0.4363\n"
     ]
    },
    {
     "name": "stderr",
     "output_type": "stream",
     "text": [
      "Epoch 5/5: 100%|██████████| 315/315 [01:28<00:00,  3.56it/s, loss=0.8655]\n"
     ]
    },
    {
     "name": "stdout",
     "output_type": "stream",
     "text": [
      "Epoch 5 | Train Loss: 0.9609 | Val Acc: 0.4756 | Val Prec: 0.4889 | Val Recall: 0.4756 | Val F1: 0.4765\n",
      "Best validation F1: 0.4765\n",
      "Checkpoint saved at epoch 4\n"
     ]
    },
    {
     "data": {
      "text/html": [],
      "text/plain": [
       "<IPython.core.display.HTML object>"
      ]
     },
     "metadata": {},
     "output_type": "display_data"
    },
    {
     "data": {
      "text/html": [
       "<br>    <style><br>        .wandb-row {<br>            display: flex;<br>            flex-direction: row;<br>            flex-wrap: wrap;<br>            justify-content: flex-start;<br>            width: 100%;<br>        }<br>        .wandb-col {<br>            display: flex;<br>            flex-direction: column;<br>            flex-basis: 100%;<br>            flex: 1;<br>            padding: 10px;<br>        }<br>    </style><br><div class=\"wandb-row\"><div class=\"wandb-col\"><h3>Run history:</h3><br/><table class=\"wandb\"><tr><td>epoch</td><td>▁▃▅▆█</td></tr><tr><td>train_loss</td><td>█▅▃▁▁</td></tr><tr><td>val_accuracy</td><td>▁▂▇▁█</td></tr><tr><td>val_f1</td><td>▁▄▄▅█</td></tr><tr><td>val_precision</td><td>▆▁▄▄█</td></tr><tr><td>val_recall</td><td>▁▂▇▁█</td></tr><tr><td>validation_accuracy</td><td>▁▂▇▁█</td></tr><tr><td>validation_f1</td><td>▁▄▄▅█</td></tr><tr><td>validation_precision</td><td>▆▁▄▄█</td></tr><tr><td>validation_recall</td><td>▁▂▇▁█</td></tr></table><br/></div><div class=\"wandb-col\"><h3>Run summary:</h3><br/><table class=\"wandb\"><tr><td>best_val_f1</td><td>0.4765</td></tr><tr><td>epoch</td><td>5</td></tr><tr><td>train_loss</td><td>0.96088</td></tr><tr><td>val_accuracy</td><td>0.47558</td></tr><tr><td>val_f1</td><td>0.4765</td></tr><tr><td>val_precision</td><td>0.48887</td></tr><tr><td>val_recall</td><td>0.47558</td></tr><tr><td>validation_accuracy</td><td>0.47558</td></tr><tr><td>validation_f1</td><td>0.4765</td></tr><tr><td>validation_precision</td><td>0.48887</td></tr><tr><td>validation_recall</td><td>0.47558</td></tr></table><br/></div></div>"
      ],
      "text/plain": [
       "<IPython.core.display.HTML object>"
      ]
     },
     "metadata": {},
     "output_type": "display_data"
    },
    {
     "data": {
      "text/html": [
       "You can sync this run to the cloud by running:<br><code>wandb sync d:\\OneDrive - chd.edu.cn\\Desktop\\毕业论文数据\\code\\STNet\\wandb\\offline-run-20250206_233430-rqx3nm83<code>"
      ],
      "text/plain": [
       "<IPython.core.display.HTML object>"
      ]
     },
     "metadata": {},
     "output_type": "display_data"
    },
    {
     "data": {
      "text/html": [
       "Find logs at: <code>.\\wandb\\offline-run-20250206_233430-rqx3nm83\\logs</code>"
      ],
      "text/plain": [
       "<IPython.core.display.HTML object>"
      ]
     },
     "metadata": {},
     "output_type": "display_data"
    },
    {
     "name": "stderr",
     "output_type": "stream",
     "text": [
      "\u001b[34m\u001b[1mwandb\u001b[0m: Sweep Agent: Waiting for job.\n",
      "\u001b[34m\u001b[1mwandb\u001b[0m: Job received.\n",
      "\u001b[34m\u001b[1mwandb\u001b[0m: Agent Starting Run: mz5tuakl with config:\n",
      "\u001b[34m\u001b[1mwandb\u001b[0m: \tbatch_size: 16\n",
      "\u001b[34m\u001b[1mwandb\u001b[0m: \tfc_dropout: 0.1\n",
      "\u001b[34m\u001b[1mwandb\u001b[0m: \tgraph_dropout: 1\n",
      "\u001b[34m\u001b[1mwandb\u001b[0m: \tgraph_num_head: 1\n",
      "\u001b[34m\u001b[1mwandb\u001b[0m: \thidden_dim: 16\n",
      "\u001b[34m\u001b[1mwandb\u001b[0m: \tlearning_rate: 0.001\n",
      "\u001b[34m\u001b[1mwandb\u001b[0m: \tlstm_bidirectional: True\n",
      "\u001b[34m\u001b[1mwandb\u001b[0m: \tlstm_hidden_dim: 16\n",
      "\u001b[34m\u001b[1mwandb\u001b[0m: \tlstm_num_layers: 1\n",
      "\u001b[34m\u001b[1mwandb\u001b[0m: \tnum_classes: 3\n",
      "\u001b[34m\u001b[1mwandb\u001b[0m: \tnum_layers: 2\n",
      "\u001b[34m\u001b[1mwandb\u001b[0m: \tnum_seed_points: 2\n",
      "\u001b[34m\u001b[1mwandb\u001b[0m: \tpool_ratio: 0.5\n",
      "\u001b[34m\u001b[1mwandb\u001b[0m: \tstep_size: 1\n",
      "\u001b[34m\u001b[1mwandb\u001b[0m: \tweight_decay: 0.001\n",
      "\u001b[34m\u001b[1mwandb\u001b[0m: \twindow_size: 10\n"
     ]
    },
    {
     "data": {
      "text/html": [
       "Tracking run with wandb version 0.19.6"
      ],
      "text/plain": [
       "<IPython.core.display.HTML object>"
      ]
     },
     "metadata": {},
     "output_type": "display_data"
    },
    {
     "data": {
      "text/html": [
       "W&B syncing is set to <code>`offline`<code> in this directory.  <br>Run <code>`wandb online`<code> or set <code>WANDB_MODE=online<code> to enable cloud syncing."
      ],
      "text/plain": [
       "<IPython.core.display.HTML object>"
      ]
     },
     "metadata": {},
     "output_type": "display_data"
    },
    {
     "name": "stdout",
     "output_type": "stream",
     "text": [
      "{'batch_size': 16, 'fc_dropout': 0.1, 'graph_dropout': 1, 'graph_num_head': 1, 'hidden_dim': 16, 'learning_rate': 0.001, 'lstm_bidirectional': True, 'lstm_hidden_dim': 16, 'lstm_num_layers': 1, 'num_classes': 3, 'num_layers': 2, 'num_seed_points': 2, 'pool_ratio': 0.5, 'step_size': 1, 'weight_decay': 0.001, 'window_size': 10}\n",
      "\n",
      "=== Training Scene: motor ===\n",
      "从缓存文件加载数据: ./dataset/cache/motor_10_1_dataset_aug_cache.pkl\n"
     ]
    },
    {
     "name": "stderr",
     "output_type": "stream",
     "text": [
      "Epoch 1/5: 100%|██████████| 336/336 [01:21<00:00,  4.11it/s, loss=1.1428]\n"
     ]
    },
    {
     "name": "stdout",
     "output_type": "stream",
     "text": [
      "Epoch 1 | Train Loss: 1.2082 | Val Acc: 0.3333 | Val Prec: 0.1110 | Val Recall: 0.3333 | Val F1: 0.1666\n"
     ]
    },
    {
     "name": "stderr",
     "output_type": "stream",
     "text": [
      "Epoch 2/5: 100%|██████████| 336/336 [01:21<00:00,  4.11it/s, loss=1.1739]\n"
     ]
    },
    {
     "name": "stdout",
     "output_type": "stream",
     "text": [
      "Epoch 2 | Train Loss: 1.1987 | Val Acc: 0.3661 | Val Prec: 0.4117 | Val Recall: 0.3661 | Val F1: 0.3179\n"
     ]
    },
    {
     "name": "stderr",
     "output_type": "stream",
     "text": [
      "Epoch 3/5: 100%|██████████| 336/336 [01:19<00:00,  4.21it/s, loss=1.0541]\n"
     ]
    },
    {
     "name": "stdout",
     "output_type": "stream",
     "text": [
      "Epoch 3 | Train Loss: 1.1357 | Val Acc: 0.3686 | Val Prec: 0.3933 | Val Recall: 0.3686 | Val F1: 0.3459\n"
     ]
    },
    {
     "name": "stderr",
     "output_type": "stream",
     "text": [
      "Epoch 4/5: 100%|██████████| 336/336 [01:19<00:00,  4.20it/s, loss=1.1768]\n"
     ]
    },
    {
     "name": "stdout",
     "output_type": "stream",
     "text": [
      "Epoch 4 | Train Loss: 1.0889 | Val Acc: 0.4244 | Val Prec: 0.4640 | Val Recall: 0.4244 | Val F1: 0.3545\n"
     ]
    },
    {
     "name": "stderr",
     "output_type": "stream",
     "text": [
      "Epoch 5/5: 100%|██████████| 336/336 [01:17<00:00,  4.31it/s, loss=0.8307]\n"
     ]
    },
    {
     "name": "stdout",
     "output_type": "stream",
     "text": [
      "Epoch 5 | Train Loss: 1.0713 | Val Acc: 0.4440 | Val Prec: 0.4387 | Val Recall: 0.4440 | Val F1: 0.4078\n",
      "Best validation F1: 0.4078\n",
      "Checkpoint saved at epoch 4\n"
     ]
    },
    {
     "data": {
      "text/html": [],
      "text/plain": [
       "<IPython.core.display.HTML object>"
      ]
     },
     "metadata": {},
     "output_type": "display_data"
    },
    {
     "data": {
      "text/html": [
       "<br>    <style><br>        .wandb-row {<br>            display: flex;<br>            flex-direction: row;<br>            flex-wrap: wrap;<br>            justify-content: flex-start;<br>            width: 100%;<br>        }<br>        .wandb-col {<br>            display: flex;<br>            flex-direction: column;<br>            flex-basis: 100%;<br>            flex: 1;<br>            padding: 10px;<br>        }<br>    </style><br><div class=\"wandb-row\"><div class=\"wandb-col\"><h3>Run history:</h3><br/><table class=\"wandb\"><tr><td>epoch</td><td>▁▃▅▆█</td></tr><tr><td>train_loss</td><td>██▄▂▁</td></tr><tr><td>val_accuracy</td><td>▁▃▃▇█</td></tr><tr><td>val_f1</td><td>▁▅▆▆█</td></tr><tr><td>val_precision</td><td>▁▇▇██</td></tr><tr><td>val_recall</td><td>▁▃▃▇█</td></tr><tr><td>validation_accuracy</td><td>▁▃▃▇█</td></tr><tr><td>validation_f1</td><td>▁▅▆▆█</td></tr><tr><td>validation_precision</td><td>▁▇▇██</td></tr><tr><td>validation_recall</td><td>▁▃▃▇█</td></tr></table><br/></div><div class=\"wandb-col\"><h3>Run summary:</h3><br/><table class=\"wandb\"><tr><td>best_val_f1</td><td>0.40782</td></tr><tr><td>epoch</td><td>5</td></tr><tr><td>train_loss</td><td>1.07134</td></tr><tr><td>val_accuracy</td><td>0.44403</td></tr><tr><td>val_f1</td><td>0.40782</td></tr><tr><td>val_precision</td><td>0.43875</td></tr><tr><td>val_recall</td><td>0.44403</td></tr><tr><td>validation_accuracy</td><td>0.44403</td></tr><tr><td>validation_f1</td><td>0.40782</td></tr><tr><td>validation_precision</td><td>0.43875</td></tr><tr><td>validation_recall</td><td>0.44403</td></tr></table><br/></div></div>"
      ],
      "text/plain": [
       "<IPython.core.display.HTML object>"
      ]
     },
     "metadata": {},
     "output_type": "display_data"
    },
    {
     "data": {
      "text/html": [
       "You can sync this run to the cloud by running:<br><code>wandb sync d:\\OneDrive - chd.edu.cn\\Desktop\\毕业论文数据\\code\\STNet\\wandb\\offline-run-20250206_235042-mz5tuakl<code>"
      ],
      "text/plain": [
       "<IPython.core.display.HTML object>"
      ]
     },
     "metadata": {},
     "output_type": "display_data"
    },
    {
     "data": {
      "text/html": [
       "Find logs at: <code>.\\wandb\\offline-run-20250206_235042-mz5tuakl\\logs</code>"
      ],
      "text/plain": [
       "<IPython.core.display.HTML object>"
      ]
     },
     "metadata": {},
     "output_type": "display_data"
    },
    {
     "name": "stderr",
     "output_type": "stream",
     "text": [
      "\u001b[34m\u001b[1mwandb\u001b[0m: Agent Starting Run: sm0le8eb with config:\n",
      "\u001b[34m\u001b[1mwandb\u001b[0m: \tbatch_size: 16\n",
      "\u001b[34m\u001b[1mwandb\u001b[0m: \tfc_dropout: 0.1\n",
      "\u001b[34m\u001b[1mwandb\u001b[0m: \tgraph_dropout: 1\n",
      "\u001b[34m\u001b[1mwandb\u001b[0m: \tgraph_num_head: 1\n",
      "\u001b[34m\u001b[1mwandb\u001b[0m: \thidden_dim: 16\n",
      "\u001b[34m\u001b[1mwandb\u001b[0m: \tlearning_rate: 0.001\n",
      "\u001b[34m\u001b[1mwandb\u001b[0m: \tlstm_bidirectional: True\n",
      "\u001b[34m\u001b[1mwandb\u001b[0m: \tlstm_hidden_dim: 16\n",
      "\u001b[34m\u001b[1mwandb\u001b[0m: \tlstm_num_layers: 1\n",
      "\u001b[34m\u001b[1mwandb\u001b[0m: \tnum_classes: 3\n",
      "\u001b[34m\u001b[1mwandb\u001b[0m: \tnum_layers: 2\n",
      "\u001b[34m\u001b[1mwandb\u001b[0m: \tnum_seed_points: 2\n",
      "\u001b[34m\u001b[1mwandb\u001b[0m: \tpool_ratio: 0.5\n",
      "\u001b[34m\u001b[1mwandb\u001b[0m: \tstep_size: 1\n",
      "\u001b[34m\u001b[1mwandb\u001b[0m: \tweight_decay: 0.001\n",
      "\u001b[34m\u001b[1mwandb\u001b[0m: \twindow_size: 20\n"
     ]
    },
    {
     "data": {
      "text/html": [
       "Tracking run with wandb version 0.19.6"
      ],
      "text/plain": [
       "<IPython.core.display.HTML object>"
      ]
     },
     "metadata": {},
     "output_type": "display_data"
    },
    {
     "data": {
      "text/html": [
       "W&B syncing is set to <code>`offline`<code> in this directory.  <br>Run <code>`wandb online`<code> or set <code>WANDB_MODE=online<code> to enable cloud syncing."
      ],
      "text/plain": [
       "<IPython.core.display.HTML object>"
      ]
     },
     "metadata": {},
     "output_type": "display_data"
    },
    {
     "name": "stdout",
     "output_type": "stream",
     "text": [
      "{'batch_size': 16, 'fc_dropout': 0.1, 'graph_dropout': 1, 'graph_num_head': 1, 'hidden_dim': 16, 'learning_rate': 0.001, 'lstm_bidirectional': True, 'lstm_hidden_dim': 16, 'lstm_num_layers': 1, 'num_classes': 3, 'num_layers': 2, 'num_seed_points': 2, 'pool_ratio': 0.5, 'step_size': 1, 'weight_decay': 0.001, 'window_size': 20}\n",
      "\n",
      "=== Training Scene: motor ===\n",
      "从缓存文件加载数据: ./dataset/cache/motor_20_1_dataset_aug_cache.pkl\n"
     ]
    },
    {
     "name": "stderr",
     "output_type": "stream",
     "text": [
      "Epoch 1/5: 100%|██████████| 329/329 [01:23<00:00,  3.95it/s, loss=1.2319]\n"
     ]
    },
    {
     "name": "stdout",
     "output_type": "stream",
     "text": [
      "Epoch 1 | Train Loss: 1.2061 | Val Acc: 0.3427 | Val Prec: 0.3546 | Val Recall: 0.3427 | Val F1: 0.2062\n"
     ]
    },
    {
     "name": "stderr",
     "output_type": "stream",
     "text": [
      "Epoch 2/5: 100%|██████████| 329/329 [01:22<00:00,  3.98it/s, loss=1.0848]\n"
     ]
    },
    {
     "name": "stdout",
     "output_type": "stream",
     "text": [
      "Epoch 2 | Train Loss: 1.1697 | Val Acc: 0.3755 | Val Prec: 0.6043 | Val Recall: 0.3755 | Val F1: 0.2853\n"
     ]
    },
    {
     "name": "stderr",
     "output_type": "stream",
     "text": [
      "Epoch 3/5: 100%|██████████| 329/329 [01:23<00:00,  3.96it/s, loss=0.8657]\n"
     ]
    },
    {
     "name": "stdout",
     "output_type": "stream",
     "text": [
      "Epoch 3 | Train Loss: 1.0611 | Val Acc: 0.4574 | Val Prec: 0.4459 | Val Recall: 0.4574 | Val F1: 0.4080\n"
     ]
    },
    {
     "name": "stderr",
     "output_type": "stream",
     "text": [
      "Epoch 4/5: 100%|██████████| 329/329 [01:20<00:00,  4.07it/s, loss=1.2551]\n"
     ]
    },
    {
     "name": "stdout",
     "output_type": "stream",
     "text": [
      "Epoch 4 | Train Loss: 1.0255 | Val Acc: 0.4481 | Val Prec: 0.4444 | Val Recall: 0.4481 | Val F1: 0.3932\n"
     ]
    },
    {
     "name": "stderr",
     "output_type": "stream",
     "text": [
      "Epoch 5/5: 100%|██████████| 329/329 [01:22<00:00,  3.97it/s, loss=0.6196]\n"
     ]
    },
    {
     "name": "stdout",
     "output_type": "stream",
     "text": [
      "Epoch 5 | Train Loss: 0.9893 | Val Acc: 0.4701 | Val Prec: 0.4652 | Val Recall: 0.4701 | Val F1: 0.4545\n",
      "Best validation F1: 0.4545\n",
      "Checkpoint saved at epoch 4\n"
     ]
    },
    {
     "data": {
      "text/html": [],
      "text/plain": [
       "<IPython.core.display.HTML object>"
      ]
     },
     "metadata": {},
     "output_type": "display_data"
    },
    {
     "data": {
      "text/html": [
       "<br>    <style><br>        .wandb-row {<br>            display: flex;<br>            flex-direction: row;<br>            flex-wrap: wrap;<br>            justify-content: flex-start;<br>            width: 100%;<br>        }<br>        .wandb-col {<br>            display: flex;<br>            flex-direction: column;<br>            flex-basis: 100%;<br>            flex: 1;<br>            padding: 10px;<br>        }<br>    </style><br><div class=\"wandb-row\"><div class=\"wandb-col\"><h3>Run history:</h3><br/><table class=\"wandb\"><tr><td>epoch</td><td>▁▃▅▆█</td></tr><tr><td>train_loss</td><td>█▇▃▂▁</td></tr><tr><td>val_accuracy</td><td>▁▃▇▇█</td></tr><tr><td>val_f1</td><td>▁▃▇▆█</td></tr><tr><td>val_precision</td><td>▁█▄▄▄</td></tr><tr><td>val_recall</td><td>▁▃▇▇█</td></tr><tr><td>validation_accuracy</td><td>▁▃▇▇█</td></tr><tr><td>validation_f1</td><td>▁▃▇▆█</td></tr><tr><td>validation_precision</td><td>▁█▄▄▄</td></tr><tr><td>validation_recall</td><td>▁▃▇▇█</td></tr></table><br/></div><div class=\"wandb-col\"><h3>Run summary:</h3><br/><table class=\"wandb\"><tr><td>best_val_f1</td><td>0.45447</td></tr><tr><td>epoch</td><td>5</td></tr><tr><td>train_loss</td><td>0.98935</td></tr><tr><td>val_accuracy</td><td>0.47006</td></tr><tr><td>val_f1</td><td>0.45447</td></tr><tr><td>val_precision</td><td>0.46525</td></tr><tr><td>val_recall</td><td>0.47006</td></tr><tr><td>validation_accuracy</td><td>0.47006</td></tr><tr><td>validation_f1</td><td>0.45447</td></tr><tr><td>validation_precision</td><td>0.46525</td></tr><tr><td>validation_recall</td><td>0.47006</td></tr></table><br/></div></div>"
      ],
      "text/plain": [
       "<IPython.core.display.HTML object>"
      ]
     },
     "metadata": {},
     "output_type": "display_data"
    },
    {
     "data": {
      "text/html": [
       "You can sync this run to the cloud by running:<br><code>wandb sync d:\\OneDrive - chd.edu.cn\\Desktop\\毕业论文数据\\code\\STNet\\wandb\\offline-run-20250206_235741-sm0le8eb<code>"
      ],
      "text/plain": [
       "<IPython.core.display.HTML object>"
      ]
     },
     "metadata": {},
     "output_type": "display_data"
    },
    {
     "data": {
      "text/html": [
       "Find logs at: <code>.\\wandb\\offline-run-20250206_235741-sm0le8eb\\logs</code>"
      ],
      "text/plain": [
       "<IPython.core.display.HTML object>"
      ]
     },
     "metadata": {},
     "output_type": "display_data"
    },
    {
     "name": "stderr",
     "output_type": "stream",
     "text": [
      "\u001b[34m\u001b[1mwandb\u001b[0m: Agent Starting Run: 9iohzw5v with config:\n",
      "\u001b[34m\u001b[1mwandb\u001b[0m: \tbatch_size: 16\n",
      "\u001b[34m\u001b[1mwandb\u001b[0m: \tfc_dropout: 0.1\n",
      "\u001b[34m\u001b[1mwandb\u001b[0m: \tgraph_dropout: 1\n",
      "\u001b[34m\u001b[1mwandb\u001b[0m: \tgraph_num_head: 1\n",
      "\u001b[34m\u001b[1mwandb\u001b[0m: \thidden_dim: 16\n",
      "\u001b[34m\u001b[1mwandb\u001b[0m: \tlearning_rate: 0.001\n",
      "\u001b[34m\u001b[1mwandb\u001b[0m: \tlstm_bidirectional: True\n",
      "\u001b[34m\u001b[1mwandb\u001b[0m: \tlstm_hidden_dim: 16\n",
      "\u001b[34m\u001b[1mwandb\u001b[0m: \tlstm_num_layers: 1\n",
      "\u001b[34m\u001b[1mwandb\u001b[0m: \tnum_classes: 3\n",
      "\u001b[34m\u001b[1mwandb\u001b[0m: \tnum_layers: 2\n",
      "\u001b[34m\u001b[1mwandb\u001b[0m: \tnum_seed_points: 2\n",
      "\u001b[34m\u001b[1mwandb\u001b[0m: \tpool_ratio: 0.5\n",
      "\u001b[34m\u001b[1mwandb\u001b[0m: \tstep_size: 1\n",
      "\u001b[34m\u001b[1mwandb\u001b[0m: \tweight_decay: 0.001\n",
      "\u001b[34m\u001b[1mwandb\u001b[0m: \twindow_size: 30\n"
     ]
    },
    {
     "data": {
      "text/html": [
       "Tracking run with wandb version 0.19.6"
      ],
      "text/plain": [
       "<IPython.core.display.HTML object>"
      ]
     },
     "metadata": {},
     "output_type": "display_data"
    },
    {
     "data": {
      "text/html": [
       "W&B syncing is set to <code>`offline`<code> in this directory.  <br>Run <code>`wandb online`<code> or set <code>WANDB_MODE=online<code> to enable cloud syncing."
      ],
      "text/plain": [
       "<IPython.core.display.HTML object>"
      ]
     },
     "metadata": {},
     "output_type": "display_data"
    },
    {
     "name": "stdout",
     "output_type": "stream",
     "text": [
      "{'batch_size': 16, 'fc_dropout': 0.1, 'graph_dropout': 1, 'graph_num_head': 1, 'hidden_dim': 16, 'learning_rate': 0.001, 'lstm_bidirectional': True, 'lstm_hidden_dim': 16, 'lstm_num_layers': 1, 'num_classes': 3, 'num_layers': 2, 'num_seed_points': 2, 'pool_ratio': 0.5, 'step_size': 1, 'weight_decay': 0.001, 'window_size': 30}\n",
      "\n",
      "=== Training Scene: motor ===\n",
      "从缓存文件加载数据: ./dataset/cache/motor_30_1_dataset_aug_cache.pkl\n"
     ]
    },
    {
     "name": "stderr",
     "output_type": "stream",
     "text": [
      "Epoch 1/5: 100%|██████████| 322/322 [01:23<00:00,  3.85it/s, loss=1.1855]\n"
     ]
    },
    {
     "name": "stdout",
     "output_type": "stream",
     "text": [
      "Epoch 1 | Train Loss: 1.1977 | Val Acc: 0.3333 | Val Prec: 0.1239 | Val Recall: 0.3333 | Val F1: 0.1807\n"
     ]
    },
    {
     "name": "stderr",
     "output_type": "stream",
     "text": [
      "Epoch 2/5: 100%|██████████| 322/322 [01:23<00:00,  3.85it/s, loss=1.4005]\n"
     ]
    },
    {
     "name": "stdout",
     "output_type": "stream",
     "text": [
      "Epoch 2 | Train Loss: 1.1040 | Val Acc: 0.4449 | Val Prec: 0.5056 | Val Recall: 0.4449 | Val F1: 0.3627\n"
     ]
    },
    {
     "name": "stderr",
     "output_type": "stream",
     "text": [
      "Epoch 3/5: 100%|██████████| 322/322 [01:24<00:00,  3.79it/s, loss=0.6070]\n"
     ]
    },
    {
     "name": "stdout",
     "output_type": "stream",
     "text": [
      "Epoch 3 | Train Loss: 1.0499 | Val Acc: 0.4250 | Val Prec: 0.4042 | Val Recall: 0.4250 | Val F1: 0.3996\n"
     ]
    },
    {
     "name": "stderr",
     "output_type": "stream",
     "text": [
      "Epoch 4/5: 100%|██████████| 322/322 [01:23<00:00,  3.83it/s, loss=1.0677]\n"
     ]
    },
    {
     "name": "stdout",
     "output_type": "stream",
     "text": [
      "Epoch 4 | Train Loss: 1.0105 | Val Acc: 0.4896 | Val Prec: 0.4948 | Val Recall: 0.4896 | Val F1: 0.4595\n"
     ]
    },
    {
     "name": "stderr",
     "output_type": "stream",
     "text": [
      "Epoch 5/5: 100%|██████████| 322/322 [01:24<00:00,  3.83it/s, loss=1.2322]\n"
     ]
    },
    {
     "name": "stdout",
     "output_type": "stream",
     "text": [
      "Epoch 5 | Train Loss: 0.9904 | Val Acc: 0.5006 | Val Prec: 0.5303 | Val Recall: 0.5006 | Val F1: 0.4494\n",
      "Best validation F1: 0.4494\n",
      "Checkpoint saved at epoch 4\n"
     ]
    },
    {
     "data": {
      "text/html": [],
      "text/plain": [
       "<IPython.core.display.HTML object>"
      ]
     },
     "metadata": {},
     "output_type": "display_data"
    },
    {
     "data": {
      "text/html": [
       "<br>    <style><br>        .wandb-row {<br>            display: flex;<br>            flex-direction: row;<br>            flex-wrap: wrap;<br>            justify-content: flex-start;<br>            width: 100%;<br>        }<br>        .wandb-col {<br>            display: flex;<br>            flex-direction: column;<br>            flex-basis: 100%;<br>            flex: 1;<br>            padding: 10px;<br>        }<br>    </style><br><div class=\"wandb-row\"><div class=\"wandb-col\"><h3>Run history:</h3><br/><table class=\"wandb\"><tr><td>epoch</td><td>▁▃▅▆█</td></tr><tr><td>train_loss</td><td>█▅▃▂▁</td></tr><tr><td>val_accuracy</td><td>▁▆▅██</td></tr><tr><td>val_f1</td><td>▁▆▆██</td></tr><tr><td>val_precision</td><td>▁█▆▇█</td></tr><tr><td>val_recall</td><td>▁▆▅██</td></tr><tr><td>validation_accuracy</td><td>▁▆▅██</td></tr><tr><td>validation_f1</td><td>▁▆▆██</td></tr><tr><td>validation_precision</td><td>▁█▆▇█</td></tr><tr><td>validation_recall</td><td>▁▆▅██</td></tr></table><br/></div><div class=\"wandb-col\"><h3>Run summary:</h3><br/><table class=\"wandb\"><tr><td>best_val_f1</td><td>0.44937</td></tr><tr><td>epoch</td><td>5</td></tr><tr><td>train_loss</td><td>0.99042</td></tr><tr><td>val_accuracy</td><td>0.50063</td></tr><tr><td>val_f1</td><td>0.44937</td></tr><tr><td>val_precision</td><td>0.5303</td></tr><tr><td>val_recall</td><td>0.50063</td></tr><tr><td>validation_accuracy</td><td>0.50063</td></tr><tr><td>validation_f1</td><td>0.44937</td></tr><tr><td>validation_precision</td><td>0.5303</td></tr><tr><td>validation_recall</td><td>0.50063</td></tr></table><br/></div></div>"
      ],
      "text/plain": [
       "<IPython.core.display.HTML object>"
      ]
     },
     "metadata": {},
     "output_type": "display_data"
    },
    {
     "data": {
      "text/html": [
       "You can sync this run to the cloud by running:<br><code>wandb sync d:\\OneDrive - chd.edu.cn\\Desktop\\毕业论文数据\\code\\STNet\\wandb\\offline-run-20250207_000456-9iohzw5v<code>"
      ],
      "text/plain": [
       "<IPython.core.display.HTML object>"
      ]
     },
     "metadata": {},
     "output_type": "display_data"
    },
    {
     "data": {
      "text/html": [
       "Find logs at: <code>.\\wandb\\offline-run-20250207_000456-9iohzw5v\\logs</code>"
      ],
      "text/plain": [
       "<IPython.core.display.HTML object>"
      ]
     },
     "metadata": {},
     "output_type": "display_data"
    },
    {
     "name": "stderr",
     "output_type": "stream",
     "text": [
      "\u001b[34m\u001b[1mwandb\u001b[0m: Sweep Agent: Waiting for job.\n",
      "\u001b[34m\u001b[1mwandb\u001b[0m: Job received.\n",
      "\u001b[34m\u001b[1mwandb\u001b[0m: Agent Starting Run: i2bv1w9m with config:\n",
      "\u001b[34m\u001b[1mwandb\u001b[0m: \tbatch_size: 16\n",
      "\u001b[34m\u001b[1mwandb\u001b[0m: \tfc_dropout: 0.1\n",
      "\u001b[34m\u001b[1mwandb\u001b[0m: \tgraph_dropout: 1\n",
      "\u001b[34m\u001b[1mwandb\u001b[0m: \tgraph_num_head: 1\n",
      "\u001b[34m\u001b[1mwandb\u001b[0m: \thidden_dim: 16\n",
      "\u001b[34m\u001b[1mwandb\u001b[0m: \tlearning_rate: 0.001\n",
      "\u001b[34m\u001b[1mwandb\u001b[0m: \tlstm_bidirectional: True\n",
      "\u001b[34m\u001b[1mwandb\u001b[0m: \tlstm_hidden_dim: 16\n",
      "\u001b[34m\u001b[1mwandb\u001b[0m: \tlstm_num_layers: 1\n",
      "\u001b[34m\u001b[1mwandb\u001b[0m: \tnum_classes: 3\n",
      "\u001b[34m\u001b[1mwandb\u001b[0m: \tnum_layers: 2\n",
      "\u001b[34m\u001b[1mwandb\u001b[0m: \tnum_seed_points: 2\n",
      "\u001b[34m\u001b[1mwandb\u001b[0m: \tpool_ratio: 0.5\n",
      "\u001b[34m\u001b[1mwandb\u001b[0m: \tstep_size: 1\n",
      "\u001b[34m\u001b[1mwandb\u001b[0m: \tweight_decay: 0.0001\n",
      "\u001b[34m\u001b[1mwandb\u001b[0m: \twindow_size: 10\n"
     ]
    },
    {
     "data": {
      "text/html": [
       "Tracking run with wandb version 0.19.6"
      ],
      "text/plain": [
       "<IPython.core.display.HTML object>"
      ]
     },
     "metadata": {},
     "output_type": "display_data"
    },
    {
     "data": {
      "text/html": [
       "W&B syncing is set to <code>`offline`<code> in this directory.  <br>Run <code>`wandb online`<code> or set <code>WANDB_MODE=online<code> to enable cloud syncing."
      ],
      "text/plain": [
       "<IPython.core.display.HTML object>"
      ]
     },
     "metadata": {},
     "output_type": "display_data"
    },
    {
     "name": "stdout",
     "output_type": "stream",
     "text": [
      "{'batch_size': 16, 'fc_dropout': 0.1, 'graph_dropout': 1, 'graph_num_head': 1, 'hidden_dim': 16, 'learning_rate': 0.001, 'lstm_bidirectional': True, 'lstm_hidden_dim': 16, 'lstm_num_layers': 1, 'num_classes': 3, 'num_layers': 2, 'num_seed_points': 2, 'pool_ratio': 0.5, 'step_size': 1, 'weight_decay': 0.0001, 'window_size': 10}\n",
      "\n",
      "=== Training Scene: motor ===\n",
      "从缓存文件加载数据: ./dataset/cache/motor_10_1_dataset_aug_cache.pkl\n"
     ]
    },
    {
     "name": "stderr",
     "output_type": "stream",
     "text": [
      "Epoch 1/5: 100%|██████████| 336/336 [01:18<00:00,  4.26it/s, loss=1.1307]\n"
     ]
    },
    {
     "name": "stdout",
     "output_type": "stream",
     "text": [
      "Epoch 1 | Train Loss: 1.1877 | Val Acc: 0.4024 | Val Prec: 0.4924 | Val Recall: 0.4024 | Val F1: 0.3435\n"
     ]
    },
    {
     "name": "stderr",
     "output_type": "stream",
     "text": [
      "Epoch 2/5: 100%|██████████| 336/336 [01:18<00:00,  4.29it/s, loss=0.6853]\n"
     ]
    },
    {
     "name": "stdout",
     "output_type": "stream",
     "text": [
      "Epoch 2 | Train Loss: 1.1183 | Val Acc: 0.4041 | Val Prec: 0.4617 | Val Recall: 0.4041 | Val F1: 0.3806\n"
     ]
    },
    {
     "name": "stderr",
     "output_type": "stream",
     "text": [
      "Epoch 3/5: 100%|██████████| 336/336 [01:19<00:00,  4.25it/s, loss=1.2754]\n"
     ]
    },
    {
     "name": "stdout",
     "output_type": "stream",
     "text": [
      "Epoch 3 | Train Loss: 1.0738 | Val Acc: 0.4435 | Val Prec: 0.5328 | Val Recall: 0.4435 | Val F1: 0.3932\n"
     ]
    },
    {
     "name": "stderr",
     "output_type": "stream",
     "text": [
      "Epoch 4/5: 100%|██████████| 336/336 [01:18<00:00,  4.27it/s, loss=1.0318]\n"
     ]
    },
    {
     "name": "stdout",
     "output_type": "stream",
     "text": [
      "Epoch 4 | Train Loss: 1.0397 | Val Acc: 0.4339 | Val Prec: 0.5245 | Val Recall: 0.4339 | Val F1: 0.3931\n"
     ]
    },
    {
     "name": "stderr",
     "output_type": "stream",
     "text": [
      "Epoch 5/5: 100%|██████████| 336/336 [01:19<00:00,  4.24it/s, loss=1.1956]\n"
     ]
    },
    {
     "name": "stdout",
     "output_type": "stream",
     "text": [
      "Epoch 5 | Train Loss: 1.0271 | Val Acc: 0.4344 | Val Prec: 0.5002 | Val Recall: 0.4344 | Val F1: 0.4121\n",
      "Best validation F1: 0.3932\n",
      "Checkpoint saved at epoch 4\n"
     ]
    },
    {
     "data": {
      "text/html": [],
      "text/plain": [
       "<IPython.core.display.HTML object>"
      ]
     },
     "metadata": {},
     "output_type": "display_data"
    },
    {
     "data": {
      "text/html": [
       "<br>    <style><br>        .wandb-row {<br>            display: flex;<br>            flex-direction: row;<br>            flex-wrap: wrap;<br>            justify-content: flex-start;<br>            width: 100%;<br>        }<br>        .wandb-col {<br>            display: flex;<br>            flex-direction: column;<br>            flex-basis: 100%;<br>            flex: 1;<br>            padding: 10px;<br>        }<br>    </style><br><div class=\"wandb-row\"><div class=\"wandb-col\"><h3>Run history:</h3><br/><table class=\"wandb\"><tr><td>epoch</td><td>▁▃▅▆█</td></tr><tr><td>train_loss</td><td>█▅▃▂▁</td></tr><tr><td>val_accuracy</td><td>▁▁█▆▆</td></tr><tr><td>val_f1</td><td>▁▅▆▆█</td></tr><tr><td>val_precision</td><td>▄▁█▇▅</td></tr><tr><td>val_recall</td><td>▁▁█▆▆</td></tr><tr><td>validation_accuracy</td><td>▁▁█▆▆</td></tr><tr><td>validation_f1</td><td>▁▅▆▆█</td></tr><tr><td>validation_precision</td><td>▄▁█▇▅</td></tr><tr><td>validation_recall</td><td>▁▁█▆▆</td></tr></table><br/></div><div class=\"wandb-col\"><h3>Run summary:</h3><br/><table class=\"wandb\"><tr><td>best_val_f1</td><td>0.39323</td></tr><tr><td>epoch</td><td>5</td></tr><tr><td>train_loss</td><td>1.02705</td></tr><tr><td>val_accuracy</td><td>0.43436</td></tr><tr><td>val_f1</td><td>0.41207</td></tr><tr><td>val_precision</td><td>0.50016</td></tr><tr><td>val_recall</td><td>0.43436</td></tr><tr><td>validation_accuracy</td><td>0.43436</td></tr><tr><td>validation_f1</td><td>0.41207</td></tr><tr><td>validation_precision</td><td>0.50016</td></tr><tr><td>validation_recall</td><td>0.43436</td></tr></table><br/></div></div>"
      ],
      "text/plain": [
       "<IPython.core.display.HTML object>"
      ]
     },
     "metadata": {},
     "output_type": "display_data"
    },
    {
     "data": {
      "text/html": [
       "You can sync this run to the cloud by running:<br><code>wandb sync d:\\OneDrive - chd.edu.cn\\Desktop\\毕业论文数据\\code\\STNet\\wandb\\offline-run-20250207_001226-i2bv1w9m<code>"
      ],
      "text/plain": [
       "<IPython.core.display.HTML object>"
      ]
     },
     "metadata": {},
     "output_type": "display_data"
    },
    {
     "data": {
      "text/html": [
       "Find logs at: <code>.\\wandb\\offline-run-20250207_001226-i2bv1w9m\\logs</code>"
      ],
      "text/plain": [
       "<IPython.core.display.HTML object>"
      ]
     },
     "metadata": {},
     "output_type": "display_data"
    },
    {
     "name": "stderr",
     "output_type": "stream",
     "text": [
      "\u001b[34m\u001b[1mwandb\u001b[0m: Agent Starting Run: idf5rv2d with config:\n",
      "\u001b[34m\u001b[1mwandb\u001b[0m: \tbatch_size: 16\n",
      "\u001b[34m\u001b[1mwandb\u001b[0m: \tfc_dropout: 0.1\n",
      "\u001b[34m\u001b[1mwandb\u001b[0m: \tgraph_dropout: 1\n",
      "\u001b[34m\u001b[1mwandb\u001b[0m: \tgraph_num_head: 1\n",
      "\u001b[34m\u001b[1mwandb\u001b[0m: \thidden_dim: 16\n",
      "\u001b[34m\u001b[1mwandb\u001b[0m: \tlearning_rate: 0.001\n",
      "\u001b[34m\u001b[1mwandb\u001b[0m: \tlstm_bidirectional: True\n",
      "\u001b[34m\u001b[1mwandb\u001b[0m: \tlstm_hidden_dim: 16\n",
      "\u001b[34m\u001b[1mwandb\u001b[0m: \tlstm_num_layers: 1\n",
      "\u001b[34m\u001b[1mwandb\u001b[0m: \tnum_classes: 3\n",
      "\u001b[34m\u001b[1mwandb\u001b[0m: \tnum_layers: 2\n",
      "\u001b[34m\u001b[1mwandb\u001b[0m: \tnum_seed_points: 2\n",
      "\u001b[34m\u001b[1mwandb\u001b[0m: \tpool_ratio: 0.5\n",
      "\u001b[34m\u001b[1mwandb\u001b[0m: \tstep_size: 1\n",
      "\u001b[34m\u001b[1mwandb\u001b[0m: \tweight_decay: 0.0001\n",
      "\u001b[34m\u001b[1mwandb\u001b[0m: \twindow_size: 20\n"
     ]
    },
    {
     "data": {
      "text/html": [
       "Tracking run with wandb version 0.19.6"
      ],
      "text/plain": [
       "<IPython.core.display.HTML object>"
      ]
     },
     "metadata": {},
     "output_type": "display_data"
    },
    {
     "data": {
      "text/html": [
       "W&B syncing is set to <code>`offline`<code> in this directory.  <br>Run <code>`wandb online`<code> or set <code>WANDB_MODE=online<code> to enable cloud syncing."
      ],
      "text/plain": [
       "<IPython.core.display.HTML object>"
      ]
     },
     "metadata": {},
     "output_type": "display_data"
    },
    {
     "name": "stdout",
     "output_type": "stream",
     "text": [
      "{'batch_size': 16, 'fc_dropout': 0.1, 'graph_dropout': 1, 'graph_num_head': 1, 'hidden_dim': 16, 'learning_rate': 0.001, 'lstm_bidirectional': True, 'lstm_hidden_dim': 16, 'lstm_num_layers': 1, 'num_classes': 3, 'num_layers': 2, 'num_seed_points': 2, 'pool_ratio': 0.5, 'step_size': 1, 'weight_decay': 0.0001, 'window_size': 20}\n",
      "\n",
      "=== Training Scene: motor ===\n",
      "从缓存文件加载数据: ./dataset/cache/motor_20_1_dataset_aug_cache.pkl\n"
     ]
    },
    {
     "name": "stderr",
     "output_type": "stream",
     "text": [
      "Epoch 1/5: 100%|██████████| 329/329 [01:23<00:00,  3.93it/s, loss=1.1224]\n"
     ]
    },
    {
     "name": "stdout",
     "output_type": "stream",
     "text": [
      "Epoch 1 | Train Loss: 1.2006 | Val Acc: 0.3369 | Val Prec: 0.5007 | Val Recall: 0.3369 | Val F1: 0.2032\n"
     ]
    },
    {
     "name": "stderr",
     "output_type": "stream",
     "text": [
      "Epoch 2/5: 100%|██████████| 329/329 [01:22<00:00,  3.99it/s, loss=1.1565]\n"
     ]
    },
    {
     "name": "stdout",
     "output_type": "stream",
     "text": [
      "Epoch 2 | Train Loss: 1.1650 | Val Acc: 0.4080 | Val Prec: 0.2726 | Val Recall: 0.4080 | Val F1: 0.3163\n"
     ]
    },
    {
     "name": "stderr",
     "output_type": "stream",
     "text": [
      "Epoch 3/5: 100%|██████████| 329/329 [01:22<00:00,  3.97it/s, loss=0.9642]\n"
     ]
    },
    {
     "name": "stdout",
     "output_type": "stream",
     "text": [
      "Epoch 3 | Train Loss: 1.0520 | Val Acc: 0.4688 | Val Prec: 0.4948 | Val Recall: 0.4688 | Val F1: 0.3967\n"
     ]
    },
    {
     "name": "stderr",
     "output_type": "stream",
     "text": [
      "Epoch 4/5: 100%|██████████| 329/329 [01:23<00:00,  3.96it/s, loss=0.8459]\n"
     ]
    },
    {
     "name": "stdout",
     "output_type": "stream",
     "text": [
      "Epoch 4 | Train Loss: 1.0047 | Val Acc: 0.4755 | Val Prec: 0.4577 | Val Recall: 0.4755 | Val F1: 0.4260\n"
     ]
    },
    {
     "name": "stderr",
     "output_type": "stream",
     "text": [
      "Epoch 5/5: 100%|██████████| 329/329 [01:23<00:00,  3.96it/s, loss=0.6127]\n"
     ]
    },
    {
     "name": "stdout",
     "output_type": "stream",
     "text": [
      "Epoch 5 | Train Loss: 0.9623 | Val Acc: 0.4734 | Val Prec: 0.4616 | Val Recall: 0.4734 | Val F1: 0.4531\n",
      "Best validation F1: 0.4260\n",
      "Checkpoint saved at epoch 4\n"
     ]
    },
    {
     "data": {
      "text/html": [],
      "text/plain": [
       "<IPython.core.display.HTML object>"
      ]
     },
     "metadata": {},
     "output_type": "display_data"
    },
    {
     "data": {
      "text/html": [
       "<br>    <style><br>        .wandb-row {<br>            display: flex;<br>            flex-direction: row;<br>            flex-wrap: wrap;<br>            justify-content: flex-start;<br>            width: 100%;<br>        }<br>        .wandb-col {<br>            display: flex;<br>            flex-direction: column;<br>            flex-basis: 100%;<br>            flex: 1;<br>            padding: 10px;<br>        }<br>    </style><br><div class=\"wandb-row\"><div class=\"wandb-col\"><h3>Run history:</h3><br/><table class=\"wandb\"><tr><td>epoch</td><td>▁▃▅▆█</td></tr><tr><td>train_loss</td><td>█▇▄▂▁</td></tr><tr><td>val_accuracy</td><td>▁▅███</td></tr><tr><td>val_f1</td><td>▁▄▆▇█</td></tr><tr><td>val_precision</td><td>█▁█▇▇</td></tr><tr><td>val_recall</td><td>▁▅███</td></tr><tr><td>validation_accuracy</td><td>▁▅███</td></tr><tr><td>validation_f1</td><td>▁▄▆▇█</td></tr><tr><td>validation_precision</td><td>█▁█▇▇</td></tr><tr><td>validation_recall</td><td>▁▅███</td></tr></table><br/></div><div class=\"wandb-col\"><h3>Run summary:</h3><br/><table class=\"wandb\"><tr><td>best_val_f1</td><td>0.42598</td></tr><tr><td>epoch</td><td>5</td></tr><tr><td>train_loss</td><td>0.96233</td></tr><tr><td>val_accuracy</td><td>0.47342</td></tr><tr><td>val_f1</td><td>0.45308</td></tr><tr><td>val_precision</td><td>0.46157</td></tr><tr><td>val_recall</td><td>0.47342</td></tr><tr><td>validation_accuracy</td><td>0.47342</td></tr><tr><td>validation_f1</td><td>0.45308</td></tr><tr><td>validation_precision</td><td>0.46157</td></tr><tr><td>validation_recall</td><td>0.47342</td></tr></table><br/></div></div>"
      ],
      "text/plain": [
       "<IPython.core.display.HTML object>"
      ]
     },
     "metadata": {},
     "output_type": "display_data"
    },
    {
     "data": {
      "text/html": [
       "You can sync this run to the cloud by running:<br><code>wandb sync d:\\OneDrive - chd.edu.cn\\Desktop\\毕业论文数据\\code\\STNet\\wandb\\offline-run-20250207_001919-idf5rv2d<code>"
      ],
      "text/plain": [
       "<IPython.core.display.HTML object>"
      ]
     },
     "metadata": {},
     "output_type": "display_data"
    },
    {
     "data": {
      "text/html": [
       "Find logs at: <code>.\\wandb\\offline-run-20250207_001919-idf5rv2d\\logs</code>"
      ],
      "text/plain": [
       "<IPython.core.display.HTML object>"
      ]
     },
     "metadata": {},
     "output_type": "display_data"
    },
    {
     "name": "stderr",
     "output_type": "stream",
     "text": [
      "\u001b[34m\u001b[1mwandb\u001b[0m: Sweep Agent: Waiting for job.\n",
      "\u001b[34m\u001b[1mwandb\u001b[0m: Job received.\n",
      "\u001b[34m\u001b[1mwandb\u001b[0m: Agent Starting Run: 00gy8x43 with config:\n",
      "\u001b[34m\u001b[1mwandb\u001b[0m: \tbatch_size: 16\n",
      "\u001b[34m\u001b[1mwandb\u001b[0m: \tfc_dropout: 0.1\n",
      "\u001b[34m\u001b[1mwandb\u001b[0m: \tgraph_dropout: 1\n",
      "\u001b[34m\u001b[1mwandb\u001b[0m: \tgraph_num_head: 1\n",
      "\u001b[34m\u001b[1mwandb\u001b[0m: \thidden_dim: 16\n",
      "\u001b[34m\u001b[1mwandb\u001b[0m: \tlearning_rate: 0.001\n",
      "\u001b[34m\u001b[1mwandb\u001b[0m: \tlstm_bidirectional: True\n",
      "\u001b[34m\u001b[1mwandb\u001b[0m: \tlstm_hidden_dim: 16\n",
      "\u001b[34m\u001b[1mwandb\u001b[0m: \tlstm_num_layers: 1\n",
      "\u001b[34m\u001b[1mwandb\u001b[0m: \tnum_classes: 3\n",
      "\u001b[34m\u001b[1mwandb\u001b[0m: \tnum_layers: 2\n",
      "\u001b[34m\u001b[1mwandb\u001b[0m: \tnum_seed_points: 2\n",
      "\u001b[34m\u001b[1mwandb\u001b[0m: \tpool_ratio: 0.5\n",
      "\u001b[34m\u001b[1mwandb\u001b[0m: \tstep_size: 1\n",
      "\u001b[34m\u001b[1mwandb\u001b[0m: \tweight_decay: 0.001\n",
      "\u001b[34m\u001b[1mwandb\u001b[0m: \twindow_size: 40\n"
     ]
    },
    {
     "data": {
      "text/html": [
       "Tracking run with wandb version 0.19.6"
      ],
      "text/plain": [
       "<IPython.core.display.HTML object>"
      ]
     },
     "metadata": {},
     "output_type": "display_data"
    },
    {
     "data": {
      "text/html": [
       "W&B syncing is set to <code>`offline`<code> in this directory.  <br>Run <code>`wandb online`<code> or set <code>WANDB_MODE=online<code> to enable cloud syncing."
      ],
      "text/plain": [
       "<IPython.core.display.HTML object>"
      ]
     },
     "metadata": {},
     "output_type": "display_data"
    },
    {
     "name": "stdout",
     "output_type": "stream",
     "text": [
      "{'batch_size': 16, 'fc_dropout': 0.1, 'graph_dropout': 1, 'graph_num_head': 1, 'hidden_dim': 16, 'learning_rate': 0.001, 'lstm_bidirectional': True, 'lstm_hidden_dim': 16, 'lstm_num_layers': 1, 'num_classes': 3, 'num_layers': 2, 'num_seed_points': 2, 'pool_ratio': 0.5, 'step_size': 1, 'weight_decay': 0.001, 'window_size': 40}\n",
      "\n",
      "=== Training Scene: motor ===\n",
      "从缓存文件加载数据: ./dataset/cache/motor_40_1_dataset_aug_cache.pkl\n"
     ]
    },
    {
     "name": "stderr",
     "output_type": "stream",
     "text": [
      "Epoch 1/5: 100%|██████████| 315/315 [01:25<00:00,  3.69it/s, loss=1.0508]\n"
     ]
    },
    {
     "name": "stdout",
     "output_type": "stream",
     "text": [
      "Epoch 1 | Train Loss: 1.1954 | Val Acc: 0.3511 | Val Prec: 0.2654 | Val Recall: 0.3511 | Val F1: 0.2450\n"
     ]
    },
    {
     "name": "stderr",
     "output_type": "stream",
     "text": [
      "Epoch 2/5: 100%|██████████| 315/315 [01:25<00:00,  3.70it/s, loss=1.8398]\n"
     ]
    },
    {
     "name": "stdout",
     "output_type": "stream",
     "text": [
      "Epoch 2 | Train Loss: 1.1475 | Val Acc: 0.3811 | Val Prec: 0.4596 | Val Recall: 0.3811 | Val F1: 0.3501\n"
     ]
    },
    {
     "name": "stderr",
     "output_type": "stream",
     "text": [
      "Epoch 3/5: 100%|██████████| 315/315 [01:24<00:00,  3.72it/s, loss=0.5371]\n"
     ]
    },
    {
     "name": "stdout",
     "output_type": "stream",
     "text": [
      "Epoch 3 | Train Loss: 1.0394 | Val Acc: 0.3663 | Val Prec: 0.4837 | Val Recall: 0.3663 | Val F1: 0.2986\n"
     ]
    },
    {
     "name": "stderr",
     "output_type": "stream",
     "text": [
      "Epoch 4/5: 100%|██████████| 315/315 [01:25<00:00,  3.69it/s, loss=2.3320]\n"
     ]
    },
    {
     "name": "stdout",
     "output_type": "stream",
     "text": [
      "Epoch 4 | Train Loss: 0.9980 | Val Acc: 0.4560 | Val Prec: 0.4354 | Val Recall: 0.4560 | Val F1: 0.4123\n"
     ]
    },
    {
     "name": "stderr",
     "output_type": "stream",
     "text": [
      "Epoch 5/5: 100%|██████████| 315/315 [01:25<00:00,  3.68it/s, loss=0.7605]\n"
     ]
    },
    {
     "name": "stdout",
     "output_type": "stream",
     "text": [
      "Epoch 5 | Train Loss: 0.9523 | Val Acc: 0.4099 | Val Prec: 0.4969 | Val Recall: 0.4099 | Val F1: 0.4067\n",
      "Best validation F1: 0.4123\n",
      "Checkpoint saved at epoch 4\n"
     ]
    },
    {
     "data": {
      "text/html": [],
      "text/plain": [
       "<IPython.core.display.HTML object>"
      ]
     },
     "metadata": {},
     "output_type": "display_data"
    },
    {
     "data": {
      "text/html": [
       "<br>    <style><br>        .wandb-row {<br>            display: flex;<br>            flex-direction: row;<br>            flex-wrap: wrap;<br>            justify-content: flex-start;<br>            width: 100%;<br>        }<br>        .wandb-col {<br>            display: flex;<br>            flex-direction: column;<br>            flex-basis: 100%;<br>            flex: 1;<br>            padding: 10px;<br>        }<br>    </style><br><div class=\"wandb-row\"><div class=\"wandb-col\"><h3>Run history:</h3><br/><table class=\"wandb\"><tr><td>epoch</td><td>▁▃▅▆█</td></tr><tr><td>train_loss</td><td>█▇▄▂▁</td></tr><tr><td>val_accuracy</td><td>▁▃▂█▅</td></tr><tr><td>val_f1</td><td>▁▅▃██</td></tr><tr><td>val_precision</td><td>▁▇█▆█</td></tr><tr><td>val_recall</td><td>▁▃▂█▅</td></tr><tr><td>validation_accuracy</td><td>▁▃▂█▅</td></tr><tr><td>validation_f1</td><td>▁▅▃██</td></tr><tr><td>validation_precision</td><td>▁▇█▆█</td></tr><tr><td>validation_recall</td><td>▁▃▂█▅</td></tr></table><br/></div><div class=\"wandb-col\"><h3>Run summary:</h3><br/><table class=\"wandb\"><tr><td>best_val_f1</td><td>0.41228</td></tr><tr><td>epoch</td><td>5</td></tr><tr><td>train_loss</td><td>0.95225</td></tr><tr><td>val_accuracy</td><td>0.40991</td></tr><tr><td>val_f1</td><td>0.4067</td></tr><tr><td>val_precision</td><td>0.4969</td></tr><tr><td>val_recall</td><td>0.40991</td></tr><tr><td>validation_accuracy</td><td>0.40991</td></tr><tr><td>validation_f1</td><td>0.4067</td></tr><tr><td>validation_precision</td><td>0.4969</td></tr><tr><td>validation_recall</td><td>0.40991</td></tr></table><br/></div></div>"
      ],
      "text/plain": [
       "<IPython.core.display.HTML object>"
      ]
     },
     "metadata": {},
     "output_type": "display_data"
    },
    {
     "data": {
      "text/html": [
       "You can sync this run to the cloud by running:<br><code>wandb sync d:\\OneDrive - chd.edu.cn\\Desktop\\毕业论文数据\\code\\STNet\\wandb\\offline-run-20250207_002642-00gy8x43<code>"
      ],
      "text/plain": [
       "<IPython.core.display.HTML object>"
      ]
     },
     "metadata": {},
     "output_type": "display_data"
    },
    {
     "data": {
      "text/html": [
       "Find logs at: <code>.\\wandb\\offline-run-20250207_002642-00gy8x43\\logs</code>"
      ],
      "text/plain": [
       "<IPython.core.display.HTML object>"
      ]
     },
     "metadata": {},
     "output_type": "display_data"
    },
    {
     "name": "stderr",
     "output_type": "stream",
     "text": [
      "\u001b[34m\u001b[1mwandb\u001b[0m: Agent Starting Run: 1exlqsut with config:\n",
      "\u001b[34m\u001b[1mwandb\u001b[0m: \tbatch_size: 16\n",
      "\u001b[34m\u001b[1mwandb\u001b[0m: \tfc_dropout: 0.1\n",
      "\u001b[34m\u001b[1mwandb\u001b[0m: \tgraph_dropout: 1\n",
      "\u001b[34m\u001b[1mwandb\u001b[0m: \tgraph_num_head: 1\n",
      "\u001b[34m\u001b[1mwandb\u001b[0m: \thidden_dim: 16\n",
      "\u001b[34m\u001b[1mwandb\u001b[0m: \tlearning_rate: 0.001\n",
      "\u001b[34m\u001b[1mwandb\u001b[0m: \tlstm_bidirectional: True\n",
      "\u001b[34m\u001b[1mwandb\u001b[0m: \tlstm_hidden_dim: 16\n",
      "\u001b[34m\u001b[1mwandb\u001b[0m: \tlstm_num_layers: 1\n",
      "\u001b[34m\u001b[1mwandb\u001b[0m: \tnum_classes: 3\n",
      "\u001b[34m\u001b[1mwandb\u001b[0m: \tnum_layers: 2\n",
      "\u001b[34m\u001b[1mwandb\u001b[0m: \tnum_seed_points: 2\n",
      "\u001b[34m\u001b[1mwandb\u001b[0m: \tpool_ratio: 0.5\n",
      "\u001b[34m\u001b[1mwandb\u001b[0m: \tstep_size: 1\n",
      "\u001b[34m\u001b[1mwandb\u001b[0m: \tweight_decay: 0.0001\n",
      "\u001b[34m\u001b[1mwandb\u001b[0m: \twindow_size: 30\n"
     ]
    },
    {
     "data": {
      "text/html": [
       "Tracking run with wandb version 0.19.6"
      ],
      "text/plain": [
       "<IPython.core.display.HTML object>"
      ]
     },
     "metadata": {},
     "output_type": "display_data"
    },
    {
     "data": {
      "text/html": [
       "W&B syncing is set to <code>`offline`<code> in this directory.  <br>Run <code>`wandb online`<code> or set <code>WANDB_MODE=online<code> to enable cloud syncing."
      ],
      "text/plain": [
       "<IPython.core.display.HTML object>"
      ]
     },
     "metadata": {},
     "output_type": "display_data"
    },
    {
     "name": "stdout",
     "output_type": "stream",
     "text": [
      "{'batch_size': 16, 'fc_dropout': 0.1, 'graph_dropout': 1, 'graph_num_head': 1, 'hidden_dim': 16, 'learning_rate': 0.001, 'lstm_bidirectional': True, 'lstm_hidden_dim': 16, 'lstm_num_layers': 1, 'num_classes': 3, 'num_layers': 2, 'num_seed_points': 2, 'pool_ratio': 0.5, 'step_size': 1, 'weight_decay': 0.0001, 'window_size': 30}\n",
      "\n",
      "=== Training Scene: motor ===\n",
      "从缓存文件加载数据: ./dataset/cache/motor_30_1_dataset_aug_cache.pkl\n"
     ]
    },
    {
     "name": "stderr",
     "output_type": "stream",
     "text": [
      "Epoch 1/5: 100%|██████████| 322/322 [01:24<00:00,  3.79it/s, loss=2.4611]\n"
     ]
    },
    {
     "name": "stdout",
     "output_type": "stream",
     "text": [
      "Epoch 1 | Train Loss: 1.1831 | Val Acc: 0.4310 | Val Prec: 0.4684 | Val Recall: 0.4310 | Val F1: 0.3473\n"
     ]
    },
    {
     "name": "stderr",
     "output_type": "stream",
     "text": [
      "Epoch 2/5: 100%|██████████| 322/322 [01:23<00:00,  3.83it/s, loss=1.5035]\n"
     ]
    },
    {
     "name": "stdout",
     "output_type": "stream",
     "text": [
      "Epoch 2 | Train Loss: 1.1188 | Val Acc: 0.4246 | Val Prec: 0.3754 | Val Recall: 0.4246 | Val F1: 0.3491\n"
     ]
    },
    {
     "name": "stderr",
     "output_type": "stream",
     "text": [
      "Epoch 3/5: 100%|██████████| 322/322 [01:23<00:00,  3.87it/s, loss=0.8940]\n"
     ]
    },
    {
     "name": "stdout",
     "output_type": "stream",
     "text": [
      "Epoch 3 | Train Loss: 1.0261 | Val Acc: 0.4755 | Val Prec: 0.4633 | Val Recall: 0.4755 | Val F1: 0.4476\n"
     ]
    },
    {
     "name": "stderr",
     "output_type": "stream",
     "text": [
      "Epoch 4/5: 100%|██████████| 322/322 [01:23<00:00,  3.87it/s, loss=1.3401]\n"
     ]
    },
    {
     "name": "stdout",
     "output_type": "stream",
     "text": [
      "Epoch 4 | Train Loss: 0.9933 | Val Acc: 0.4933 | Val Prec: 0.5435 | Val Recall: 0.4933 | Val F1: 0.4482\n"
     ]
    },
    {
     "name": "stderr",
     "output_type": "stream",
     "text": [
      "Epoch 5/5: 100%|██████████| 322/322 [01:23<00:00,  3.86it/s, loss=1.9314]\n"
     ]
    },
    {
     "name": "stdout",
     "output_type": "stream",
     "text": [
      "Epoch 5 | Train Loss: 0.9545 | Val Acc: 0.4779 | Val Prec: 0.4969 | Val Recall: 0.4779 | Val F1: 0.4599\n",
      "Best validation F1: 0.4482\n",
      "Checkpoint saved at epoch 4\n"
     ]
    },
    {
     "data": {
      "text/html": [],
      "text/plain": [
       "<IPython.core.display.HTML object>"
      ]
     },
     "metadata": {},
     "output_type": "display_data"
    },
    {
     "data": {
      "text/html": [
       "<br>    <style><br>        .wandb-row {<br>            display: flex;<br>            flex-direction: row;<br>            flex-wrap: wrap;<br>            justify-content: flex-start;<br>            width: 100%;<br>        }<br>        .wandb-col {<br>            display: flex;<br>            flex-direction: column;<br>            flex-basis: 100%;<br>            flex: 1;<br>            padding: 10px;<br>        }<br>    </style><br><div class=\"wandb-row\"><div class=\"wandb-col\"><h3>Run history:</h3><br/><table class=\"wandb\"><tr><td>epoch</td><td>▁▃▅▆█</td></tr><tr><td>train_loss</td><td>█▆▃▂▁</td></tr><tr><td>val_accuracy</td><td>▂▁▆█▆</td></tr><tr><td>val_f1</td><td>▁▁▇▇█</td></tr><tr><td>val_precision</td><td>▅▁▅█▆</td></tr><tr><td>val_recall</td><td>▂▁▆█▆</td></tr><tr><td>validation_accuracy</td><td>▂▁▆█▆</td></tr><tr><td>validation_f1</td><td>▁▁▇▇█</td></tr><tr><td>validation_precision</td><td>▅▁▅█▆</td></tr><tr><td>validation_recall</td><td>▂▁▆█▆</td></tr></table><br/></div><div class=\"wandb-col\"><h3>Run summary:</h3><br/><table class=\"wandb\"><tr><td>best_val_f1</td><td>0.44824</td></tr><tr><td>epoch</td><td>5</td></tr><tr><td>train_loss</td><td>0.95452</td></tr><tr><td>val_accuracy</td><td>0.47791</td></tr><tr><td>val_f1</td><td>0.45987</td></tr><tr><td>val_precision</td><td>0.49689</td></tr><tr><td>val_recall</td><td>0.47791</td></tr><tr><td>validation_accuracy</td><td>0.47791</td></tr><tr><td>validation_f1</td><td>0.45987</td></tr><tr><td>validation_precision</td><td>0.49689</td></tr><tr><td>validation_recall</td><td>0.47791</td></tr></table><br/></div></div>"
      ],
      "text/plain": [
       "<IPython.core.display.HTML object>"
      ]
     },
     "metadata": {},
     "output_type": "display_data"
    },
    {
     "data": {
      "text/html": [
       "You can sync this run to the cloud by running:<br><code>wandb sync d:\\OneDrive - chd.edu.cn\\Desktop\\毕业论文数据\\code\\STNet\\wandb\\offline-run-20250207_003413-1exlqsut<code>"
      ],
      "text/plain": [
       "<IPython.core.display.HTML object>"
      ]
     },
     "metadata": {},
     "output_type": "display_data"
    },
    {
     "data": {
      "text/html": [
       "Find logs at: <code>.\\wandb\\offline-run-20250207_003413-1exlqsut\\logs</code>"
      ],
      "text/plain": [
       "<IPython.core.display.HTML object>"
      ]
     },
     "metadata": {},
     "output_type": "display_data"
    },
    {
     "name": "stderr",
     "output_type": "stream",
     "text": [
      "\u001b[34m\u001b[1mwandb\u001b[0m: Agent Starting Run: rqx3nm83 with config:\n",
      "\u001b[34m\u001b[1mwandb\u001b[0m: \tbatch_size: 16\n",
      "\u001b[34m\u001b[1mwandb\u001b[0m: \tfc_dropout: 0.1\n",
      "\u001b[34m\u001b[1mwandb\u001b[0m: \tgraph_dropout: 1\n",
      "\u001b[34m\u001b[1mwandb\u001b[0m: \tgraph_num_head: 1\n",
      "\u001b[34m\u001b[1mwandb\u001b[0m: \thidden_dim: 16\n",
      "\u001b[34m\u001b[1mwandb\u001b[0m: \tlearning_rate: 0.001\n",
      "\u001b[34m\u001b[1mwandb\u001b[0m: \tlstm_bidirectional: True\n",
      "\u001b[34m\u001b[1mwandb\u001b[0m: \tlstm_hidden_dim: 16\n",
      "\u001b[34m\u001b[1mwandb\u001b[0m: \tlstm_num_layers: 1\n",
      "\u001b[34m\u001b[1mwandb\u001b[0m: \tnum_classes: 3\n",
      "\u001b[34m\u001b[1mwandb\u001b[0m: \tnum_layers: 2\n",
      "\u001b[34m\u001b[1mwandb\u001b[0m: \tnum_seed_points: 2\n",
      "\u001b[34m\u001b[1mwandb\u001b[0m: \tpool_ratio: 0.5\n",
      "\u001b[34m\u001b[1mwandb\u001b[0m: \tstep_size: 1\n",
      "\u001b[34m\u001b[1mwandb\u001b[0m: \tweight_decay: 0.0001\n",
      "\u001b[34m\u001b[1mwandb\u001b[0m: \twindow_size: 40\n"
     ]
    },
    {
     "data": {
      "text/html": [
       "Tracking run with wandb version 0.19.6"
      ],
      "text/plain": [
       "<IPython.core.display.HTML object>"
      ]
     },
     "metadata": {},
     "output_type": "display_data"
    },
    {
     "data": {
      "text/html": [
       "W&B syncing is set to <code>`offline`<code> in this directory.  <br>Run <code>`wandb online`<code> or set <code>WANDB_MODE=online<code> to enable cloud syncing."
      ],
      "text/plain": [
       "<IPython.core.display.HTML object>"
      ]
     },
     "metadata": {},
     "output_type": "display_data"
    },
    {
     "name": "stdout",
     "output_type": "stream",
     "text": [
      "{'batch_size': 16, 'fc_dropout': 0.1, 'graph_dropout': 1, 'graph_num_head': 1, 'hidden_dim': 16, 'learning_rate': 0.001, 'lstm_bidirectional': True, 'lstm_hidden_dim': 16, 'lstm_num_layers': 1, 'num_classes': 3, 'num_layers': 2, 'num_seed_points': 2, 'pool_ratio': 0.5, 'step_size': 1, 'weight_decay': 0.0001, 'window_size': 40}\n",
      "\n",
      "=== Training Scene: motor ===\n",
      "从缓存文件加载数据: ./dataset/cache/motor_40_1_dataset_aug_cache.pkl\n"
     ]
    },
    {
     "name": "stderr",
     "output_type": "stream",
     "text": [
      "Epoch 1/5: 100%|██████████| 315/315 [01:26<00:00,  3.65it/s, loss=1.3434]\n"
     ]
    },
    {
     "name": "stdout",
     "output_type": "stream",
     "text": [
      "Epoch 1 | Train Loss: 1.1891 | Val Acc: 0.4181 | Val Prec: 0.3973 | Val Recall: 0.4181 | Val F1: 0.3630\n"
     ]
    },
    {
     "name": "stderr",
     "output_type": "stream",
     "text": [
      "Epoch 2/5: 100%|██████████| 315/315 [01:25<00:00,  3.67it/s, loss=0.8334]\n"
     ]
    },
    {
     "name": "stdout",
     "output_type": "stream",
     "text": [
      "Epoch 2 | Train Loss: 1.0952 | Val Acc: 0.4428 | Val Prec: 0.4585 | Val Recall: 0.4428 | Val F1: 0.4389\n"
     ]
    },
    {
     "name": "stderr",
     "output_type": "stream",
     "text": [
      "Epoch 3/5: 100%|██████████| 315/315 [01:24<00:00,  3.71it/s, loss=0.7448]\n"
     ]
    },
    {
     "name": "stdout",
     "output_type": "stream",
     "text": [
      "Epoch 3 | Train Loss: 1.0322 | Val Acc: 0.4481 | Val Prec: 0.5055 | Val Recall: 0.4481 | Val F1: 0.4491\n"
     ]
    },
    {
     "name": "stderr",
     "output_type": "stream",
     "text": [
      "Epoch 4/5: 100%|██████████| 315/315 [01:25<00:00,  3.67it/s, loss=1.1609]\n"
     ]
    },
    {
     "name": "stdout",
     "output_type": "stream",
     "text": [
      "Epoch 4 | Train Loss: 1.0074 | Val Acc: 0.4810 | Val Prec: 0.4770 | Val Recall: 0.4810 | Val F1: 0.4772\n"
     ]
    },
    {
     "name": "stderr",
     "output_type": "stream",
     "text": [
      "Epoch 5/5: 100%|██████████| 315/315 [01:26<00:00,  3.63it/s, loss=1.1925]\n"
     ]
    },
    {
     "name": "stdout",
     "output_type": "stream",
     "text": [
      "Epoch 5 | Train Loss: 0.9671 | Val Acc: 0.4353 | Val Prec: 0.4535 | Val Recall: 0.4353 | Val F1: 0.4299\n",
      "Best validation F1: 0.4772\n",
      "Checkpoint saved at epoch 4\n"
     ]
    },
    {
     "data": {
      "text/html": [],
      "text/plain": [
       "<IPython.core.display.HTML object>"
      ]
     },
     "metadata": {},
     "output_type": "display_data"
    },
    {
     "data": {
      "text/html": [
       "<br>    <style><br>        .wandb-row {<br>            display: flex;<br>            flex-direction: row;<br>            flex-wrap: wrap;<br>            justify-content: flex-start;<br>            width: 100%;<br>        }<br>        .wandb-col {<br>            display: flex;<br>            flex-direction: column;<br>            flex-basis: 100%;<br>            flex: 1;<br>            padding: 10px;<br>        }<br>    </style><br><div class=\"wandb-row\"><div class=\"wandb-col\"><h3>Run history:</h3><br/><table class=\"wandb\"><tr><td>epoch</td><td>▁▃▅▆█</td></tr><tr><td>train_loss</td><td>█▅▃▂▁</td></tr><tr><td>val_accuracy</td><td>▁▄▄█▃</td></tr><tr><td>val_f1</td><td>▁▆▆█▅</td></tr><tr><td>val_precision</td><td>▁▅█▆▅</td></tr><tr><td>val_recall</td><td>▁▄▄█▃</td></tr><tr><td>validation_accuracy</td><td>▁▄▄█▃</td></tr><tr><td>validation_f1</td><td>▁▆▆█▅</td></tr><tr><td>validation_precision</td><td>▁▅█▆▅</td></tr><tr><td>validation_recall</td><td>▁▄▄█▃</td></tr></table><br/></div><div class=\"wandb-col\"><h3>Run summary:</h3><br/><table class=\"wandb\"><tr><td>best_val_f1</td><td>0.47718</td></tr><tr><td>epoch</td><td>5</td></tr><tr><td>train_loss</td><td>0.96709</td></tr><tr><td>val_accuracy</td><td>0.4353</td></tr><tr><td>val_f1</td><td>0.42993</td></tr><tr><td>val_precision</td><td>0.45349</td></tr><tr><td>val_recall</td><td>0.4353</td></tr><tr><td>validation_accuracy</td><td>0.4353</td></tr><tr><td>validation_f1</td><td>0.42993</td></tr><tr><td>validation_precision</td><td>0.45349</td></tr><tr><td>validation_recall</td><td>0.4353</td></tr></table><br/></div></div>"
      ],
      "text/plain": [
       "<IPython.core.display.HTML object>"
      ]
     },
     "metadata": {},
     "output_type": "display_data"
    },
    {
     "data": {
      "text/html": [
       "You can sync this run to the cloud by running:<br><code>wandb sync d:\\OneDrive - chd.edu.cn\\Desktop\\毕业论文数据\\code\\STNet\\wandb\\offline-run-20250207_004137-rqx3nm83<code>"
      ],
      "text/plain": [
       "<IPython.core.display.HTML object>"
      ]
     },
     "metadata": {},
     "output_type": "display_data"
    },
    {
     "data": {
      "text/html": [
       "Find logs at: <code>.\\wandb\\offline-run-20250207_004137-rqx3nm83\\logs</code>"
      ],
      "text/plain": [
       "<IPython.core.display.HTML object>"
      ]
     },
     "metadata": {},
     "output_type": "display_data"
    },
    {
     "name": "stderr",
     "output_type": "stream",
     "text": [
      "\u001b[34m\u001b[1mwandb\u001b[0m: Agent Starting Run: 48c7uvvo with config:\n",
      "\u001b[34m\u001b[1mwandb\u001b[0m: \tbatch_size: 16\n",
      "\u001b[34m\u001b[1mwandb\u001b[0m: \tfc_dropout: 0.1\n",
      "\u001b[34m\u001b[1mwandb\u001b[0m: \tgraph_dropout: 1\n",
      "\u001b[34m\u001b[1mwandb\u001b[0m: \tgraph_num_head: 1\n",
      "\u001b[34m\u001b[1mwandb\u001b[0m: \thidden_dim: 16\n",
      "\u001b[34m\u001b[1mwandb\u001b[0m: \tlearning_rate: 0.001\n",
      "\u001b[34m\u001b[1mwandb\u001b[0m: \tlstm_bidirectional: True\n",
      "\u001b[34m\u001b[1mwandb\u001b[0m: \tlstm_hidden_dim: 16\n",
      "\u001b[34m\u001b[1mwandb\u001b[0m: \tlstm_num_layers: 1\n",
      "\u001b[34m\u001b[1mwandb\u001b[0m: \tnum_classes: 3\n",
      "\u001b[34m\u001b[1mwandb\u001b[0m: \tnum_layers: 2\n",
      "\u001b[34m\u001b[1mwandb\u001b[0m: \tnum_seed_points: 2\n",
      "\u001b[34m\u001b[1mwandb\u001b[0m: \tpool_ratio: 0.5\n",
      "\u001b[34m\u001b[1mwandb\u001b[0m: \tstep_size: 1\n",
      "\u001b[34m\u001b[1mwandb\u001b[0m: \tweight_decay: 0.01\n",
      "\u001b[34m\u001b[1mwandb\u001b[0m: \twindow_size: 10\n"
     ]
    },
    {
     "data": {
      "text/html": [
       "Tracking run with wandb version 0.19.6"
      ],
      "text/plain": [
       "<IPython.core.display.HTML object>"
      ]
     },
     "metadata": {},
     "output_type": "display_data"
    },
    {
     "data": {
      "text/html": [
       "W&B syncing is set to <code>`offline`<code> in this directory.  <br>Run <code>`wandb online`<code> or set <code>WANDB_MODE=online<code> to enable cloud syncing."
      ],
      "text/plain": [
       "<IPython.core.display.HTML object>"
      ]
     },
     "metadata": {},
     "output_type": "display_data"
    },
    {
     "name": "stdout",
     "output_type": "stream",
     "text": [
      "{'batch_size': 16, 'fc_dropout': 0.1, 'graph_dropout': 1, 'graph_num_head': 1, 'hidden_dim': 16, 'learning_rate': 0.001, 'lstm_bidirectional': True, 'lstm_hidden_dim': 16, 'lstm_num_layers': 1, 'num_classes': 3, 'num_layers': 2, 'num_seed_points': 2, 'pool_ratio': 0.5, 'step_size': 1, 'weight_decay': 0.01, 'window_size': 10}\n",
      "\n",
      "=== Training Scene: motor ===\n",
      "从缓存文件加载数据: ./dataset/cache/motor_10_1_dataset_aug_cache.pkl\n"
     ]
    },
    {
     "name": "stderr",
     "output_type": "stream",
     "text": [
      "Epoch 1/5: 100%|██████████| 336/336 [01:19<00:00,  4.23it/s, loss=1.2308]\n"
     ]
    },
    {
     "name": "stdout",
     "output_type": "stream",
     "text": [
      "Epoch 1 | Train Loss: 1.2050 | Val Acc: 0.3333 | Val Prec: 0.1110 | Val Recall: 0.3333 | Val F1: 0.1666\n"
     ]
    },
    {
     "name": "stderr",
     "output_type": "stream",
     "text": [
      "Epoch 2/5: 100%|██████████| 336/336 [01:19<00:00,  4.25it/s, loss=1.2296]\n"
     ]
    },
    {
     "name": "stdout",
     "output_type": "stream",
     "text": [
      "Epoch 2 | Train Loss: 1.2044 | Val Acc: 0.3333 | Val Prec: 0.1110 | Val Recall: 0.3333 | Val F1: 0.1666\n"
     ]
    },
    {
     "name": "stderr",
     "output_type": "stream",
     "text": [
      "Epoch 3/5: 100%|██████████| 336/336 [01:20<00:00,  4.19it/s, loss=1.1790]\n"
     ]
    },
    {
     "name": "stdout",
     "output_type": "stream",
     "text": [
      "Epoch 3 | Train Loss: 1.2043 | Val Acc: 0.3333 | Val Prec: 0.1110 | Val Recall: 0.3333 | Val F1: 0.1666\n"
     ]
    },
    {
     "name": "stderr",
     "output_type": "stream",
     "text": [
      "Epoch 4/5: 100%|██████████| 336/336 [01:17<00:00,  4.36it/s, loss=1.1448]\n"
     ]
    },
    {
     "name": "stdout",
     "output_type": "stream",
     "text": [
      "Epoch 4 | Train Loss: 1.2043 | Val Acc: 0.3333 | Val Prec: 0.1110 | Val Recall: 0.3333 | Val F1: 0.1666\n"
     ]
    },
    {
     "name": "stderr",
     "output_type": "stream",
     "text": [
      "Epoch 5/5: 100%|██████████| 336/336 [01:19<00:00,  4.25it/s, loss=1.2277]\n"
     ]
    },
    {
     "name": "stdout",
     "output_type": "stream",
     "text": [
      "Epoch 5 | Train Loss: 1.2043 | Val Acc: 0.3333 | Val Prec: 0.1190 | Val Recall: 0.3333 | Val F1: 0.1754\n",
      "Best validation F1: 0.1666\n",
      "Checkpoint saved at epoch 4\n"
     ]
    },
    {
     "data": {
      "text/html": [],
      "text/plain": [
       "<IPython.core.display.HTML object>"
      ]
     },
     "metadata": {},
     "output_type": "display_data"
    },
    {
     "data": {
      "text/html": [
       "<br>    <style><br>        .wandb-row {<br>            display: flex;<br>            flex-direction: row;<br>            flex-wrap: wrap;<br>            justify-content: flex-start;<br>            width: 100%;<br>        }<br>        .wandb-col {<br>            display: flex;<br>            flex-direction: column;<br>            flex-basis: 100%;<br>            flex: 1;<br>            padding: 10px;<br>        }<br>    </style><br><div class=\"wandb-row\"><div class=\"wandb-col\"><h3>Run history:</h3><br/><table class=\"wandb\"><tr><td>epoch</td><td>▁▃▅▆█</td></tr><tr><td>train_loss</td><td>█▂▁▁▂</td></tr><tr><td>val_accuracy</td><td>▁▁▁▁▁</td></tr><tr><td>val_f1</td><td>▁▁▁▁█</td></tr><tr><td>val_precision</td><td>▁▁▁▁█</td></tr><tr><td>val_recall</td><td>▁▁▁▁▁</td></tr><tr><td>validation_accuracy</td><td>▁▁▁▁▁</td></tr><tr><td>validation_f1</td><td>▁▁▁▁█</td></tr><tr><td>validation_precision</td><td>▁▁▁▁█</td></tr><tr><td>validation_recall</td><td>▁▁▁▁▁</td></tr></table><br/></div><div class=\"wandb-col\"><h3>Run summary:</h3><br/><table class=\"wandb\"><tr><td>best_val_f1</td><td>0.16657</td></tr><tr><td>epoch</td><td>5</td></tr><tr><td>train_loss</td><td>1.20434</td></tr><tr><td>val_accuracy</td><td>0.33333</td></tr><tr><td>val_f1</td><td>0.17536</td></tr><tr><td>val_precision</td><td>0.11898</td></tr><tr><td>val_recall</td><td>0.33333</td></tr><tr><td>validation_accuracy</td><td>0.33333</td></tr><tr><td>validation_f1</td><td>0.17536</td></tr><tr><td>validation_precision</td><td>0.11898</td></tr><tr><td>validation_recall</td><td>0.33333</td></tr></table><br/></div></div>"
      ],
      "text/plain": [
       "<IPython.core.display.HTML object>"
      ]
     },
     "metadata": {},
     "output_type": "display_data"
    },
    {
     "data": {
      "text/html": [
       "You can sync this run to the cloud by running:<br><code>wandb sync d:\\OneDrive - chd.edu.cn\\Desktop\\毕业论文数据\\code\\STNet\\wandb\\offline-run-20250207_004913-48c7uvvo<code>"
      ],
      "text/plain": [
       "<IPython.core.display.HTML object>"
      ]
     },
     "metadata": {},
     "output_type": "display_data"
    },
    {
     "data": {
      "text/html": [
       "Find logs at: <code>.\\wandb\\offline-run-20250207_004913-48c7uvvo\\logs</code>"
      ],
      "text/plain": [
       "<IPython.core.display.HTML object>"
      ]
     },
     "metadata": {},
     "output_type": "display_data"
    },
    {
     "name": "stderr",
     "output_type": "stream",
     "text": [
      "\u001b[34m\u001b[1mwandb\u001b[0m: Agent Starting Run: mz5tuakl with config:\n",
      "\u001b[34m\u001b[1mwandb\u001b[0m: \tbatch_size: 16\n",
      "\u001b[34m\u001b[1mwandb\u001b[0m: \tfc_dropout: 0.1\n",
      "\u001b[34m\u001b[1mwandb\u001b[0m: \tgraph_dropout: 1\n",
      "\u001b[34m\u001b[1mwandb\u001b[0m: \tgraph_num_head: 1\n",
      "\u001b[34m\u001b[1mwandb\u001b[0m: \thidden_dim: 16\n",
      "\u001b[34m\u001b[1mwandb\u001b[0m: \tlearning_rate: 0.001\n",
      "\u001b[34m\u001b[1mwandb\u001b[0m: \tlstm_bidirectional: True\n",
      "\u001b[34m\u001b[1mwandb\u001b[0m: \tlstm_hidden_dim: 16\n",
      "\u001b[34m\u001b[1mwandb\u001b[0m: \tlstm_num_layers: 1\n",
      "\u001b[34m\u001b[1mwandb\u001b[0m: \tnum_classes: 3\n",
      "\u001b[34m\u001b[1mwandb\u001b[0m: \tnum_layers: 2\n",
      "\u001b[34m\u001b[1mwandb\u001b[0m: \tnum_seed_points: 2\n",
      "\u001b[34m\u001b[1mwandb\u001b[0m: \tpool_ratio: 0.5\n",
      "\u001b[34m\u001b[1mwandb\u001b[0m: \tstep_size: 1\n",
      "\u001b[34m\u001b[1mwandb\u001b[0m: \tweight_decay: 0.001\n",
      "\u001b[34m\u001b[1mwandb\u001b[0m: \twindow_size: 10\n"
     ]
    },
    {
     "data": {
      "text/html": [
       "Tracking run with wandb version 0.19.6"
      ],
      "text/plain": [
       "<IPython.core.display.HTML object>"
      ]
     },
     "metadata": {},
     "output_type": "display_data"
    },
    {
     "data": {
      "text/html": [
       "W&B syncing is set to <code>`offline`<code> in this directory.  <br>Run <code>`wandb online`<code> or set <code>WANDB_MODE=online<code> to enable cloud syncing."
      ],
      "text/plain": [
       "<IPython.core.display.HTML object>"
      ]
     },
     "metadata": {},
     "output_type": "display_data"
    },
    {
     "name": "stdout",
     "output_type": "stream",
     "text": [
      "{'batch_size': 16, 'fc_dropout': 0.1, 'graph_dropout': 1, 'graph_num_head': 1, 'hidden_dim': 16, 'learning_rate': 0.001, 'lstm_bidirectional': True, 'lstm_hidden_dim': 16, 'lstm_num_layers': 1, 'num_classes': 3, 'num_layers': 2, 'num_seed_points': 2, 'pool_ratio': 0.5, 'step_size': 1, 'weight_decay': 0.001, 'window_size': 10}\n",
      "\n",
      "=== Training Scene: motor ===\n",
      "从缓存文件加载数据: ./dataset/cache/motor_10_1_dataset_aug_cache.pkl\n"
     ]
    },
    {
     "name": "stderr",
     "output_type": "stream",
     "text": [
      "Epoch 1/5: 100%|██████████| 336/336 [01:19<00:00,  4.25it/s, loss=1.2232]\n"
     ]
    },
    {
     "name": "stdout",
     "output_type": "stream",
     "text": [
      "Epoch 1 | Train Loss: 1.2062 | Val Acc: 0.3333 | Val Prec: 0.1110 | Val Recall: 0.3333 | Val F1: 0.1666\n"
     ]
    },
    {
     "name": "stderr",
     "output_type": "stream",
     "text": [
      "Epoch 2/5: 100%|██████████| 336/336 [01:17<00:00,  4.33it/s, loss=1.1753]\n"
     ]
    },
    {
     "name": "stdout",
     "output_type": "stream",
     "text": [
      "Epoch 2 | Train Loss: 1.2045 | Val Acc: 0.3333 | Val Prec: 0.1110 | Val Recall: 0.3333 | Val F1: 0.1666\n"
     ]
    },
    {
     "name": "stderr",
     "output_type": "stream",
     "text": [
      "Epoch 3/5: 100%|██████████| 336/336 [01:19<00:00,  4.21it/s, loss=1.1785]\n"
     ]
    },
    {
     "name": "stdout",
     "output_type": "stream",
     "text": [
      "Epoch 3 | Train Loss: 1.2042 | Val Acc: 0.3333 | Val Prec: 0.1110 | Val Recall: 0.3333 | Val F1: 0.1666\n"
     ]
    },
    {
     "name": "stderr",
     "output_type": "stream",
     "text": [
      "Epoch 4/5: 100%|██████████| 336/336 [01:18<00:00,  4.28it/s, loss=1.1782]\n"
     ]
    },
    {
     "name": "stdout",
     "output_type": "stream",
     "text": [
      "Epoch 4 | Train Loss: 1.2042 | Val Acc: 0.3333 | Val Prec: 0.1110 | Val Recall: 0.3333 | Val F1: 0.1666\n"
     ]
    },
    {
     "name": "stderr",
     "output_type": "stream",
     "text": [
      "Epoch 5/5: 100%|██████████| 336/336 [01:18<00:00,  4.26it/s, loss=1.1788]\n"
     ]
    },
    {
     "name": "stdout",
     "output_type": "stream",
     "text": [
      "Epoch 5 | Train Loss: 1.2042 | Val Acc: 0.3333 | Val Prec: 0.1110 | Val Recall: 0.3333 | Val F1: 0.1666\n",
      "Best validation F1: 0.1666\n",
      "Checkpoint saved at epoch 4\n"
     ]
    },
    {
     "data": {
      "text/html": [],
      "text/plain": [
       "<IPython.core.display.HTML object>"
      ]
     },
     "metadata": {},
     "output_type": "display_data"
    },
    {
     "data": {
      "text/html": [
       "<br>    <style><br>        .wandb-row {<br>            display: flex;<br>            flex-direction: row;<br>            flex-wrap: wrap;<br>            justify-content: flex-start;<br>            width: 100%;<br>        }<br>        .wandb-col {<br>            display: flex;<br>            flex-direction: column;<br>            flex-basis: 100%;<br>            flex: 1;<br>            padding: 10px;<br>        }<br>    </style><br><div class=\"wandb-row\"><div class=\"wandb-col\"><h3>Run history:</h3><br/><table class=\"wandb\"><tr><td>epoch</td><td>▁▃▅▆█</td></tr><tr><td>train_loss</td><td>█▂▁▁▁</td></tr><tr><td>val_accuracy</td><td>▁▁▁▁▁</td></tr><tr><td>val_f1</td><td>▁▁▁▁▁</td></tr><tr><td>val_precision</td><td>▁▁▁▁▁</td></tr><tr><td>val_recall</td><td>▁▁▁▁▁</td></tr><tr><td>validation_accuracy</td><td>▁▁▁▁▁</td></tr><tr><td>validation_f1</td><td>▁▁▁▁▁</td></tr><tr><td>validation_precision</td><td>▁▁▁▁▁</td></tr><tr><td>validation_recall</td><td>▁▁▁▁▁</td></tr></table><br/></div><div class=\"wandb-col\"><h3>Run summary:</h3><br/><table class=\"wandb\"><tr><td>best_val_f1</td><td>0.16657</td></tr><tr><td>epoch</td><td>5</td></tr><tr><td>train_loss</td><td>1.20422</td></tr><tr><td>val_accuracy</td><td>0.33333</td></tr><tr><td>val_f1</td><td>0.16657</td></tr><tr><td>val_precision</td><td>0.11103</td></tr><tr><td>val_recall</td><td>0.33333</td></tr><tr><td>validation_accuracy</td><td>0.33333</td></tr><tr><td>validation_f1</td><td>0.16657</td></tr><tr><td>validation_precision</td><td>0.11103</td></tr><tr><td>validation_recall</td><td>0.33333</td></tr></table><br/></div></div>"
      ],
      "text/plain": [
       "<IPython.core.display.HTML object>"
      ]
     },
     "metadata": {},
     "output_type": "display_data"
    },
    {
     "data": {
      "text/html": [
       "You can sync this run to the cloud by running:<br><code>wandb sync d:\\OneDrive - chd.edu.cn\\Desktop\\毕业论文数据\\code\\STNet\\wandb\\offline-run-20250207_005606-mz5tuakl<code>"
      ],
      "text/plain": [
       "<IPython.core.display.HTML object>"
      ]
     },
     "metadata": {},
     "output_type": "display_data"
    },
    {
     "data": {
      "text/html": [
       "Find logs at: <code>.\\wandb\\offline-run-20250207_005606-mz5tuakl\\logs</code>"
      ],
      "text/plain": [
       "<IPython.core.display.HTML object>"
      ]
     },
     "metadata": {},
     "output_type": "display_data"
    },
    {
     "name": "stderr",
     "output_type": "stream",
     "text": [
      "\u001b[34m\u001b[1mwandb\u001b[0m: Agent Starting Run: sm0le8eb with config:\n",
      "\u001b[34m\u001b[1mwandb\u001b[0m: \tbatch_size: 16\n",
      "\u001b[34m\u001b[1mwandb\u001b[0m: \tfc_dropout: 0.1\n",
      "\u001b[34m\u001b[1mwandb\u001b[0m: \tgraph_dropout: 1\n",
      "\u001b[34m\u001b[1mwandb\u001b[0m: \tgraph_num_head: 1\n",
      "\u001b[34m\u001b[1mwandb\u001b[0m: \thidden_dim: 16\n",
      "\u001b[34m\u001b[1mwandb\u001b[0m: \tlearning_rate: 0.001\n",
      "\u001b[34m\u001b[1mwandb\u001b[0m: \tlstm_bidirectional: True\n",
      "\u001b[34m\u001b[1mwandb\u001b[0m: \tlstm_hidden_dim: 16\n",
      "\u001b[34m\u001b[1mwandb\u001b[0m: \tlstm_num_layers: 1\n",
      "\u001b[34m\u001b[1mwandb\u001b[0m: \tnum_classes: 3\n",
      "\u001b[34m\u001b[1mwandb\u001b[0m: \tnum_layers: 2\n",
      "\u001b[34m\u001b[1mwandb\u001b[0m: \tnum_seed_points: 2\n",
      "\u001b[34m\u001b[1mwandb\u001b[0m: \tpool_ratio: 0.5\n",
      "\u001b[34m\u001b[1mwandb\u001b[0m: \tstep_size: 1\n",
      "\u001b[34m\u001b[1mwandb\u001b[0m: \tweight_decay: 0.001\n",
      "\u001b[34m\u001b[1mwandb\u001b[0m: \twindow_size: 20\n"
     ]
    },
    {
     "data": {
      "text/html": [
       "Tracking run with wandb version 0.19.6"
      ],
      "text/plain": [
       "<IPython.core.display.HTML object>"
      ]
     },
     "metadata": {},
     "output_type": "display_data"
    },
    {
     "data": {
      "text/html": [
       "W&B syncing is set to <code>`offline`<code> in this directory.  <br>Run <code>`wandb online`<code> or set <code>WANDB_MODE=online<code> to enable cloud syncing."
      ],
      "text/plain": [
       "<IPython.core.display.HTML object>"
      ]
     },
     "metadata": {},
     "output_type": "display_data"
    },
    {
     "name": "stdout",
     "output_type": "stream",
     "text": [
      "{'batch_size': 16, 'fc_dropout': 0.1, 'graph_dropout': 1, 'graph_num_head': 1, 'hidden_dim': 16, 'learning_rate': 0.001, 'lstm_bidirectional': True, 'lstm_hidden_dim': 16, 'lstm_num_layers': 1, 'num_classes': 3, 'num_layers': 2, 'num_seed_points': 2, 'pool_ratio': 0.5, 'step_size': 1, 'weight_decay': 0.001, 'window_size': 20}\n",
      "\n",
      "=== Training Scene: motor ===\n",
      "从缓存文件加载数据: ./dataset/cache/motor_20_1_dataset_aug_cache.pkl\n"
     ]
    },
    {
     "name": "stderr",
     "output_type": "stream",
     "text": [
      "Epoch 1/5: 100%|██████████| 329/329 [01:22<00:00,  3.97it/s, loss=1.1741]\n"
     ]
    },
    {
     "name": "stdout",
     "output_type": "stream",
     "text": [
      "Epoch 1 | Train Loss: 1.1981 | Val Acc: 0.3333 | Val Prec: 0.1134 | Val Recall: 0.3333 | Val F1: 0.1692\n"
     ]
    },
    {
     "name": "stderr",
     "output_type": "stream",
     "text": [
      "Epoch 2/5: 100%|██████████| 329/329 [01:21<00:00,  4.01it/s, loss=1.1810]\n"
     ]
    },
    {
     "name": "stdout",
     "output_type": "stream",
     "text": [
      "Epoch 2 | Train Loss: 1.1588 | Val Acc: 0.3333 | Val Prec: 0.1134 | Val Recall: 0.3333 | Val F1: 0.1692\n"
     ]
    },
    {
     "name": "stderr",
     "output_type": "stream",
     "text": [
      "Epoch 3/5: 100%|██████████| 329/329 [01:22<00:00,  3.97it/s, loss=0.7682]\n"
     ]
    },
    {
     "name": "stdout",
     "output_type": "stream",
     "text": [
      "Epoch 3 | Train Loss: 1.1350 | Val Acc: 0.3531 | Val Prec: 0.2878 | Val Recall: 0.3531 | Val F1: 0.2750\n"
     ]
    },
    {
     "name": "stderr",
     "output_type": "stream",
     "text": [
      "Epoch 4/5: 100%|██████████| 329/329 [01:22<00:00,  3.99it/s, loss=1.1753]\n"
     ]
    },
    {
     "name": "stdout",
     "output_type": "stream",
     "text": [
      "Epoch 4 | Train Loss: 1.1175 | Val Acc: 0.3605 | Val Prec: 0.2910 | Val Recall: 0.3605 | Val F1: 0.2890\n"
     ]
    },
    {
     "name": "stderr",
     "output_type": "stream",
     "text": [
      "Epoch 5/5: 100%|██████████| 329/329 [01:21<00:00,  4.05it/s, loss=1.0834]\n"
     ]
    },
    {
     "name": "stdout",
     "output_type": "stream",
     "text": [
      "Epoch 5 | Train Loss: 1.0773 | Val Acc: 0.4244 | Val Prec: 0.4358 | Val Recall: 0.4244 | Val F1: 0.3437\n",
      "Best validation F1: 0.3437\n",
      "Checkpoint saved at epoch 4\n"
     ]
    },
    {
     "data": {
      "text/html": [],
      "text/plain": [
       "<IPython.core.display.HTML object>"
      ]
     },
     "metadata": {},
     "output_type": "display_data"
    },
    {
     "data": {
      "text/html": [
       "<br>    <style><br>        .wandb-row {<br>            display: flex;<br>            flex-direction: row;<br>            flex-wrap: wrap;<br>            justify-content: flex-start;<br>            width: 100%;<br>        }<br>        .wandb-col {<br>            display: flex;<br>            flex-direction: column;<br>            flex-basis: 100%;<br>            flex: 1;<br>            padding: 10px;<br>        }<br>    </style><br><div class=\"wandb-row\"><div class=\"wandb-col\"><h3>Run history:</h3><br/><table class=\"wandb\"><tr><td>epoch</td><td>▁▃▅▆█</td></tr><tr><td>train_loss</td><td>█▆▄▃▁</td></tr><tr><td>val_accuracy</td><td>▁▁▃▃█</td></tr><tr><td>val_f1</td><td>▁▁▅▆█</td></tr><tr><td>val_precision</td><td>▁▁▅▅█</td></tr><tr><td>val_recall</td><td>▁▁▃▃█</td></tr><tr><td>validation_accuracy</td><td>▁▁▃▃█</td></tr><tr><td>validation_f1</td><td>▁▁▅▆█</td></tr><tr><td>validation_precision</td><td>▁▁▅▅█</td></tr><tr><td>validation_recall</td><td>▁▁▃▃█</td></tr></table><br/></div><div class=\"wandb-col\"><h3>Run summary:</h3><br/><table class=\"wandb\"><tr><td>best_val_f1</td><td>0.34365</td></tr><tr><td>epoch</td><td>5</td></tr><tr><td>train_loss</td><td>1.07734</td></tr><tr><td>val_accuracy</td><td>0.42443</td></tr><tr><td>val_f1</td><td>0.34365</td></tr><tr><td>val_precision</td><td>0.43582</td></tr><tr><td>val_recall</td><td>0.42443</td></tr><tr><td>validation_accuracy</td><td>0.42443</td></tr><tr><td>validation_f1</td><td>0.34365</td></tr><tr><td>validation_precision</td><td>0.43582</td></tr><tr><td>validation_recall</td><td>0.42443</td></tr></table><br/></div></div>"
      ],
      "text/plain": [
       "<IPython.core.display.HTML object>"
      ]
     },
     "metadata": {},
     "output_type": "display_data"
    },
    {
     "data": {
      "text/html": [
       "You can sync this run to the cloud by running:<br><code>wandb sync d:\\OneDrive - chd.edu.cn\\Desktop\\毕业论文数据\\code\\STNet\\wandb\\offline-run-20250207_010300-sm0le8eb<code>"
      ],
      "text/plain": [
       "<IPython.core.display.HTML object>"
      ]
     },
     "metadata": {},
     "output_type": "display_data"
    },
    {
     "data": {
      "text/html": [
       "Find logs at: <code>.\\wandb\\offline-run-20250207_010300-sm0le8eb\\logs</code>"
      ],
      "text/plain": [
       "<IPython.core.display.HTML object>"
      ]
     },
     "metadata": {},
     "output_type": "display_data"
    },
    {
     "name": "stderr",
     "output_type": "stream",
     "text": [
      "\u001b[34m\u001b[1mwandb\u001b[0m: Agent Starting Run: 9iohzw5v with config:\n",
      "\u001b[34m\u001b[1mwandb\u001b[0m: \tbatch_size: 16\n",
      "\u001b[34m\u001b[1mwandb\u001b[0m: \tfc_dropout: 0.1\n",
      "\u001b[34m\u001b[1mwandb\u001b[0m: \tgraph_dropout: 1\n",
      "\u001b[34m\u001b[1mwandb\u001b[0m: \tgraph_num_head: 1\n",
      "\u001b[34m\u001b[1mwandb\u001b[0m: \thidden_dim: 16\n",
      "\u001b[34m\u001b[1mwandb\u001b[0m: \tlearning_rate: 0.001\n",
      "\u001b[34m\u001b[1mwandb\u001b[0m: \tlstm_bidirectional: True\n",
      "\u001b[34m\u001b[1mwandb\u001b[0m: \tlstm_hidden_dim: 16\n",
      "\u001b[34m\u001b[1mwandb\u001b[0m: \tlstm_num_layers: 1\n",
      "\u001b[34m\u001b[1mwandb\u001b[0m: \tnum_classes: 3\n",
      "\u001b[34m\u001b[1mwandb\u001b[0m: \tnum_layers: 2\n",
      "\u001b[34m\u001b[1mwandb\u001b[0m: \tnum_seed_points: 2\n",
      "\u001b[34m\u001b[1mwandb\u001b[0m: \tpool_ratio: 0.5\n",
      "\u001b[34m\u001b[1mwandb\u001b[0m: \tstep_size: 1\n",
      "\u001b[34m\u001b[1mwandb\u001b[0m: \tweight_decay: 0.001\n",
      "\u001b[34m\u001b[1mwandb\u001b[0m: \twindow_size: 30\n"
     ]
    },
    {
     "data": {
      "text/html": [
       "Tracking run with wandb version 0.19.6"
      ],
      "text/plain": [
       "<IPython.core.display.HTML object>"
      ]
     },
     "metadata": {},
     "output_type": "display_data"
    },
    {
     "data": {
      "text/html": [
       "W&B syncing is set to <code>`offline`<code> in this directory.  <br>Run <code>`wandb online`<code> or set <code>WANDB_MODE=online<code> to enable cloud syncing."
      ],
      "text/plain": [
       "<IPython.core.display.HTML object>"
      ]
     },
     "metadata": {},
     "output_type": "display_data"
    },
    {
     "name": "stdout",
     "output_type": "stream",
     "text": [
      "{'batch_size': 16, 'fc_dropout': 0.1, 'graph_dropout': 1, 'graph_num_head': 1, 'hidden_dim': 16, 'learning_rate': 0.001, 'lstm_bidirectional': True, 'lstm_hidden_dim': 16, 'lstm_num_layers': 1, 'num_classes': 3, 'num_layers': 2, 'num_seed_points': 2, 'pool_ratio': 0.5, 'step_size': 1, 'weight_decay': 0.001, 'window_size': 30}\n",
      "\n",
      "=== Training Scene: motor ===\n",
      "从缓存文件加载数据: ./dataset/cache/motor_30_1_dataset_aug_cache.pkl\n"
     ]
    },
    {
     "name": "stderr",
     "output_type": "stream",
     "text": [
      "Epoch 1/5: 100%|██████████| 322/322 [01:25<00:00,  3.78it/s, loss=1.1932]\n"
     ]
    },
    {
     "name": "stdout",
     "output_type": "stream",
     "text": [
      "Epoch 1 | Train Loss: 1.1968 | Val Acc: 0.3335 | Val Prec: 0.2667 | Val Recall: 0.3335 | Val F1: 0.1846\n"
     ]
    },
    {
     "name": "stderr",
     "output_type": "stream",
     "text": [
      "Epoch 2/5: 100%|██████████| 322/322 [01:22<00:00,  3.89it/s, loss=1.1440]\n"
     ]
    },
    {
     "name": "stdout",
     "output_type": "stream",
     "text": [
      "Epoch 2 | Train Loss: 1.1778 | Val Acc: 0.3614 | Val Prec: 0.3105 | Val Recall: 0.3614 | Val F1: 0.2693\n"
     ]
    },
    {
     "name": "stderr",
     "output_type": "stream",
     "text": [
      "Epoch 3/5: 100%|██████████| 322/322 [01:22<00:00,  3.91it/s, loss=1.1720]\n"
     ]
    },
    {
     "name": "stdout",
     "output_type": "stream",
     "text": [
      "Epoch 3 | Train Loss: 1.0969 | Val Acc: 0.4351 | Val Prec: 0.5172 | Val Recall: 0.4351 | Val F1: 0.3878\n"
     ]
    },
    {
     "name": "stderr",
     "output_type": "stream",
     "text": [
      "Epoch 4/5: 100%|██████████| 322/322 [01:22<00:00,  3.89it/s, loss=1.0479]\n"
     ]
    },
    {
     "name": "stdout",
     "output_type": "stream",
     "text": [
      "Epoch 4 | Train Loss: 1.0493 | Val Acc: 0.4619 | Val Prec: 0.4596 | Val Recall: 0.4619 | Val F1: 0.4058\n"
     ]
    },
    {
     "name": "stderr",
     "output_type": "stream",
     "text": [
      "Epoch 5/5: 100%|██████████| 322/322 [01:22<00:00,  3.89it/s, loss=1.2481]\n"
     ]
    },
    {
     "name": "stdout",
     "output_type": "stream",
     "text": [
      "Epoch 5 | Train Loss: 1.0073 | Val Acc: 0.4828 | Val Prec: 0.4691 | Val Recall: 0.4828 | Val F1: 0.4345\n",
      "Best validation F1: 0.4345\n",
      "Checkpoint saved at epoch 4\n"
     ]
    },
    {
     "data": {
      "text/html": [],
      "text/plain": [
       "<IPython.core.display.HTML object>"
      ]
     },
     "metadata": {},
     "output_type": "display_data"
    },
    {
     "data": {
      "text/html": [
       "<br>    <style><br>        .wandb-row {<br>            display: flex;<br>            flex-direction: row;<br>            flex-wrap: wrap;<br>            justify-content: flex-start;<br>            width: 100%;<br>        }<br>        .wandb-col {<br>            display: flex;<br>            flex-direction: column;<br>            flex-basis: 100%;<br>            flex: 1;<br>            padding: 10px;<br>        }<br>    </style><br><div class=\"wandb-row\"><div class=\"wandb-col\"><h3>Run history:</h3><br/><table class=\"wandb\"><tr><td>epoch</td><td>▁▃▅▆█</td></tr><tr><td>train_loss</td><td>█▇▄▃▁</td></tr><tr><td>val_accuracy</td><td>▁▂▆▇█</td></tr><tr><td>val_f1</td><td>▁▃▇▇█</td></tr><tr><td>val_precision</td><td>▁▂█▆▇</td></tr><tr><td>val_recall</td><td>▁▂▆▇█</td></tr><tr><td>validation_accuracy</td><td>▁▂▆▇█</td></tr><tr><td>validation_f1</td><td>▁▃▇▇█</td></tr><tr><td>validation_precision</td><td>▁▂█▆▇</td></tr><tr><td>validation_recall</td><td>▁▂▆▇█</td></tr></table><br/></div><div class=\"wandb-col\"><h3>Run summary:</h3><br/><table class=\"wandb\"><tr><td>best_val_f1</td><td>0.43453</td></tr><tr><td>epoch</td><td>5</td></tr><tr><td>train_loss</td><td>1.00732</td></tr><tr><td>val_accuracy</td><td>0.48285</td></tr><tr><td>val_f1</td><td>0.43453</td></tr><tr><td>val_precision</td><td>0.46915</td></tr><tr><td>val_recall</td><td>0.48285</td></tr><tr><td>validation_accuracy</td><td>0.48285</td></tr><tr><td>validation_f1</td><td>0.43453</td></tr><tr><td>validation_precision</td><td>0.46915</td></tr><tr><td>validation_recall</td><td>0.48285</td></tr></table><br/></div></div>"
      ],
      "text/plain": [
       "<IPython.core.display.HTML object>"
      ]
     },
     "metadata": {},
     "output_type": "display_data"
    },
    {
     "data": {
      "text/html": [
       "You can sync this run to the cloud by running:<br><code>wandb sync d:\\OneDrive - chd.edu.cn\\Desktop\\毕业论文数据\\code\\STNet\\wandb\\offline-run-20250207_011014-9iohzw5v<code>"
      ],
      "text/plain": [
       "<IPython.core.display.HTML object>"
      ]
     },
     "metadata": {},
     "output_type": "display_data"
    },
    {
     "data": {
      "text/html": [
       "Find logs at: <code>.\\wandb\\offline-run-20250207_011014-9iohzw5v\\logs</code>"
      ],
      "text/plain": [
       "<IPython.core.display.HTML object>"
      ]
     },
     "metadata": {},
     "output_type": "display_data"
    },
    {
     "name": "stderr",
     "output_type": "stream",
     "text": [
      "\u001b[34m\u001b[1mwandb\u001b[0m: Agent Starting Run: i2bv1w9m with config:\n",
      "\u001b[34m\u001b[1mwandb\u001b[0m: \tbatch_size: 16\n",
      "\u001b[34m\u001b[1mwandb\u001b[0m: \tfc_dropout: 0.1\n",
      "\u001b[34m\u001b[1mwandb\u001b[0m: \tgraph_dropout: 1\n",
      "\u001b[34m\u001b[1mwandb\u001b[0m: \tgraph_num_head: 1\n",
      "\u001b[34m\u001b[1mwandb\u001b[0m: \thidden_dim: 16\n",
      "\u001b[34m\u001b[1mwandb\u001b[0m: \tlearning_rate: 0.001\n",
      "\u001b[34m\u001b[1mwandb\u001b[0m: \tlstm_bidirectional: True\n",
      "\u001b[34m\u001b[1mwandb\u001b[0m: \tlstm_hidden_dim: 16\n",
      "\u001b[34m\u001b[1mwandb\u001b[0m: \tlstm_num_layers: 1\n",
      "\u001b[34m\u001b[1mwandb\u001b[0m: \tnum_classes: 3\n",
      "\u001b[34m\u001b[1mwandb\u001b[0m: \tnum_layers: 2\n",
      "\u001b[34m\u001b[1mwandb\u001b[0m: \tnum_seed_points: 2\n",
      "\u001b[34m\u001b[1mwandb\u001b[0m: \tpool_ratio: 0.5\n",
      "\u001b[34m\u001b[1mwandb\u001b[0m: \tstep_size: 1\n",
      "\u001b[34m\u001b[1mwandb\u001b[0m: \tweight_decay: 0.0001\n",
      "\u001b[34m\u001b[1mwandb\u001b[0m: \twindow_size: 10\n"
     ]
    },
    {
     "data": {
      "text/html": [
       "Tracking run with wandb version 0.19.6"
      ],
      "text/plain": [
       "<IPython.core.display.HTML object>"
      ]
     },
     "metadata": {},
     "output_type": "display_data"
    },
    {
     "data": {
      "text/html": [
       "W&B syncing is set to <code>`offline`<code> in this directory.  <br>Run <code>`wandb online`<code> or set <code>WANDB_MODE=online<code> to enable cloud syncing."
      ],
      "text/plain": [
       "<IPython.core.display.HTML object>"
      ]
     },
     "metadata": {},
     "output_type": "display_data"
    },
    {
     "name": "stdout",
     "output_type": "stream",
     "text": [
      "{'batch_size': 16, 'fc_dropout': 0.1, 'graph_dropout': 1, 'graph_num_head': 1, 'hidden_dim': 16, 'learning_rate': 0.001, 'lstm_bidirectional': True, 'lstm_hidden_dim': 16, 'lstm_num_layers': 1, 'num_classes': 3, 'num_layers': 2, 'num_seed_points': 2, 'pool_ratio': 0.5, 'step_size': 1, 'weight_decay': 0.0001, 'window_size': 10}\n",
      "\n",
      "=== Training Scene: motor ===\n",
      "从缓存文件加载数据: ./dataset/cache/motor_10_1_dataset_aug_cache.pkl\n"
     ]
    },
    {
     "name": "stderr",
     "output_type": "stream",
     "text": [
      "Epoch 1/5: 100%|██████████| 336/336 [01:19<00:00,  4.24it/s, loss=1.0786]\n"
     ]
    },
    {
     "name": "stdout",
     "output_type": "stream",
     "text": [
      "Epoch 1 | Train Loss: 1.2096 | Val Acc: 0.3276 | Val Prec: 0.2280 | Val Recall: 0.3276 | Val F1: 0.1852\n"
     ]
    },
    {
     "name": "stderr",
     "output_type": "stream",
     "text": [
      "Epoch 2/5: 100%|██████████| 336/336 [01:18<00:00,  4.30it/s, loss=1.2421]\n"
     ]
    },
    {
     "name": "stdout",
     "output_type": "stream",
     "text": [
      "Epoch 2 | Train Loss: 1.2074 | Val Acc: 0.3622 | Val Prec: 0.2517 | Val Recall: 0.3622 | Val F1: 0.2907\n"
     ]
    },
    {
     "name": "stderr",
     "output_type": "stream",
     "text": [
      "Epoch 3/5: 100%|██████████| 336/336 [01:18<00:00,  4.30it/s, loss=1.1731]\n"
     ]
    },
    {
     "name": "stdout",
     "output_type": "stream",
     "text": [
      "Epoch 3 | Train Loss: 1.1993 | Val Acc: 0.3462 | Val Prec: 0.2603 | Val Recall: 0.3462 | Val F1: 0.2312\n"
     ]
    },
    {
     "name": "stderr",
     "output_type": "stream",
     "text": [
      "Epoch 4/5: 100%|██████████| 336/336 [01:19<00:00,  4.22it/s, loss=1.2571]\n"
     ]
    },
    {
     "name": "stdout",
     "output_type": "stream",
     "text": [
      "Epoch 4 | Train Loss: 1.1959 | Val Acc: 0.3475 | Val Prec: 0.2386 | Val Recall: 0.3475 | Val F1: 0.2792\n"
     ]
    },
    {
     "name": "stderr",
     "output_type": "stream",
     "text": [
      "Epoch 5/5: 100%|██████████| 336/336 [01:20<00:00,  4.15it/s, loss=1.1179]\n"
     ]
    },
    {
     "name": "stdout",
     "output_type": "stream",
     "text": [
      "Epoch 5 | Train Loss: 1.1686 | Val Acc: 0.3449 | Val Prec: 0.3682 | Val Recall: 0.3449 | Val F1: 0.3091\n",
      "Best validation F1: 0.2907\n",
      "Checkpoint saved at epoch 4\n"
     ]
    },
    {
     "data": {
      "text/html": [],
      "text/plain": [
       "<IPython.core.display.HTML object>"
      ]
     },
     "metadata": {},
     "output_type": "display_data"
    },
    {
     "data": {
      "text/html": [
       "<br>    <style><br>        .wandb-row {<br>            display: flex;<br>            flex-direction: row;<br>            flex-wrap: wrap;<br>            justify-content: flex-start;<br>            width: 100%;<br>        }<br>        .wandb-col {<br>            display: flex;<br>            flex-direction: column;<br>            flex-basis: 100%;<br>            flex: 1;<br>            padding: 10px;<br>        }<br>    </style><br><div class=\"wandb-row\"><div class=\"wandb-col\"><h3>Run history:</h3><br/><table class=\"wandb\"><tr><td>epoch</td><td>▁▃▅▆█</td></tr><tr><td>train_loss</td><td>██▆▆▁</td></tr><tr><td>val_accuracy</td><td>▁█▅▅▅</td></tr><tr><td>val_f1</td><td>▁▇▄▆█</td></tr><tr><td>val_precision</td><td>▁▂▃▂█</td></tr><tr><td>val_recall</td><td>▁█▅▅▅</td></tr><tr><td>validation_accuracy</td><td>▁█▅▅▅</td></tr><tr><td>validation_f1</td><td>▁▇▄▆█</td></tr><tr><td>validation_precision</td><td>▁▂▃▂█</td></tr><tr><td>validation_recall</td><td>▁█▅▅▅</td></tr></table><br/></div><div class=\"wandb-col\"><h3>Run summary:</h3><br/><table class=\"wandb\"><tr><td>best_val_f1</td><td>0.29071</td></tr><tr><td>epoch</td><td>5</td></tr><tr><td>train_loss</td><td>1.16863</td></tr><tr><td>val_accuracy</td><td>0.34489</td></tr><tr><td>val_f1</td><td>0.30913</td></tr><tr><td>val_precision</td><td>0.36823</td></tr><tr><td>val_recall</td><td>0.34489</td></tr><tr><td>validation_accuracy</td><td>0.34489</td></tr><tr><td>validation_f1</td><td>0.30913</td></tr><tr><td>validation_precision</td><td>0.36823</td></tr><tr><td>validation_recall</td><td>0.34489</td></tr></table><br/></div></div>"
      ],
      "text/plain": [
       "<IPython.core.display.HTML object>"
      ]
     },
     "metadata": {},
     "output_type": "display_data"
    },
    {
     "data": {
      "text/html": [
       "You can sync this run to the cloud by running:<br><code>wandb sync d:\\OneDrive - chd.edu.cn\\Desktop\\毕业论文数据\\code\\STNet\\wandb\\offline-run-20250207_011733-i2bv1w9m<code>"
      ],
      "text/plain": [
       "<IPython.core.display.HTML object>"
      ]
     },
     "metadata": {},
     "output_type": "display_data"
    },
    {
     "data": {
      "text/html": [
       "Find logs at: <code>.\\wandb\\offline-run-20250207_011733-i2bv1w9m\\logs</code>"
      ],
      "text/plain": [
       "<IPython.core.display.HTML object>"
      ]
     },
     "metadata": {},
     "output_type": "display_data"
    },
    {
     "name": "stderr",
     "output_type": "stream",
     "text": [
      "\u001b[34m\u001b[1mwandb\u001b[0m: Agent Starting Run: idf5rv2d with config:\n",
      "\u001b[34m\u001b[1mwandb\u001b[0m: \tbatch_size: 16\n",
      "\u001b[34m\u001b[1mwandb\u001b[0m: \tfc_dropout: 0.1\n",
      "\u001b[34m\u001b[1mwandb\u001b[0m: \tgraph_dropout: 1\n",
      "\u001b[34m\u001b[1mwandb\u001b[0m: \tgraph_num_head: 1\n",
      "\u001b[34m\u001b[1mwandb\u001b[0m: \thidden_dim: 16\n",
      "\u001b[34m\u001b[1mwandb\u001b[0m: \tlearning_rate: 0.001\n",
      "\u001b[34m\u001b[1mwandb\u001b[0m: \tlstm_bidirectional: True\n",
      "\u001b[34m\u001b[1mwandb\u001b[0m: \tlstm_hidden_dim: 16\n",
      "\u001b[34m\u001b[1mwandb\u001b[0m: \tlstm_num_layers: 1\n",
      "\u001b[34m\u001b[1mwandb\u001b[0m: \tnum_classes: 3\n",
      "\u001b[34m\u001b[1mwandb\u001b[0m: \tnum_layers: 2\n",
      "\u001b[34m\u001b[1mwandb\u001b[0m: \tnum_seed_points: 2\n",
      "\u001b[34m\u001b[1mwandb\u001b[0m: \tpool_ratio: 0.5\n",
      "\u001b[34m\u001b[1mwandb\u001b[0m: \tstep_size: 1\n",
      "\u001b[34m\u001b[1mwandb\u001b[0m: \tweight_decay: 0.0001\n",
      "\u001b[34m\u001b[1mwandb\u001b[0m: \twindow_size: 20\n"
     ]
    },
    {
     "data": {
      "text/html": [
       "Tracking run with wandb version 0.19.6"
      ],
      "text/plain": [
       "<IPython.core.display.HTML object>"
      ]
     },
     "metadata": {},
     "output_type": "display_data"
    },
    {
     "data": {
      "text/html": [
       "W&B syncing is set to <code>`offline`<code> in this directory.  <br>Run <code>`wandb online`<code> or set <code>WANDB_MODE=online<code> to enable cloud syncing."
      ],
      "text/plain": [
       "<IPython.core.display.HTML object>"
      ]
     },
     "metadata": {},
     "output_type": "display_data"
    },
    {
     "name": "stdout",
     "output_type": "stream",
     "text": [
      "{'batch_size': 16, 'fc_dropout': 0.1, 'graph_dropout': 1, 'graph_num_head': 1, 'hidden_dim': 16, 'learning_rate': 0.001, 'lstm_bidirectional': True, 'lstm_hidden_dim': 16, 'lstm_num_layers': 1, 'num_classes': 3, 'num_layers': 2, 'num_seed_points': 2, 'pool_ratio': 0.5, 'step_size': 1, 'weight_decay': 0.0001, 'window_size': 20}\n",
      "\n",
      "=== Training Scene: motor ===\n",
      "从缓存文件加载数据: ./dataset/cache/motor_20_1_dataset_aug_cache.pkl\n"
     ]
    },
    {
     "name": "stderr",
     "output_type": "stream",
     "text": [
      "Epoch 1/5: 100%|██████████| 329/329 [01:23<00:00,  3.94it/s, loss=1.3009]\n"
     ]
    },
    {
     "name": "stdout",
     "output_type": "stream",
     "text": [
      "Epoch 1 | Train Loss: 1.1876 | Val Acc: 0.3787 | Val Prec: 0.4488 | Val Recall: 0.3787 | Val F1: 0.2981\n"
     ]
    },
    {
     "name": "stderr",
     "output_type": "stream",
     "text": [
      "Epoch 2/5: 100%|██████████| 329/329 [01:25<00:00,  3.83it/s, loss=1.1323]\n"
     ]
    },
    {
     "name": "stdout",
     "output_type": "stream",
     "text": [
      "Epoch 2 | Train Loss: 1.1231 | Val Acc: 0.4261 | Val Prec: 0.4050 | Val Recall: 0.4261 | Val F1: 0.3843\n"
     ]
    },
    {
     "name": "stderr",
     "output_type": "stream",
     "text": [
      "Epoch 3/5: 100%|██████████| 329/329 [01:23<00:00,  3.96it/s, loss=1.0076]\n"
     ]
    },
    {
     "name": "stdout",
     "output_type": "stream",
     "text": [
      "Epoch 3 | Train Loss: 1.0561 | Val Acc: 0.4135 | Val Prec: 0.4706 | Val Recall: 0.4135 | Val F1: 0.3923\n"
     ]
    },
    {
     "name": "stderr",
     "output_type": "stream",
     "text": [
      "Epoch 4/5: 100%|██████████| 329/329 [01:23<00:00,  3.93it/s, loss=1.0409]\n"
     ]
    },
    {
     "name": "stdout",
     "output_type": "stream",
     "text": [
      "Epoch 4 | Train Loss: 1.0309 | Val Acc: 0.4255 | Val Prec: 0.4182 | Val Recall: 0.4255 | Val F1: 0.4122\n"
     ]
    },
    {
     "name": "stderr",
     "output_type": "stream",
     "text": [
      "Epoch 5/5: 100%|██████████| 329/329 [01:25<00:00,  3.86it/s, loss=0.6547]\n"
     ]
    },
    {
     "name": "stdout",
     "output_type": "stream",
     "text": [
      "Epoch 5 | Train Loss: 0.9992 | Val Acc: 0.4242 | Val Prec: 0.4503 | Val Recall: 0.4242 | Val F1: 0.3998\n",
      "Best validation F1: 0.3843\n",
      "Checkpoint saved at epoch 4\n"
     ]
    },
    {
     "data": {
      "text/html": [],
      "text/plain": [
       "<IPython.core.display.HTML object>"
      ]
     },
     "metadata": {},
     "output_type": "display_data"
    },
    {
     "data": {
      "text/html": [
       "<br>    <style><br>        .wandb-row {<br>            display: flex;<br>            flex-direction: row;<br>            flex-wrap: wrap;<br>            justify-content: flex-start;<br>            width: 100%;<br>        }<br>        .wandb-col {<br>            display: flex;<br>            flex-direction: column;<br>            flex-basis: 100%;<br>            flex: 1;<br>            padding: 10px;<br>        }<br>    </style><br><div class=\"wandb-row\"><div class=\"wandb-col\"><h3>Run history:</h3><br/><table class=\"wandb\"><tr><td>epoch</td><td>▁▃▅▆█</td></tr><tr><td>train_loss</td><td>█▆▃▂▁</td></tr><tr><td>val_accuracy</td><td>▁█▆██</td></tr><tr><td>val_f1</td><td>▁▆▇█▇</td></tr><tr><td>val_precision</td><td>▆▁█▂▆</td></tr><tr><td>val_recall</td><td>▁█▆██</td></tr><tr><td>validation_accuracy</td><td>▁█▆██</td></tr><tr><td>validation_f1</td><td>▁▆▇█▇</td></tr><tr><td>validation_precision</td><td>▆▁█▂▆</td></tr><tr><td>validation_recall</td><td>▁█▆██</td></tr></table><br/></div><div class=\"wandb-col\"><h3>Run summary:</h3><br/><table class=\"wandb\"><tr><td>best_val_f1</td><td>0.38428</td></tr><tr><td>epoch</td><td>5</td></tr><tr><td>train_loss</td><td>0.99921</td></tr><tr><td>val_accuracy</td><td>0.42424</td></tr><tr><td>val_f1</td><td>0.39976</td></tr><tr><td>val_precision</td><td>0.45025</td></tr><tr><td>val_recall</td><td>0.42424</td></tr><tr><td>validation_accuracy</td><td>0.42424</td></tr><tr><td>validation_f1</td><td>0.39976</td></tr><tr><td>validation_precision</td><td>0.45025</td></tr><tr><td>validation_recall</td><td>0.42424</td></tr></table><br/></div></div>"
      ],
      "text/plain": [
       "<IPython.core.display.HTML object>"
      ]
     },
     "metadata": {},
     "output_type": "display_data"
    },
    {
     "data": {
      "text/html": [
       "You can sync this run to the cloud by running:<br><code>wandb sync d:\\OneDrive - chd.edu.cn\\Desktop\\毕业论文数据\\code\\STNet\\wandb\\offline-run-20250207_012426-idf5rv2d<code>"
      ],
      "text/plain": [
       "<IPython.core.display.HTML object>"
      ]
     },
     "metadata": {},
     "output_type": "display_data"
    },
    {
     "data": {
      "text/html": [
       "Find logs at: <code>.\\wandb\\offline-run-20250207_012426-idf5rv2d\\logs</code>"
      ],
      "text/plain": [
       "<IPython.core.display.HTML object>"
      ]
     },
     "metadata": {},
     "output_type": "display_data"
    },
    {
     "name": "stderr",
     "output_type": "stream",
     "text": [
      "\u001b[34m\u001b[1mwandb\u001b[0m: Agent Starting Run: 00gy8x43 with config:\n",
      "\u001b[34m\u001b[1mwandb\u001b[0m: \tbatch_size: 16\n",
      "\u001b[34m\u001b[1mwandb\u001b[0m: \tfc_dropout: 0.1\n",
      "\u001b[34m\u001b[1mwandb\u001b[0m: \tgraph_dropout: 1\n",
      "\u001b[34m\u001b[1mwandb\u001b[0m: \tgraph_num_head: 1\n",
      "\u001b[34m\u001b[1mwandb\u001b[0m: \thidden_dim: 16\n",
      "\u001b[34m\u001b[1mwandb\u001b[0m: \tlearning_rate: 0.001\n",
      "\u001b[34m\u001b[1mwandb\u001b[0m: \tlstm_bidirectional: True\n",
      "\u001b[34m\u001b[1mwandb\u001b[0m: \tlstm_hidden_dim: 16\n",
      "\u001b[34m\u001b[1mwandb\u001b[0m: \tlstm_num_layers: 1\n",
      "\u001b[34m\u001b[1mwandb\u001b[0m: \tnum_classes: 3\n",
      "\u001b[34m\u001b[1mwandb\u001b[0m: \tnum_layers: 2\n",
      "\u001b[34m\u001b[1mwandb\u001b[0m: \tnum_seed_points: 2\n",
      "\u001b[34m\u001b[1mwandb\u001b[0m: \tpool_ratio: 0.5\n",
      "\u001b[34m\u001b[1mwandb\u001b[0m: \tstep_size: 1\n",
      "\u001b[34m\u001b[1mwandb\u001b[0m: \tweight_decay: 0.001\n",
      "\u001b[34m\u001b[1mwandb\u001b[0m: \twindow_size: 40\n"
     ]
    },
    {
     "data": {
      "text/html": [
       "Tracking run with wandb version 0.19.6"
      ],
      "text/plain": [
       "<IPython.core.display.HTML object>"
      ]
     },
     "metadata": {},
     "output_type": "display_data"
    },
    {
     "data": {
      "text/html": [
       "W&B syncing is set to <code>`offline`<code> in this directory.  <br>Run <code>`wandb online`<code> or set <code>WANDB_MODE=online<code> to enable cloud syncing."
      ],
      "text/plain": [
       "<IPython.core.display.HTML object>"
      ]
     },
     "metadata": {},
     "output_type": "display_data"
    },
    {
     "name": "stdout",
     "output_type": "stream",
     "text": [
      "{'batch_size': 16, 'fc_dropout': 0.1, 'graph_dropout': 1, 'graph_num_head': 1, 'hidden_dim': 16, 'learning_rate': 0.001, 'lstm_bidirectional': True, 'lstm_hidden_dim': 16, 'lstm_num_layers': 1, 'num_classes': 3, 'num_layers': 2, 'num_seed_points': 2, 'pool_ratio': 0.5, 'step_size': 1, 'weight_decay': 0.001, 'window_size': 40}\n",
      "\n",
      "=== Training Scene: motor ===\n",
      "从缓存文件加载数据: ./dataset/cache/motor_40_1_dataset_aug_cache.pkl\n"
     ]
    },
    {
     "name": "stderr",
     "output_type": "stream",
     "text": [
      "Epoch 1/5: 100%|██████████| 315/315 [01:28<00:00,  3.57it/s, loss=1.2180]\n"
     ]
    },
    {
     "name": "stdout",
     "output_type": "stream",
     "text": [
      "Epoch 1 | Train Loss: 1.1599 | Val Acc: 0.4474 | Val Prec: 0.4948 | Val Recall: 0.4474 | Val F1: 0.3516\n"
     ]
    },
    {
     "name": "stderr",
     "output_type": "stream",
     "text": [
      "Epoch 2/5: 100%|██████████| 315/315 [01:26<00:00,  3.64it/s, loss=1.3580]\n"
     ]
    },
    {
     "name": "stdout",
     "output_type": "stream",
     "text": [
      "Epoch 2 | Train Loss: 1.0595 | Val Acc: 0.4613 | Val Prec: 0.5103 | Val Recall: 0.4613 | Val F1: 0.3966\n"
     ]
    },
    {
     "name": "stderr",
     "output_type": "stream",
     "text": [
      "Epoch 3/5: 100%|██████████| 315/315 [01:27<00:00,  3.60it/s, loss=0.6563]\n"
     ]
    },
    {
     "name": "stdout",
     "output_type": "stream",
     "text": [
      "Epoch 3 | Train Loss: 0.9961 | Val Acc: 0.3690 | Val Prec: 0.4987 | Val Recall: 0.3690 | Val F1: 0.3197\n"
     ]
    },
    {
     "name": "stderr",
     "output_type": "stream",
     "text": [
      "Epoch 4/5: 100%|██████████| 315/315 [01:29<00:00,  3.53it/s, loss=0.8921]\n"
     ]
    },
    {
     "name": "stdout",
     "output_type": "stream",
     "text": [
      "Epoch 4 | Train Loss: 0.9683 | Val Acc: 0.4831 | Val Prec: 0.4840 | Val Recall: 0.4831 | Val F1: 0.4775\n"
     ]
    },
    {
     "name": "stderr",
     "output_type": "stream",
     "text": [
      "Epoch 5/5: 100%|██████████| 315/315 [01:26<00:00,  3.64it/s, loss=0.4481]\n"
     ]
    },
    {
     "name": "stdout",
     "output_type": "stream",
     "text": [
      "Epoch 5 | Train Loss: 0.9513 | Val Acc: 0.4694 | Val Prec: 0.4566 | Val Recall: 0.4694 | Val F1: 0.4450\n",
      "Best validation F1: 0.4775\n",
      "Checkpoint saved at epoch 4\n"
     ]
    },
    {
     "data": {
      "text/html": [],
      "text/plain": [
       "<IPython.core.display.HTML object>"
      ]
     },
     "metadata": {},
     "output_type": "display_data"
    },
    {
     "data": {
      "text/html": [
       "<br>    <style><br>        .wandb-row {<br>            display: flex;<br>            flex-direction: row;<br>            flex-wrap: wrap;<br>            justify-content: flex-start;<br>            width: 100%;<br>        }<br>        .wandb-col {<br>            display: flex;<br>            flex-direction: column;<br>            flex-basis: 100%;<br>            flex: 1;<br>            padding: 10px;<br>        }<br>    </style><br><div class=\"wandb-row\"><div class=\"wandb-col\"><h3>Run history:</h3><br/><table class=\"wandb\"><tr><td>epoch</td><td>▁▃▅▆█</td></tr><tr><td>train_loss</td><td>█▅▃▂▁</td></tr><tr><td>val_accuracy</td><td>▆▇▁█▇</td></tr><tr><td>val_f1</td><td>▂▄▁█▇</td></tr><tr><td>val_precision</td><td>▆█▆▅▁</td></tr><tr><td>val_recall</td><td>▆▇▁█▇</td></tr><tr><td>validation_accuracy</td><td>▆▇▁█▇</td></tr><tr><td>validation_f1</td><td>▂▄▁█▇</td></tr><tr><td>validation_precision</td><td>▆█▆▅▁</td></tr><tr><td>validation_recall</td><td>▆▇▁█▇</td></tr></table><br/></div><div class=\"wandb-col\"><h3>Run summary:</h3><br/><table class=\"wandb\"><tr><td>best_val_f1</td><td>0.47753</td></tr><tr><td>epoch</td><td>5</td></tr><tr><td>train_loss</td><td>0.95133</td></tr><tr><td>val_accuracy</td><td>0.4694</td></tr><tr><td>val_f1</td><td>0.44505</td></tr><tr><td>val_precision</td><td>0.45658</td></tr><tr><td>val_recall</td><td>0.4694</td></tr><tr><td>validation_accuracy</td><td>0.4694</td></tr><tr><td>validation_f1</td><td>0.44505</td></tr><tr><td>validation_precision</td><td>0.45658</td></tr><tr><td>validation_recall</td><td>0.4694</td></tr></table><br/></div></div>"
      ],
      "text/plain": [
       "<IPython.core.display.HTML object>"
      ]
     },
     "metadata": {},
     "output_type": "display_data"
    },
    {
     "data": {
      "text/html": [
       "You can sync this run to the cloud by running:<br><code>wandb sync d:\\OneDrive - chd.edu.cn\\Desktop\\毕业论文数据\\code\\STNet\\wandb\\offline-run-20250207_013148-00gy8x43<code>"
      ],
      "text/plain": [
       "<IPython.core.display.HTML object>"
      ]
     },
     "metadata": {},
     "output_type": "display_data"
    },
    {
     "data": {
      "text/html": [
       "Find logs at: <code>.\\wandb\\offline-run-20250207_013148-00gy8x43\\logs</code>"
      ],
      "text/plain": [
       "<IPython.core.display.HTML object>"
      ]
     },
     "metadata": {},
     "output_type": "display_data"
    },
    {
     "name": "stderr",
     "output_type": "stream",
     "text": [
      "\u001b[34m\u001b[1mwandb\u001b[0m: Agent Starting Run: 1exlqsut with config:\n",
      "\u001b[34m\u001b[1mwandb\u001b[0m: \tbatch_size: 16\n",
      "\u001b[34m\u001b[1mwandb\u001b[0m: \tfc_dropout: 0.1\n",
      "\u001b[34m\u001b[1mwandb\u001b[0m: \tgraph_dropout: 1\n",
      "\u001b[34m\u001b[1mwandb\u001b[0m: \tgraph_num_head: 1\n",
      "\u001b[34m\u001b[1mwandb\u001b[0m: \thidden_dim: 16\n",
      "\u001b[34m\u001b[1mwandb\u001b[0m: \tlearning_rate: 0.001\n",
      "\u001b[34m\u001b[1mwandb\u001b[0m: \tlstm_bidirectional: True\n",
      "\u001b[34m\u001b[1mwandb\u001b[0m: \tlstm_hidden_dim: 16\n",
      "\u001b[34m\u001b[1mwandb\u001b[0m: \tlstm_num_layers: 1\n",
      "\u001b[34m\u001b[1mwandb\u001b[0m: \tnum_classes: 3\n",
      "\u001b[34m\u001b[1mwandb\u001b[0m: \tnum_layers: 2\n",
      "\u001b[34m\u001b[1mwandb\u001b[0m: \tnum_seed_points: 2\n",
      "\u001b[34m\u001b[1mwandb\u001b[0m: \tpool_ratio: 0.5\n",
      "\u001b[34m\u001b[1mwandb\u001b[0m: \tstep_size: 1\n",
      "\u001b[34m\u001b[1mwandb\u001b[0m: \tweight_decay: 0.0001\n",
      "\u001b[34m\u001b[1mwandb\u001b[0m: \twindow_size: 30\n"
     ]
    },
    {
     "data": {
      "text/html": [
       "Tracking run with wandb version 0.19.6"
      ],
      "text/plain": [
       "<IPython.core.display.HTML object>"
      ]
     },
     "metadata": {},
     "output_type": "display_data"
    },
    {
     "data": {
      "text/html": [
       "W&B syncing is set to <code>`offline`<code> in this directory.  <br>Run <code>`wandb online`<code> or set <code>WANDB_MODE=online<code> to enable cloud syncing."
      ],
      "text/plain": [
       "<IPython.core.display.HTML object>"
      ]
     },
     "metadata": {},
     "output_type": "display_data"
    },
    {
     "name": "stdout",
     "output_type": "stream",
     "text": [
      "{'batch_size': 16, 'fc_dropout': 0.1, 'graph_dropout': 1, 'graph_num_head': 1, 'hidden_dim': 16, 'learning_rate': 0.001, 'lstm_bidirectional': True, 'lstm_hidden_dim': 16, 'lstm_num_layers': 1, 'num_classes': 3, 'num_layers': 2, 'num_seed_points': 2, 'pool_ratio': 0.5, 'step_size': 1, 'weight_decay': 0.0001, 'window_size': 30}\n",
      "\n",
      "=== Training Scene: motor ===\n",
      "从缓存文件加载数据: ./dataset/cache/motor_30_1_dataset_aug_cache.pkl\n"
     ]
    },
    {
     "name": "stderr",
     "output_type": "stream",
     "text": [
      "Epoch 1/5: 100%|██████████| 322/322 [01:26<00:00,  3.73it/s, loss=1.0995]\n"
     ]
    },
    {
     "name": "stdout",
     "output_type": "stream",
     "text": [
      "Epoch 1 | Train Loss: 1.1879 | Val Acc: 0.3831 | Val Prec: 0.4386 | Val Recall: 0.3831 | Val F1: 0.3543\n"
     ]
    },
    {
     "name": "stderr",
     "output_type": "stream",
     "text": [
      "Epoch 2/5: 100%|██████████| 322/322 [01:25<00:00,  3.78it/s, loss=1.1243]\n"
     ]
    },
    {
     "name": "stdout",
     "output_type": "stream",
     "text": [
      "Epoch 2 | Train Loss: 1.0846 | Val Acc: 0.4698 | Val Prec: 0.4811 | Val Recall: 0.4698 | Val F1: 0.4156\n"
     ]
    },
    {
     "name": "stderr",
     "output_type": "stream",
     "text": [
      "Epoch 3/5: 100%|██████████| 322/322 [01:25<00:00,  3.76it/s, loss=1.3342]\n"
     ]
    },
    {
     "name": "stdout",
     "output_type": "stream",
     "text": [
      "Epoch 3 | Train Loss: 1.0083 | Val Acc: 0.4777 | Val Prec: 0.4795 | Val Recall: 0.4777 | Val F1: 0.4771\n"
     ]
    },
    {
     "name": "stderr",
     "output_type": "stream",
     "text": [
      "Epoch 4/5: 100%|██████████| 322/322 [01:23<00:00,  3.84it/s, loss=1.3657]\n"
     ]
    },
    {
     "name": "stdout",
     "output_type": "stream",
     "text": [
      "Epoch 4 | Train Loss: 0.9629 | Val Acc: 0.4426 | Val Prec: 0.4673 | Val Recall: 0.4426 | Val F1: 0.4459\n"
     ]
    },
    {
     "name": "stderr",
     "output_type": "stream",
     "text": [
      "Epoch 5/5: 100%|██████████| 322/322 [01:25<00:00,  3.78it/s, loss=0.7400]\n"
     ]
    },
    {
     "name": "stdout",
     "output_type": "stream",
     "text": [
      "Epoch 5 | Train Loss: 0.9477 | Val Acc: 0.4725 | Val Prec: 0.5773 | Val Recall: 0.4725 | Val F1: 0.4750\n",
      "Best validation F1: 0.4771\n",
      "Checkpoint saved at epoch 4\n"
     ]
    },
    {
     "data": {
      "text/html": [],
      "text/plain": [
       "<IPython.core.display.HTML object>"
      ]
     },
     "metadata": {},
     "output_type": "display_data"
    },
    {
     "data": {
      "text/html": [
       "<br>    <style><br>        .wandb-row {<br>            display: flex;<br>            flex-direction: row;<br>            flex-wrap: wrap;<br>            justify-content: flex-start;<br>            width: 100%;<br>        }<br>        .wandb-col {<br>            display: flex;<br>            flex-direction: column;<br>            flex-basis: 100%;<br>            flex: 1;<br>            padding: 10px;<br>        }<br>    </style><br><div class=\"wandb-row\"><div class=\"wandb-col\"><h3>Run history:</h3><br/><table class=\"wandb\"><tr><td>epoch</td><td>▁▃▅▆█</td></tr><tr><td>train_loss</td><td>█▅▃▁▁</td></tr><tr><td>val_accuracy</td><td>▁▇█▅█</td></tr><tr><td>val_f1</td><td>▁▄█▆█</td></tr><tr><td>val_precision</td><td>▁▃▃▂█</td></tr><tr><td>val_recall</td><td>▁▇█▅█</td></tr><tr><td>validation_accuracy</td><td>▁▇█▅█</td></tr><tr><td>validation_f1</td><td>▁▄█▆█</td></tr><tr><td>validation_precision</td><td>▁▃▃▂█</td></tr><tr><td>validation_recall</td><td>▁▇█▅█</td></tr></table><br/></div><div class=\"wandb-col\"><h3>Run summary:</h3><br/><table class=\"wandb\"><tr><td>best_val_f1</td><td>0.47706</td></tr><tr><td>epoch</td><td>5</td></tr><tr><td>train_loss</td><td>0.94768</td></tr><tr><td>val_accuracy</td><td>0.47251</td></tr><tr><td>val_f1</td><td>0.47505</td></tr><tr><td>val_precision</td><td>0.57726</td></tr><tr><td>val_recall</td><td>0.47251</td></tr><tr><td>validation_accuracy</td><td>0.47251</td></tr><tr><td>validation_f1</td><td>0.47505</td></tr><tr><td>validation_precision</td><td>0.57726</td></tr><tr><td>validation_recall</td><td>0.47251</td></tr></table><br/></div></div>"
      ],
      "text/plain": [
       "<IPython.core.display.HTML object>"
      ]
     },
     "metadata": {},
     "output_type": "display_data"
    },
    {
     "data": {
      "text/html": [
       "You can sync this run to the cloud by running:<br><code>wandb sync d:\\OneDrive - chd.edu.cn\\Desktop\\毕业论文数据\\code\\STNet\\wandb\\offline-run-20250207_013933-1exlqsut<code>"
      ],
      "text/plain": [
       "<IPython.core.display.HTML object>"
      ]
     },
     "metadata": {},
     "output_type": "display_data"
    },
    {
     "data": {
      "text/html": [
       "Find logs at: <code>.\\wandb\\offline-run-20250207_013933-1exlqsut\\logs</code>"
      ],
      "text/plain": [
       "<IPython.core.display.HTML object>"
      ]
     },
     "metadata": {},
     "output_type": "display_data"
    },
    {
     "name": "stderr",
     "output_type": "stream",
     "text": [
      "\u001b[34m\u001b[1mwandb\u001b[0m: Agent Starting Run: rqx3nm83 with config:\n",
      "\u001b[34m\u001b[1mwandb\u001b[0m: \tbatch_size: 16\n",
      "\u001b[34m\u001b[1mwandb\u001b[0m: \tfc_dropout: 0.1\n",
      "\u001b[34m\u001b[1mwandb\u001b[0m: \tgraph_dropout: 1\n",
      "\u001b[34m\u001b[1mwandb\u001b[0m: \tgraph_num_head: 1\n",
      "\u001b[34m\u001b[1mwandb\u001b[0m: \thidden_dim: 16\n",
      "\u001b[34m\u001b[1mwandb\u001b[0m: \tlearning_rate: 0.001\n",
      "\u001b[34m\u001b[1mwandb\u001b[0m: \tlstm_bidirectional: True\n",
      "\u001b[34m\u001b[1mwandb\u001b[0m: \tlstm_hidden_dim: 16\n",
      "\u001b[34m\u001b[1mwandb\u001b[0m: \tlstm_num_layers: 1\n",
      "\u001b[34m\u001b[1mwandb\u001b[0m: \tnum_classes: 3\n",
      "\u001b[34m\u001b[1mwandb\u001b[0m: \tnum_layers: 2\n",
      "\u001b[34m\u001b[1mwandb\u001b[0m: \tnum_seed_points: 2\n",
      "\u001b[34m\u001b[1mwandb\u001b[0m: \tpool_ratio: 0.5\n",
      "\u001b[34m\u001b[1mwandb\u001b[0m: \tstep_size: 1\n",
      "\u001b[34m\u001b[1mwandb\u001b[0m: \tweight_decay: 0.0001\n",
      "\u001b[34m\u001b[1mwandb\u001b[0m: \twindow_size: 40\n"
     ]
    },
    {
     "data": {
      "text/html": [
       "Tracking run with wandb version 0.19.6"
      ],
      "text/plain": [
       "<IPython.core.display.HTML object>"
      ]
     },
     "metadata": {},
     "output_type": "display_data"
    },
    {
     "data": {
      "text/html": [
       "W&B syncing is set to <code>`offline`<code> in this directory.  <br>Run <code>`wandb online`<code> or set <code>WANDB_MODE=online<code> to enable cloud syncing."
      ],
      "text/plain": [
       "<IPython.core.display.HTML object>"
      ]
     },
     "metadata": {},
     "output_type": "display_data"
    },
    {
     "name": "stdout",
     "output_type": "stream",
     "text": [
      "{'batch_size': 16, 'fc_dropout': 0.1, 'graph_dropout': 1, 'graph_num_head': 1, 'hidden_dim': 16, 'learning_rate': 0.001, 'lstm_bidirectional': True, 'lstm_hidden_dim': 16, 'lstm_num_layers': 1, 'num_classes': 3, 'num_layers': 2, 'num_seed_points': 2, 'pool_ratio': 0.5, 'step_size': 1, 'weight_decay': 0.0001, 'window_size': 40}\n",
      "\n",
      "=== Training Scene: motor ===\n",
      "从缓存文件加载数据: ./dataset/cache/motor_40_1_dataset_aug_cache.pkl\n"
     ]
    },
    {
     "name": "stderr",
     "output_type": "stream",
     "text": [
      "Epoch 1/5: 100%|██████████| 315/315 [01:27<00:00,  3.59it/s, loss=1.1344]\n"
     ]
    },
    {
     "name": "stdout",
     "output_type": "stream",
     "text": [
      "Epoch 1 | Train Loss: 1.1721 | Val Acc: 0.3954 | Val Prec: 0.4858 | Val Recall: 0.3954 | Val F1: 0.2919\n"
     ]
    },
    {
     "name": "stderr",
     "output_type": "stream",
     "text": [
      "Epoch 2/5: 100%|██████████| 315/315 [01:26<00:00,  3.64it/s, loss=1.3336]\n"
     ]
    },
    {
     "name": "stdout",
     "output_type": "stream",
     "text": [
      "Epoch 2 | Train Loss: 1.0881 | Val Acc: 0.3953 | Val Prec: 0.3486 | Val Recall: 0.3953 | Val F1: 0.3426\n"
     ]
    },
    {
     "name": "stderr",
     "output_type": "stream",
     "text": [
      "Epoch 3/5: 100%|██████████| 315/315 [01:26<00:00,  3.66it/s, loss=0.8371]\n"
     ]
    },
    {
     "name": "stdout",
     "output_type": "stream",
     "text": [
      "Epoch 3 | Train Loss: 1.0370 | Val Acc: 0.4663 | Val Prec: 0.4487 | Val Recall: 0.4663 | Val F1: 0.4074\n"
     ]
    },
    {
     "name": "stderr",
     "output_type": "stream",
     "text": [
      "Epoch 4/5: 100%|██████████| 315/315 [01:26<00:00,  3.65it/s, loss=0.5787]\n"
     ]
    },
    {
     "name": "stdout",
     "output_type": "stream",
     "text": [
      "Epoch 4 | Train Loss: 0.9979 | Val Acc: 0.4902 | Val Prec: 0.4994 | Val Recall: 0.4902 | Val F1: 0.4425\n"
     ]
    },
    {
     "name": "stderr",
     "output_type": "stream",
     "text": [
      "Epoch 5/5: 100%|██████████| 315/315 [01:28<00:00,  3.57it/s, loss=1.2982]\n"
     ]
    },
    {
     "name": "stdout",
     "output_type": "stream",
     "text": [
      "Epoch 5 | Train Loss: 0.9979 | Val Acc: 0.4625 | Val Prec: 0.4965 | Val Recall: 0.4625 | Val F1: 0.3901\n",
      "Best validation F1: 0.4425\n",
      "Checkpoint saved at epoch 4\n"
     ]
    },
    {
     "data": {
      "text/html": [],
      "text/plain": [
       "<IPython.core.display.HTML object>"
      ]
     },
     "metadata": {},
     "output_type": "display_data"
    },
    {
     "data": {
      "text/html": [
       "<br>    <style><br>        .wandb-row {<br>            display: flex;<br>            flex-direction: row;<br>            flex-wrap: wrap;<br>            justify-content: flex-start;<br>            width: 100%;<br>        }<br>        .wandb-col {<br>            display: flex;<br>            flex-direction: column;<br>            flex-basis: 100%;<br>            flex: 1;<br>            padding: 10px;<br>        }<br>    </style><br><div class=\"wandb-row\"><div class=\"wandb-col\"><h3>Run history:</h3><br/><table class=\"wandb\"><tr><td>epoch</td><td>▁▃▅▆█</td></tr><tr><td>train_loss</td><td>█▅▃▁▁</td></tr><tr><td>val_accuracy</td><td>▁▁▆█▆</td></tr><tr><td>val_f1</td><td>▁▃▆█▆</td></tr><tr><td>val_precision</td><td>▇▁▆██</td></tr><tr><td>val_recall</td><td>▁▁▆█▆</td></tr><tr><td>validation_accuracy</td><td>▁▁▆█▆</td></tr><tr><td>validation_f1</td><td>▁▃▆█▆</td></tr><tr><td>validation_precision</td><td>▇▁▆██</td></tr><tr><td>validation_recall</td><td>▁▁▆█▆</td></tr></table><br/></div><div class=\"wandb-col\"><h3>Run summary:</h3><br/><table class=\"wandb\"><tr><td>best_val_f1</td><td>0.44247</td></tr><tr><td>epoch</td><td>5</td></tr><tr><td>train_loss</td><td>0.9979</td></tr><tr><td>val_accuracy</td><td>0.46249</td></tr><tr><td>val_f1</td><td>0.39012</td></tr><tr><td>val_precision</td><td>0.49647</td></tr><tr><td>val_recall</td><td>0.46249</td></tr><tr><td>validation_accuracy</td><td>0.46249</td></tr><tr><td>validation_f1</td><td>0.39012</td></tr><tr><td>validation_precision</td><td>0.49647</td></tr><tr><td>validation_recall</td><td>0.46249</td></tr></table><br/></div></div>"
      ],
      "text/plain": [
       "<IPython.core.display.HTML object>"
      ]
     },
     "metadata": {},
     "output_type": "display_data"
    },
    {
     "data": {
      "text/html": [
       "You can sync this run to the cloud by running:<br><code>wandb sync d:\\OneDrive - chd.edu.cn\\Desktop\\毕业论文数据\\code\\STNet\\wandb\\offline-run-20250207_014702-rqx3nm83<code>"
      ],
      "text/plain": [
       "<IPython.core.display.HTML object>"
      ]
     },
     "metadata": {},
     "output_type": "display_data"
    },
    {
     "data": {
      "text/html": [
       "Find logs at: <code>.\\wandb\\offline-run-20250207_014702-rqx3nm83\\logs</code>"
      ],
      "text/plain": [
       "<IPython.core.display.HTML object>"
      ]
     },
     "metadata": {},
     "output_type": "display_data"
    },
    {
     "name": "stderr",
     "output_type": "stream",
     "text": [
      "\u001b[34m\u001b[1mwandb\u001b[0m: Agent Starting Run: 48c7uvvo with config:\n",
      "\u001b[34m\u001b[1mwandb\u001b[0m: \tbatch_size: 16\n",
      "\u001b[34m\u001b[1mwandb\u001b[0m: \tfc_dropout: 0.1\n",
      "\u001b[34m\u001b[1mwandb\u001b[0m: \tgraph_dropout: 1\n",
      "\u001b[34m\u001b[1mwandb\u001b[0m: \tgraph_num_head: 1\n",
      "\u001b[34m\u001b[1mwandb\u001b[0m: \thidden_dim: 16\n",
      "\u001b[34m\u001b[1mwandb\u001b[0m: \tlearning_rate: 0.001\n",
      "\u001b[34m\u001b[1mwandb\u001b[0m: \tlstm_bidirectional: True\n",
      "\u001b[34m\u001b[1mwandb\u001b[0m: \tlstm_hidden_dim: 16\n",
      "\u001b[34m\u001b[1mwandb\u001b[0m: \tlstm_num_layers: 1\n",
      "\u001b[34m\u001b[1mwandb\u001b[0m: \tnum_classes: 3\n",
      "\u001b[34m\u001b[1mwandb\u001b[0m: \tnum_layers: 2\n",
      "\u001b[34m\u001b[1mwandb\u001b[0m: \tnum_seed_points: 2\n",
      "\u001b[34m\u001b[1mwandb\u001b[0m: \tpool_ratio: 0.5\n",
      "\u001b[34m\u001b[1mwandb\u001b[0m: \tstep_size: 1\n",
      "\u001b[34m\u001b[1mwandb\u001b[0m: \tweight_decay: 0.01\n",
      "\u001b[34m\u001b[1mwandb\u001b[0m: \twindow_size: 10\n"
     ]
    },
    {
     "data": {
      "text/html": [
       "Tracking run with wandb version 0.19.6"
      ],
      "text/plain": [
       "<IPython.core.display.HTML object>"
      ]
     },
     "metadata": {},
     "output_type": "display_data"
    },
    {
     "data": {
      "text/html": [
       "W&B syncing is set to <code>`offline`<code> in this directory.  <br>Run <code>`wandb online`<code> or set <code>WANDB_MODE=online<code> to enable cloud syncing."
      ],
      "text/plain": [
       "<IPython.core.display.HTML object>"
      ]
     },
     "metadata": {},
     "output_type": "display_data"
    },
    {
     "name": "stdout",
     "output_type": "stream",
     "text": [
      "{'batch_size': 16, 'fc_dropout': 0.1, 'graph_dropout': 1, 'graph_num_head': 1, 'hidden_dim': 16, 'learning_rate': 0.001, 'lstm_bidirectional': True, 'lstm_hidden_dim': 16, 'lstm_num_layers': 1, 'num_classes': 3, 'num_layers': 2, 'num_seed_points': 2, 'pool_ratio': 0.5, 'step_size': 1, 'weight_decay': 0.01, 'window_size': 10}\n",
      "\n",
      "=== Training Scene: motor ===\n",
      "从缓存文件加载数据: ./dataset/cache/motor_10_1_dataset_aug_cache.pkl\n"
     ]
    },
    {
     "name": "stderr",
     "output_type": "stream",
     "text": [
      "Epoch 1/5: 100%|██████████| 336/336 [01:22<00:00,  4.09it/s, loss=1.1287]\n"
     ]
    },
    {
     "name": "stdout",
     "output_type": "stream",
     "text": [
      "Epoch 1 | Train Loss: 1.2057 | Val Acc: 0.3503 | Val Prec: 0.2452 | Val Recall: 0.3503 | Val F1: 0.2770\n"
     ]
    },
    {
     "name": "stderr",
     "output_type": "stream",
     "text": [
      "Epoch 2/5: 100%|██████████| 336/336 [01:19<00:00,  4.22it/s, loss=1.1910]\n"
     ]
    },
    {
     "name": "stdout",
     "output_type": "stream",
     "text": [
      "Epoch 2 | Train Loss: 1.2051 | Val Acc: 0.3550 | Val Prec: 0.4477 | Val Recall: 0.3550 | Val F1: 0.2428\n"
     ]
    },
    {
     "name": "stderr",
     "output_type": "stream",
     "text": [
      "Epoch 3/5: 100%|██████████| 336/336 [01:20<00:00,  4.16it/s, loss=1.2349]\n"
     ]
    },
    {
     "name": "stdout",
     "output_type": "stream",
     "text": [
      "Epoch 3 | Train Loss: 1.1960 | Val Acc: 0.3501 | Val Prec: 0.2203 | Val Recall: 0.3501 | Val F1: 0.2575\n"
     ]
    },
    {
     "name": "stderr",
     "output_type": "stream",
     "text": [
      "Epoch 4/5: 100%|██████████| 336/336 [01:19<00:00,  4.24it/s, loss=1.0652]\n"
     ]
    },
    {
     "name": "stdout",
     "output_type": "stream",
     "text": [
      "Epoch 4 | Train Loss: 1.1686 | Val Acc: 0.3976 | Val Prec: 0.2673 | Val Recall: 0.3976 | Val F1: 0.3189\n"
     ]
    },
    {
     "name": "stderr",
     "output_type": "stream",
     "text": [
      "Epoch 5/5: 100%|██████████| 336/336 [01:19<00:00,  4.23it/s, loss=1.1732]\n"
     ]
    },
    {
     "name": "stdout",
     "output_type": "stream",
     "text": [
      "Epoch 5 | Train Loss: 1.0944 | Val Acc: 0.4069 | Val Prec: 0.4312 | Val Recall: 0.4069 | Val F1: 0.3988\n",
      "Best validation F1: 0.3988\n",
      "Checkpoint saved at epoch 4\n"
     ]
    },
    {
     "data": {
      "text/html": [],
      "text/plain": [
       "<IPython.core.display.HTML object>"
      ]
     },
     "metadata": {},
     "output_type": "display_data"
    },
    {
     "data": {
      "text/html": [
       "<br>    <style><br>        .wandb-row {<br>            display: flex;<br>            flex-direction: row;<br>            flex-wrap: wrap;<br>            justify-content: flex-start;<br>            width: 100%;<br>        }<br>        .wandb-col {<br>            display: flex;<br>            flex-direction: column;<br>            flex-basis: 100%;<br>            flex: 1;<br>            padding: 10px;<br>        }<br>    </style><br><div class=\"wandb-row\"><div class=\"wandb-col\"><h3>Run history:</h3><br/><table class=\"wandb\"><tr><td>epoch</td><td>▁▃▅▆█</td></tr><tr><td>train_loss</td><td>██▇▆▁</td></tr><tr><td>val_accuracy</td><td>▁▂▁▇█</td></tr><tr><td>val_f1</td><td>▃▁▂▄█</td></tr><tr><td>val_precision</td><td>▂█▁▂▇</td></tr><tr><td>val_recall</td><td>▁▂▁▇█</td></tr><tr><td>validation_accuracy</td><td>▁▂▁▇█</td></tr><tr><td>validation_f1</td><td>▃▁▂▄█</td></tr><tr><td>validation_precision</td><td>▂█▁▂▇</td></tr><tr><td>validation_recall</td><td>▁▂▁▇█</td></tr></table><br/></div><div class=\"wandb-col\"><h3>Run summary:</h3><br/><table class=\"wandb\"><tr><td>best_val_f1</td><td>0.39877</td></tr><tr><td>epoch</td><td>5</td></tr><tr><td>train_loss</td><td>1.09443</td></tr><tr><td>val_accuracy</td><td>0.40694</td></tr><tr><td>val_f1</td><td>0.39877</td></tr><tr><td>val_precision</td><td>0.43115</td></tr><tr><td>val_recall</td><td>0.40694</td></tr><tr><td>validation_accuracy</td><td>0.40694</td></tr><tr><td>validation_f1</td><td>0.39877</td></tr><tr><td>validation_precision</td><td>0.43115</td></tr><tr><td>validation_recall</td><td>0.40694</td></tr></table><br/></div></div>"
      ],
      "text/plain": [
       "<IPython.core.display.HTML object>"
      ]
     },
     "metadata": {},
     "output_type": "display_data"
    },
    {
     "data": {
      "text/html": [
       "You can sync this run to the cloud by running:<br><code>wandb sync d:\\OneDrive - chd.edu.cn\\Desktop\\毕业论文数据\\code\\STNet\\wandb\\offline-run-20250207_015444-48c7uvvo<code>"
      ],
      "text/plain": [
       "<IPython.core.display.HTML object>"
      ]
     },
     "metadata": {},
     "output_type": "display_data"
    },
    {
     "data": {
      "text/html": [
       "Find logs at: <code>.\\wandb\\offline-run-20250207_015444-48c7uvvo\\logs</code>"
      ],
      "text/plain": [
       "<IPython.core.display.HTML object>"
      ]
     },
     "metadata": {},
     "output_type": "display_data"
    },
    {
     "name": "stderr",
     "output_type": "stream",
     "text": [
      "\u001b[34m\u001b[1mwandb\u001b[0m: Agent Starting Run: mz5tuakl with config:\n",
      "\u001b[34m\u001b[1mwandb\u001b[0m: \tbatch_size: 16\n",
      "\u001b[34m\u001b[1mwandb\u001b[0m: \tfc_dropout: 0.1\n",
      "\u001b[34m\u001b[1mwandb\u001b[0m: \tgraph_dropout: 1\n",
      "\u001b[34m\u001b[1mwandb\u001b[0m: \tgraph_num_head: 1\n",
      "\u001b[34m\u001b[1mwandb\u001b[0m: \thidden_dim: 16\n",
      "\u001b[34m\u001b[1mwandb\u001b[0m: \tlearning_rate: 0.001\n",
      "\u001b[34m\u001b[1mwandb\u001b[0m: \tlstm_bidirectional: True\n",
      "\u001b[34m\u001b[1mwandb\u001b[0m: \tlstm_hidden_dim: 16\n",
      "\u001b[34m\u001b[1mwandb\u001b[0m: \tlstm_num_layers: 1\n",
      "\u001b[34m\u001b[1mwandb\u001b[0m: \tnum_classes: 3\n",
      "\u001b[34m\u001b[1mwandb\u001b[0m: \tnum_layers: 2\n",
      "\u001b[34m\u001b[1mwandb\u001b[0m: \tnum_seed_points: 2\n",
      "\u001b[34m\u001b[1mwandb\u001b[0m: \tpool_ratio: 0.5\n",
      "\u001b[34m\u001b[1mwandb\u001b[0m: \tstep_size: 1\n",
      "\u001b[34m\u001b[1mwandb\u001b[0m: \tweight_decay: 0.001\n",
      "\u001b[34m\u001b[1mwandb\u001b[0m: \twindow_size: 10\n"
     ]
    },
    {
     "data": {
      "text/html": [
       "Tracking run with wandb version 0.19.6"
      ],
      "text/plain": [
       "<IPython.core.display.HTML object>"
      ]
     },
     "metadata": {},
     "output_type": "display_data"
    },
    {
     "data": {
      "text/html": [
       "W&B syncing is set to <code>`offline`<code> in this directory.  <br>Run <code>`wandb online`<code> or set <code>WANDB_MODE=online<code> to enable cloud syncing."
      ],
      "text/plain": [
       "<IPython.core.display.HTML object>"
      ]
     },
     "metadata": {},
     "output_type": "display_data"
    },
    {
     "name": "stdout",
     "output_type": "stream",
     "text": [
      "{'batch_size': 16, 'fc_dropout': 0.1, 'graph_dropout': 1, 'graph_num_head': 1, 'hidden_dim': 16, 'learning_rate': 0.001, 'lstm_bidirectional': True, 'lstm_hidden_dim': 16, 'lstm_num_layers': 1, 'num_classes': 3, 'num_layers': 2, 'num_seed_points': 2, 'pool_ratio': 0.5, 'step_size': 1, 'weight_decay': 0.001, 'window_size': 10}\n",
      "\n",
      "=== Training Scene: motor ===\n",
      "从缓存文件加载数据: ./dataset/cache/motor_10_1_dataset_aug_cache.pkl\n"
     ]
    },
    {
     "name": "stderr",
     "output_type": "stream",
     "text": [
      "Epoch 1/5: 100%|██████████| 336/336 [01:20<00:00,  4.15it/s, loss=1.2623]\n"
     ]
    },
    {
     "name": "stdout",
     "output_type": "stream",
     "text": [
      "Epoch 1 | Train Loss: 1.2065 | Val Acc: 0.3289 | Val Prec: 0.2372 | Val Recall: 0.3289 | Val F1: 0.1846\n"
     ]
    },
    {
     "name": "stderr",
     "output_type": "stream",
     "text": [
      "Epoch 2/5: 100%|██████████| 336/336 [01:20<00:00,  4.19it/s, loss=1.5388]\n"
     ]
    },
    {
     "name": "stdout",
     "output_type": "stream",
     "text": [
      "Epoch 2 | Train Loss: 1.1748 | Val Acc: 0.4223 | Val Prec: 0.4550 | Val Recall: 0.4223 | Val F1: 0.4067\n"
     ]
    },
    {
     "name": "stderr",
     "output_type": "stream",
     "text": [
      "Epoch 3/5: 100%|██████████| 336/336 [01:20<00:00,  4.16it/s, loss=1.1442]\n"
     ]
    },
    {
     "name": "stdout",
     "output_type": "stream",
     "text": [
      "Epoch 3 | Train Loss: 1.1231 | Val Acc: 0.4084 | Val Prec: 0.4027 | Val Recall: 0.4084 | Val F1: 0.4046\n"
     ]
    },
    {
     "name": "stderr",
     "output_type": "stream",
     "text": [
      "Epoch 4/5: 100%|██████████| 336/336 [01:19<00:00,  4.20it/s, loss=1.4713]\n"
     ]
    },
    {
     "name": "stdout",
     "output_type": "stream",
     "text": [
      "Epoch 4 | Train Loss: 1.0616 | Val Acc: 0.4137 | Val Prec: 0.4643 | Val Recall: 0.4137 | Val F1: 0.4074\n"
     ]
    },
    {
     "name": "stderr",
     "output_type": "stream",
     "text": [
      "Epoch 5/5: 100%|██████████| 336/336 [01:19<00:00,  4.21it/s, loss=0.9965]\n"
     ]
    },
    {
     "name": "stdout",
     "output_type": "stream",
     "text": [
      "Epoch 5 | Train Loss: 1.0404 | Val Acc: 0.4703 | Val Prec: 0.5153 | Val Recall: 0.4703 | Val F1: 0.4358\n",
      "Best validation F1: 0.4358\n",
      "Checkpoint saved at epoch 4\n"
     ]
    },
    {
     "data": {
      "text/html": [],
      "text/plain": [
       "<IPython.core.display.HTML object>"
      ]
     },
     "metadata": {},
     "output_type": "display_data"
    },
    {
     "data": {
      "text/html": [
       "<br>    <style><br>        .wandb-row {<br>            display: flex;<br>            flex-direction: row;<br>            flex-wrap: wrap;<br>            justify-content: flex-start;<br>            width: 100%;<br>        }<br>        .wandb-col {<br>            display: flex;<br>            flex-direction: column;<br>            flex-basis: 100%;<br>            flex: 1;<br>            padding: 10px;<br>        }<br>    </style><br><div class=\"wandb-row\"><div class=\"wandb-col\"><h3>Run history:</h3><br/><table class=\"wandb\"><tr><td>epoch</td><td>▁▃▅▆█</td></tr><tr><td>train_loss</td><td>█▇▄▂▁</td></tr><tr><td>val_accuracy</td><td>▁▆▅▅█</td></tr><tr><td>val_f1</td><td>▁▇▇▇█</td></tr><tr><td>val_precision</td><td>▁▆▅▇█</td></tr><tr><td>val_recall</td><td>▁▆▅▅█</td></tr><tr><td>validation_accuracy</td><td>▁▆▅▅█</td></tr><tr><td>validation_f1</td><td>▁▇▇▇█</td></tr><tr><td>validation_precision</td><td>▁▆▅▇█</td></tr><tr><td>validation_recall</td><td>▁▆▅▅█</td></tr></table><br/></div><div class=\"wandb-col\"><h3>Run summary:</h3><br/><table class=\"wandb\"><tr><td>best_val_f1</td><td>0.43576</td></tr><tr><td>epoch</td><td>5</td></tr><tr><td>train_loss</td><td>1.04037</td></tr><tr><td>val_accuracy</td><td>0.47026</td></tr><tr><td>val_f1</td><td>0.43576</td></tr><tr><td>val_precision</td><td>0.51534</td></tr><tr><td>val_recall</td><td>0.47026</td></tr><tr><td>validation_accuracy</td><td>0.47026</td></tr><tr><td>validation_f1</td><td>0.43576</td></tr><tr><td>validation_precision</td><td>0.51534</td></tr><tr><td>validation_recall</td><td>0.47026</td></tr></table><br/></div></div>"
      ],
      "text/plain": [
       "<IPython.core.display.HTML object>"
      ]
     },
     "metadata": {},
     "output_type": "display_data"
    },
    {
     "data": {
      "text/html": [
       "You can sync this run to the cloud by running:<br><code>wandb sync d:\\OneDrive - chd.edu.cn\\Desktop\\毕业论文数据\\code\\STNet\\wandb\\offline-run-20250207_020143-mz5tuakl<code>"
      ],
      "text/plain": [
       "<IPython.core.display.HTML object>"
      ]
     },
     "metadata": {},
     "output_type": "display_data"
    },
    {
     "data": {
      "text/html": [
       "Find logs at: <code>.\\wandb\\offline-run-20250207_020143-mz5tuakl\\logs</code>"
      ],
      "text/plain": [
       "<IPython.core.display.HTML object>"
      ]
     },
     "metadata": {},
     "output_type": "display_data"
    },
    {
     "name": "stderr",
     "output_type": "stream",
     "text": [
      "\u001b[34m\u001b[1mwandb\u001b[0m: Sweep Agent: Waiting for job.\n",
      "\u001b[34m\u001b[1mwandb\u001b[0m: Job received.\n",
      "\u001b[34m\u001b[1mwandb\u001b[0m: Agent Starting Run: sm0le8eb with config:\n",
      "\u001b[34m\u001b[1mwandb\u001b[0m: \tbatch_size: 16\n",
      "\u001b[34m\u001b[1mwandb\u001b[0m: \tfc_dropout: 0.1\n",
      "\u001b[34m\u001b[1mwandb\u001b[0m: \tgraph_dropout: 1\n",
      "\u001b[34m\u001b[1mwandb\u001b[0m: \tgraph_num_head: 1\n",
      "\u001b[34m\u001b[1mwandb\u001b[0m: \thidden_dim: 16\n",
      "\u001b[34m\u001b[1mwandb\u001b[0m: \tlearning_rate: 0.001\n",
      "\u001b[34m\u001b[1mwandb\u001b[0m: \tlstm_bidirectional: True\n",
      "\u001b[34m\u001b[1mwandb\u001b[0m: \tlstm_hidden_dim: 16\n",
      "\u001b[34m\u001b[1mwandb\u001b[0m: \tlstm_num_layers: 1\n",
      "\u001b[34m\u001b[1mwandb\u001b[0m: \tnum_classes: 3\n",
      "\u001b[34m\u001b[1mwandb\u001b[0m: \tnum_layers: 2\n",
      "\u001b[34m\u001b[1mwandb\u001b[0m: \tnum_seed_points: 2\n",
      "\u001b[34m\u001b[1mwandb\u001b[0m: \tpool_ratio: 0.5\n",
      "\u001b[34m\u001b[1mwandb\u001b[0m: \tstep_size: 1\n",
      "\u001b[34m\u001b[1mwandb\u001b[0m: \tweight_decay: 0.001\n",
      "\u001b[34m\u001b[1mwandb\u001b[0m: \twindow_size: 20\n"
     ]
    },
    {
     "data": {
      "text/html": [
       "Tracking run with wandb version 0.19.6"
      ],
      "text/plain": [
       "<IPython.core.display.HTML object>"
      ]
     },
     "metadata": {},
     "output_type": "display_data"
    },
    {
     "data": {
      "text/html": [
       "W&B syncing is set to <code>`offline`<code> in this directory.  <br>Run <code>`wandb online`<code> or set <code>WANDB_MODE=online<code> to enable cloud syncing."
      ],
      "text/plain": [
       "<IPython.core.display.HTML object>"
      ]
     },
     "metadata": {},
     "output_type": "display_data"
    },
    {
     "name": "stdout",
     "output_type": "stream",
     "text": [
      "{'batch_size': 16, 'fc_dropout': 0.1, 'graph_dropout': 1, 'graph_num_head': 1, 'hidden_dim': 16, 'learning_rate': 0.001, 'lstm_bidirectional': True, 'lstm_hidden_dim': 16, 'lstm_num_layers': 1, 'num_classes': 3, 'num_layers': 2, 'num_seed_points': 2, 'pool_ratio': 0.5, 'step_size': 1, 'weight_decay': 0.001, 'window_size': 20}\n",
      "\n",
      "=== Training Scene: motor ===\n",
      "从缓存文件加载数据: ./dataset/cache/motor_20_1_dataset_aug_cache.pkl\n"
     ]
    },
    {
     "name": "stderr",
     "output_type": "stream",
     "text": [
      "Epoch 1/5: 100%|██████████| 329/329 [01:25<00:00,  3.85it/s, loss=1.2376]\n"
     ]
    },
    {
     "name": "stdout",
     "output_type": "stream",
     "text": [
      "Epoch 1 | Train Loss: 1.2098 | Val Acc: 0.3004 | Val Prec: 0.2138 | Val Recall: 0.3004 | Val F1: 0.2488\n"
     ]
    },
    {
     "name": "stderr",
     "output_type": "stream",
     "text": [
      "Epoch 2/5: 100%|██████████| 329/329 [01:22<00:00,  4.00it/s, loss=1.2348]\n"
     ]
    },
    {
     "name": "stdout",
     "output_type": "stream",
     "text": [
      "Epoch 2 | Train Loss: 1.1520 | Val Acc: 0.4471 | Val Prec: 0.4775 | Val Recall: 0.4471 | Val F1: 0.4106\n"
     ]
    },
    {
     "name": "stderr",
     "output_type": "stream",
     "text": [
      "Epoch 3/5: 100%|██████████| 329/329 [01:25<00:00,  3.86it/s, loss=1.0647]\n"
     ]
    },
    {
     "name": "stdout",
     "output_type": "stream",
     "text": [
      "Epoch 3 | Train Loss: 1.0691 | Val Acc: 0.4407 | Val Prec: 0.4820 | Val Recall: 0.4407 | Val F1: 0.3677\n"
     ]
    },
    {
     "name": "stderr",
     "output_type": "stream",
     "text": [
      "Epoch 4/5: 100%|██████████| 329/329 [01:23<00:00,  3.92it/s, loss=0.8482]\n"
     ]
    },
    {
     "name": "stdout",
     "output_type": "stream",
     "text": [
      "Epoch 4 | Train Loss: 1.0314 | Val Acc: 0.4630 | Val Prec: 0.4516 | Val Recall: 0.4630 | Val F1: 0.4085\n"
     ]
    },
    {
     "name": "stderr",
     "output_type": "stream",
     "text": [
      "Epoch 5/5: 100%|██████████| 329/329 [01:23<00:00,  3.93it/s, loss=0.8844]\n"
     ]
    },
    {
     "name": "stdout",
     "output_type": "stream",
     "text": [
      "Epoch 5 | Train Loss: 1.0040 | Val Acc: 0.4342 | Val Prec: 0.4581 | Val Recall: 0.4342 | Val F1: 0.4317\n",
      "Best validation F1: 0.4085\n",
      "Checkpoint saved at epoch 4\n"
     ]
    },
    {
     "data": {
      "text/html": [],
      "text/plain": [
       "<IPython.core.display.HTML object>"
      ]
     },
     "metadata": {},
     "output_type": "display_data"
    },
    {
     "data": {
      "text/html": [
       "<br>    <style><br>        .wandb-row {<br>            display: flex;<br>            flex-direction: row;<br>            flex-wrap: wrap;<br>            justify-content: flex-start;<br>            width: 100%;<br>        }<br>        .wandb-col {<br>            display: flex;<br>            flex-direction: column;<br>            flex-basis: 100%;<br>            flex: 1;<br>            padding: 10px;<br>        }<br>    </style><br><div class=\"wandb-row\"><div class=\"wandb-col\"><h3>Run history:</h3><br/><table class=\"wandb\"><tr><td>epoch</td><td>▁▃▅▆█</td></tr><tr><td>train_loss</td><td>█▆▃▂▁</td></tr><tr><td>val_accuracy</td><td>▁▇▇█▇</td></tr><tr><td>val_f1</td><td>▁▇▆▇█</td></tr><tr><td>val_precision</td><td>▁██▇▇</td></tr><tr><td>val_recall</td><td>▁▇▇█▇</td></tr><tr><td>validation_accuracy</td><td>▁▇▇█▇</td></tr><tr><td>validation_f1</td><td>▁▇▆▇█</td></tr><tr><td>validation_precision</td><td>▁██▇▇</td></tr><tr><td>validation_recall</td><td>▁▇▇█▇</td></tr></table><br/></div><div class=\"wandb-col\"><h3>Run summary:</h3><br/><table class=\"wandb\"><tr><td>best_val_f1</td><td>0.40853</td></tr><tr><td>epoch</td><td>5</td></tr><tr><td>train_loss</td><td>1.00402</td></tr><tr><td>val_accuracy</td><td>0.43423</td></tr><tr><td>val_f1</td><td>0.43169</td></tr><tr><td>val_precision</td><td>0.4581</td></tr><tr><td>val_recall</td><td>0.43423</td></tr><tr><td>validation_accuracy</td><td>0.43423</td></tr><tr><td>validation_f1</td><td>0.43169</td></tr><tr><td>validation_precision</td><td>0.4581</td></tr><tr><td>validation_recall</td><td>0.43423</td></tr></table><br/></div></div>"
      ],
      "text/plain": [
       "<IPython.core.display.HTML object>"
      ]
     },
     "metadata": {},
     "output_type": "display_data"
    },
    {
     "data": {
      "text/html": [
       "You can sync this run to the cloud by running:<br><code>wandb sync d:\\OneDrive - chd.edu.cn\\Desktop\\毕业论文数据\\code\\STNet\\wandb\\offline-run-20250207_020851-sm0le8eb<code>"
      ],
      "text/plain": [
       "<IPython.core.display.HTML object>"
      ]
     },
     "metadata": {},
     "output_type": "display_data"
    },
    {
     "data": {
      "text/html": [
       "Find logs at: <code>.\\wandb\\offline-run-20250207_020851-sm0le8eb\\logs</code>"
      ],
      "text/plain": [
       "<IPython.core.display.HTML object>"
      ]
     },
     "metadata": {},
     "output_type": "display_data"
    },
    {
     "name": "stderr",
     "output_type": "stream",
     "text": [
      "\u001b[34m\u001b[1mwandb\u001b[0m: Agent Starting Run: 9iohzw5v with config:\n",
      "\u001b[34m\u001b[1mwandb\u001b[0m: \tbatch_size: 16\n",
      "\u001b[34m\u001b[1mwandb\u001b[0m: \tfc_dropout: 0.1\n",
      "\u001b[34m\u001b[1mwandb\u001b[0m: \tgraph_dropout: 1\n",
      "\u001b[34m\u001b[1mwandb\u001b[0m: \tgraph_num_head: 1\n",
      "\u001b[34m\u001b[1mwandb\u001b[0m: \thidden_dim: 16\n",
      "\u001b[34m\u001b[1mwandb\u001b[0m: \tlearning_rate: 0.001\n",
      "\u001b[34m\u001b[1mwandb\u001b[0m: \tlstm_bidirectional: True\n",
      "\u001b[34m\u001b[1mwandb\u001b[0m: \tlstm_hidden_dim: 16\n",
      "\u001b[34m\u001b[1mwandb\u001b[0m: \tlstm_num_layers: 1\n",
      "\u001b[34m\u001b[1mwandb\u001b[0m: \tnum_classes: 3\n",
      "\u001b[34m\u001b[1mwandb\u001b[0m: \tnum_layers: 2\n",
      "\u001b[34m\u001b[1mwandb\u001b[0m: \tnum_seed_points: 2\n",
      "\u001b[34m\u001b[1mwandb\u001b[0m: \tpool_ratio: 0.5\n",
      "\u001b[34m\u001b[1mwandb\u001b[0m: \tstep_size: 1\n",
      "\u001b[34m\u001b[1mwandb\u001b[0m: \tweight_decay: 0.001\n",
      "\u001b[34m\u001b[1mwandb\u001b[0m: \twindow_size: 30\n"
     ]
    },
    {
     "data": {
      "text/html": [
       "Tracking run with wandb version 0.19.6"
      ],
      "text/plain": [
       "<IPython.core.display.HTML object>"
      ]
     },
     "metadata": {},
     "output_type": "display_data"
    },
    {
     "data": {
      "text/html": [
       "W&B syncing is set to <code>`offline`<code> in this directory.  <br>Run <code>`wandb online`<code> or set <code>WANDB_MODE=online<code> to enable cloud syncing."
      ],
      "text/plain": [
       "<IPython.core.display.HTML object>"
      ]
     },
     "metadata": {},
     "output_type": "display_data"
    },
    {
     "name": "stdout",
     "output_type": "stream",
     "text": [
      "{'batch_size': 16, 'fc_dropout': 0.1, 'graph_dropout': 1, 'graph_num_head': 1, 'hidden_dim': 16, 'learning_rate': 0.001, 'lstm_bidirectional': True, 'lstm_hidden_dim': 16, 'lstm_num_layers': 1, 'num_classes': 3, 'num_layers': 2, 'num_seed_points': 2, 'pool_ratio': 0.5, 'step_size': 1, 'weight_decay': 0.001, 'window_size': 30}\n",
      "\n",
      "=== Training Scene: motor ===\n",
      "从缓存文件加载数据: ./dataset/cache/motor_30_1_dataset_aug_cache.pkl\n"
     ]
    },
    {
     "name": "stderr",
     "output_type": "stream",
     "text": [
      "Epoch 1/5: 100%|██████████| 322/322 [01:26<00:00,  3.71it/s, loss=1.1239]\n"
     ]
    },
    {
     "name": "stdout",
     "output_type": "stream",
     "text": [
      "Epoch 1 | Train Loss: 1.2017 | Val Acc: 0.3486 | Val Prec: 0.2484 | Val Recall: 0.3486 | Val F1: 0.2889\n"
     ]
    },
    {
     "name": "stderr",
     "output_type": "stream",
     "text": [
      "Epoch 2/5: 100%|██████████| 322/322 [01:25<00:00,  3.79it/s, loss=1.1008]\n"
     ]
    },
    {
     "name": "stdout",
     "output_type": "stream",
     "text": [
      "Epoch 2 | Train Loss: 1.1435 | Val Acc: 0.3995 | Val Prec: 0.5046 | Val Recall: 0.3995 | Val F1: 0.3463\n"
     ]
    },
    {
     "name": "stderr",
     "output_type": "stream",
     "text": [
      "Epoch 3/5: 100%|██████████| 322/322 [01:25<00:00,  3.78it/s, loss=2.2386]\n"
     ]
    },
    {
     "name": "stdout",
     "output_type": "stream",
     "text": [
      "Epoch 3 | Train Loss: 1.0615 | Val Acc: 0.4139 | Val Prec: 0.5492 | Val Recall: 0.4139 | Val F1: 0.3972\n"
     ]
    },
    {
     "name": "stderr",
     "output_type": "stream",
     "text": [
      "Epoch 4/5: 100%|██████████| 322/322 [01:26<00:00,  3.73it/s, loss=0.7943]\n"
     ]
    },
    {
     "name": "stdout",
     "output_type": "stream",
     "text": [
      "Epoch 4 | Train Loss: 1.0133 | Val Acc: 0.4733 | Val Prec: 0.4966 | Val Recall: 0.4733 | Val F1: 0.4270\n"
     ]
    },
    {
     "name": "stderr",
     "output_type": "stream",
     "text": [
      "Epoch 5/5: 100%|██████████| 322/322 [01:26<00:00,  3.72it/s, loss=0.5176]\n"
     ]
    },
    {
     "name": "stdout",
     "output_type": "stream",
     "text": [
      "Epoch 5 | Train Loss: 0.9715 | Val Acc: 0.4857 | Val Prec: 0.4928 | Val Recall: 0.4857 | Val F1: 0.4412\n",
      "Best validation F1: 0.4412\n",
      "Checkpoint saved at epoch 4\n"
     ]
    },
    {
     "data": {
      "text/html": [],
      "text/plain": [
       "<IPython.core.display.HTML object>"
      ]
     },
     "metadata": {},
     "output_type": "display_data"
    },
    {
     "data": {
      "text/html": [
       "<br>    <style><br>        .wandb-row {<br>            display: flex;<br>            flex-direction: row;<br>            flex-wrap: wrap;<br>            justify-content: flex-start;<br>            width: 100%;<br>        }<br>        .wandb-col {<br>            display: flex;<br>            flex-direction: column;<br>            flex-basis: 100%;<br>            flex: 1;<br>            padding: 10px;<br>        }<br>    </style><br><div class=\"wandb-row\"><div class=\"wandb-col\"><h3>Run history:</h3><br/><table class=\"wandb\"><tr><td>epoch</td><td>▁▃▅▆█</td></tr><tr><td>train_loss</td><td>█▆▄▂▁</td></tr><tr><td>val_accuracy</td><td>▁▄▄▇█</td></tr><tr><td>val_f1</td><td>▁▄▆▇█</td></tr><tr><td>val_precision</td><td>▁▇█▇▇</td></tr><tr><td>val_recall</td><td>▁▄▄▇█</td></tr><tr><td>validation_accuracy</td><td>▁▄▄▇█</td></tr><tr><td>validation_f1</td><td>▁▄▆▇█</td></tr><tr><td>validation_precision</td><td>▁▇█▇▇</td></tr><tr><td>validation_recall</td><td>▁▄▄▇█</td></tr></table><br/></div><div class=\"wandb-col\"><h3>Run summary:</h3><br/><table class=\"wandb\"><tr><td>best_val_f1</td><td>0.44119</td></tr><tr><td>epoch</td><td>5</td></tr><tr><td>train_loss</td><td>0.97155</td></tr><tr><td>val_accuracy</td><td>0.4857</td></tr><tr><td>val_f1</td><td>0.44119</td></tr><tr><td>val_precision</td><td>0.49283</td></tr><tr><td>val_recall</td><td>0.4857</td></tr><tr><td>validation_accuracy</td><td>0.4857</td></tr><tr><td>validation_f1</td><td>0.44119</td></tr><tr><td>validation_precision</td><td>0.49283</td></tr><tr><td>validation_recall</td><td>0.4857</td></tr></table><br/></div></div>"
      ],
      "text/plain": [
       "<IPython.core.display.HTML object>"
      ]
     },
     "metadata": {},
     "output_type": "display_data"
    },
    {
     "data": {
      "text/html": [
       "You can sync this run to the cloud by running:<br><code>wandb sync d:\\OneDrive - chd.edu.cn\\Desktop\\毕业论文数据\\code\\STNet\\wandb\\offline-run-20250207_021611-9iohzw5v<code>"
      ],
      "text/plain": [
       "<IPython.core.display.HTML object>"
      ]
     },
     "metadata": {},
     "output_type": "display_data"
    },
    {
     "data": {
      "text/html": [
       "Find logs at: <code>.\\wandb\\offline-run-20250207_021611-9iohzw5v\\logs</code>"
      ],
      "text/plain": [
       "<IPython.core.display.HTML object>"
      ]
     },
     "metadata": {},
     "output_type": "display_data"
    },
    {
     "name": "stderr",
     "output_type": "stream",
     "text": [
      "\u001b[34m\u001b[1mwandb\u001b[0m: Agent Starting Run: i2bv1w9m with config:\n",
      "\u001b[34m\u001b[1mwandb\u001b[0m: \tbatch_size: 16\n",
      "\u001b[34m\u001b[1mwandb\u001b[0m: \tfc_dropout: 0.1\n",
      "\u001b[34m\u001b[1mwandb\u001b[0m: \tgraph_dropout: 1\n",
      "\u001b[34m\u001b[1mwandb\u001b[0m: \tgraph_num_head: 1\n",
      "\u001b[34m\u001b[1mwandb\u001b[0m: \thidden_dim: 16\n",
      "\u001b[34m\u001b[1mwandb\u001b[0m: \tlearning_rate: 0.001\n",
      "\u001b[34m\u001b[1mwandb\u001b[0m: \tlstm_bidirectional: True\n",
      "\u001b[34m\u001b[1mwandb\u001b[0m: \tlstm_hidden_dim: 16\n",
      "\u001b[34m\u001b[1mwandb\u001b[0m: \tlstm_num_layers: 1\n",
      "\u001b[34m\u001b[1mwandb\u001b[0m: \tnum_classes: 3\n",
      "\u001b[34m\u001b[1mwandb\u001b[0m: \tnum_layers: 2\n",
      "\u001b[34m\u001b[1mwandb\u001b[0m: \tnum_seed_points: 2\n",
      "\u001b[34m\u001b[1mwandb\u001b[0m: \tpool_ratio: 0.5\n",
      "\u001b[34m\u001b[1mwandb\u001b[0m: \tstep_size: 1\n",
      "\u001b[34m\u001b[1mwandb\u001b[0m: \tweight_decay: 0.0001\n",
      "\u001b[34m\u001b[1mwandb\u001b[0m: \twindow_size: 10\n"
     ]
    },
    {
     "data": {
      "text/html": [
       "Tracking run with wandb version 0.19.6"
      ],
      "text/plain": [
       "<IPython.core.display.HTML object>"
      ]
     },
     "metadata": {},
     "output_type": "display_data"
    },
    {
     "data": {
      "text/html": [
       "W&B syncing is set to <code>`offline`<code> in this directory.  <br>Run <code>`wandb online`<code> or set <code>WANDB_MODE=online<code> to enable cloud syncing."
      ],
      "text/plain": [
       "<IPython.core.display.HTML object>"
      ]
     },
     "metadata": {},
     "output_type": "display_data"
    },
    {
     "name": "stdout",
     "output_type": "stream",
     "text": [
      "{'batch_size': 16, 'fc_dropout': 0.1, 'graph_dropout': 1, 'graph_num_head': 1, 'hidden_dim': 16, 'learning_rate': 0.001, 'lstm_bidirectional': True, 'lstm_hidden_dim': 16, 'lstm_num_layers': 1, 'num_classes': 3, 'num_layers': 2, 'num_seed_points': 2, 'pool_ratio': 0.5, 'step_size': 1, 'weight_decay': 0.0001, 'window_size': 10}\n",
      "\n",
      "=== Training Scene: motor ===\n",
      "从缓存文件加载数据: ./dataset/cache/motor_10_1_dataset_aug_cache.pkl\n"
     ]
    },
    {
     "name": "stderr",
     "output_type": "stream",
     "text": [
      "Epoch 1/5: 100%|██████████| 336/336 [01:30<00:00,  3.71it/s, loss=1.1037]\n"
     ]
    },
    {
     "name": "stdout",
     "output_type": "stream",
     "text": [
      "Epoch 1 | Train Loss: 1.2097 | Val Acc: 0.3341 | Val Prec: 0.2779 | Val Recall: 0.3341 | Val F1: 0.1684\n"
     ]
    },
    {
     "name": "stderr",
     "output_type": "stream",
     "text": [
      "Epoch 2/5: 100%|██████████| 336/336 [01:31<00:00,  3.69it/s, loss=1.0461]\n"
     ]
    },
    {
     "name": "stdout",
     "output_type": "stream",
     "text": [
      "Epoch 2 | Train Loss: 1.1403 | Val Acc: 0.4145 | Val Prec: 0.4232 | Val Recall: 0.4145 | Val F1: 0.3805\n"
     ]
    },
    {
     "name": "stderr",
     "output_type": "stream",
     "text": [
      "Epoch 3/5: 100%|██████████| 336/336 [01:31<00:00,  3.66it/s, loss=1.1027]\n"
     ]
    },
    {
     "name": "stdout",
     "output_type": "stream",
     "text": [
      "Epoch 3 | Train Loss: 1.0912 | Val Acc: 0.4064 | Val Prec: 0.4613 | Val Recall: 0.4064 | Val F1: 0.3857\n"
     ]
    },
    {
     "name": "stderr",
     "output_type": "stream",
     "text": [
      "Epoch 4/5: 100%|██████████| 336/336 [01:30<00:00,  3.72it/s, loss=1.0609]\n"
     ]
    },
    {
     "name": "stdout",
     "output_type": "stream",
     "text": [
      "Epoch 4 | Train Loss: 1.0461 | Val Acc: 0.4178 | Val Prec: 0.5180 | Val Recall: 0.4178 | Val F1: 0.3295\n"
     ]
    },
    {
     "name": "stderr",
     "output_type": "stream",
     "text": [
      "Epoch 5/5: 100%|██████████| 336/336 [01:22<00:00,  4.05it/s, loss=0.9238]\n"
     ]
    },
    {
     "name": "stdout",
     "output_type": "stream",
     "text": [
      "Epoch 5 | Train Loss: 1.0320 | Val Acc: 0.4333 | Val Prec: 0.4362 | Val Recall: 0.4333 | Val F1: 0.4245\n",
      "Best validation F1: 0.4245\n",
      "Checkpoint saved at epoch 4\n"
     ]
    },
    {
     "data": {
      "text/html": [],
      "text/plain": [
       "<IPython.core.display.HTML object>"
      ]
     },
     "metadata": {},
     "output_type": "display_data"
    },
    {
     "data": {
      "text/html": [
       "<br>    <style><br>        .wandb-row {<br>            display: flex;<br>            flex-direction: row;<br>            flex-wrap: wrap;<br>            justify-content: flex-start;<br>            width: 100%;<br>        }<br>        .wandb-col {<br>            display: flex;<br>            flex-direction: column;<br>            flex-basis: 100%;<br>            flex: 1;<br>            padding: 10px;<br>        }<br>    </style><br><div class=\"wandb-row\"><div class=\"wandb-col\"><h3>Run history:</h3><br/><table class=\"wandb\"><tr><td>epoch</td><td>▁▃▅▆█</td></tr><tr><td>train_loss</td><td>█▅▃▂▁</td></tr><tr><td>val_accuracy</td><td>▁▇▆▇█</td></tr><tr><td>val_f1</td><td>▁▇▇▅█</td></tr><tr><td>val_precision</td><td>▁▅▆█▆</td></tr><tr><td>val_recall</td><td>▁▇▆▇█</td></tr><tr><td>validation_accuracy</td><td>▁▇▆▇█</td></tr><tr><td>validation_f1</td><td>▁▇▇▅█</td></tr><tr><td>validation_precision</td><td>▁▅▆█▆</td></tr><tr><td>validation_recall</td><td>▁▇▆▇█</td></tr></table><br/></div><div class=\"wandb-col\"><h3>Run summary:</h3><br/><table class=\"wandb\"><tr><td>best_val_f1</td><td>0.4245</td></tr><tr><td>epoch</td><td>5</td></tr><tr><td>train_loss</td><td>1.03203</td></tr><tr><td>val_accuracy</td><td>0.43332</td></tr><tr><td>val_f1</td><td>0.4245</td></tr><tr><td>val_precision</td><td>0.43617</td></tr><tr><td>val_recall</td><td>0.43332</td></tr><tr><td>validation_accuracy</td><td>0.43332</td></tr><tr><td>validation_f1</td><td>0.4245</td></tr><tr><td>validation_precision</td><td>0.43617</td></tr><tr><td>validation_recall</td><td>0.43332</td></tr></table><br/></div></div>"
      ],
      "text/plain": [
       "<IPython.core.display.HTML object>"
      ]
     },
     "metadata": {},
     "output_type": "display_data"
    },
    {
     "data": {
      "text/html": [
       "You can sync this run to the cloud by running:<br><code>wandb sync d:\\OneDrive - chd.edu.cn\\Desktop\\毕业论文数据\\code\\STNet\\wandb\\offline-run-20250207_022346-i2bv1w9m<code>"
      ],
      "text/plain": [
       "<IPython.core.display.HTML object>"
      ]
     },
     "metadata": {},
     "output_type": "display_data"
    },
    {
     "data": {
      "text/html": [
       "Find logs at: <code>.\\wandb\\offline-run-20250207_022346-i2bv1w9m\\logs</code>"
      ],
      "text/plain": [
       "<IPython.core.display.HTML object>"
      ]
     },
     "metadata": {},
     "output_type": "display_data"
    },
    {
     "name": "stderr",
     "output_type": "stream",
     "text": [
      "\u001b[34m\u001b[1mwandb\u001b[0m: Agent Starting Run: idf5rv2d with config:\n",
      "\u001b[34m\u001b[1mwandb\u001b[0m: \tbatch_size: 16\n",
      "\u001b[34m\u001b[1mwandb\u001b[0m: \tfc_dropout: 0.1\n",
      "\u001b[34m\u001b[1mwandb\u001b[0m: \tgraph_dropout: 1\n",
      "\u001b[34m\u001b[1mwandb\u001b[0m: \tgraph_num_head: 1\n",
      "\u001b[34m\u001b[1mwandb\u001b[0m: \thidden_dim: 16\n",
      "\u001b[34m\u001b[1mwandb\u001b[0m: \tlearning_rate: 0.001\n",
      "\u001b[34m\u001b[1mwandb\u001b[0m: \tlstm_bidirectional: True\n",
      "\u001b[34m\u001b[1mwandb\u001b[0m: \tlstm_hidden_dim: 16\n",
      "\u001b[34m\u001b[1mwandb\u001b[0m: \tlstm_num_layers: 1\n",
      "\u001b[34m\u001b[1mwandb\u001b[0m: \tnum_classes: 3\n",
      "\u001b[34m\u001b[1mwandb\u001b[0m: \tnum_layers: 2\n",
      "\u001b[34m\u001b[1mwandb\u001b[0m: \tnum_seed_points: 2\n",
      "\u001b[34m\u001b[1mwandb\u001b[0m: \tpool_ratio: 0.5\n",
      "\u001b[34m\u001b[1mwandb\u001b[0m: \tstep_size: 1\n",
      "\u001b[34m\u001b[1mwandb\u001b[0m: \tweight_decay: 0.0001\n",
      "\u001b[34m\u001b[1mwandb\u001b[0m: \twindow_size: 20\n"
     ]
    },
    {
     "data": {
      "text/html": [
       "Tracking run with wandb version 0.19.6"
      ],
      "text/plain": [
       "<IPython.core.display.HTML object>"
      ]
     },
     "metadata": {},
     "output_type": "display_data"
    },
    {
     "data": {
      "text/html": [
       "W&B syncing is set to <code>`offline`<code> in this directory.  <br>Run <code>`wandb online`<code> or set <code>WANDB_MODE=online<code> to enable cloud syncing."
      ],
      "text/plain": [
       "<IPython.core.display.HTML object>"
      ]
     },
     "metadata": {},
     "output_type": "display_data"
    },
    {
     "name": "stdout",
     "output_type": "stream",
     "text": [
      "{'batch_size': 16, 'fc_dropout': 0.1, 'graph_dropout': 1, 'graph_num_head': 1, 'hidden_dim': 16, 'learning_rate': 0.001, 'lstm_bidirectional': True, 'lstm_hidden_dim': 16, 'lstm_num_layers': 1, 'num_classes': 3, 'num_layers': 2, 'num_seed_points': 2, 'pool_ratio': 0.5, 'step_size': 1, 'weight_decay': 0.0001, 'window_size': 20}\n",
      "\n",
      "=== Training Scene: motor ===\n",
      "从缓存文件加载数据: ./dataset/cache/motor_20_1_dataset_aug_cache.pkl\n"
     ]
    },
    {
     "name": "stderr",
     "output_type": "stream",
     "text": [
      "Epoch 1/5: 100%|██████████| 329/329 [01:24<00:00,  3.87it/s, loss=1.2621]\n"
     ]
    },
    {
     "name": "stdout",
     "output_type": "stream",
     "text": [
      "Epoch 1 | Train Loss: 1.2022 | Val Acc: 0.3333 | Val Prec: 0.1134 | Val Recall: 0.3333 | Val F1: 0.1692\n"
     ]
    },
    {
     "name": "stderr",
     "output_type": "stream",
     "text": [
      "Epoch 2/5: 100%|██████████| 329/329 [01:22<00:00,  3.97it/s, loss=1.1261]\n"
     ]
    },
    {
     "name": "stdout",
     "output_type": "stream",
     "text": [
      "Epoch 2 | Train Loss: 1.2001 | Val Acc: 0.3333 | Val Prec: 0.1134 | Val Recall: 0.3333 | Val F1: 0.1692\n"
     ]
    },
    {
     "name": "stderr",
     "output_type": "stream",
     "text": [
      "Epoch 3/5: 100%|██████████| 329/329 [01:22<00:00,  3.97it/s, loss=1.1631]\n"
     ]
    },
    {
     "name": "stdout",
     "output_type": "stream",
     "text": [
      "Epoch 3 | Train Loss: 1.1998 | Val Acc: 0.3333 | Val Prec: 0.1134 | Val Recall: 0.3333 | Val F1: 0.1692\n"
     ]
    },
    {
     "name": "stderr",
     "output_type": "stream",
     "text": [
      "Epoch 4/5: 100%|██████████| 329/329 [01:24<00:00,  3.88it/s, loss=1.1118]\n"
     ]
    },
    {
     "name": "stdout",
     "output_type": "stream",
     "text": [
      "Epoch 4 | Train Loss: 1.1997 | Val Acc: 0.3333 | Val Prec: 0.1134 | Val Recall: 0.3333 | Val F1: 0.1692\n"
     ]
    },
    {
     "name": "stderr",
     "output_type": "stream",
     "text": [
      "Epoch 5/5: 100%|██████████| 329/329 [01:23<00:00,  3.95it/s, loss=1.1365]\n"
     ]
    },
    {
     "name": "stdout",
     "output_type": "stream",
     "text": [
      "Epoch 5 | Train Loss: 1.1998 | Val Acc: 0.3333 | Val Prec: 0.1134 | Val Recall: 0.3333 | Val F1: 0.1692\n",
      "Best validation F1: 0.1692\n",
      "Checkpoint saved at epoch 4\n"
     ]
    },
    {
     "data": {
      "text/html": [],
      "text/plain": [
       "<IPython.core.display.HTML object>"
      ]
     },
     "metadata": {},
     "output_type": "display_data"
    },
    {
     "data": {
      "text/html": [
       "<br>    <style><br>        .wandb-row {<br>            display: flex;<br>            flex-direction: row;<br>            flex-wrap: wrap;<br>            justify-content: flex-start;<br>            width: 100%;<br>        }<br>        .wandb-col {<br>            display: flex;<br>            flex-direction: column;<br>            flex-basis: 100%;<br>            flex: 1;<br>            padding: 10px;<br>        }<br>    </style><br><div class=\"wandb-row\"><div class=\"wandb-col\"><h3>Run history:</h3><br/><table class=\"wandb\"><tr><td>epoch</td><td>▁▃▅▆█</td></tr><tr><td>train_loss</td><td>█▂▁▁▁</td></tr><tr><td>val_accuracy</td><td>▁▁▁▁▁</td></tr><tr><td>val_f1</td><td>▁▁▁▁▁</td></tr><tr><td>val_precision</td><td>▁▁▁▁▁</td></tr><tr><td>val_recall</td><td>▁▁▁▁▁</td></tr><tr><td>validation_accuracy</td><td>▁▁▁▁▁</td></tr><tr><td>validation_f1</td><td>▁▁▁▁▁</td></tr><tr><td>validation_precision</td><td>▁▁▁▁▁</td></tr><tr><td>validation_recall</td><td>▁▁▁▁▁</td></tr></table><br/></div><div class=\"wandb-col\"><h3>Run summary:</h3><br/><table class=\"wandb\"><tr><td>best_val_f1</td><td>0.16922</td></tr><tr><td>epoch</td><td>5</td></tr><tr><td>train_loss</td><td>1.19978</td></tr><tr><td>val_accuracy</td><td>0.33333</td></tr><tr><td>val_f1</td><td>0.16922</td></tr><tr><td>val_precision</td><td>0.11339</td></tr><tr><td>val_recall</td><td>0.33333</td></tr><tr><td>validation_accuracy</td><td>0.33333</td></tr><tr><td>validation_f1</td><td>0.16922</td></tr><tr><td>validation_precision</td><td>0.11339</td></tr><tr><td>validation_recall</td><td>0.33333</td></tr></table><br/></div></div>"
      ],
      "text/plain": [
       "<IPython.core.display.HTML object>"
      ]
     },
     "metadata": {},
     "output_type": "display_data"
    },
    {
     "data": {
      "text/html": [
       "You can sync this run to the cloud by running:<br><code>wandb sync d:\\OneDrive - chd.edu.cn\\Desktop\\毕业论文数据\\code\\STNet\\wandb\\offline-run-20250207_023131-idf5rv2d<code>"
      ],
      "text/plain": [
       "<IPython.core.display.HTML object>"
      ]
     },
     "metadata": {},
     "output_type": "display_data"
    },
    {
     "data": {
      "text/html": [
       "Find logs at: <code>.\\wandb\\offline-run-20250207_023131-idf5rv2d\\logs</code>"
      ],
      "text/plain": [
       "<IPython.core.display.HTML object>"
      ]
     },
     "metadata": {},
     "output_type": "display_data"
    },
    {
     "name": "stderr",
     "output_type": "stream",
     "text": [
      "\u001b[34m\u001b[1mwandb\u001b[0m: Agent Starting Run: 00gy8x43 with config:\n",
      "\u001b[34m\u001b[1mwandb\u001b[0m: \tbatch_size: 16\n",
      "\u001b[34m\u001b[1mwandb\u001b[0m: \tfc_dropout: 0.1\n",
      "\u001b[34m\u001b[1mwandb\u001b[0m: \tgraph_dropout: 1\n",
      "\u001b[34m\u001b[1mwandb\u001b[0m: \tgraph_num_head: 1\n",
      "\u001b[34m\u001b[1mwandb\u001b[0m: \thidden_dim: 16\n",
      "\u001b[34m\u001b[1mwandb\u001b[0m: \tlearning_rate: 0.001\n",
      "\u001b[34m\u001b[1mwandb\u001b[0m: \tlstm_bidirectional: True\n",
      "\u001b[34m\u001b[1mwandb\u001b[0m: \tlstm_hidden_dim: 16\n",
      "\u001b[34m\u001b[1mwandb\u001b[0m: \tlstm_num_layers: 1\n",
      "\u001b[34m\u001b[1mwandb\u001b[0m: \tnum_classes: 3\n",
      "\u001b[34m\u001b[1mwandb\u001b[0m: \tnum_layers: 2\n",
      "\u001b[34m\u001b[1mwandb\u001b[0m: \tnum_seed_points: 2\n",
      "\u001b[34m\u001b[1mwandb\u001b[0m: \tpool_ratio: 0.5\n",
      "\u001b[34m\u001b[1mwandb\u001b[0m: \tstep_size: 1\n",
      "\u001b[34m\u001b[1mwandb\u001b[0m: \tweight_decay: 0.001\n",
      "\u001b[34m\u001b[1mwandb\u001b[0m: \twindow_size: 40\n"
     ]
    },
    {
     "data": {
      "text/html": [
       "Tracking run with wandb version 0.19.6"
      ],
      "text/plain": [
       "<IPython.core.display.HTML object>"
      ]
     },
     "metadata": {},
     "output_type": "display_data"
    },
    {
     "data": {
      "text/html": [
       "W&B syncing is set to <code>`offline`<code> in this directory.  <br>Run <code>`wandb online`<code> or set <code>WANDB_MODE=online<code> to enable cloud syncing."
      ],
      "text/plain": [
       "<IPython.core.display.HTML object>"
      ]
     },
     "metadata": {},
     "output_type": "display_data"
    },
    {
     "name": "stdout",
     "output_type": "stream",
     "text": [
      "{'batch_size': 16, 'fc_dropout': 0.1, 'graph_dropout': 1, 'graph_num_head': 1, 'hidden_dim': 16, 'learning_rate': 0.001, 'lstm_bidirectional': True, 'lstm_hidden_dim': 16, 'lstm_num_layers': 1, 'num_classes': 3, 'num_layers': 2, 'num_seed_points': 2, 'pool_ratio': 0.5, 'step_size': 1, 'weight_decay': 0.001, 'window_size': 40}\n",
      "\n",
      "=== Training Scene: motor ===\n",
      "从缓存文件加载数据: ./dataset/cache/motor_40_1_dataset_aug_cache.pkl\n"
     ]
    },
    {
     "name": "stderr",
     "output_type": "stream",
     "text": [
      "Epoch 1/5: 100%|██████████| 315/315 [01:28<00:00,  3.57it/s, loss=1.2201]\n"
     ]
    },
    {
     "name": "stdout",
     "output_type": "stream",
     "text": [
      "Epoch 1 | Train Loss: 1.1641 | Val Acc: 0.3975 | Val Prec: 0.3598 | Val Recall: 0.3975 | Val F1: 0.3319\n"
     ]
    },
    {
     "name": "stderr",
     "output_type": "stream",
     "text": [
      "Epoch 2/5: 100%|██████████| 315/315 [01:27<00:00,  3.61it/s, loss=0.9187]\n"
     ]
    },
    {
     "name": "stdout",
     "output_type": "stream",
     "text": [
      "Epoch 2 | Train Loss: 1.0422 | Val Acc: 0.4483 | Val Prec: 0.4579 | Val Recall: 0.4483 | Val F1: 0.3567\n"
     ]
    },
    {
     "name": "stderr",
     "output_type": "stream",
     "text": [
      "Epoch 3/5: 100%|██████████| 315/315 [01:26<00:00,  3.63it/s, loss=0.5675]\n"
     ]
    },
    {
     "name": "stdout",
     "output_type": "stream",
     "text": [
      "Epoch 3 | Train Loss: 1.0210 | Val Acc: 0.4448 | Val Prec: 0.3974 | Val Recall: 0.4448 | Val F1: 0.3462\n"
     ]
    },
    {
     "name": "stderr",
     "output_type": "stream",
     "text": [
      "Epoch 4/5: 100%|██████████| 315/315 [01:27<00:00,  3.59it/s, loss=1.0627]\n"
     ]
    },
    {
     "name": "stdout",
     "output_type": "stream",
     "text": [
      "Epoch 4 | Train Loss: 0.9801 | Val Acc: 0.4169 | Val Prec: 0.3905 | Val Recall: 0.4169 | Val F1: 0.3894\n"
     ]
    },
    {
     "name": "stderr",
     "output_type": "stream",
     "text": [
      "Epoch 5/5: 100%|██████████| 315/315 [01:26<00:00,  3.63it/s, loss=0.8141]\n"
     ]
    },
    {
     "name": "stdout",
     "output_type": "stream",
     "text": [
      "Epoch 5 | Train Loss: 0.9598 | Val Acc: 0.4299 | Val Prec: 0.4589 | Val Recall: 0.4299 | Val F1: 0.4338\n",
      "Best validation F1: 0.3567\n",
      "Checkpoint saved at epoch 4\n"
     ]
    },
    {
     "data": {
      "text/html": [],
      "text/plain": [
       "<IPython.core.display.HTML object>"
      ]
     },
     "metadata": {},
     "output_type": "display_data"
    },
    {
     "data": {
      "text/html": [
       "<br>    <style><br>        .wandb-row {<br>            display: flex;<br>            flex-direction: row;<br>            flex-wrap: wrap;<br>            justify-content: flex-start;<br>            width: 100%;<br>        }<br>        .wandb-col {<br>            display: flex;<br>            flex-direction: column;<br>            flex-basis: 100%;<br>            flex: 1;<br>            padding: 10px;<br>        }<br>    </style><br><div class=\"wandb-row\"><div class=\"wandb-col\"><h3>Run history:</h3><br/><table class=\"wandb\"><tr><td>epoch</td><td>▁▃▅▆█</td></tr><tr><td>train_loss</td><td>█▄▃▂▁</td></tr><tr><td>val_accuracy</td><td>▁██▄▅</td></tr><tr><td>val_f1</td><td>▁▃▂▅█</td></tr><tr><td>val_precision</td><td>▁█▄▃█</td></tr><tr><td>val_recall</td><td>▁██▄▅</td></tr><tr><td>validation_accuracy</td><td>▁██▄▅</td></tr><tr><td>validation_f1</td><td>▁▃▂▅█</td></tr><tr><td>validation_precision</td><td>▁█▄▃█</td></tr><tr><td>validation_recall</td><td>▁██▄▅</td></tr></table><br/></div><div class=\"wandb-col\"><h3>Run summary:</h3><br/><table class=\"wandb\"><tr><td>best_val_f1</td><td>0.35665</td></tr><tr><td>epoch</td><td>5</td></tr><tr><td>train_loss</td><td>0.9598</td></tr><tr><td>val_accuracy</td><td>0.42988</td></tr><tr><td>val_f1</td><td>0.43384</td></tr><tr><td>val_precision</td><td>0.45888</td></tr><tr><td>val_recall</td><td>0.42988</td></tr><tr><td>validation_accuracy</td><td>0.42988</td></tr><tr><td>validation_f1</td><td>0.43384</td></tr><tr><td>validation_precision</td><td>0.45888</td></tr><tr><td>validation_recall</td><td>0.42988</td></tr></table><br/></div></div>"
      ],
      "text/plain": [
       "<IPython.core.display.HTML object>"
      ]
     },
     "metadata": {},
     "output_type": "display_data"
    },
    {
     "data": {
      "text/html": [
       "You can sync this run to the cloud by running:<br><code>wandb sync d:\\OneDrive - chd.edu.cn\\Desktop\\毕业论文数据\\code\\STNet\\wandb\\offline-run-20250207_023850-00gy8x43<code>"
      ],
      "text/plain": [
       "<IPython.core.display.HTML object>"
      ]
     },
     "metadata": {},
     "output_type": "display_data"
    },
    {
     "data": {
      "text/html": [
       "Find logs at: <code>.\\wandb\\offline-run-20250207_023850-00gy8x43\\logs</code>"
      ],
      "text/plain": [
       "<IPython.core.display.HTML object>"
      ]
     },
     "metadata": {},
     "output_type": "display_data"
    },
    {
     "name": "stderr",
     "output_type": "stream",
     "text": [
      "\u001b[34m\u001b[1mwandb\u001b[0m: Agent Starting Run: 1exlqsut with config:\n",
      "\u001b[34m\u001b[1mwandb\u001b[0m: \tbatch_size: 16\n",
      "\u001b[34m\u001b[1mwandb\u001b[0m: \tfc_dropout: 0.1\n",
      "\u001b[34m\u001b[1mwandb\u001b[0m: \tgraph_dropout: 1\n",
      "\u001b[34m\u001b[1mwandb\u001b[0m: \tgraph_num_head: 1\n",
      "\u001b[34m\u001b[1mwandb\u001b[0m: \thidden_dim: 16\n",
      "\u001b[34m\u001b[1mwandb\u001b[0m: \tlearning_rate: 0.001\n",
      "\u001b[34m\u001b[1mwandb\u001b[0m: \tlstm_bidirectional: True\n",
      "\u001b[34m\u001b[1mwandb\u001b[0m: \tlstm_hidden_dim: 16\n",
      "\u001b[34m\u001b[1mwandb\u001b[0m: \tlstm_num_layers: 1\n",
      "\u001b[34m\u001b[1mwandb\u001b[0m: \tnum_classes: 3\n",
      "\u001b[34m\u001b[1mwandb\u001b[0m: \tnum_layers: 2\n",
      "\u001b[34m\u001b[1mwandb\u001b[0m: \tnum_seed_points: 2\n",
      "\u001b[34m\u001b[1mwandb\u001b[0m: \tpool_ratio: 0.5\n",
      "\u001b[34m\u001b[1mwandb\u001b[0m: \tstep_size: 1\n",
      "\u001b[34m\u001b[1mwandb\u001b[0m: \tweight_decay: 0.0001\n",
      "\u001b[34m\u001b[1mwandb\u001b[0m: \twindow_size: 30\n"
     ]
    },
    {
     "data": {
      "text/html": [
       "Tracking run with wandb version 0.19.6"
      ],
      "text/plain": [
       "<IPython.core.display.HTML object>"
      ]
     },
     "metadata": {},
     "output_type": "display_data"
    },
    {
     "data": {
      "text/html": [
       "W&B syncing is set to <code>`offline`<code> in this directory.  <br>Run <code>`wandb online`<code> or set <code>WANDB_MODE=online<code> to enable cloud syncing."
      ],
      "text/plain": [
       "<IPython.core.display.HTML object>"
      ]
     },
     "metadata": {},
     "output_type": "display_data"
    },
    {
     "name": "stdout",
     "output_type": "stream",
     "text": [
      "{'batch_size': 16, 'fc_dropout': 0.1, 'graph_dropout': 1, 'graph_num_head': 1, 'hidden_dim': 16, 'learning_rate': 0.001, 'lstm_bidirectional': True, 'lstm_hidden_dim': 16, 'lstm_num_layers': 1, 'num_classes': 3, 'num_layers': 2, 'num_seed_points': 2, 'pool_ratio': 0.5, 'step_size': 1, 'weight_decay': 0.0001, 'window_size': 30}\n",
      "\n",
      "=== Training Scene: motor ===\n",
      "从缓存文件加载数据: ./dataset/cache/motor_30_1_dataset_aug_cache.pkl\n"
     ]
    },
    {
     "name": "stderr",
     "output_type": "stream",
     "text": [
      "Epoch 1/5: 100%|██████████| 322/322 [01:26<00:00,  3.72it/s, loss=1.6577]\n"
     ]
    },
    {
     "name": "stdout",
     "output_type": "stream",
     "text": [
      "Epoch 1 | Train Loss: 1.1895 | Val Acc: 0.4119 | Val Prec: 0.4494 | Val Recall: 0.4119 | Val F1: 0.4102\n"
     ]
    },
    {
     "name": "stderr",
     "output_type": "stream",
     "text": [
      "Epoch 2/5: 100%|██████████| 322/322 [01:24<00:00,  3.80it/s, loss=0.7562]\n"
     ]
    },
    {
     "name": "stdout",
     "output_type": "stream",
     "text": [
      "Epoch 2 | Train Loss: 1.0656 | Val Acc: 0.3898 | Val Prec: 0.3784 | Val Recall: 0.3898 | Val F1: 0.3736\n"
     ]
    },
    {
     "name": "stderr",
     "output_type": "stream",
     "text": [
      "Epoch 3/5: 100%|██████████| 322/322 [01:25<00:00,  3.77it/s, loss=1.2724] \n"
     ]
    },
    {
     "name": "stdout",
     "output_type": "stream",
     "text": [
      "Epoch 3 | Train Loss: 1.1830 | Val Acc: 0.3614 | Val Prec: 0.3847 | Val Recall: 0.3614 | Val F1: 0.3196\n"
     ]
    },
    {
     "name": "stderr",
     "output_type": "stream",
     "text": [
      "Epoch 4/5: 100%|██████████| 322/322 [01:24<00:00,  3.83it/s, loss=1.4503]\n"
     ]
    },
    {
     "name": "stdout",
     "output_type": "stream",
     "text": [
      "Epoch 4 | Train Loss: 1.0946 | Val Acc: 0.4796 | Val Prec: 0.4667 | Val Recall: 0.4796 | Val F1: 0.4189\n"
     ]
    },
    {
     "name": "stderr",
     "output_type": "stream",
     "text": [
      "Epoch 5/5: 100%|██████████| 322/322 [01:28<00:00,  3.63it/s, loss=0.7471]\n"
     ]
    },
    {
     "name": "stdout",
     "output_type": "stream",
     "text": [
      "Epoch 5 | Train Loss: 1.0146 | Val Acc: 0.4432 | Val Prec: 0.4302 | Val Recall: 0.4432 | Val F1: 0.4336\n",
      "Best validation F1: 0.4189\n",
      "Checkpoint saved at epoch 4\n"
     ]
    },
    {
     "data": {
      "text/html": [],
      "text/plain": [
       "<IPython.core.display.HTML object>"
      ]
     },
     "metadata": {},
     "output_type": "display_data"
    },
    {
     "data": {
      "text/html": [
       "<br>    <style><br>        .wandb-row {<br>            display: flex;<br>            flex-direction: row;<br>            flex-wrap: wrap;<br>            justify-content: flex-start;<br>            width: 100%;<br>        }<br>        .wandb-col {<br>            display: flex;<br>            flex-direction: column;<br>            flex-basis: 100%;<br>            flex: 1;<br>            padding: 10px;<br>        }<br>    </style><br><div class=\"wandb-row\"><div class=\"wandb-col\"><h3>Run history:</h3><br/><table class=\"wandb\"><tr><td>epoch</td><td>▁▃▅▆█</td></tr><tr><td>train_loss</td><td>█▃█▄▁</td></tr><tr><td>val_accuracy</td><td>▄▃▁█▆</td></tr><tr><td>val_f1</td><td>▇▄▁▇█</td></tr><tr><td>val_precision</td><td>▇▁▂█▅</td></tr><tr><td>val_recall</td><td>▄▃▁█▆</td></tr><tr><td>validation_accuracy</td><td>▄▃▁█▆</td></tr><tr><td>validation_f1</td><td>▇▄▁▇█</td></tr><tr><td>validation_precision</td><td>▇▁▂█▅</td></tr><tr><td>validation_recall</td><td>▄▃▁█▆</td></tr></table><br/></div><div class=\"wandb-col\"><h3>Run summary:</h3><br/><table class=\"wandb\"><tr><td>best_val_f1</td><td>0.4189</td></tr><tr><td>epoch</td><td>5</td></tr><tr><td>train_loss</td><td>1.01458</td></tr><tr><td>val_accuracy</td><td>0.44324</td></tr><tr><td>val_f1</td><td>0.43357</td></tr><tr><td>val_precision</td><td>0.43018</td></tr><tr><td>val_recall</td><td>0.44324</td></tr><tr><td>validation_accuracy</td><td>0.44324</td></tr><tr><td>validation_f1</td><td>0.43357</td></tr><tr><td>validation_precision</td><td>0.43018</td></tr><tr><td>validation_recall</td><td>0.44324</td></tr></table><br/></div></div>"
      ],
      "text/plain": [
       "<IPython.core.display.HTML object>"
      ]
     },
     "metadata": {},
     "output_type": "display_data"
    },
    {
     "data": {
      "text/html": [
       "You can sync this run to the cloud by running:<br><code>wandb sync d:\\OneDrive - chd.edu.cn\\Desktop\\毕业论文数据\\code\\STNet\\wandb\\offline-run-20250207_024630-1exlqsut<code>"
      ],
      "text/plain": [
       "<IPython.core.display.HTML object>"
      ]
     },
     "metadata": {},
     "output_type": "display_data"
    },
    {
     "data": {
      "text/html": [
       "Find logs at: <code>.\\wandb\\offline-run-20250207_024630-1exlqsut\\logs</code>"
      ],
      "text/plain": [
       "<IPython.core.display.HTML object>"
      ]
     },
     "metadata": {},
     "output_type": "display_data"
    },
    {
     "name": "stderr",
     "output_type": "stream",
     "text": [
      "\u001b[34m\u001b[1mwandb\u001b[0m: Agent Starting Run: rqx3nm83 with config:\n",
      "\u001b[34m\u001b[1mwandb\u001b[0m: \tbatch_size: 16\n",
      "\u001b[34m\u001b[1mwandb\u001b[0m: \tfc_dropout: 0.1\n",
      "\u001b[34m\u001b[1mwandb\u001b[0m: \tgraph_dropout: 1\n",
      "\u001b[34m\u001b[1mwandb\u001b[0m: \tgraph_num_head: 1\n",
      "\u001b[34m\u001b[1mwandb\u001b[0m: \thidden_dim: 16\n",
      "\u001b[34m\u001b[1mwandb\u001b[0m: \tlearning_rate: 0.001\n",
      "\u001b[34m\u001b[1mwandb\u001b[0m: \tlstm_bidirectional: True\n",
      "\u001b[34m\u001b[1mwandb\u001b[0m: \tlstm_hidden_dim: 16\n",
      "\u001b[34m\u001b[1mwandb\u001b[0m: \tlstm_num_layers: 1\n",
      "\u001b[34m\u001b[1mwandb\u001b[0m: \tnum_classes: 3\n",
      "\u001b[34m\u001b[1mwandb\u001b[0m: \tnum_layers: 2\n",
      "\u001b[34m\u001b[1mwandb\u001b[0m: \tnum_seed_points: 2\n",
      "\u001b[34m\u001b[1mwandb\u001b[0m: \tpool_ratio: 0.5\n",
      "\u001b[34m\u001b[1mwandb\u001b[0m: \tstep_size: 1\n",
      "\u001b[34m\u001b[1mwandb\u001b[0m: \tweight_decay: 0.0001\n",
      "\u001b[34m\u001b[1mwandb\u001b[0m: \twindow_size: 40\n"
     ]
    },
    {
     "data": {
      "text/html": [
       "Tracking run with wandb version 0.19.6"
      ],
      "text/plain": [
       "<IPython.core.display.HTML object>"
      ]
     },
     "metadata": {},
     "output_type": "display_data"
    },
    {
     "data": {
      "text/html": [
       "W&B syncing is set to <code>`offline`<code> in this directory.  <br>Run <code>`wandb online`<code> or set <code>WANDB_MODE=online<code> to enable cloud syncing."
      ],
      "text/plain": [
       "<IPython.core.display.HTML object>"
      ]
     },
     "metadata": {},
     "output_type": "display_data"
    },
    {
     "name": "stdout",
     "output_type": "stream",
     "text": [
      "{'batch_size': 16, 'fc_dropout': 0.1, 'graph_dropout': 1, 'graph_num_head': 1, 'hidden_dim': 16, 'learning_rate': 0.001, 'lstm_bidirectional': True, 'lstm_hidden_dim': 16, 'lstm_num_layers': 1, 'num_classes': 3, 'num_layers': 2, 'num_seed_points': 2, 'pool_ratio': 0.5, 'step_size': 1, 'weight_decay': 0.0001, 'window_size': 40}\n",
      "\n",
      "=== Training Scene: motor ===\n",
      "从缓存文件加载数据: ./dataset/cache/motor_40_1_dataset_aug_cache.pkl\n"
     ]
    },
    {
     "name": "stderr",
     "output_type": "stream",
     "text": [
      "Epoch 1/5: 100%|██████████| 315/315 [01:28<00:00,  3.57it/s, loss=1.1134]\n"
     ]
    },
    {
     "name": "stdout",
     "output_type": "stream",
     "text": [
      "Epoch 1 | Train Loss: 1.1802 | Val Acc: 0.3739 | Val Prec: 0.5484 | Val Recall: 0.3739 | Val F1: 0.2336\n"
     ]
    },
    {
     "name": "stderr",
     "output_type": "stream",
     "text": [
      "Epoch 2/5: 100%|██████████| 315/315 [01:27<00:00,  3.60it/s, loss=0.9872]\n"
     ]
    },
    {
     "name": "stdout",
     "output_type": "stream",
     "text": [
      "Epoch 2 | Train Loss: 1.0986 | Val Acc: 0.3634 | Val Prec: 0.3284 | Val Recall: 0.3634 | Val F1: 0.2670\n"
     ]
    },
    {
     "name": "stderr",
     "output_type": "stream",
     "text": [
      "Epoch 3/5: 100%|██████████| 315/315 [01:27<00:00,  3.60it/s, loss=1.1065]\n"
     ]
    },
    {
     "name": "stdout",
     "output_type": "stream",
     "text": [
      "Epoch 3 | Train Loss: 1.0324 | Val Acc: 0.4325 | Val Prec: 0.4174 | Val Recall: 0.4325 | Val F1: 0.3895\n"
     ]
    },
    {
     "name": "stderr",
     "output_type": "stream",
     "text": [
      "Epoch 4/5: 100%|██████████| 315/315 [01:27<00:00,  3.59it/s, loss=0.9550]\n"
     ]
    },
    {
     "name": "stdout",
     "output_type": "stream",
     "text": [
      "Epoch 4 | Train Loss: 1.0116 | Val Acc: 0.5116 | Val Prec: 0.5305 | Val Recall: 0.5116 | Val F1: 0.4835\n"
     ]
    },
    {
     "name": "stderr",
     "output_type": "stream",
     "text": [
      "Epoch 5/5: 100%|██████████| 315/315 [01:25<00:00,  3.67it/s, loss=1.4862]\n"
     ]
    },
    {
     "name": "stdout",
     "output_type": "stream",
     "text": [
      "Epoch 5 | Train Loss: 0.9826 | Val Acc: 0.4915 | Val Prec: 0.5060 | Val Recall: 0.4915 | Val F1: 0.4431\n",
      "Best validation F1: 0.4835\n",
      "Checkpoint saved at epoch 4\n"
     ]
    },
    {
     "data": {
      "text/html": [],
      "text/plain": [
       "<IPython.core.display.HTML object>"
      ]
     },
     "metadata": {},
     "output_type": "display_data"
    },
    {
     "data": {
      "text/html": [
       "<br>    <style><br>        .wandb-row {<br>            display: flex;<br>            flex-direction: row;<br>            flex-wrap: wrap;<br>            justify-content: flex-start;<br>            width: 100%;<br>        }<br>        .wandb-col {<br>            display: flex;<br>            flex-direction: column;<br>            flex-basis: 100%;<br>            flex: 1;<br>            padding: 10px;<br>        }<br>    </style><br><div class=\"wandb-row\"><div class=\"wandb-col\"><h3>Run history:</h3><br/><table class=\"wandb\"><tr><td>epoch</td><td>▁▃▅▆█</td></tr><tr><td>train_loss</td><td>█▅▃▂▁</td></tr><tr><td>val_accuracy</td><td>▁▁▄█▇</td></tr><tr><td>val_f1</td><td>▁▂▅█▇</td></tr><tr><td>val_precision</td><td>█▁▄▇▇</td></tr><tr><td>val_recall</td><td>▁▁▄█▇</td></tr><tr><td>validation_accuracy</td><td>▁▁▄█▇</td></tr><tr><td>validation_f1</td><td>▁▂▅█▇</td></tr><tr><td>validation_precision</td><td>█▁▄▇▇</td></tr><tr><td>validation_recall</td><td>▁▁▄█▇</td></tr></table><br/></div><div class=\"wandb-col\"><h3>Run summary:</h3><br/><table class=\"wandb\"><tr><td>best_val_f1</td><td>0.48354</td></tr><tr><td>epoch</td><td>5</td></tr><tr><td>train_loss</td><td>0.9826</td></tr><tr><td>val_accuracy</td><td>0.49149</td></tr><tr><td>val_f1</td><td>0.44311</td></tr><tr><td>val_precision</td><td>0.50595</td></tr><tr><td>val_recall</td><td>0.49149</td></tr><tr><td>validation_accuracy</td><td>0.49149</td></tr><tr><td>validation_f1</td><td>0.44311</td></tr><tr><td>validation_precision</td><td>0.50595</td></tr><tr><td>validation_recall</td><td>0.49149</td></tr></table><br/></div></div>"
      ],
      "text/plain": [
       "<IPython.core.display.HTML object>"
      ]
     },
     "metadata": {},
     "output_type": "display_data"
    },
    {
     "data": {
      "text/html": [
       "You can sync this run to the cloud by running:<br><code>wandb sync d:\\OneDrive - chd.edu.cn\\Desktop\\毕业论文数据\\code\\STNet\\wandb\\offline-run-20250207_025403-rqx3nm83<code>"
      ],
      "text/plain": [
       "<IPython.core.display.HTML object>"
      ]
     },
     "metadata": {},
     "output_type": "display_data"
    },
    {
     "data": {
      "text/html": [
       "Find logs at: <code>.\\wandb\\offline-run-20250207_025403-rqx3nm83\\logs</code>"
      ],
      "text/plain": [
       "<IPython.core.display.HTML object>"
      ]
     },
     "metadata": {},
     "output_type": "display_data"
    },
    {
     "name": "stderr",
     "output_type": "stream",
     "text": [
      "\u001b[34m\u001b[1mwandb\u001b[0m: Agent Starting Run: mz5tuakl with config:\n",
      "\u001b[34m\u001b[1mwandb\u001b[0m: \tbatch_size: 16\n",
      "\u001b[34m\u001b[1mwandb\u001b[0m: \tfc_dropout: 0.1\n",
      "\u001b[34m\u001b[1mwandb\u001b[0m: \tgraph_dropout: 1\n",
      "\u001b[34m\u001b[1mwandb\u001b[0m: \tgraph_num_head: 1\n",
      "\u001b[34m\u001b[1mwandb\u001b[0m: \thidden_dim: 16\n",
      "\u001b[34m\u001b[1mwandb\u001b[0m: \tlearning_rate: 0.001\n",
      "\u001b[34m\u001b[1mwandb\u001b[0m: \tlstm_bidirectional: True\n",
      "\u001b[34m\u001b[1mwandb\u001b[0m: \tlstm_hidden_dim: 16\n",
      "\u001b[34m\u001b[1mwandb\u001b[0m: \tlstm_num_layers: 1\n",
      "\u001b[34m\u001b[1mwandb\u001b[0m: \tnum_classes: 3\n",
      "\u001b[34m\u001b[1mwandb\u001b[0m: \tnum_layers: 2\n",
      "\u001b[34m\u001b[1mwandb\u001b[0m: \tnum_seed_points: 2\n",
      "\u001b[34m\u001b[1mwandb\u001b[0m: \tpool_ratio: 0.5\n",
      "\u001b[34m\u001b[1mwandb\u001b[0m: \tstep_size: 1\n",
      "\u001b[34m\u001b[1mwandb\u001b[0m: \tweight_decay: 0.001\n",
      "\u001b[34m\u001b[1mwandb\u001b[0m: \twindow_size: 10\n"
     ]
    },
    {
     "data": {
      "text/html": [
       "Tracking run with wandb version 0.19.6"
      ],
      "text/plain": [
       "<IPython.core.display.HTML object>"
      ]
     },
     "metadata": {},
     "output_type": "display_data"
    },
    {
     "data": {
      "text/html": [
       "W&B syncing is set to <code>`offline`<code> in this directory.  <br>Run <code>`wandb online`<code> or set <code>WANDB_MODE=online<code> to enable cloud syncing."
      ],
      "text/plain": [
       "<IPython.core.display.HTML object>"
      ]
     },
     "metadata": {},
     "output_type": "display_data"
    },
    {
     "name": "stdout",
     "output_type": "stream",
     "text": [
      "{'batch_size': 16, 'fc_dropout': 0.1, 'graph_dropout': 1, 'graph_num_head': 1, 'hidden_dim': 16, 'learning_rate': 0.001, 'lstm_bidirectional': True, 'lstm_hidden_dim': 16, 'lstm_num_layers': 1, 'num_classes': 3, 'num_layers': 2, 'num_seed_points': 2, 'pool_ratio': 0.5, 'step_size': 1, 'weight_decay': 0.001, 'window_size': 10}\n",
      "\n",
      "=== Training Scene: motor ===\n",
      "从缓存文件加载数据: ./dataset/cache/motor_10_1_dataset_aug_cache.pkl\n"
     ]
    },
    {
     "name": "stderr",
     "output_type": "stream",
     "text": [
      "Epoch 1/5: 100%|██████████| 336/336 [01:21<00:00,  4.11it/s, loss=1.1382]\n"
     ]
    },
    {
     "name": "stdout",
     "output_type": "stream",
     "text": [
      "Epoch 1 | Train Loss: 1.2062 | Val Acc: 0.3499 | Val Prec: 0.5699 | Val Recall: 0.3499 | Val F1: 0.2904\n"
     ]
    },
    {
     "name": "stderr",
     "output_type": "stream",
     "text": [
      "Epoch 2/5: 100%|██████████| 336/336 [01:20<00:00,  4.16it/s, loss=1.0753]\n"
     ]
    },
    {
     "name": "stdout",
     "output_type": "stream",
     "text": [
      "Epoch 2 | Train Loss: 1.1578 | Val Acc: 0.3886 | Val Prec: 0.2642 | Val Recall: 0.3886 | Val F1: 0.3121\n"
     ]
    },
    {
     "name": "stderr",
     "output_type": "stream",
     "text": [
      "Epoch 3/5: 100%|██████████| 336/336 [01:20<00:00,  4.20it/s, loss=2.2407]\n"
     ]
    },
    {
     "name": "stdout",
     "output_type": "stream",
     "text": [
      "Epoch 3 | Train Loss: 1.0717 | Val Acc: 0.4306 | Val Prec: 0.4199 | Val Recall: 0.4306 | Val F1: 0.3858\n"
     ]
    },
    {
     "name": "stderr",
     "output_type": "stream",
     "text": [
      "Epoch 4/5: 100%|██████████| 336/336 [01:19<00:00,  4.22it/s, loss=0.7560]\n"
     ]
    },
    {
     "name": "stdout",
     "output_type": "stream",
     "text": [
      "Epoch 4 | Train Loss: 1.0253 | Val Acc: 0.4322 | Val Prec: 0.4328 | Val Recall: 0.4322 | Val F1: 0.3846\n"
     ]
    },
    {
     "name": "stderr",
     "output_type": "stream",
     "text": [
      "Epoch 5/5: 100%|██████████| 336/336 [01:20<00:00,  4.16it/s, loss=1.0445]\n"
     ]
    },
    {
     "name": "stdout",
     "output_type": "stream",
     "text": [
      "Epoch 5 | Train Loss: 0.9870 | Val Acc: 0.4385 | Val Prec: 0.4598 | Val Recall: 0.4385 | Val F1: 0.3826\n",
      "Best validation F1: 0.3826\n",
      "Checkpoint saved at epoch 4\n"
     ]
    },
    {
     "data": {
      "text/html": [],
      "text/plain": [
       "<IPython.core.display.HTML object>"
      ]
     },
     "metadata": {},
     "output_type": "display_data"
    },
    {
     "data": {
      "text/html": [
       "<br>    <style><br>        .wandb-row {<br>            display: flex;<br>            flex-direction: row;<br>            flex-wrap: wrap;<br>            justify-content: flex-start;<br>            width: 100%;<br>        }<br>        .wandb-col {<br>            display: flex;<br>            flex-direction: column;<br>            flex-basis: 100%;<br>            flex: 1;<br>            padding: 10px;<br>        }<br>    </style><br><div class=\"wandb-row\"><div class=\"wandb-col\"><h3>Run history:</h3><br/><table class=\"wandb\"><tr><td>epoch</td><td>▁▃▅▆█</td></tr><tr><td>train_loss</td><td>█▆▄▂▁</td></tr><tr><td>val_accuracy</td><td>▁▄▇██</td></tr><tr><td>val_f1</td><td>▁▃███</td></tr><tr><td>val_precision</td><td>█▁▅▅▅</td></tr><tr><td>val_recall</td><td>▁▄▇██</td></tr><tr><td>validation_accuracy</td><td>▁▄▇██</td></tr><tr><td>validation_f1</td><td>▁▃███</td></tr><tr><td>validation_precision</td><td>█▁▅▅▅</td></tr><tr><td>validation_recall</td><td>▁▄▇██</td></tr></table><br/></div><div class=\"wandb-col\"><h3>Run summary:</h3><br/><table class=\"wandb\"><tr><td>best_val_f1</td><td>0.38258</td></tr><tr><td>epoch</td><td>5</td></tr><tr><td>train_loss</td><td>0.98701</td></tr><tr><td>val_accuracy</td><td>0.43852</td></tr><tr><td>val_f1</td><td>0.38258</td></tr><tr><td>val_precision</td><td>0.45979</td></tr><tr><td>val_recall</td><td>0.43852</td></tr><tr><td>validation_accuracy</td><td>0.43852</td></tr><tr><td>validation_f1</td><td>0.38258</td></tr><tr><td>validation_precision</td><td>0.45979</td></tr><tr><td>validation_recall</td><td>0.43852</td></tr></table><br/></div></div>"
      ],
      "text/plain": [
       "<IPython.core.display.HTML object>"
      ]
     },
     "metadata": {},
     "output_type": "display_data"
    },
    {
     "data": {
      "text/html": [
       "You can sync this run to the cloud by running:<br><code>wandb sync d:\\OneDrive - chd.edu.cn\\Desktop\\毕业论文数据\\code\\STNet\\wandb\\offline-run-20250207_030145-mz5tuakl<code>"
      ],
      "text/plain": [
       "<IPython.core.display.HTML object>"
      ]
     },
     "metadata": {},
     "output_type": "display_data"
    },
    {
     "data": {
      "text/html": [
       "Find logs at: <code>.\\wandb\\offline-run-20250207_030145-mz5tuakl\\logs</code>"
      ],
      "text/plain": [
       "<IPython.core.display.HTML object>"
      ]
     },
     "metadata": {},
     "output_type": "display_data"
    },
    {
     "name": "stderr",
     "output_type": "stream",
     "text": [
      "\u001b[34m\u001b[1mwandb\u001b[0m: Agent Starting Run: sm0le8eb with config:\n",
      "\u001b[34m\u001b[1mwandb\u001b[0m: \tbatch_size: 16\n",
      "\u001b[34m\u001b[1mwandb\u001b[0m: \tfc_dropout: 0.1\n",
      "\u001b[34m\u001b[1mwandb\u001b[0m: \tgraph_dropout: 1\n",
      "\u001b[34m\u001b[1mwandb\u001b[0m: \tgraph_num_head: 1\n",
      "\u001b[34m\u001b[1mwandb\u001b[0m: \thidden_dim: 16\n",
      "\u001b[34m\u001b[1mwandb\u001b[0m: \tlearning_rate: 0.001\n",
      "\u001b[34m\u001b[1mwandb\u001b[0m: \tlstm_bidirectional: True\n",
      "\u001b[34m\u001b[1mwandb\u001b[0m: \tlstm_hidden_dim: 16\n",
      "\u001b[34m\u001b[1mwandb\u001b[0m: \tlstm_num_layers: 1\n",
      "\u001b[34m\u001b[1mwandb\u001b[0m: \tnum_classes: 3\n",
      "\u001b[34m\u001b[1mwandb\u001b[0m: \tnum_layers: 2\n",
      "\u001b[34m\u001b[1mwandb\u001b[0m: \tnum_seed_points: 2\n",
      "\u001b[34m\u001b[1mwandb\u001b[0m: \tpool_ratio: 0.5\n",
      "\u001b[34m\u001b[1mwandb\u001b[0m: \tstep_size: 1\n",
      "\u001b[34m\u001b[1mwandb\u001b[0m: \tweight_decay: 0.001\n",
      "\u001b[34m\u001b[1mwandb\u001b[0m: \twindow_size: 20\n"
     ]
    },
    {
     "data": {
      "text/html": [
       "Tracking run with wandb version 0.19.6"
      ],
      "text/plain": [
       "<IPython.core.display.HTML object>"
      ]
     },
     "metadata": {},
     "output_type": "display_data"
    },
    {
     "data": {
      "text/html": [
       "W&B syncing is set to <code>`offline`<code> in this directory.  <br>Run <code>`wandb online`<code> or set <code>WANDB_MODE=online<code> to enable cloud syncing."
      ],
      "text/plain": [
       "<IPython.core.display.HTML object>"
      ]
     },
     "metadata": {},
     "output_type": "display_data"
    },
    {
     "name": "stdout",
     "output_type": "stream",
     "text": [
      "{'batch_size': 16, 'fc_dropout': 0.1, 'graph_dropout': 1, 'graph_num_head': 1, 'hidden_dim': 16, 'learning_rate': 0.001, 'lstm_bidirectional': True, 'lstm_hidden_dim': 16, 'lstm_num_layers': 1, 'num_classes': 3, 'num_layers': 2, 'num_seed_points': 2, 'pool_ratio': 0.5, 'step_size': 1, 'weight_decay': 0.001, 'window_size': 20}\n",
      "\n",
      "=== Training Scene: motor ===\n",
      "从缓存文件加载数据: ./dataset/cache/motor_20_1_dataset_aug_cache.pkl\n"
     ]
    },
    {
     "name": "stderr",
     "output_type": "stream",
     "text": [
      "Epoch 1/5: 100%|██████████| 329/329 [01:25<00:00,  3.84it/s, loss=1.1696]\n"
     ]
    },
    {
     "name": "stdout",
     "output_type": "stream",
     "text": [
      "Epoch 1 | Train Loss: 1.2007 | Val Acc: 0.3766 | Val Prec: 0.5011 | Val Recall: 0.3766 | Val F1: 0.3142\n"
     ]
    },
    {
     "name": "stderr",
     "output_type": "stream",
     "text": [
      "Epoch 2/5: 100%|██████████| 329/329 [01:23<00:00,  3.96it/s, loss=1.1475]\n"
     ]
    },
    {
     "name": "stdout",
     "output_type": "stream",
     "text": [
      "Epoch 2 | Train Loss: 1.1733 | Val Acc: 0.3546 | Val Prec: 0.3893 | Val Recall: 0.3546 | Val F1: 0.2280\n"
     ]
    },
    {
     "name": "stderr",
     "output_type": "stream",
     "text": [
      "Epoch 3/5: 100%|██████████| 329/329 [01:23<00:00,  3.94it/s, loss=1.2471]\n"
     ]
    },
    {
     "name": "stdout",
     "output_type": "stream",
     "text": [
      "Epoch 3 | Train Loss: 1.1309 | Val Acc: 0.3766 | Val Prec: 0.3801 | Val Recall: 0.3766 | Val F1: 0.3349\n"
     ]
    },
    {
     "name": "stderr",
     "output_type": "stream",
     "text": [
      "Epoch 4/5: 100%|██████████| 329/329 [01:23<00:00,  3.92it/s, loss=1.2260]\n"
     ]
    },
    {
     "name": "stdout",
     "output_type": "stream",
     "text": [
      "Epoch 4 | Train Loss: 1.1103 | Val Acc: 0.4107 | Val Prec: 0.3561 | Val Recall: 0.4107 | Val F1: 0.3374\n"
     ]
    },
    {
     "name": "stderr",
     "output_type": "stream",
     "text": [
      "Epoch 5/5: 100%|██████████| 329/329 [01:24<00:00,  3.89it/s, loss=1.8343]\n"
     ]
    },
    {
     "name": "stdout",
     "output_type": "stream",
     "text": [
      "Epoch 5 | Train Loss: 1.0816 | Val Acc: 0.3990 | Val Prec: 0.4161 | Val Recall: 0.3990 | Val F1: 0.3249\n",
      "Best validation F1: 0.3374\n",
      "Checkpoint saved at epoch 4\n"
     ]
    },
    {
     "data": {
      "text/html": [],
      "text/plain": [
       "<IPython.core.display.HTML object>"
      ]
     },
     "metadata": {},
     "output_type": "display_data"
    },
    {
     "data": {
      "text/html": [
       "<br>    <style><br>        .wandb-row {<br>            display: flex;<br>            flex-direction: row;<br>            flex-wrap: wrap;<br>            justify-content: flex-start;<br>            width: 100%;<br>        }<br>        .wandb-col {<br>            display: flex;<br>            flex-direction: column;<br>            flex-basis: 100%;<br>            flex: 1;<br>            padding: 10px;<br>        }<br>    </style><br><div class=\"wandb-row\"><div class=\"wandb-col\"><h3>Run history:</h3><br/><table class=\"wandb\"><tr><td>epoch</td><td>▁▃▅▆█</td></tr><tr><td>train_loss</td><td>█▆▄▃▁</td></tr><tr><td>val_accuracy</td><td>▄▁▄█▇</td></tr><tr><td>val_f1</td><td>▇▁██▇</td></tr><tr><td>val_precision</td><td>█▃▂▁▄</td></tr><tr><td>val_recall</td><td>▄▁▄█▇</td></tr><tr><td>validation_accuracy</td><td>▄▁▄█▇</td></tr><tr><td>validation_f1</td><td>▇▁██▇</td></tr><tr><td>validation_precision</td><td>█▃▂▁▄</td></tr><tr><td>validation_recall</td><td>▄▁▄█▇</td></tr></table><br/></div><div class=\"wandb-col\"><h3>Run summary:</h3><br/><table class=\"wandb\"><tr><td>best_val_f1</td><td>0.33739</td></tr><tr><td>epoch</td><td>5</td></tr><tr><td>train_loss</td><td>1.08162</td></tr><tr><td>val_accuracy</td><td>0.39897</td></tr><tr><td>val_f1</td><td>0.32487</td></tr><tr><td>val_precision</td><td>0.4161</td></tr><tr><td>val_recall</td><td>0.39897</td></tr><tr><td>validation_accuracy</td><td>0.39897</td></tr><tr><td>validation_f1</td><td>0.32487</td></tr><tr><td>validation_precision</td><td>0.4161</td></tr><tr><td>validation_recall</td><td>0.39897</td></tr></table><br/></div></div>"
      ],
      "text/plain": [
       "<IPython.core.display.HTML object>"
      ]
     },
     "metadata": {},
     "output_type": "display_data"
    },
    {
     "data": {
      "text/html": [
       "You can sync this run to the cloud by running:<br><code>wandb sync d:\\OneDrive - chd.edu.cn\\Desktop\\毕业论文数据\\code\\STNet\\wandb\\offline-run-20250207_030846-sm0le8eb<code>"
      ],
      "text/plain": [
       "<IPython.core.display.HTML object>"
      ]
     },
     "metadata": {},
     "output_type": "display_data"
    },
    {
     "data": {
      "text/html": [
       "Find logs at: <code>.\\wandb\\offline-run-20250207_030846-sm0le8eb\\logs</code>"
      ],
      "text/plain": [
       "<IPython.core.display.HTML object>"
      ]
     },
     "metadata": {},
     "output_type": "display_data"
    },
    {
     "name": "stderr",
     "output_type": "stream",
     "text": [
      "\u001b[34m\u001b[1mwandb\u001b[0m: Agent Starting Run: 48c7uvvo with config:\n",
      "\u001b[34m\u001b[1mwandb\u001b[0m: \tbatch_size: 16\n",
      "\u001b[34m\u001b[1mwandb\u001b[0m: \tfc_dropout: 0.1\n",
      "\u001b[34m\u001b[1mwandb\u001b[0m: \tgraph_dropout: 1\n",
      "\u001b[34m\u001b[1mwandb\u001b[0m: \tgraph_num_head: 1\n",
      "\u001b[34m\u001b[1mwandb\u001b[0m: \thidden_dim: 16\n",
      "\u001b[34m\u001b[1mwandb\u001b[0m: \tlearning_rate: 0.001\n",
      "\u001b[34m\u001b[1mwandb\u001b[0m: \tlstm_bidirectional: True\n",
      "\u001b[34m\u001b[1mwandb\u001b[0m: \tlstm_hidden_dim: 16\n",
      "\u001b[34m\u001b[1mwandb\u001b[0m: \tlstm_num_layers: 1\n",
      "\u001b[34m\u001b[1mwandb\u001b[0m: \tnum_classes: 3\n",
      "\u001b[34m\u001b[1mwandb\u001b[0m: \tnum_layers: 2\n",
      "\u001b[34m\u001b[1mwandb\u001b[0m: \tnum_seed_points: 2\n",
      "\u001b[34m\u001b[1mwandb\u001b[0m: \tpool_ratio: 0.5\n",
      "\u001b[34m\u001b[1mwandb\u001b[0m: \tstep_size: 1\n",
      "\u001b[34m\u001b[1mwandb\u001b[0m: \tweight_decay: 0.01\n",
      "\u001b[34m\u001b[1mwandb\u001b[0m: \twindow_size: 10\n"
     ]
    },
    {
     "data": {
      "text/html": [
       "Tracking run with wandb version 0.19.6"
      ],
      "text/plain": [
       "<IPython.core.display.HTML object>"
      ]
     },
     "metadata": {},
     "output_type": "display_data"
    },
    {
     "data": {
      "text/html": [
       "W&B syncing is set to <code>`offline`<code> in this directory.  <br>Run <code>`wandb online`<code> or set <code>WANDB_MODE=online<code> to enable cloud syncing."
      ],
      "text/plain": [
       "<IPython.core.display.HTML object>"
      ]
     },
     "metadata": {},
     "output_type": "display_data"
    },
    {
     "name": "stdout",
     "output_type": "stream",
     "text": [
      "{'batch_size': 16, 'fc_dropout': 0.1, 'graph_dropout': 1, 'graph_num_head': 1, 'hidden_dim': 16, 'learning_rate': 0.001, 'lstm_bidirectional': True, 'lstm_hidden_dim': 16, 'lstm_num_layers': 1, 'num_classes': 3, 'num_layers': 2, 'num_seed_points': 2, 'pool_ratio': 0.5, 'step_size': 1, 'weight_decay': 0.01, 'window_size': 10}\n",
      "\n",
      "=== Training Scene: motor ===\n",
      "从缓存文件加载数据: ./dataset/cache/motor_10_1_dataset_aug_cache.pkl\n"
     ]
    },
    {
     "name": "stderr",
     "output_type": "stream",
     "text": [
      "Epoch 1/5: 100%|██████████| 336/336 [01:21<00:00,  4.12it/s, loss=1.2037]\n"
     ]
    },
    {
     "name": "stdout",
     "output_type": "stream",
     "text": [
      "Epoch 1 | Train Loss: 1.2074 | Val Acc: 0.3339 | Val Prec: 0.3109 | Val Recall: 0.3339 | Val F1: 0.1704\n"
     ]
    },
    {
     "name": "stderr",
     "output_type": "stream",
     "text": [
      "Epoch 2/5: 100%|██████████| 336/336 [01:20<00:00,  4.18it/s, loss=1.9258]\n"
     ]
    },
    {
     "name": "stdout",
     "output_type": "stream",
     "text": [
      "Epoch 2 | Train Loss: 1.1665 | Val Acc: 0.4052 | Val Prec: 0.4012 | Val Recall: 0.4052 | Val F1: 0.4001\n"
     ]
    },
    {
     "name": "stderr",
     "output_type": "stream",
     "text": [
      "Epoch 3/5: 100%|██████████| 336/336 [01:20<00:00,  4.19it/s, loss=0.6675]\n"
     ]
    },
    {
     "name": "stdout",
     "output_type": "stream",
     "text": [
      "Epoch 3 | Train Loss: 1.0613 | Val Acc: 0.4349 | Val Prec: 0.4215 | Val Recall: 0.4349 | Val F1: 0.4049\n"
     ]
    },
    {
     "name": "stderr",
     "output_type": "stream",
     "text": [
      "Epoch 4/5: 100%|██████████| 336/336 [01:18<00:00,  4.25it/s, loss=0.9883]\n"
     ]
    },
    {
     "name": "stdout",
     "output_type": "stream",
     "text": [
      "Epoch 4 | Train Loss: 1.0180 | Val Acc: 0.4366 | Val Prec: 0.4370 | Val Recall: 0.4366 | Val F1: 0.4095\n"
     ]
    },
    {
     "name": "stderr",
     "output_type": "stream",
     "text": [
      "Epoch 5/5: 100%|██████████| 336/336 [01:19<00:00,  4.22it/s, loss=1.1639]\n"
     ]
    },
    {
     "name": "stdout",
     "output_type": "stream",
     "text": [
      "Epoch 5 | Train Loss: 0.9738 | Val Acc: 0.4395 | Val Prec: 0.4451 | Val Recall: 0.4395 | Val F1: 0.3782\n",
      "Best validation F1: 0.3782\n",
      "Checkpoint saved at epoch 4\n"
     ]
    },
    {
     "data": {
      "text/html": [],
      "text/plain": [
       "<IPython.core.display.HTML object>"
      ]
     },
     "metadata": {},
     "output_type": "display_data"
    },
    {
     "data": {
      "text/html": [
       "<br>    <style><br>        .wandb-row {<br>            display: flex;<br>            flex-direction: row;<br>            flex-wrap: wrap;<br>            justify-content: flex-start;<br>            width: 100%;<br>        }<br>        .wandb-col {<br>            display: flex;<br>            flex-direction: column;<br>            flex-basis: 100%;<br>            flex: 1;<br>            padding: 10px;<br>        }<br>    </style><br><div class=\"wandb-row\"><div class=\"wandb-col\"><h3>Run history:</h3><br/><table class=\"wandb\"><tr><td>epoch</td><td>▁▃▅▆█</td></tr><tr><td>train_loss</td><td>█▇▄▂▁</td></tr><tr><td>val_accuracy</td><td>▁▆███</td></tr><tr><td>val_f1</td><td>▁███▇</td></tr><tr><td>val_precision</td><td>▁▆▇██</td></tr><tr><td>val_recall</td><td>▁▆███</td></tr><tr><td>validation_accuracy</td><td>▁▆███</td></tr><tr><td>validation_f1</td><td>▁███▇</td></tr><tr><td>validation_precision</td><td>▁▆▇██</td></tr><tr><td>validation_recall</td><td>▁▆███</td></tr></table><br/></div><div class=\"wandb-col\"><h3>Run summary:</h3><br/><table class=\"wandb\"><tr><td>best_val_f1</td><td>0.37818</td></tr><tr><td>epoch</td><td>5</td></tr><tr><td>train_loss</td><td>0.97381</td></tr><tr><td>val_accuracy</td><td>0.43954</td></tr><tr><td>val_f1</td><td>0.37818</td></tr><tr><td>val_precision</td><td>0.44511</td></tr><tr><td>val_recall</td><td>0.43954</td></tr><tr><td>validation_accuracy</td><td>0.43954</td></tr><tr><td>validation_f1</td><td>0.37818</td></tr><tr><td>validation_precision</td><td>0.44511</td></tr><tr><td>validation_recall</td><td>0.43954</td></tr></table><br/></div></div>"
      ],
      "text/plain": [
       "<IPython.core.display.HTML object>"
      ]
     },
     "metadata": {},
     "output_type": "display_data"
    },
    {
     "data": {
      "text/html": [
       "You can sync this run to the cloud by running:<br><code>wandb sync d:\\OneDrive - chd.edu.cn\\Desktop\\毕业论文数据\\code\\STNet\\wandb\\offline-run-20250207_031607-48c7uvvo<code>"
      ],
      "text/plain": [
       "<IPython.core.display.HTML object>"
      ]
     },
     "metadata": {},
     "output_type": "display_data"
    },
    {
     "data": {
      "text/html": [
       "Find logs at: <code>.\\wandb\\offline-run-20250207_031607-48c7uvvo\\logs</code>"
      ],
      "text/plain": [
       "<IPython.core.display.HTML object>"
      ]
     },
     "metadata": {},
     "output_type": "display_data"
    },
    {
     "name": "stderr",
     "output_type": "stream",
     "text": [
      "\u001b[34m\u001b[1mwandb\u001b[0m: Agent Starting Run: 9iohzw5v with config:\n",
      "\u001b[34m\u001b[1mwandb\u001b[0m: \tbatch_size: 16\n",
      "\u001b[34m\u001b[1mwandb\u001b[0m: \tfc_dropout: 0.1\n",
      "\u001b[34m\u001b[1mwandb\u001b[0m: \tgraph_dropout: 1\n",
      "\u001b[34m\u001b[1mwandb\u001b[0m: \tgraph_num_head: 1\n",
      "\u001b[34m\u001b[1mwandb\u001b[0m: \thidden_dim: 16\n",
      "\u001b[34m\u001b[1mwandb\u001b[0m: \tlearning_rate: 0.001\n",
      "\u001b[34m\u001b[1mwandb\u001b[0m: \tlstm_bidirectional: True\n",
      "\u001b[34m\u001b[1mwandb\u001b[0m: \tlstm_hidden_dim: 16\n",
      "\u001b[34m\u001b[1mwandb\u001b[0m: \tlstm_num_layers: 1\n",
      "\u001b[34m\u001b[1mwandb\u001b[0m: \tnum_classes: 3\n",
      "\u001b[34m\u001b[1mwandb\u001b[0m: \tnum_layers: 2\n",
      "\u001b[34m\u001b[1mwandb\u001b[0m: \tnum_seed_points: 2\n",
      "\u001b[34m\u001b[1mwandb\u001b[0m: \tpool_ratio: 0.5\n",
      "\u001b[34m\u001b[1mwandb\u001b[0m: \tstep_size: 1\n",
      "\u001b[34m\u001b[1mwandb\u001b[0m: \tweight_decay: 0.001\n",
      "\u001b[34m\u001b[1mwandb\u001b[0m: \twindow_size: 30\n"
     ]
    },
    {
     "data": {
      "text/html": [
       "Tracking run with wandb version 0.19.6"
      ],
      "text/plain": [
       "<IPython.core.display.HTML object>"
      ]
     },
     "metadata": {},
     "output_type": "display_data"
    },
    {
     "data": {
      "text/html": [
       "W&B syncing is set to <code>`offline`<code> in this directory.  <br>Run <code>`wandb online`<code> or set <code>WANDB_MODE=online<code> to enable cloud syncing."
      ],
      "text/plain": [
       "<IPython.core.display.HTML object>"
      ]
     },
     "metadata": {},
     "output_type": "display_data"
    },
    {
     "name": "stdout",
     "output_type": "stream",
     "text": [
      "{'batch_size': 16, 'fc_dropout': 0.1, 'graph_dropout': 1, 'graph_num_head': 1, 'hidden_dim': 16, 'learning_rate': 0.001, 'lstm_bidirectional': True, 'lstm_hidden_dim': 16, 'lstm_num_layers': 1, 'num_classes': 3, 'num_layers': 2, 'num_seed_points': 2, 'pool_ratio': 0.5, 'step_size': 1, 'weight_decay': 0.001, 'window_size': 30}\n",
      "\n",
      "=== Training Scene: motor ===\n",
      "从缓存文件加载数据: ./dataset/cache/motor_30_1_dataset_aug_cache.pkl\n"
     ]
    },
    {
     "name": "stderr",
     "output_type": "stream",
     "text": [
      "Epoch 1/5: 100%|██████████| 322/322 [01:27<00:00,  3.67it/s, loss=1.1544]\n"
     ]
    },
    {
     "name": "stdout",
     "output_type": "stream",
     "text": [
      "Epoch 1 | Train Loss: 1.1982 | Val Acc: 0.3333 | Val Prec: 0.1161 | Val Recall: 0.3333 | Val F1: 0.1722\n"
     ]
    },
    {
     "name": "stderr",
     "output_type": "stream",
     "text": [
      "Epoch 2/5: 100%|██████████| 322/322 [01:25<00:00,  3.77it/s, loss=1.0673]\n"
     ]
    },
    {
     "name": "stdout",
     "output_type": "stream",
     "text": [
      "Epoch 2 | Train Loss: 1.1943 | Val Acc: 0.3617 | Val Prec: 0.2733 | Val Recall: 0.3617 | Val F1: 0.2604\n"
     ]
    },
    {
     "name": "stderr",
     "output_type": "stream",
     "text": [
      "Epoch 3/5: 100%|██████████| 322/322 [01:24<00:00,  3.79it/s, loss=1.3020]\n"
     ]
    },
    {
     "name": "stdout",
     "output_type": "stream",
     "text": [
      "Epoch 3 | Train Loss: 1.1697 | Val Acc: 0.3435 | Val Prec: 0.4725 | Val Recall: 0.3435 | Val F1: 0.2912\n"
     ]
    },
    {
     "name": "stderr",
     "output_type": "stream",
     "text": [
      "Epoch 4/5: 100%|██████████| 322/322 [01:25<00:00,  3.78it/s, loss=1.2472]\n"
     ]
    },
    {
     "name": "stdout",
     "output_type": "stream",
     "text": [
      "Epoch 4 | Train Loss: 1.1328 | Val Acc: 0.3766 | Val Prec: 0.6469 | Val Recall: 0.3766 | Val F1: 0.2757\n"
     ]
    },
    {
     "name": "stderr",
     "output_type": "stream",
     "text": [
      "Epoch 5/5: 100%|██████████| 322/322 [01:23<00:00,  3.83it/s, loss=0.8539]\n"
     ]
    },
    {
     "name": "stdout",
     "output_type": "stream",
     "text": [
      "Epoch 5 | Train Loss: 1.0921 | Val Acc: 0.4163 | Val Prec: 0.4140 | Val Recall: 0.4163 | Val F1: 0.3889\n",
      "Best validation F1: 0.3889\n",
      "Checkpoint saved at epoch 4\n"
     ]
    },
    {
     "data": {
      "text/html": [],
      "text/plain": [
       "<IPython.core.display.HTML object>"
      ]
     },
     "metadata": {},
     "output_type": "display_data"
    },
    {
     "data": {
      "text/html": [
       "<br>    <style><br>        .wandb-row {<br>            display: flex;<br>            flex-direction: row;<br>            flex-wrap: wrap;<br>            justify-content: flex-start;<br>            width: 100%;<br>        }<br>        .wandb-col {<br>            display: flex;<br>            flex-direction: column;<br>            flex-basis: 100%;<br>            flex: 1;<br>            padding: 10px;<br>        }<br>    </style><br><div class=\"wandb-row\"><div class=\"wandb-col\"><h3>Run history:</h3><br/><table class=\"wandb\"><tr><td>epoch</td><td>▁▃▅▆█</td></tr><tr><td>train_loss</td><td>██▆▄▁</td></tr><tr><td>val_accuracy</td><td>▁▃▂▅█</td></tr><tr><td>val_f1</td><td>▁▄▅▄█</td></tr><tr><td>val_precision</td><td>▁▃▆█▅</td></tr><tr><td>val_recall</td><td>▁▃▂▅█</td></tr><tr><td>validation_accuracy</td><td>▁▃▂▅█</td></tr><tr><td>validation_f1</td><td>▁▄▅▄█</td></tr><tr><td>validation_precision</td><td>▁▃▆█▅</td></tr><tr><td>validation_recall</td><td>▁▃▂▅█</td></tr></table><br/></div><div class=\"wandb-col\"><h3>Run summary:</h3><br/><table class=\"wandb\"><tr><td>best_val_f1</td><td>0.38892</td></tr><tr><td>epoch</td><td>5</td></tr><tr><td>train_loss</td><td>1.09211</td></tr><tr><td>val_accuracy</td><td>0.41625</td></tr><tr><td>val_f1</td><td>0.38892</td></tr><tr><td>val_precision</td><td>0.41396</td></tr><tr><td>val_recall</td><td>0.41625</td></tr><tr><td>validation_accuracy</td><td>0.41625</td></tr><tr><td>validation_f1</td><td>0.38892</td></tr><tr><td>validation_precision</td><td>0.41396</td></tr><tr><td>validation_recall</td><td>0.41625</td></tr></table><br/></div></div>"
      ],
      "text/plain": [
       "<IPython.core.display.HTML object>"
      ]
     },
     "metadata": {},
     "output_type": "display_data"
    },
    {
     "data": {
      "text/html": [
       "You can sync this run to the cloud by running:<br><code>wandb sync d:\\OneDrive - chd.edu.cn\\Desktop\\毕业论文数据\\code\\STNet\\wandb\\offline-run-20250207_032308-9iohzw5v<code>"
      ],
      "text/plain": [
       "<IPython.core.display.HTML object>"
      ]
     },
     "metadata": {},
     "output_type": "display_data"
    },
    {
     "data": {
      "text/html": [
       "Find logs at: <code>.\\wandb\\offline-run-20250207_032308-9iohzw5v\\logs</code>"
      ],
      "text/plain": [
       "<IPython.core.display.HTML object>"
      ]
     },
     "metadata": {},
     "output_type": "display_data"
    },
    {
     "name": "stderr",
     "output_type": "stream",
     "text": [
      "\u001b[34m\u001b[1mwandb\u001b[0m: Agent Starting Run: i2bv1w9m with config:\n",
      "\u001b[34m\u001b[1mwandb\u001b[0m: \tbatch_size: 16\n",
      "\u001b[34m\u001b[1mwandb\u001b[0m: \tfc_dropout: 0.1\n",
      "\u001b[34m\u001b[1mwandb\u001b[0m: \tgraph_dropout: 1\n",
      "\u001b[34m\u001b[1mwandb\u001b[0m: \tgraph_num_head: 1\n",
      "\u001b[34m\u001b[1mwandb\u001b[0m: \thidden_dim: 16\n",
      "\u001b[34m\u001b[1mwandb\u001b[0m: \tlearning_rate: 0.001\n",
      "\u001b[34m\u001b[1mwandb\u001b[0m: \tlstm_bidirectional: True\n",
      "\u001b[34m\u001b[1mwandb\u001b[0m: \tlstm_hidden_dim: 16\n",
      "\u001b[34m\u001b[1mwandb\u001b[0m: \tlstm_num_layers: 1\n",
      "\u001b[34m\u001b[1mwandb\u001b[0m: \tnum_classes: 3\n",
      "\u001b[34m\u001b[1mwandb\u001b[0m: \tnum_layers: 2\n",
      "\u001b[34m\u001b[1mwandb\u001b[0m: \tnum_seed_points: 2\n",
      "\u001b[34m\u001b[1mwandb\u001b[0m: \tpool_ratio: 0.5\n",
      "\u001b[34m\u001b[1mwandb\u001b[0m: \tstep_size: 1\n",
      "\u001b[34m\u001b[1mwandb\u001b[0m: \tweight_decay: 0.0001\n",
      "\u001b[34m\u001b[1mwandb\u001b[0m: \twindow_size: 10\n"
     ]
    },
    {
     "data": {
      "text/html": [
       "Tracking run with wandb version 0.19.6"
      ],
      "text/plain": [
       "<IPython.core.display.HTML object>"
      ]
     },
     "metadata": {},
     "output_type": "display_data"
    },
    {
     "data": {
      "text/html": [
       "W&B syncing is set to <code>`offline`<code> in this directory.  <br>Run <code>`wandb online`<code> or set <code>WANDB_MODE=online<code> to enable cloud syncing."
      ],
      "text/plain": [
       "<IPython.core.display.HTML object>"
      ]
     },
     "metadata": {},
     "output_type": "display_data"
    },
    {
     "name": "stdout",
     "output_type": "stream",
     "text": [
      "{'batch_size': 16, 'fc_dropout': 0.1, 'graph_dropout': 1, 'graph_num_head': 1, 'hidden_dim': 16, 'learning_rate': 0.001, 'lstm_bidirectional': True, 'lstm_hidden_dim': 16, 'lstm_num_layers': 1, 'num_classes': 3, 'num_layers': 2, 'num_seed_points': 2, 'pool_ratio': 0.5, 'step_size': 1, 'weight_decay': 0.0001, 'window_size': 10}\n",
      "\n",
      "=== Training Scene: motor ===\n",
      "从缓存文件加载数据: ./dataset/cache/motor_10_1_dataset_aug_cache.pkl\n"
     ]
    },
    {
     "name": "stderr",
     "output_type": "stream",
     "text": [
      "Epoch 1/5: 100%|██████████| 336/336 [01:21<00:00,  4.13it/s, loss=1.3123]\n"
     ]
    },
    {
     "name": "stdout",
     "output_type": "stream",
     "text": [
      "Epoch 1 | Train Loss: 1.2069 | Val Acc: 0.3333 | Val Prec: 0.1110 | Val Recall: 0.3333 | Val F1: 0.1666\n"
     ]
    },
    {
     "name": "stderr",
     "output_type": "stream",
     "text": [
      "Epoch 2/5: 100%|██████████| 336/336 [01:20<00:00,  4.19it/s, loss=1.1991]\n"
     ]
    },
    {
     "name": "stdout",
     "output_type": "stream",
     "text": [
      "Epoch 2 | Train Loss: 1.2045 | Val Acc: 0.3333 | Val Prec: 0.1110 | Val Recall: 0.3333 | Val F1: 0.1666\n"
     ]
    },
    {
     "name": "stderr",
     "output_type": "stream",
     "text": [
      "Epoch 3/5: 100%|██████████| 336/336 [01:20<00:00,  4.15it/s, loss=1.2194]\n"
     ]
    },
    {
     "name": "stdout",
     "output_type": "stream",
     "text": [
      "Epoch 3 | Train Loss: 1.2045 | Val Acc: 0.3333 | Val Prec: 0.1110 | Val Recall: 0.3333 | Val F1: 0.1666\n"
     ]
    },
    {
     "name": "stderr",
     "output_type": "stream",
     "text": [
      "Epoch 4/5: 100%|██████████| 336/336 [01:20<00:00,  4.17it/s, loss=1.1175]\n"
     ]
    },
    {
     "name": "stdout",
     "output_type": "stream",
     "text": [
      "Epoch 4 | Train Loss: 1.2041 | Val Acc: 0.3333 | Val Prec: 0.1110 | Val Recall: 0.3333 | Val F1: 0.1666\n"
     ]
    },
    {
     "name": "stderr",
     "output_type": "stream",
     "text": [
      "Epoch 5/5: 100%|██████████| 336/336 [01:20<00:00,  4.19it/s, loss=1.2091]\n"
     ]
    },
    {
     "name": "stdout",
     "output_type": "stream",
     "text": [
      "Epoch 5 | Train Loss: 1.2042 | Val Acc: 0.3333 | Val Prec: 0.1110 | Val Recall: 0.3333 | Val F1: 0.1666\n",
      "Best validation F1: 0.1666\n",
      "Checkpoint saved at epoch 4\n"
     ]
    },
    {
     "data": {
      "text/html": [],
      "text/plain": [
       "<IPython.core.display.HTML object>"
      ]
     },
     "metadata": {},
     "output_type": "display_data"
    },
    {
     "data": {
      "text/html": [
       "<br>    <style><br>        .wandb-row {<br>            display: flex;<br>            flex-direction: row;<br>            flex-wrap: wrap;<br>            justify-content: flex-start;<br>            width: 100%;<br>        }<br>        .wandb-col {<br>            display: flex;<br>            flex-direction: column;<br>            flex-basis: 100%;<br>            flex: 1;<br>            padding: 10px;<br>        }<br>    </style><br><div class=\"wandb-row\"><div class=\"wandb-col\"><h3>Run history:</h3><br/><table class=\"wandb\"><tr><td>epoch</td><td>▁▃▅▆█</td></tr><tr><td>train_loss</td><td>█▂▂▁▁</td></tr><tr><td>val_accuracy</td><td>▁▁▁▁▁</td></tr><tr><td>val_f1</td><td>▁▁▁▁▁</td></tr><tr><td>val_precision</td><td>▁▁▁▁▁</td></tr><tr><td>val_recall</td><td>▁▁▁▁▁</td></tr><tr><td>validation_accuracy</td><td>▁▁▁▁▁</td></tr><tr><td>validation_f1</td><td>▁▁▁▁▁</td></tr><tr><td>validation_precision</td><td>▁▁▁▁▁</td></tr><tr><td>validation_recall</td><td>▁▁▁▁▁</td></tr></table><br/></div><div class=\"wandb-col\"><h3>Run summary:</h3><br/><table class=\"wandb\"><tr><td>best_val_f1</td><td>0.16657</td></tr><tr><td>epoch</td><td>5</td></tr><tr><td>train_loss</td><td>1.20425</td></tr><tr><td>val_accuracy</td><td>0.33333</td></tr><tr><td>val_f1</td><td>0.16657</td></tr><tr><td>val_precision</td><td>0.11103</td></tr><tr><td>val_recall</td><td>0.33333</td></tr><tr><td>validation_accuracy</td><td>0.33333</td></tr><tr><td>validation_f1</td><td>0.16657</td></tr><tr><td>validation_precision</td><td>0.11103</td></tr><tr><td>validation_recall</td><td>0.33333</td></tr></table><br/></div></div>"
      ],
      "text/plain": [
       "<IPython.core.display.HTML object>"
      ]
     },
     "metadata": {},
     "output_type": "display_data"
    },
    {
     "data": {
      "text/html": [
       "You can sync this run to the cloud by running:<br><code>wandb sync d:\\OneDrive - chd.edu.cn\\Desktop\\毕业论文数据\\code\\STNet\\wandb\\offline-run-20250207_033040-i2bv1w9m<code>"
      ],
      "text/plain": [
       "<IPython.core.display.HTML object>"
      ]
     },
     "metadata": {},
     "output_type": "display_data"
    },
    {
     "data": {
      "text/html": [
       "Find logs at: <code>.\\wandb\\offline-run-20250207_033040-i2bv1w9m\\logs</code>"
      ],
      "text/plain": [
       "<IPython.core.display.HTML object>"
      ]
     },
     "metadata": {},
     "output_type": "display_data"
    },
    {
     "name": "stderr",
     "output_type": "stream",
     "text": [
      "\u001b[34m\u001b[1mwandb\u001b[0m: Agent Starting Run: idf5rv2d with config:\n",
      "\u001b[34m\u001b[1mwandb\u001b[0m: \tbatch_size: 16\n",
      "\u001b[34m\u001b[1mwandb\u001b[0m: \tfc_dropout: 0.1\n",
      "\u001b[34m\u001b[1mwandb\u001b[0m: \tgraph_dropout: 1\n",
      "\u001b[34m\u001b[1mwandb\u001b[0m: \tgraph_num_head: 1\n",
      "\u001b[34m\u001b[1mwandb\u001b[0m: \thidden_dim: 16\n",
      "\u001b[34m\u001b[1mwandb\u001b[0m: \tlearning_rate: 0.001\n",
      "\u001b[34m\u001b[1mwandb\u001b[0m: \tlstm_bidirectional: True\n",
      "\u001b[34m\u001b[1mwandb\u001b[0m: \tlstm_hidden_dim: 16\n",
      "\u001b[34m\u001b[1mwandb\u001b[0m: \tlstm_num_layers: 1\n",
      "\u001b[34m\u001b[1mwandb\u001b[0m: \tnum_classes: 3\n",
      "\u001b[34m\u001b[1mwandb\u001b[0m: \tnum_layers: 2\n",
      "\u001b[34m\u001b[1mwandb\u001b[0m: \tnum_seed_points: 2\n",
      "\u001b[34m\u001b[1mwandb\u001b[0m: \tpool_ratio: 0.5\n",
      "\u001b[34m\u001b[1mwandb\u001b[0m: \tstep_size: 1\n",
      "\u001b[34m\u001b[1mwandb\u001b[0m: \tweight_decay: 0.0001\n",
      "\u001b[34m\u001b[1mwandb\u001b[0m: \twindow_size: 20\n"
     ]
    },
    {
     "data": {
      "text/html": [
       "Tracking run with wandb version 0.19.6"
      ],
      "text/plain": [
       "<IPython.core.display.HTML object>"
      ]
     },
     "metadata": {},
     "output_type": "display_data"
    },
    {
     "data": {
      "text/html": [
       "W&B syncing is set to <code>`offline`<code> in this directory.  <br>Run <code>`wandb online`<code> or set <code>WANDB_MODE=online<code> to enable cloud syncing."
      ],
      "text/plain": [
       "<IPython.core.display.HTML object>"
      ]
     },
     "metadata": {},
     "output_type": "display_data"
    },
    {
     "name": "stdout",
     "output_type": "stream",
     "text": [
      "{'batch_size': 16, 'fc_dropout': 0.1, 'graph_dropout': 1, 'graph_num_head': 1, 'hidden_dim': 16, 'learning_rate': 0.001, 'lstm_bidirectional': True, 'lstm_hidden_dim': 16, 'lstm_num_layers': 1, 'num_classes': 3, 'num_layers': 2, 'num_seed_points': 2, 'pool_ratio': 0.5, 'step_size': 1, 'weight_decay': 0.0001, 'window_size': 20}\n",
      "\n",
      "=== Training Scene: motor ===\n",
      "从缓存文件加载数据: ./dataset/cache/motor_20_1_dataset_aug_cache.pkl\n"
     ]
    },
    {
     "name": "stderr",
     "output_type": "stream",
     "text": [
      "Epoch 1/5: 100%|██████████| 329/329 [01:25<00:00,  3.84it/s, loss=0.9555]\n"
     ]
    },
    {
     "name": "stdout",
     "output_type": "stream",
     "text": [
      "Epoch 1 | Train Loss: 1.2005 | Val Acc: 0.3715 | Val Prec: 0.2650 | Val Recall: 0.3715 | Val F1: 0.3082\n"
     ]
    },
    {
     "name": "stderr",
     "output_type": "stream",
     "text": [
      "Epoch 2/5: 100%|██████████| 329/329 [01:23<00:00,  3.93it/s, loss=1.1585]\n"
     ]
    },
    {
     "name": "stdout",
     "output_type": "stream",
     "text": [
      "Epoch 2 | Train Loss: 1.1415 | Val Acc: 0.4430 | Val Prec: 0.4200 | Val Recall: 0.4430 | Val F1: 0.3916\n"
     ]
    },
    {
     "name": "stderr",
     "output_type": "stream",
     "text": [
      "Epoch 3/5: 100%|██████████| 329/329 [01:24<00:00,  3.90it/s, loss=0.9792]\n"
     ]
    },
    {
     "name": "stdout",
     "output_type": "stream",
     "text": [
      "Epoch 3 | Train Loss: 1.0514 | Val Acc: 0.4569 | Val Prec: 0.4753 | Val Recall: 0.4569 | Val F1: 0.4170\n"
     ]
    },
    {
     "name": "stderr",
     "output_type": "stream",
     "text": [
      "Epoch 4/5: 100%|██████████| 329/329 [01:23<00:00,  3.96it/s, loss=0.3507]\n"
     ]
    },
    {
     "name": "stdout",
     "output_type": "stream",
     "text": [
      "Epoch 4 | Train Loss: 0.9990 | Val Acc: 0.4370 | Val Prec: 0.4148 | Val Recall: 0.4370 | Val F1: 0.4027\n"
     ]
    },
    {
     "name": "stderr",
     "output_type": "stream",
     "text": [
      "Epoch 5/5: 100%|██████████| 329/329 [01:24<00:00,  3.90it/s, loss=0.9693]\n"
     ]
    },
    {
     "name": "stdout",
     "output_type": "stream",
     "text": [
      "Epoch 5 | Train Loss: 0.9686 | Val Acc: 0.4472 | Val Prec: 0.4327 | Val Recall: 0.4472 | Val F1: 0.4319\n",
      "Best validation F1: 0.4170\n",
      "Checkpoint saved at epoch 4\n"
     ]
    },
    {
     "data": {
      "text/html": [],
      "text/plain": [
       "<IPython.core.display.HTML object>"
      ]
     },
     "metadata": {},
     "output_type": "display_data"
    },
    {
     "data": {
      "text/html": [
       "<br>    <style><br>        .wandb-row {<br>            display: flex;<br>            flex-direction: row;<br>            flex-wrap: wrap;<br>            justify-content: flex-start;<br>            width: 100%;<br>        }<br>        .wandb-col {<br>            display: flex;<br>            flex-direction: column;<br>            flex-basis: 100%;<br>            flex: 1;<br>            padding: 10px;<br>        }<br>    </style><br><div class=\"wandb-row\"><div class=\"wandb-col\"><h3>Run history:</h3><br/><table class=\"wandb\"><tr><td>epoch</td><td>▁▃▅▆█</td></tr><tr><td>train_loss</td><td>█▆▄▂▁</td></tr><tr><td>val_accuracy</td><td>▁▇█▆▇</td></tr><tr><td>val_f1</td><td>▁▆▇▆█</td></tr><tr><td>val_precision</td><td>▁▆█▆▇</td></tr><tr><td>val_recall</td><td>▁▇█▆▇</td></tr><tr><td>validation_accuracy</td><td>▁▇█▆▇</td></tr><tr><td>validation_f1</td><td>▁▆▇▆█</td></tr><tr><td>validation_precision</td><td>▁▆█▆▇</td></tr><tr><td>validation_recall</td><td>▁▇█▆▇</td></tr></table><br/></div><div class=\"wandb-col\"><h3>Run summary:</h3><br/><table class=\"wandb\"><tr><td>best_val_f1</td><td>0.41701</td></tr><tr><td>epoch</td><td>5</td></tr><tr><td>train_loss</td><td>0.96858</td></tr><tr><td>val_accuracy</td><td>0.44719</td></tr><tr><td>val_f1</td><td>0.43188</td></tr><tr><td>val_precision</td><td>0.43268</td></tr><tr><td>val_recall</td><td>0.44719</td></tr><tr><td>validation_accuracy</td><td>0.44719</td></tr><tr><td>validation_f1</td><td>0.43188</td></tr><tr><td>validation_precision</td><td>0.43268</td></tr><tr><td>validation_recall</td><td>0.44719</td></tr></table><br/></div></div>"
      ],
      "text/plain": [
       "<IPython.core.display.HTML object>"
      ]
     },
     "metadata": {},
     "output_type": "display_data"
    },
    {
     "data": {
      "text/html": [
       "You can sync this run to the cloud by running:<br><code>wandb sync d:\\OneDrive - chd.edu.cn\\Desktop\\毕业论文数据\\code\\STNet\\wandb\\offline-run-20250207_033741-idf5rv2d<code>"
      ],
      "text/plain": [
       "<IPython.core.display.HTML object>"
      ]
     },
     "metadata": {},
     "output_type": "display_data"
    },
    {
     "data": {
      "text/html": [
       "Find logs at: <code>.\\wandb\\offline-run-20250207_033741-idf5rv2d\\logs</code>"
      ],
      "text/plain": [
       "<IPython.core.display.HTML object>"
      ]
     },
     "metadata": {},
     "output_type": "display_data"
    },
    {
     "name": "stderr",
     "output_type": "stream",
     "text": [
      "\u001b[34m\u001b[1mwandb\u001b[0m: Agent Starting Run: 00gy8x43 with config:\n",
      "\u001b[34m\u001b[1mwandb\u001b[0m: \tbatch_size: 16\n",
      "\u001b[34m\u001b[1mwandb\u001b[0m: \tfc_dropout: 0.1\n",
      "\u001b[34m\u001b[1mwandb\u001b[0m: \tgraph_dropout: 1\n",
      "\u001b[34m\u001b[1mwandb\u001b[0m: \tgraph_num_head: 1\n",
      "\u001b[34m\u001b[1mwandb\u001b[0m: \thidden_dim: 16\n",
      "\u001b[34m\u001b[1mwandb\u001b[0m: \tlearning_rate: 0.001\n",
      "\u001b[34m\u001b[1mwandb\u001b[0m: \tlstm_bidirectional: True\n",
      "\u001b[34m\u001b[1mwandb\u001b[0m: \tlstm_hidden_dim: 16\n",
      "\u001b[34m\u001b[1mwandb\u001b[0m: \tlstm_num_layers: 1\n",
      "\u001b[34m\u001b[1mwandb\u001b[0m: \tnum_classes: 3\n",
      "\u001b[34m\u001b[1mwandb\u001b[0m: \tnum_layers: 2\n",
      "\u001b[34m\u001b[1mwandb\u001b[0m: \tnum_seed_points: 2\n",
      "\u001b[34m\u001b[1mwandb\u001b[0m: \tpool_ratio: 0.5\n",
      "\u001b[34m\u001b[1mwandb\u001b[0m: \tstep_size: 1\n",
      "\u001b[34m\u001b[1mwandb\u001b[0m: \tweight_decay: 0.001\n",
      "\u001b[34m\u001b[1mwandb\u001b[0m: \twindow_size: 40\n"
     ]
    },
    {
     "data": {
      "text/html": [
       "Tracking run with wandb version 0.19.6"
      ],
      "text/plain": [
       "<IPython.core.display.HTML object>"
      ]
     },
     "metadata": {},
     "output_type": "display_data"
    },
    {
     "data": {
      "text/html": [
       "W&B syncing is set to <code>`offline`<code> in this directory.  <br>Run <code>`wandb online`<code> or set <code>WANDB_MODE=online<code> to enable cloud syncing."
      ],
      "text/plain": [
       "<IPython.core.display.HTML object>"
      ]
     },
     "metadata": {},
     "output_type": "display_data"
    },
    {
     "name": "stdout",
     "output_type": "stream",
     "text": [
      "{'batch_size': 16, 'fc_dropout': 0.1, 'graph_dropout': 1, 'graph_num_head': 1, 'hidden_dim': 16, 'learning_rate': 0.001, 'lstm_bidirectional': True, 'lstm_hidden_dim': 16, 'lstm_num_layers': 1, 'num_classes': 3, 'num_layers': 2, 'num_seed_points': 2, 'pool_ratio': 0.5, 'step_size': 1, 'weight_decay': 0.001, 'window_size': 40}\n",
      "\n",
      "=== Training Scene: motor ===\n",
      "从缓存文件加载数据: ./dataset/cache/motor_40_1_dataset_aug_cache.pkl\n"
     ]
    },
    {
     "name": "stderr",
     "output_type": "stream",
     "text": [
      "Epoch 1/5: 100%|██████████| 315/315 [01:28<00:00,  3.57it/s, loss=1.5281]\n"
     ]
    },
    {
     "name": "stdout",
     "output_type": "stream",
     "text": [
      "Epoch 1 | Train Loss: 1.1946 | Val Acc: 0.3482 | Val Prec: 0.3404 | Val Recall: 0.3482 | Val F1: 0.3182\n"
     ]
    },
    {
     "name": "stderr",
     "output_type": "stream",
     "text": [
      "Epoch 2/5: 100%|██████████| 315/315 [01:27<00:00,  3.62it/s, loss=0.9582]\n"
     ]
    },
    {
     "name": "stdout",
     "output_type": "stream",
     "text": [
      "Epoch 2 | Train Loss: 1.0724 | Val Acc: 0.4421 | Val Prec: 0.4140 | Val Recall: 0.4421 | Val F1: 0.3878\n"
     ]
    },
    {
     "name": "stderr",
     "output_type": "stream",
     "text": [
      "Epoch 3/5: 100%|██████████| 315/315 [01:27<00:00,  3.61it/s, loss=0.8938]\n"
     ]
    },
    {
     "name": "stdout",
     "output_type": "stream",
     "text": [
      "Epoch 3 | Train Loss: 0.9954 | Val Acc: 0.4410 | Val Prec: 0.5659 | Val Recall: 0.4410 | Val F1: 0.3589\n"
     ]
    },
    {
     "name": "stderr",
     "output_type": "stream",
     "text": [
      "Epoch 4/5: 100%|██████████| 315/315 [01:26<00:00,  3.62it/s, loss=1.3252]\n"
     ]
    },
    {
     "name": "stdout",
     "output_type": "stream",
     "text": [
      "Epoch 4 | Train Loss: 0.9951 | Val Acc: 0.4593 | Val Prec: 0.4739 | Val Recall: 0.4593 | Val F1: 0.4173\n"
     ]
    },
    {
     "name": "stderr",
     "output_type": "stream",
     "text": [
      "Epoch 5/5: 100%|██████████| 315/315 [01:27<00:00,  3.61it/s, loss=0.5640]\n"
     ]
    },
    {
     "name": "stdout",
     "output_type": "stream",
     "text": [
      "Epoch 5 | Train Loss: 0.9523 | Val Acc: 0.4157 | Val Prec: 0.4961 | Val Recall: 0.4157 | Val F1: 0.4124\n",
      "Best validation F1: 0.4173\n",
      "Checkpoint saved at epoch 4\n"
     ]
    },
    {
     "data": {
      "text/html": [],
      "text/plain": [
       "<IPython.core.display.HTML object>"
      ]
     },
     "metadata": {},
     "output_type": "display_data"
    },
    {
     "data": {
      "text/html": [
       "<br>    <style><br>        .wandb-row {<br>            display: flex;<br>            flex-direction: row;<br>            flex-wrap: wrap;<br>            justify-content: flex-start;<br>            width: 100%;<br>        }<br>        .wandb-col {<br>            display: flex;<br>            flex-direction: column;<br>            flex-basis: 100%;<br>            flex: 1;<br>            padding: 10px;<br>        }<br>    </style><br><div class=\"wandb-row\"><div class=\"wandb-col\"><h3>Run history:</h3><br/><table class=\"wandb\"><tr><td>epoch</td><td>▁▃▅▆█</td></tr><tr><td>train_loss</td><td>█▄▂▂▁</td></tr><tr><td>val_accuracy</td><td>▁▇▇█▅</td></tr><tr><td>val_f1</td><td>▁▆▄██</td></tr><tr><td>val_precision</td><td>▁▃█▅▆</td></tr><tr><td>val_recall</td><td>▁▇▇█▅</td></tr><tr><td>validation_accuracy</td><td>▁▇▇█▅</td></tr><tr><td>validation_f1</td><td>▁▆▄██</td></tr><tr><td>validation_precision</td><td>▁▃█▅▆</td></tr><tr><td>validation_recall</td><td>▁▇▇█▅</td></tr></table><br/></div><div class=\"wandb-col\"><h3>Run summary:</h3><br/><table class=\"wandb\"><tr><td>best_val_f1</td><td>0.41731</td></tr><tr><td>epoch</td><td>5</td></tr><tr><td>train_loss</td><td>0.95229</td></tr><tr><td>val_accuracy</td><td>0.41571</td></tr><tr><td>val_f1</td><td>0.4124</td></tr><tr><td>val_precision</td><td>0.49606</td></tr><tr><td>val_recall</td><td>0.41571</td></tr><tr><td>validation_accuracy</td><td>0.41571</td></tr><tr><td>validation_f1</td><td>0.4124</td></tr><tr><td>validation_precision</td><td>0.49606</td></tr><tr><td>validation_recall</td><td>0.41571</td></tr></table><br/></div></div>"
      ],
      "text/plain": [
       "<IPython.core.display.HTML object>"
      ]
     },
     "metadata": {},
     "output_type": "display_data"
    },
    {
     "data": {
      "text/html": [
       "You can sync this run to the cloud by running:<br><code>wandb sync d:\\OneDrive - chd.edu.cn\\Desktop\\毕业论文数据\\code\\STNet\\wandb\\offline-run-20250207_034502-00gy8x43<code>"
      ],
      "text/plain": [
       "<IPython.core.display.HTML object>"
      ]
     },
     "metadata": {},
     "output_type": "display_data"
    },
    {
     "data": {
      "text/html": [
       "Find logs at: <code>.\\wandb\\offline-run-20250207_034502-00gy8x43\\logs</code>"
      ],
      "text/plain": [
       "<IPython.core.display.HTML object>"
      ]
     },
     "metadata": {},
     "output_type": "display_data"
    },
    {
     "name": "stderr",
     "output_type": "stream",
     "text": [
      "\u001b[34m\u001b[1mwandb\u001b[0m: Agent Starting Run: 1exlqsut with config:\n",
      "\u001b[34m\u001b[1mwandb\u001b[0m: \tbatch_size: 16\n",
      "\u001b[34m\u001b[1mwandb\u001b[0m: \tfc_dropout: 0.1\n",
      "\u001b[34m\u001b[1mwandb\u001b[0m: \tgraph_dropout: 1\n",
      "\u001b[34m\u001b[1mwandb\u001b[0m: \tgraph_num_head: 1\n",
      "\u001b[34m\u001b[1mwandb\u001b[0m: \thidden_dim: 16\n",
      "\u001b[34m\u001b[1mwandb\u001b[0m: \tlearning_rate: 0.001\n",
      "\u001b[34m\u001b[1mwandb\u001b[0m: \tlstm_bidirectional: True\n",
      "\u001b[34m\u001b[1mwandb\u001b[0m: \tlstm_hidden_dim: 16\n",
      "\u001b[34m\u001b[1mwandb\u001b[0m: \tlstm_num_layers: 1\n",
      "\u001b[34m\u001b[1mwandb\u001b[0m: \tnum_classes: 3\n",
      "\u001b[34m\u001b[1mwandb\u001b[0m: \tnum_layers: 2\n",
      "\u001b[34m\u001b[1mwandb\u001b[0m: \tnum_seed_points: 2\n",
      "\u001b[34m\u001b[1mwandb\u001b[0m: \tpool_ratio: 0.5\n",
      "\u001b[34m\u001b[1mwandb\u001b[0m: \tstep_size: 1\n",
      "\u001b[34m\u001b[1mwandb\u001b[0m: \tweight_decay: 0.0001\n",
      "\u001b[34m\u001b[1mwandb\u001b[0m: \twindow_size: 30\n"
     ]
    },
    {
     "data": {
      "text/html": [
       "Tracking run with wandb version 0.19.6"
      ],
      "text/plain": [
       "<IPython.core.display.HTML object>"
      ]
     },
     "metadata": {},
     "output_type": "display_data"
    },
    {
     "data": {
      "text/html": [
       "W&B syncing is set to <code>`offline`<code> in this directory.  <br>Run <code>`wandb online`<code> or set <code>WANDB_MODE=online<code> to enable cloud syncing."
      ],
      "text/plain": [
       "<IPython.core.display.HTML object>"
      ]
     },
     "metadata": {},
     "output_type": "display_data"
    },
    {
     "name": "stdout",
     "output_type": "stream",
     "text": [
      "{'batch_size': 16, 'fc_dropout': 0.1, 'graph_dropout': 1, 'graph_num_head': 1, 'hidden_dim': 16, 'learning_rate': 0.001, 'lstm_bidirectional': True, 'lstm_hidden_dim': 16, 'lstm_num_layers': 1, 'num_classes': 3, 'num_layers': 2, 'num_seed_points': 2, 'pool_ratio': 0.5, 'step_size': 1, 'weight_decay': 0.0001, 'window_size': 30}\n",
      "\n",
      "=== Training Scene: motor ===\n",
      "从缓存文件加载数据: ./dataset/cache/motor_30_1_dataset_aug_cache.pkl\n"
     ]
    },
    {
     "name": "stderr",
     "output_type": "stream",
     "text": [
      "Epoch 1/5: 100%|██████████| 322/322 [01:28<00:00,  3.63it/s, loss=1.1775]\n"
     ]
    },
    {
     "name": "stdout",
     "output_type": "stream",
     "text": [
      "Epoch 1 | Train Loss: 1.1805 | Val Acc: 0.4191 | Val Prec: 0.2715 | Val Recall: 0.4191 | Val F1: 0.3262\n"
     ]
    },
    {
     "name": "stderr",
     "output_type": "stream",
     "text": [
      "Epoch 2/5: 100%|██████████| 322/322 [01:23<00:00,  3.87it/s, loss=1.0559]\n"
     ]
    },
    {
     "name": "stdout",
     "output_type": "stream",
     "text": [
      "Epoch 2 | Train Loss: 1.1166 | Val Acc: 0.4599 | Val Prec: 0.4445 | Val Recall: 0.4599 | Val F1: 0.4123\n"
     ]
    },
    {
     "name": "stderr",
     "output_type": "stream",
     "text": [
      "Epoch 3/5: 100%|██████████| 322/322 [01:26<00:00,  3.74it/s, loss=1.1958]\n"
     ]
    },
    {
     "name": "stdout",
     "output_type": "stream",
     "text": [
      "Epoch 3 | Train Loss: 1.0417 | Val Acc: 0.4829 | Val Prec: 0.4962 | Val Recall: 0.4829 | Val F1: 0.4215\n"
     ]
    },
    {
     "name": "stderr",
     "output_type": "stream",
     "text": [
      "Epoch 4/5: 100%|██████████| 322/322 [01:24<00:00,  3.81it/s, loss=0.6779]\n"
     ]
    },
    {
     "name": "stdout",
     "output_type": "stream",
     "text": [
      "Epoch 4 | Train Loss: 1.0239 | Val Acc: 0.4525 | Val Prec: 0.4455 | Val Recall: 0.4525 | Val F1: 0.4408\n"
     ]
    },
    {
     "name": "stderr",
     "output_type": "stream",
     "text": [
      "Epoch 5/5: 100%|██████████| 322/322 [01:25<00:00,  3.75it/s, loss=0.5822]\n"
     ]
    },
    {
     "name": "stdout",
     "output_type": "stream",
     "text": [
      "Epoch 5 | Train Loss: 0.9904 | Val Acc: 0.4535 | Val Prec: 0.4619 | Val Recall: 0.4535 | Val F1: 0.4496\n",
      "Best validation F1: 0.4215\n",
      "Checkpoint saved at epoch 4\n"
     ]
    },
    {
     "data": {
      "text/html": [],
      "text/plain": [
       "<IPython.core.display.HTML object>"
      ]
     },
     "metadata": {},
     "output_type": "display_data"
    },
    {
     "data": {
      "text/html": [
       "<br>    <style><br>        .wandb-row {<br>            display: flex;<br>            flex-direction: row;<br>            flex-wrap: wrap;<br>            justify-content: flex-start;<br>            width: 100%;<br>        }<br>        .wandb-col {<br>            display: flex;<br>            flex-direction: column;<br>            flex-basis: 100%;<br>            flex: 1;<br>            padding: 10px;<br>        }<br>    </style><br><div class=\"wandb-row\"><div class=\"wandb-col\"><h3>Run history:</h3><br/><table class=\"wandb\"><tr><td>epoch</td><td>▁▃▅▆█</td></tr><tr><td>train_loss</td><td>█▆▃▂▁</td></tr><tr><td>val_accuracy</td><td>▁▅█▅▅</td></tr><tr><td>val_f1</td><td>▁▆▆▇█</td></tr><tr><td>val_precision</td><td>▁▆█▆▇</td></tr><tr><td>val_recall</td><td>▁▅█▅▅</td></tr><tr><td>validation_accuracy</td><td>▁▅█▅▅</td></tr><tr><td>validation_f1</td><td>▁▆▆▇█</td></tr><tr><td>validation_precision</td><td>▁▆█▆▇</td></tr><tr><td>validation_recall</td><td>▁▅█▅▅</td></tr></table><br/></div><div class=\"wandb-col\"><h3>Run summary:</h3><br/><table class=\"wandb\"><tr><td>best_val_f1</td><td>0.42155</td></tr><tr><td>epoch</td><td>5</td></tr><tr><td>train_loss</td><td>0.99036</td></tr><tr><td>val_accuracy</td><td>0.4535</td></tr><tr><td>val_f1</td><td>0.44962</td></tr><tr><td>val_precision</td><td>0.46186</td></tr><tr><td>val_recall</td><td>0.4535</td></tr><tr><td>validation_accuracy</td><td>0.4535</td></tr><tr><td>validation_f1</td><td>0.44962</td></tr><tr><td>validation_precision</td><td>0.46186</td></tr><tr><td>validation_recall</td><td>0.4535</td></tr></table><br/></div></div>"
      ],
      "text/plain": [
       "<IPython.core.display.HTML object>"
      ]
     },
     "metadata": {},
     "output_type": "display_data"
    },
    {
     "data": {
      "text/html": [
       "You can sync this run to the cloud by running:<br><code>wandb sync d:\\OneDrive - chd.edu.cn\\Desktop\\毕业论文数据\\code\\STNet\\wandb\\offline-run-20250207_035242-1exlqsut<code>"
      ],
      "text/plain": [
       "<IPython.core.display.HTML object>"
      ]
     },
     "metadata": {},
     "output_type": "display_data"
    },
    {
     "data": {
      "text/html": [
       "Find logs at: <code>.\\wandb\\offline-run-20250207_035242-1exlqsut\\logs</code>"
      ],
      "text/plain": [
       "<IPython.core.display.HTML object>"
      ]
     },
     "metadata": {},
     "output_type": "display_data"
    },
    {
     "name": "stderr",
     "output_type": "stream",
     "text": [
      "\u001b[34m\u001b[1mwandb\u001b[0m: Agent Starting Run: rqx3nm83 with config:\n",
      "\u001b[34m\u001b[1mwandb\u001b[0m: \tbatch_size: 16\n",
      "\u001b[34m\u001b[1mwandb\u001b[0m: \tfc_dropout: 0.1\n",
      "\u001b[34m\u001b[1mwandb\u001b[0m: \tgraph_dropout: 1\n",
      "\u001b[34m\u001b[1mwandb\u001b[0m: \tgraph_num_head: 1\n",
      "\u001b[34m\u001b[1mwandb\u001b[0m: \thidden_dim: 16\n",
      "\u001b[34m\u001b[1mwandb\u001b[0m: \tlearning_rate: 0.001\n",
      "\u001b[34m\u001b[1mwandb\u001b[0m: \tlstm_bidirectional: True\n",
      "\u001b[34m\u001b[1mwandb\u001b[0m: \tlstm_hidden_dim: 16\n",
      "\u001b[34m\u001b[1mwandb\u001b[0m: \tlstm_num_layers: 1\n",
      "\u001b[34m\u001b[1mwandb\u001b[0m: \tnum_classes: 3\n",
      "\u001b[34m\u001b[1mwandb\u001b[0m: \tnum_layers: 2\n",
      "\u001b[34m\u001b[1mwandb\u001b[0m: \tnum_seed_points: 2\n",
      "\u001b[34m\u001b[1mwandb\u001b[0m: \tpool_ratio: 0.5\n",
      "\u001b[34m\u001b[1mwandb\u001b[0m: \tstep_size: 1\n",
      "\u001b[34m\u001b[1mwandb\u001b[0m: \tweight_decay: 0.0001\n",
      "\u001b[34m\u001b[1mwandb\u001b[0m: \twindow_size: 40\n"
     ]
    },
    {
     "data": {
      "text/html": [
       "Tracking run with wandb version 0.19.6"
      ],
      "text/plain": [
       "<IPython.core.display.HTML object>"
      ]
     },
     "metadata": {},
     "output_type": "display_data"
    },
    {
     "data": {
      "text/html": [
       "W&B syncing is set to <code>`offline`<code> in this directory.  <br>Run <code>`wandb online`<code> or set <code>WANDB_MODE=online<code> to enable cloud syncing."
      ],
      "text/plain": [
       "<IPython.core.display.HTML object>"
      ]
     },
     "metadata": {},
     "output_type": "display_data"
    },
    {
     "name": "stdout",
     "output_type": "stream",
     "text": [
      "{'batch_size': 16, 'fc_dropout': 0.1, 'graph_dropout': 1, 'graph_num_head': 1, 'hidden_dim': 16, 'learning_rate': 0.001, 'lstm_bidirectional': True, 'lstm_hidden_dim': 16, 'lstm_num_layers': 1, 'num_classes': 3, 'num_layers': 2, 'num_seed_points': 2, 'pool_ratio': 0.5, 'step_size': 1, 'weight_decay': 0.0001, 'window_size': 40}\n",
      "\n",
      "=== Training Scene: motor ===\n",
      "从缓存文件加载数据: ./dataset/cache/motor_40_1_dataset_aug_cache.pkl\n"
     ]
    },
    {
     "name": "stderr",
     "output_type": "stream",
     "text": [
      "Epoch 1/5: 100%|██████████| 315/315 [01:28<00:00,  3.55it/s, loss=1.0707]\n"
     ]
    },
    {
     "name": "stdout",
     "output_type": "stream",
     "text": [
      "Epoch 1 | Train Loss: 1.1918 | Val Acc: 0.3333 | Val Prec: 0.1211 | Val Recall: 0.3333 | Val F1: 0.1776\n"
     ]
    },
    {
     "name": "stderr",
     "output_type": "stream",
     "text": [
      "Epoch 2/5: 100%|██████████| 315/315 [01:26<00:00,  3.63it/s, loss=1.1276]\n"
     ]
    },
    {
     "name": "stdout",
     "output_type": "stream",
     "text": [
      "Epoch 2 | Train Loss: 1.1911 | Val Acc: 0.3333 | Val Prec: 0.1211 | Val Recall: 0.3333 | Val F1: 0.1776\n"
     ]
    },
    {
     "name": "stderr",
     "output_type": "stream",
     "text": [
      "Epoch 3/5: 100%|██████████| 315/315 [01:26<00:00,  3.65it/s, loss=1.4021]\n"
     ]
    },
    {
     "name": "stdout",
     "output_type": "stream",
     "text": [
      "Epoch 3 | Train Loss: 1.1851 | Val Acc: 0.3909 | Val Prec: 0.4395 | Val Recall: 0.3909 | Val F1: 0.3476\n"
     ]
    },
    {
     "name": "stderr",
     "output_type": "stream",
     "text": [
      "Epoch 4/5: 100%|██████████| 315/315 [01:27<00:00,  3.59it/s, loss=1.1912]\n"
     ]
    },
    {
     "name": "stdout",
     "output_type": "stream",
     "text": [
      "Epoch 4 | Train Loss: 1.1631 | Val Acc: 0.3644 | Val Prec: 0.3763 | Val Recall: 0.3644 | Val F1: 0.3343\n"
     ]
    },
    {
     "name": "stderr",
     "output_type": "stream",
     "text": [
      "Epoch 5/5: 100%|██████████| 315/315 [01:28<00:00,  3.57it/s, loss=1.1745]\n"
     ]
    },
    {
     "name": "stdout",
     "output_type": "stream",
     "text": [
      "Epoch 5 | Train Loss: 1.1304 | Val Acc: 0.4168 | Val Prec: 0.4670 | Val Recall: 0.4168 | Val F1: 0.4150\n",
      "Best validation F1: 0.4150\n",
      "Checkpoint saved at epoch 4\n"
     ]
    },
    {
     "data": {
      "text/html": [],
      "text/plain": [
       "<IPython.core.display.HTML object>"
      ]
     },
     "metadata": {},
     "output_type": "display_data"
    },
    {
     "data": {
      "text/html": [
       "<br>    <style><br>        .wandb-row {<br>            display: flex;<br>            flex-direction: row;<br>            flex-wrap: wrap;<br>            justify-content: flex-start;<br>            width: 100%;<br>        }<br>        .wandb-col {<br>            display: flex;<br>            flex-direction: column;<br>            flex-basis: 100%;<br>            flex: 1;<br>            padding: 10px;<br>        }<br>    </style><br><div class=\"wandb-row\"><div class=\"wandb-col\"><h3>Run history:</h3><br/><table class=\"wandb\"><tr><td>epoch</td><td>▁▃▅▆█</td></tr><tr><td>train_loss</td><td>██▇▅▁</td></tr><tr><td>val_accuracy</td><td>▁▁▆▄█</td></tr><tr><td>val_f1</td><td>▁▁▆▆█</td></tr><tr><td>val_precision</td><td>▁▁▇▆█</td></tr><tr><td>val_recall</td><td>▁▁▆▄█</td></tr><tr><td>validation_accuracy</td><td>▁▁▆▄█</td></tr><tr><td>validation_f1</td><td>▁▁▆▆█</td></tr><tr><td>validation_precision</td><td>▁▁▇▆█</td></tr><tr><td>validation_recall</td><td>▁▁▆▄█</td></tr></table><br/></div><div class=\"wandb-col\"><h3>Run summary:</h3><br/><table class=\"wandb\"><tr><td>best_val_f1</td><td>0.41499</td></tr><tr><td>epoch</td><td>5</td></tr><tr><td>train_loss</td><td>1.13043</td></tr><tr><td>val_accuracy</td><td>0.41679</td></tr><tr><td>val_f1</td><td>0.41499</td></tr><tr><td>val_precision</td><td>0.46698</td></tr><tr><td>val_recall</td><td>0.41679</td></tr><tr><td>validation_accuracy</td><td>0.41679</td></tr><tr><td>validation_f1</td><td>0.41499</td></tr><tr><td>validation_precision</td><td>0.46698</td></tr><tr><td>validation_recall</td><td>0.41679</td></tr></table><br/></div></div>"
      ],
      "text/plain": [
       "<IPython.core.display.HTML object>"
      ]
     },
     "metadata": {},
     "output_type": "display_data"
    },
    {
     "data": {
      "text/html": [
       "You can sync this run to the cloud by running:<br><code>wandb sync d:\\OneDrive - chd.edu.cn\\Desktop\\毕业论文数据\\code\\STNet\\wandb\\offline-run-20250207_040012-rqx3nm83<code>"
      ],
      "text/plain": [
       "<IPython.core.display.HTML object>"
      ]
     },
     "metadata": {},
     "output_type": "display_data"
    },
    {
     "data": {
      "text/html": [
       "Find logs at: <code>.\\wandb\\offline-run-20250207_040012-rqx3nm83\\logs</code>"
      ],
      "text/plain": [
       "<IPython.core.display.HTML object>"
      ]
     },
     "metadata": {},
     "output_type": "display_data"
    },
    {
     "name": "stderr",
     "output_type": "stream",
     "text": [
      "\u001b[34m\u001b[1mwandb\u001b[0m: Agent Starting Run: mz5tuakl with config:\n",
      "\u001b[34m\u001b[1mwandb\u001b[0m: \tbatch_size: 16\n",
      "\u001b[34m\u001b[1mwandb\u001b[0m: \tfc_dropout: 0.1\n",
      "\u001b[34m\u001b[1mwandb\u001b[0m: \tgraph_dropout: 1\n",
      "\u001b[34m\u001b[1mwandb\u001b[0m: \tgraph_num_head: 1\n",
      "\u001b[34m\u001b[1mwandb\u001b[0m: \thidden_dim: 16\n",
      "\u001b[34m\u001b[1mwandb\u001b[0m: \tlearning_rate: 0.001\n",
      "\u001b[34m\u001b[1mwandb\u001b[0m: \tlstm_bidirectional: True\n",
      "\u001b[34m\u001b[1mwandb\u001b[0m: \tlstm_hidden_dim: 16\n",
      "\u001b[34m\u001b[1mwandb\u001b[0m: \tlstm_num_layers: 1\n",
      "\u001b[34m\u001b[1mwandb\u001b[0m: \tnum_classes: 3\n",
      "\u001b[34m\u001b[1mwandb\u001b[0m: \tnum_layers: 2\n",
      "\u001b[34m\u001b[1mwandb\u001b[0m: \tnum_seed_points: 2\n",
      "\u001b[34m\u001b[1mwandb\u001b[0m: \tpool_ratio: 0.5\n",
      "\u001b[34m\u001b[1mwandb\u001b[0m: \tstep_size: 1\n",
      "\u001b[34m\u001b[1mwandb\u001b[0m: \tweight_decay: 0.001\n",
      "\u001b[34m\u001b[1mwandb\u001b[0m: \twindow_size: 10\n"
     ]
    },
    {
     "data": {
      "text/html": [
       "Tracking run with wandb version 0.19.6"
      ],
      "text/plain": [
       "<IPython.core.display.HTML object>"
      ]
     },
     "metadata": {},
     "output_type": "display_data"
    },
    {
     "data": {
      "text/html": [
       "W&B syncing is set to <code>`offline`<code> in this directory.  <br>Run <code>`wandb online`<code> or set <code>WANDB_MODE=online<code> to enable cloud syncing."
      ],
      "text/plain": [
       "<IPython.core.display.HTML object>"
      ]
     },
     "metadata": {},
     "output_type": "display_data"
    },
    {
     "name": "stdout",
     "output_type": "stream",
     "text": [
      "{'batch_size': 16, 'fc_dropout': 0.1, 'graph_dropout': 1, 'graph_num_head': 1, 'hidden_dim': 16, 'learning_rate': 0.001, 'lstm_bidirectional': True, 'lstm_hidden_dim': 16, 'lstm_num_layers': 1, 'num_classes': 3, 'num_layers': 2, 'num_seed_points': 2, 'pool_ratio': 0.5, 'step_size': 1, 'weight_decay': 0.001, 'window_size': 10}\n",
      "\n",
      "=== Training Scene: motor ===\n",
      "从缓存文件加载数据: ./dataset/cache/motor_10_1_dataset_aug_cache.pkl\n"
     ]
    },
    {
     "name": "stderr",
     "output_type": "stream",
     "text": [
      "Epoch 1/5: 100%|██████████| 336/336 [01:22<00:00,  4.05it/s, loss=1.1277]\n"
     ]
    },
    {
     "name": "stdout",
     "output_type": "stream",
     "text": [
      "Epoch 1 | Train Loss: 1.2057 | Val Acc: 0.3557 | Val Prec: 0.3453 | Val Recall: 0.3557 | Val F1: 0.3113\n"
     ]
    },
    {
     "name": "stderr",
     "output_type": "stream",
     "text": [
      "Epoch 2/5: 100%|██████████| 336/336 [01:18<00:00,  4.28it/s, loss=1.1423]\n"
     ]
    },
    {
     "name": "stdout",
     "output_type": "stream",
     "text": [
      "Epoch 2 | Train Loss: 1.1557 | Val Acc: 0.3782 | Val Prec: 0.4111 | Val Recall: 0.3782 | Val F1: 0.3404\n"
     ]
    },
    {
     "name": "stderr",
     "output_type": "stream",
     "text": [
      "Epoch 3/5: 100%|██████████| 336/336 [01:20<00:00,  4.15it/s, loss=1.0105]\n"
     ]
    },
    {
     "name": "stdout",
     "output_type": "stream",
     "text": [
      "Epoch 3 | Train Loss: 1.0971 | Val Acc: 0.4054 | Val Prec: 0.3969 | Val Recall: 0.4054 | Val F1: 0.3822\n"
     ]
    },
    {
     "name": "stderr",
     "output_type": "stream",
     "text": [
      "Epoch 4/5: 100%|██████████| 336/336 [01:19<00:00,  4.20it/s, loss=1.5974]\n"
     ]
    },
    {
     "name": "stdout",
     "output_type": "stream",
     "text": [
      "Epoch 4 | Train Loss: 1.0626 | Val Acc: 0.4166 | Val Prec: 0.3989 | Val Recall: 0.4166 | Val F1: 0.3844\n"
     ]
    },
    {
     "name": "stderr",
     "output_type": "stream",
     "text": [
      "Epoch 5/5: 100%|██████████| 336/336 [01:19<00:00,  4.22it/s, loss=0.8836]\n"
     ]
    },
    {
     "name": "stdout",
     "output_type": "stream",
     "text": [
      "Epoch 5 | Train Loss: 1.0476 | Val Acc: 0.4136 | Val Prec: 0.5670 | Val Recall: 0.4136 | Val F1: 0.3397\n",
      "Best validation F1: 0.3844\n",
      "Checkpoint saved at epoch 4\n"
     ]
    },
    {
     "data": {
      "text/html": [],
      "text/plain": [
       "<IPython.core.display.HTML object>"
      ]
     },
     "metadata": {},
     "output_type": "display_data"
    },
    {
     "data": {
      "text/html": [
       "<br>    <style><br>        .wandb-row {<br>            display: flex;<br>            flex-direction: row;<br>            flex-wrap: wrap;<br>            justify-content: flex-start;<br>            width: 100%;<br>        }<br>        .wandb-col {<br>            display: flex;<br>            flex-direction: column;<br>            flex-basis: 100%;<br>            flex: 1;<br>            padding: 10px;<br>        }<br>    </style><br><div class=\"wandb-row\"><div class=\"wandb-col\"><h3>Run history:</h3><br/><table class=\"wandb\"><tr><td>epoch</td><td>▁▃▅▆█</td></tr><tr><td>train_loss</td><td>█▆▃▂▁</td></tr><tr><td>val_accuracy</td><td>▁▄▇██</td></tr><tr><td>val_f1</td><td>▁▄██▄</td></tr><tr><td>val_precision</td><td>▁▃▃▃█</td></tr><tr><td>val_recall</td><td>▁▄▇██</td></tr><tr><td>validation_accuracy</td><td>▁▄▇██</td></tr><tr><td>validation_f1</td><td>▁▄██▄</td></tr><tr><td>validation_precision</td><td>▁▃▃▃█</td></tr><tr><td>validation_recall</td><td>▁▄▇██</td></tr></table><br/></div><div class=\"wandb-col\"><h3>Run summary:</h3><br/><table class=\"wandb\"><tr><td>best_val_f1</td><td>0.38435</td></tr><tr><td>epoch</td><td>5</td></tr><tr><td>train_loss</td><td>1.04756</td></tr><tr><td>val_accuracy</td><td>0.41361</td></tr><tr><td>val_f1</td><td>0.33975</td></tr><tr><td>val_precision</td><td>0.56697</td></tr><tr><td>val_recall</td><td>0.41361</td></tr><tr><td>validation_accuracy</td><td>0.41361</td></tr><tr><td>validation_f1</td><td>0.33975</td></tr><tr><td>validation_precision</td><td>0.56697</td></tr><tr><td>validation_recall</td><td>0.41361</td></tr></table><br/></div></div>"
      ],
      "text/plain": [
       "<IPython.core.display.HTML object>"
      ]
     },
     "metadata": {},
     "output_type": "display_data"
    },
    {
     "data": {
      "text/html": [
       "You can sync this run to the cloud by running:<br><code>wandb sync d:\\OneDrive - chd.edu.cn\\Desktop\\毕业论文数据\\code\\STNet\\wandb\\offline-run-20250207_040756-mz5tuakl<code>"
      ],
      "text/plain": [
       "<IPython.core.display.HTML object>"
      ]
     },
     "metadata": {},
     "output_type": "display_data"
    },
    {
     "data": {
      "text/html": [
       "Find logs at: <code>.\\wandb\\offline-run-20250207_040756-mz5tuakl\\logs</code>"
      ],
      "text/plain": [
       "<IPython.core.display.HTML object>"
      ]
     },
     "metadata": {},
     "output_type": "display_data"
    },
    {
     "name": "stderr",
     "output_type": "stream",
     "text": [
      "\u001b[34m\u001b[1mwandb\u001b[0m: Agent Starting Run: sm0le8eb with config:\n",
      "\u001b[34m\u001b[1mwandb\u001b[0m: \tbatch_size: 16\n",
      "\u001b[34m\u001b[1mwandb\u001b[0m: \tfc_dropout: 0.1\n",
      "\u001b[34m\u001b[1mwandb\u001b[0m: \tgraph_dropout: 1\n",
      "\u001b[34m\u001b[1mwandb\u001b[0m: \tgraph_num_head: 1\n",
      "\u001b[34m\u001b[1mwandb\u001b[0m: \thidden_dim: 16\n",
      "\u001b[34m\u001b[1mwandb\u001b[0m: \tlearning_rate: 0.001\n",
      "\u001b[34m\u001b[1mwandb\u001b[0m: \tlstm_bidirectional: True\n",
      "\u001b[34m\u001b[1mwandb\u001b[0m: \tlstm_hidden_dim: 16\n",
      "\u001b[34m\u001b[1mwandb\u001b[0m: \tlstm_num_layers: 1\n",
      "\u001b[34m\u001b[1mwandb\u001b[0m: \tnum_classes: 3\n",
      "\u001b[34m\u001b[1mwandb\u001b[0m: \tnum_layers: 2\n",
      "\u001b[34m\u001b[1mwandb\u001b[0m: \tnum_seed_points: 2\n",
      "\u001b[34m\u001b[1mwandb\u001b[0m: \tpool_ratio: 0.5\n",
      "\u001b[34m\u001b[1mwandb\u001b[0m: \tstep_size: 1\n",
      "\u001b[34m\u001b[1mwandb\u001b[0m: \tweight_decay: 0.001\n",
      "\u001b[34m\u001b[1mwandb\u001b[0m: \twindow_size: 20\n"
     ]
    },
    {
     "data": {
      "text/html": [
       "Tracking run with wandb version 0.19.6"
      ],
      "text/plain": [
       "<IPython.core.display.HTML object>"
      ]
     },
     "metadata": {},
     "output_type": "display_data"
    },
    {
     "data": {
      "text/html": [
       "W&B syncing is set to <code>`offline`<code> in this directory.  <br>Run <code>`wandb online`<code> or set <code>WANDB_MODE=online<code> to enable cloud syncing."
      ],
      "text/plain": [
       "<IPython.core.display.HTML object>"
      ]
     },
     "metadata": {},
     "output_type": "display_data"
    },
    {
     "name": "stdout",
     "output_type": "stream",
     "text": [
      "{'batch_size': 16, 'fc_dropout': 0.1, 'graph_dropout': 1, 'graph_num_head': 1, 'hidden_dim': 16, 'learning_rate': 0.001, 'lstm_bidirectional': True, 'lstm_hidden_dim': 16, 'lstm_num_layers': 1, 'num_classes': 3, 'num_layers': 2, 'num_seed_points': 2, 'pool_ratio': 0.5, 'step_size': 1, 'weight_decay': 0.001, 'window_size': 20}\n",
      "\n",
      "=== Training Scene: motor ===\n",
      "从缓存文件加载数据: ./dataset/cache/motor_20_1_dataset_aug_cache.pkl\n"
     ]
    },
    {
     "name": "stderr",
     "output_type": "stream",
     "text": [
      "Epoch 1/5: 100%|██████████| 329/329 [01:25<00:00,  3.85it/s, loss=1.2611]\n"
     ]
    },
    {
     "name": "stdout",
     "output_type": "stream",
     "text": [
      "Epoch 1 | Train Loss: 1.2041 | Val Acc: 0.3514 | Val Prec: 0.2720 | Val Recall: 0.3514 | Val F1: 0.2625\n"
     ]
    },
    {
     "name": "stderr",
     "output_type": "stream",
     "text": [
      "Epoch 2/5: 100%|██████████| 329/329 [01:23<00:00,  3.95it/s, loss=0.6674]\n"
     ]
    },
    {
     "name": "stdout",
     "output_type": "stream",
     "text": [
      "Epoch 2 | Train Loss: 1.1423 | Val Acc: 0.3939 | Val Prec: 0.4247 | Val Recall: 0.3939 | Val F1: 0.3774\n"
     ]
    },
    {
     "name": "stderr",
     "output_type": "stream",
     "text": [
      "Epoch 3/5: 100%|██████████| 329/329 [01:24<00:00,  3.90it/s, loss=1.0172]\n"
     ]
    },
    {
     "name": "stdout",
     "output_type": "stream",
     "text": [
      "Epoch 3 | Train Loss: 1.0667 | Val Acc: 0.4236 | Val Prec: 0.4462 | Val Recall: 0.4236 | Val F1: 0.4261\n"
     ]
    },
    {
     "name": "stderr",
     "output_type": "stream",
     "text": [
      "Epoch 4/5: 100%|██████████| 329/329 [01:24<00:00,  3.90it/s, loss=1.1067]\n"
     ]
    },
    {
     "name": "stdout",
     "output_type": "stream",
     "text": [
      "Epoch 4 | Train Loss: 1.0171 | Val Acc: 0.4451 | Val Prec: 0.4309 | Val Recall: 0.4451 | Val F1: 0.4181\n"
     ]
    },
    {
     "name": "stderr",
     "output_type": "stream",
     "text": [
      "Epoch 5/5: 100%|██████████| 329/329 [01:23<00:00,  3.96it/s, loss=1.0121]\n"
     ]
    },
    {
     "name": "stdout",
     "output_type": "stream",
     "text": [
      "Epoch 5 | Train Loss: 0.9748 | Val Acc: 0.4689 | Val Prec: 0.4671 | Val Recall: 0.4689 | Val F1: 0.4458\n",
      "Best validation F1: 0.4458\n",
      "Checkpoint saved at epoch 4\n"
     ]
    },
    {
     "data": {
      "text/html": [],
      "text/plain": [
       "<IPython.core.display.HTML object>"
      ]
     },
     "metadata": {},
     "output_type": "display_data"
    },
    {
     "data": {
      "text/html": [
       "<br>    <style><br>        .wandb-row {<br>            display: flex;<br>            flex-direction: row;<br>            flex-wrap: wrap;<br>            justify-content: flex-start;<br>            width: 100%;<br>        }<br>        .wandb-col {<br>            display: flex;<br>            flex-direction: column;<br>            flex-basis: 100%;<br>            flex: 1;<br>            padding: 10px;<br>        }<br>    </style><br><div class=\"wandb-row\"><div class=\"wandb-col\"><h3>Run history:</h3><br/><table class=\"wandb\"><tr><td>epoch</td><td>▁▃▅▆█</td></tr><tr><td>train_loss</td><td>█▆▄▂▁</td></tr><tr><td>val_accuracy</td><td>▁▄▅▇█</td></tr><tr><td>val_f1</td><td>▁▅▇▇█</td></tr><tr><td>val_precision</td><td>▁▆▇▇█</td></tr><tr><td>val_recall</td><td>▁▄▅▇█</td></tr><tr><td>validation_accuracy</td><td>▁▄▅▇█</td></tr><tr><td>validation_f1</td><td>▁▅▇▇█</td></tr><tr><td>validation_precision</td><td>▁▆▇▇█</td></tr><tr><td>validation_recall</td><td>▁▄▅▇█</td></tr></table><br/></div><div class=\"wandb-col\"><h3>Run summary:</h3><br/><table class=\"wandb\"><tr><td>best_val_f1</td><td>0.44583</td></tr><tr><td>epoch</td><td>5</td></tr><tr><td>train_loss</td><td>0.97485</td></tr><tr><td>val_accuracy</td><td>0.46889</td></tr><tr><td>val_f1</td><td>0.44583</td></tr><tr><td>val_precision</td><td>0.46713</td></tr><tr><td>val_recall</td><td>0.46889</td></tr><tr><td>validation_accuracy</td><td>0.46889</td></tr><tr><td>validation_f1</td><td>0.44583</td></tr><tr><td>validation_precision</td><td>0.46713</td></tr><tr><td>validation_recall</td><td>0.46889</td></tr></table><br/></div></div>"
      ],
      "text/plain": [
       "<IPython.core.display.HTML object>"
      ]
     },
     "metadata": {},
     "output_type": "display_data"
    },
    {
     "data": {
      "text/html": [
       "You can sync this run to the cloud by running:<br><code>wandb sync d:\\OneDrive - chd.edu.cn\\Desktop\\毕业论文数据\\code\\STNet\\wandb\\offline-run-20250207_041456-sm0le8eb<code>"
      ],
      "text/plain": [
       "<IPython.core.display.HTML object>"
      ]
     },
     "metadata": {},
     "output_type": "display_data"
    },
    {
     "data": {
      "text/html": [
       "Find logs at: <code>.\\wandb\\offline-run-20250207_041456-sm0le8eb\\logs</code>"
      ],
      "text/plain": [
       "<IPython.core.display.HTML object>"
      ]
     },
     "metadata": {},
     "output_type": "display_data"
    },
    {
     "name": "stderr",
     "output_type": "stream",
     "text": [
      "\u001b[34m\u001b[1mwandb\u001b[0m: Agent Starting Run: 48c7uvvo with config:\n",
      "\u001b[34m\u001b[1mwandb\u001b[0m: \tbatch_size: 16\n",
      "\u001b[34m\u001b[1mwandb\u001b[0m: \tfc_dropout: 0.1\n",
      "\u001b[34m\u001b[1mwandb\u001b[0m: \tgraph_dropout: 1\n",
      "\u001b[34m\u001b[1mwandb\u001b[0m: \tgraph_num_head: 1\n",
      "\u001b[34m\u001b[1mwandb\u001b[0m: \thidden_dim: 16\n",
      "\u001b[34m\u001b[1mwandb\u001b[0m: \tlearning_rate: 0.001\n",
      "\u001b[34m\u001b[1mwandb\u001b[0m: \tlstm_bidirectional: True\n",
      "\u001b[34m\u001b[1mwandb\u001b[0m: \tlstm_hidden_dim: 16\n",
      "\u001b[34m\u001b[1mwandb\u001b[0m: \tlstm_num_layers: 1\n",
      "\u001b[34m\u001b[1mwandb\u001b[0m: \tnum_classes: 3\n",
      "\u001b[34m\u001b[1mwandb\u001b[0m: \tnum_layers: 2\n",
      "\u001b[34m\u001b[1mwandb\u001b[0m: \tnum_seed_points: 2\n",
      "\u001b[34m\u001b[1mwandb\u001b[0m: \tpool_ratio: 0.5\n",
      "\u001b[34m\u001b[1mwandb\u001b[0m: \tstep_size: 1\n",
      "\u001b[34m\u001b[1mwandb\u001b[0m: \tweight_decay: 0.01\n",
      "\u001b[34m\u001b[1mwandb\u001b[0m: \twindow_size: 10\n"
     ]
    },
    {
     "data": {
      "text/html": [
       "Tracking run with wandb version 0.19.6"
      ],
      "text/plain": [
       "<IPython.core.display.HTML object>"
      ]
     },
     "metadata": {},
     "output_type": "display_data"
    },
    {
     "data": {
      "text/html": [
       "W&B syncing is set to <code>`offline`<code> in this directory.  <br>Run <code>`wandb online`<code> or set <code>WANDB_MODE=online<code> to enable cloud syncing."
      ],
      "text/plain": [
       "<IPython.core.display.HTML object>"
      ]
     },
     "metadata": {},
     "output_type": "display_data"
    },
    {
     "name": "stdout",
     "output_type": "stream",
     "text": [
      "{'batch_size': 16, 'fc_dropout': 0.1, 'graph_dropout': 1, 'graph_num_head': 1, 'hidden_dim': 16, 'learning_rate': 0.001, 'lstm_bidirectional': True, 'lstm_hidden_dim': 16, 'lstm_num_layers': 1, 'num_classes': 3, 'num_layers': 2, 'num_seed_points': 2, 'pool_ratio': 0.5, 'step_size': 1, 'weight_decay': 0.01, 'window_size': 10}\n",
      "\n",
      "=== Training Scene: motor ===\n",
      "从缓存文件加载数据: ./dataset/cache/motor_10_1_dataset_aug_cache.pkl\n"
     ]
    },
    {
     "name": "stderr",
     "output_type": "stream",
     "text": [
      "Epoch 1/5: 100%|██████████| 336/336 [01:22<00:00,  4.07it/s, loss=1.1538]\n"
     ]
    },
    {
     "name": "stdout",
     "output_type": "stream",
     "text": [
      "Epoch 1 | Train Loss: 1.2046 | Val Acc: 0.3422 | Val Prec: 0.2650 | Val Recall: 0.3422 | Val F1: 0.2465\n"
     ]
    },
    {
     "name": "stderr",
     "output_type": "stream",
     "text": [
      "Epoch 2/5: 100%|██████████| 336/336 [01:20<00:00,  4.20it/s, loss=0.9300]\n"
     ]
    },
    {
     "name": "stdout",
     "output_type": "stream",
     "text": [
      "Epoch 2 | Train Loss: 1.1318 | Val Acc: 0.3527 | Val Prec: 0.4342 | Val Recall: 0.3527 | Val F1: 0.2802\n"
     ]
    },
    {
     "name": "stderr",
     "output_type": "stream",
     "text": [
      "Epoch 3/5: 100%|██████████| 336/336 [01:21<00:00,  4.13it/s, loss=1.1209]\n"
     ]
    },
    {
     "name": "stdout",
     "output_type": "stream",
     "text": [
      "Epoch 3 | Train Loss: 1.0889 | Val Acc: 0.4356 | Val Prec: 0.4704 | Val Recall: 0.4356 | Val F1: 0.4021\n"
     ]
    },
    {
     "name": "stderr",
     "output_type": "stream",
     "text": [
      "Epoch 4/5: 100%|██████████| 336/336 [01:19<00:00,  4.21it/s, loss=0.8601]\n"
     ]
    },
    {
     "name": "stdout",
     "output_type": "stream",
     "text": [
      "Epoch 4 | Train Loss: 1.0607 | Val Acc: 0.4318 | Val Prec: 0.4578 | Val Recall: 0.4318 | Val F1: 0.3815\n"
     ]
    },
    {
     "name": "stderr",
     "output_type": "stream",
     "text": [
      "Epoch 5/5: 100%|██████████| 336/336 [01:20<00:00,  4.19it/s, loss=1.6175]\n"
     ]
    },
    {
     "name": "stdout",
     "output_type": "stream",
     "text": [
      "Epoch 5 | Train Loss: 1.0276 | Val Acc: 0.4150 | Val Prec: 0.4441 | Val Recall: 0.4150 | Val F1: 0.3861\n",
      "Best validation F1: 0.4021\n",
      "Checkpoint saved at epoch 4\n"
     ]
    },
    {
     "data": {
      "text/html": [],
      "text/plain": [
       "<IPython.core.display.HTML object>"
      ]
     },
     "metadata": {},
     "output_type": "display_data"
    },
    {
     "data": {
      "text/html": [
       "<br>    <style><br>        .wandb-row {<br>            display: flex;<br>            flex-direction: row;<br>            flex-wrap: wrap;<br>            justify-content: flex-start;<br>            width: 100%;<br>        }<br>        .wandb-col {<br>            display: flex;<br>            flex-direction: column;<br>            flex-basis: 100%;<br>            flex: 1;<br>            padding: 10px;<br>        }<br>    </style><br><div class=\"wandb-row\"><div class=\"wandb-col\"><h3>Run history:</h3><br/><table class=\"wandb\"><tr><td>epoch</td><td>▁▃▅▆█</td></tr><tr><td>train_loss</td><td>█▅▃▂▁</td></tr><tr><td>val_accuracy</td><td>▁▂██▆</td></tr><tr><td>val_f1</td><td>▁▃█▇▇</td></tr><tr><td>val_precision</td><td>▁▇██▇</td></tr><tr><td>val_recall</td><td>▁▂██▆</td></tr><tr><td>validation_accuracy</td><td>▁▂██▆</td></tr><tr><td>validation_f1</td><td>▁▃█▇▇</td></tr><tr><td>validation_precision</td><td>▁▇██▇</td></tr><tr><td>validation_recall</td><td>▁▂██▆</td></tr></table><br/></div><div class=\"wandb-col\"><h3>Run summary:</h3><br/><table class=\"wandb\"><tr><td>best_val_f1</td><td>0.4021</td></tr><tr><td>epoch</td><td>5</td></tr><tr><td>train_loss</td><td>1.0276</td></tr><tr><td>val_accuracy</td><td>0.41498</td></tr><tr><td>val_f1</td><td>0.38608</td></tr><tr><td>val_precision</td><td>0.44407</td></tr><tr><td>val_recall</td><td>0.41498</td></tr><tr><td>validation_accuracy</td><td>0.41498</td></tr><tr><td>validation_f1</td><td>0.38608</td></tr><tr><td>validation_precision</td><td>0.44407</td></tr><tr><td>validation_recall</td><td>0.41498</td></tr></table><br/></div></div>"
      ],
      "text/plain": [
       "<IPython.core.display.HTML object>"
      ]
     },
     "metadata": {},
     "output_type": "display_data"
    },
    {
     "data": {
      "text/html": [
       "You can sync this run to the cloud by running:<br><code>wandb sync d:\\OneDrive - chd.edu.cn\\Desktop\\毕业论文数据\\code\\STNet\\wandb\\offline-run-20250207_042217-48c7uvvo<code>"
      ],
      "text/plain": [
       "<IPython.core.display.HTML object>"
      ]
     },
     "metadata": {},
     "output_type": "display_data"
    },
    {
     "data": {
      "text/html": [
       "Find logs at: <code>.\\wandb\\offline-run-20250207_042217-48c7uvvo\\logs</code>"
      ],
      "text/plain": [
       "<IPython.core.display.HTML object>"
      ]
     },
     "metadata": {},
     "output_type": "display_data"
    },
    {
     "name": "stderr",
     "output_type": "stream",
     "text": [
      "\u001b[34m\u001b[1mwandb\u001b[0m: Sweep Agent: Waiting for job.\n",
      "\u001b[34m\u001b[1mwandb\u001b[0m: Job received.\n",
      "\u001b[34m\u001b[1mwandb\u001b[0m: Agent Starting Run: 9iohzw5v with config:\n",
      "\u001b[34m\u001b[1mwandb\u001b[0m: \tbatch_size: 16\n",
      "\u001b[34m\u001b[1mwandb\u001b[0m: \tfc_dropout: 0.1\n",
      "\u001b[34m\u001b[1mwandb\u001b[0m: \tgraph_dropout: 1\n",
      "\u001b[34m\u001b[1mwandb\u001b[0m: \tgraph_num_head: 1\n",
      "\u001b[34m\u001b[1mwandb\u001b[0m: \thidden_dim: 16\n",
      "\u001b[34m\u001b[1mwandb\u001b[0m: \tlearning_rate: 0.001\n",
      "\u001b[34m\u001b[1mwandb\u001b[0m: \tlstm_bidirectional: True\n",
      "\u001b[34m\u001b[1mwandb\u001b[0m: \tlstm_hidden_dim: 16\n",
      "\u001b[34m\u001b[1mwandb\u001b[0m: \tlstm_num_layers: 1\n",
      "\u001b[34m\u001b[1mwandb\u001b[0m: \tnum_classes: 3\n",
      "\u001b[34m\u001b[1mwandb\u001b[0m: \tnum_layers: 2\n",
      "\u001b[34m\u001b[1mwandb\u001b[0m: \tnum_seed_points: 2\n",
      "\u001b[34m\u001b[1mwandb\u001b[0m: \tpool_ratio: 0.5\n",
      "\u001b[34m\u001b[1mwandb\u001b[0m: \tstep_size: 1\n",
      "\u001b[34m\u001b[1mwandb\u001b[0m: \tweight_decay: 0.001\n",
      "\u001b[34m\u001b[1mwandb\u001b[0m: \twindow_size: 30\n"
     ]
    },
    {
     "data": {
      "text/html": [
       "Tracking run with wandb version 0.19.6"
      ],
      "text/plain": [
       "<IPython.core.display.HTML object>"
      ]
     },
     "metadata": {},
     "output_type": "display_data"
    },
    {
     "data": {
      "text/html": [
       "W&B syncing is set to <code>`offline`<code> in this directory.  <br>Run <code>`wandb online`<code> or set <code>WANDB_MODE=online<code> to enable cloud syncing."
      ],
      "text/plain": [
       "<IPython.core.display.HTML object>"
      ]
     },
     "metadata": {},
     "output_type": "display_data"
    },
    {
     "name": "stdout",
     "output_type": "stream",
     "text": [
      "{'batch_size': 16, 'fc_dropout': 0.1, 'graph_dropout': 1, 'graph_num_head': 1, 'hidden_dim': 16, 'learning_rate': 0.001, 'lstm_bidirectional': True, 'lstm_hidden_dim': 16, 'lstm_num_layers': 1, 'num_classes': 3, 'num_layers': 2, 'num_seed_points': 2, 'pool_ratio': 0.5, 'step_size': 1, 'weight_decay': 0.001, 'window_size': 30}\n",
      "\n",
      "=== Training Scene: motor ===\n",
      "从缓存文件加载数据: ./dataset/cache/motor_30_1_dataset_aug_cache.pkl\n"
     ]
    },
    {
     "name": "stderr",
     "output_type": "stream",
     "text": [
      "Epoch 1/5: 100%|██████████| 322/322 [01:26<00:00,  3.74it/s, loss=1.0082]\n"
     ]
    },
    {
     "name": "stdout",
     "output_type": "stream",
     "text": [
      "Epoch 1 | Train Loss: 1.1794 | Val Acc: 0.3614 | Val Prec: 0.5590 | Val Recall: 0.3614 | Val F1: 0.3276\n"
     ]
    },
    {
     "name": "stderr",
     "output_type": "stream",
     "text": [
      "Epoch 2/5: 100%|██████████| 322/322 [01:25<00:00,  3.77it/s, loss=1.1349]\n"
     ]
    },
    {
     "name": "stdout",
     "output_type": "stream",
     "text": [
      "Epoch 2 | Train Loss: 1.0725 | Val Acc: 0.4418 | Val Prec: 0.4332 | Val Recall: 0.4418 | Val F1: 0.4358\n"
     ]
    },
    {
     "name": "stderr",
     "output_type": "stream",
     "text": [
      "Epoch 3/5: 100%|██████████| 322/322 [01:25<00:00,  3.78it/s, loss=1.0464]\n"
     ]
    },
    {
     "name": "stdout",
     "output_type": "stream",
     "text": [
      "Epoch 3 | Train Loss: 1.0241 | Val Acc: 0.4661 | Val Prec: 0.5259 | Val Recall: 0.4661 | Val F1: 0.4092\n"
     ]
    },
    {
     "name": "stderr",
     "output_type": "stream",
     "text": [
      "Epoch 4/5: 100%|██████████| 322/322 [01:24<00:00,  3.80it/s, loss=1.1864]\n"
     ]
    },
    {
     "name": "stdout",
     "output_type": "stream",
     "text": [
      "Epoch 4 | Train Loss: 0.9842 | Val Acc: 0.4712 | Val Prec: 0.5389 | Val Recall: 0.4712 | Val F1: 0.4567\n"
     ]
    },
    {
     "name": "stderr",
     "output_type": "stream",
     "text": [
      "Epoch 5/5: 100%|██████████| 322/322 [01:26<00:00,  3.71it/s, loss=0.9049]\n"
     ]
    },
    {
     "name": "stdout",
     "output_type": "stream",
     "text": [
      "Epoch 5 | Train Loss: 0.9621 | Val Acc: 0.4339 | Val Prec: 0.5583 | Val Recall: 0.4339 | Val F1: 0.4287\n",
      "Best validation F1: 0.4567\n",
      "Checkpoint saved at epoch 4\n"
     ]
    },
    {
     "data": {
      "text/html": [],
      "text/plain": [
       "<IPython.core.display.HTML object>"
      ]
     },
     "metadata": {},
     "output_type": "display_data"
    },
    {
     "data": {
      "text/html": [
       "<br>    <style><br>        .wandb-row {<br>            display: flex;<br>            flex-direction: row;<br>            flex-wrap: wrap;<br>            justify-content: flex-start;<br>            width: 100%;<br>        }<br>        .wandb-col {<br>            display: flex;<br>            flex-direction: column;<br>            flex-basis: 100%;<br>            flex: 1;<br>            padding: 10px;<br>        }<br>    </style><br><div class=\"wandb-row\"><div class=\"wandb-col\"><h3>Run history:</h3><br/><table class=\"wandb\"><tr><td>epoch</td><td>▁▃▅▆█</td></tr><tr><td>train_loss</td><td>█▅▃▂▁</td></tr><tr><td>val_accuracy</td><td>▁▆██▆</td></tr><tr><td>val_f1</td><td>▁▇▅█▆</td></tr><tr><td>val_precision</td><td>█▁▆▇█</td></tr><tr><td>val_recall</td><td>▁▆██▆</td></tr><tr><td>validation_accuracy</td><td>▁▆██▆</td></tr><tr><td>validation_f1</td><td>▁▇▅█▆</td></tr><tr><td>validation_precision</td><td>█▁▆▇█</td></tr><tr><td>validation_recall</td><td>▁▆██▆</td></tr></table><br/></div><div class=\"wandb-col\"><h3>Run summary:</h3><br/><table class=\"wandb\"><tr><td>best_val_f1</td><td>0.45665</td></tr><tr><td>epoch</td><td>5</td></tr><tr><td>train_loss</td><td>0.96209</td></tr><tr><td>val_accuracy</td><td>0.43394</td></tr><tr><td>val_f1</td><td>0.42874</td></tr><tr><td>val_precision</td><td>0.55834</td></tr><tr><td>val_recall</td><td>0.43394</td></tr><tr><td>validation_accuracy</td><td>0.43394</td></tr><tr><td>validation_f1</td><td>0.42874</td></tr><tr><td>validation_precision</td><td>0.55834</td></tr><tr><td>validation_recall</td><td>0.43394</td></tr></table><br/></div></div>"
      ],
      "text/plain": [
       "<IPython.core.display.HTML object>"
      ]
     },
     "metadata": {},
     "output_type": "display_data"
    },
    {
     "data": {
      "text/html": [
       "You can sync this run to the cloud by running:<br><code>wandb sync d:\\OneDrive - chd.edu.cn\\Desktop\\毕业论文数据\\code\\STNet\\wandb\\offline-run-20250207_042927-9iohzw5v<code>"
      ],
      "text/plain": [
       "<IPython.core.display.HTML object>"
      ]
     },
     "metadata": {},
     "output_type": "display_data"
    },
    {
     "data": {
      "text/html": [
       "Find logs at: <code>.\\wandb\\offline-run-20250207_042927-9iohzw5v\\logs</code>"
      ],
      "text/plain": [
       "<IPython.core.display.HTML object>"
      ]
     },
     "metadata": {},
     "output_type": "display_data"
    },
    {
     "name": "stderr",
     "output_type": "stream",
     "text": [
      "\u001b[34m\u001b[1mwandb\u001b[0m: Agent Starting Run: i2bv1w9m with config:\n",
      "\u001b[34m\u001b[1mwandb\u001b[0m: \tbatch_size: 16\n",
      "\u001b[34m\u001b[1mwandb\u001b[0m: \tfc_dropout: 0.1\n",
      "\u001b[34m\u001b[1mwandb\u001b[0m: \tgraph_dropout: 1\n",
      "\u001b[34m\u001b[1mwandb\u001b[0m: \tgraph_num_head: 1\n",
      "\u001b[34m\u001b[1mwandb\u001b[0m: \thidden_dim: 16\n",
      "\u001b[34m\u001b[1mwandb\u001b[0m: \tlearning_rate: 0.001\n",
      "\u001b[34m\u001b[1mwandb\u001b[0m: \tlstm_bidirectional: True\n",
      "\u001b[34m\u001b[1mwandb\u001b[0m: \tlstm_hidden_dim: 16\n",
      "\u001b[34m\u001b[1mwandb\u001b[0m: \tlstm_num_layers: 1\n",
      "\u001b[34m\u001b[1mwandb\u001b[0m: \tnum_classes: 3\n",
      "\u001b[34m\u001b[1mwandb\u001b[0m: \tnum_layers: 2\n",
      "\u001b[34m\u001b[1mwandb\u001b[0m: \tnum_seed_points: 2\n",
      "\u001b[34m\u001b[1mwandb\u001b[0m: \tpool_ratio: 0.5\n",
      "\u001b[34m\u001b[1mwandb\u001b[0m: \tstep_size: 1\n",
      "\u001b[34m\u001b[1mwandb\u001b[0m: \tweight_decay: 0.0001\n",
      "\u001b[34m\u001b[1mwandb\u001b[0m: \twindow_size: 10\n"
     ]
    },
    {
     "data": {
      "text/html": [
       "Tracking run with wandb version 0.19.6"
      ],
      "text/plain": [
       "<IPython.core.display.HTML object>"
      ]
     },
     "metadata": {},
     "output_type": "display_data"
    },
    {
     "data": {
      "text/html": [
       "W&B syncing is set to <code>`offline`<code> in this directory.  <br>Run <code>`wandb online`<code> or set <code>WANDB_MODE=online<code> to enable cloud syncing."
      ],
      "text/plain": [
       "<IPython.core.display.HTML object>"
      ]
     },
     "metadata": {},
     "output_type": "display_data"
    },
    {
     "name": "stdout",
     "output_type": "stream",
     "text": [
      "{'batch_size': 16, 'fc_dropout': 0.1, 'graph_dropout': 1, 'graph_num_head': 1, 'hidden_dim': 16, 'learning_rate': 0.001, 'lstm_bidirectional': True, 'lstm_hidden_dim': 16, 'lstm_num_layers': 1, 'num_classes': 3, 'num_layers': 2, 'num_seed_points': 2, 'pool_ratio': 0.5, 'step_size': 1, 'weight_decay': 0.0001, 'window_size': 10}\n",
      "\n",
      "=== Training Scene: motor ===\n",
      "从缓存文件加载数据: ./dataset/cache/motor_10_1_dataset_aug_cache.pkl\n"
     ]
    },
    {
     "name": "stderr",
     "output_type": "stream",
     "text": [
      "Epoch 1/5: 100%|██████████| 336/336 [01:20<00:00,  4.18it/s, loss=1.1787]\n"
     ]
    },
    {
     "name": "stdout",
     "output_type": "stream",
     "text": [
      "Epoch 1 | Train Loss: 1.2062 | Val Acc: 0.3333 | Val Prec: 0.1190 | Val Recall: 0.3333 | Val F1: 0.1754\n"
     ]
    },
    {
     "name": "stderr",
     "output_type": "stream",
     "text": [
      "Epoch 2/5: 100%|██████████| 336/336 [01:19<00:00,  4.22it/s, loss=2.5909]\n"
     ]
    },
    {
     "name": "stdout",
     "output_type": "stream",
     "text": [
      "Epoch 2 | Train Loss: 1.1992 | Val Acc: 0.3879 | Val Prec: 0.2684 | Val Recall: 0.3879 | Val F1: 0.3054\n"
     ]
    },
    {
     "name": "stderr",
     "output_type": "stream",
     "text": [
      "Epoch 3/5: 100%|██████████| 336/336 [01:20<00:00,  4.19it/s, loss=1.0002]\n"
     ]
    },
    {
     "name": "stdout",
     "output_type": "stream",
     "text": [
      "Epoch 3 | Train Loss: 1.1527 | Val Acc: 0.3682 | Val Prec: 0.5009 | Val Recall: 0.3682 | Val F1: 0.2529\n"
     ]
    },
    {
     "name": "stderr",
     "output_type": "stream",
     "text": [
      "Epoch 4/5: 100%|██████████| 336/336 [01:19<00:00,  4.22it/s, loss=0.9902]\n"
     ]
    },
    {
     "name": "stdout",
     "output_type": "stream",
     "text": [
      "Epoch 4 | Train Loss: 1.1032 | Val Acc: 0.3976 | Val Prec: 0.4286 | Val Recall: 0.3976 | Val F1: 0.3972\n"
     ]
    },
    {
     "name": "stderr",
     "output_type": "stream",
     "text": [
      "Epoch 5/5: 100%|██████████| 336/336 [01:19<00:00,  4.24it/s, loss=0.8834]\n"
     ]
    },
    {
     "name": "stdout",
     "output_type": "stream",
     "text": [
      "Epoch 5 | Train Loss: 1.0518 | Val Acc: 0.4140 | Val Prec: 0.4099 | Val Recall: 0.4140 | Val F1: 0.3797\n",
      "Best validation F1: 0.3797\n",
      "Checkpoint saved at epoch 4\n"
     ]
    },
    {
     "data": {
      "text/html": [],
      "text/plain": [
       "<IPython.core.display.HTML object>"
      ]
     },
     "metadata": {},
     "output_type": "display_data"
    },
    {
     "data": {
      "text/html": [
       "<br>    <style><br>        .wandb-row {<br>            display: flex;<br>            flex-direction: row;<br>            flex-wrap: wrap;<br>            justify-content: flex-start;<br>            width: 100%;<br>        }<br>        .wandb-col {<br>            display: flex;<br>            flex-direction: column;<br>            flex-basis: 100%;<br>            flex: 1;<br>            padding: 10px;<br>        }<br>    </style><br><div class=\"wandb-row\"><div class=\"wandb-col\"><h3>Run history:</h3><br/><table class=\"wandb\"><tr><td>epoch</td><td>▁▃▅▆█</td></tr><tr><td>train_loss</td><td>██▆▃▁</td></tr><tr><td>val_accuracy</td><td>▁▆▄▇█</td></tr><tr><td>val_f1</td><td>▁▅▃█▇</td></tr><tr><td>val_precision</td><td>▁▄█▇▆</td></tr><tr><td>val_recall</td><td>▁▆▄▇█</td></tr><tr><td>validation_accuracy</td><td>▁▆▄▇█</td></tr><tr><td>validation_f1</td><td>▁▅▃█▇</td></tr><tr><td>validation_precision</td><td>▁▄█▇▆</td></tr><tr><td>validation_recall</td><td>▁▆▄▇█</td></tr></table><br/></div><div class=\"wandb-col\"><h3>Run summary:</h3><br/><table class=\"wandb\"><tr><td>best_val_f1</td><td>0.37968</td></tr><tr><td>epoch</td><td>5</td></tr><tr><td>train_loss</td><td>1.05184</td></tr><tr><td>val_accuracy</td><td>0.41397</td></tr><tr><td>val_f1</td><td>0.37968</td></tr><tr><td>val_precision</td><td>0.40988</td></tr><tr><td>val_recall</td><td>0.41397</td></tr><tr><td>validation_accuracy</td><td>0.41397</td></tr><tr><td>validation_f1</td><td>0.37968</td></tr><tr><td>validation_precision</td><td>0.40988</td></tr><tr><td>validation_recall</td><td>0.41397</td></tr></table><br/></div></div>"
      ],
      "text/plain": [
       "<IPython.core.display.HTML object>"
      ]
     },
     "metadata": {},
     "output_type": "display_data"
    },
    {
     "data": {
      "text/html": [
       "You can sync this run to the cloud by running:<br><code>wandb sync d:\\OneDrive - chd.edu.cn\\Desktop\\毕业论文数据\\code\\STNet\\wandb\\offline-run-20250207_043700-i2bv1w9m<code>"
      ],
      "text/plain": [
       "<IPython.core.display.HTML object>"
      ]
     },
     "metadata": {},
     "output_type": "display_data"
    },
    {
     "data": {
      "text/html": [
       "Find logs at: <code>.\\wandb\\offline-run-20250207_043700-i2bv1w9m\\logs</code>"
      ],
      "text/plain": [
       "<IPython.core.display.HTML object>"
      ]
     },
     "metadata": {},
     "output_type": "display_data"
    },
    {
     "name": "stderr",
     "output_type": "stream",
     "text": [
      "\u001b[34m\u001b[1mwandb\u001b[0m: Sweep Agent: Waiting for job.\n",
      "\u001b[34m\u001b[1mwandb\u001b[0m: Job received.\n",
      "\u001b[34m\u001b[1mwandb\u001b[0m: Agent Starting Run: idf5rv2d with config:\n",
      "\u001b[34m\u001b[1mwandb\u001b[0m: \tbatch_size: 16\n",
      "\u001b[34m\u001b[1mwandb\u001b[0m: \tfc_dropout: 0.1\n",
      "\u001b[34m\u001b[1mwandb\u001b[0m: \tgraph_dropout: 1\n",
      "\u001b[34m\u001b[1mwandb\u001b[0m: \tgraph_num_head: 1\n",
      "\u001b[34m\u001b[1mwandb\u001b[0m: \thidden_dim: 16\n",
      "\u001b[34m\u001b[1mwandb\u001b[0m: \tlearning_rate: 0.001\n",
      "\u001b[34m\u001b[1mwandb\u001b[0m: \tlstm_bidirectional: True\n",
      "\u001b[34m\u001b[1mwandb\u001b[0m: \tlstm_hidden_dim: 16\n",
      "\u001b[34m\u001b[1mwandb\u001b[0m: \tlstm_num_layers: 1\n",
      "\u001b[34m\u001b[1mwandb\u001b[0m: \tnum_classes: 3\n",
      "\u001b[34m\u001b[1mwandb\u001b[0m: \tnum_layers: 2\n",
      "\u001b[34m\u001b[1mwandb\u001b[0m: \tnum_seed_points: 2\n",
      "\u001b[34m\u001b[1mwandb\u001b[0m: \tpool_ratio: 0.5\n",
      "\u001b[34m\u001b[1mwandb\u001b[0m: \tstep_size: 1\n",
      "\u001b[34m\u001b[1mwandb\u001b[0m: \tweight_decay: 0.0001\n",
      "\u001b[34m\u001b[1mwandb\u001b[0m: \twindow_size: 20\n"
     ]
    },
    {
     "data": {
      "text/html": [
       "Tracking run with wandb version 0.19.6"
      ],
      "text/plain": [
       "<IPython.core.display.HTML object>"
      ]
     },
     "metadata": {},
     "output_type": "display_data"
    },
    {
     "data": {
      "text/html": [
       "W&B syncing is set to <code>`offline`<code> in this directory.  <br>Run <code>`wandb online`<code> or set <code>WANDB_MODE=online<code> to enable cloud syncing."
      ],
      "text/plain": [
       "<IPython.core.display.HTML object>"
      ]
     },
     "metadata": {},
     "output_type": "display_data"
    },
    {
     "name": "stdout",
     "output_type": "stream",
     "text": [
      "{'batch_size': 16, 'fc_dropout': 0.1, 'graph_dropout': 1, 'graph_num_head': 1, 'hidden_dim': 16, 'learning_rate': 0.001, 'lstm_bidirectional': True, 'lstm_hidden_dim': 16, 'lstm_num_layers': 1, 'num_classes': 3, 'num_layers': 2, 'num_seed_points': 2, 'pool_ratio': 0.5, 'step_size': 1, 'weight_decay': 0.0001, 'window_size': 20}\n",
      "\n",
      "=== Training Scene: motor ===\n",
      "从缓存文件加载数据: ./dataset/cache/motor_20_1_dataset_aug_cache.pkl\n"
     ]
    },
    {
     "name": "stderr",
     "output_type": "stream",
     "text": [
      "Epoch 1/5: 100%|██████████| 329/329 [01:25<00:00,  3.86it/s, loss=1.1142]\n"
     ]
    },
    {
     "name": "stdout",
     "output_type": "stream",
     "text": [
      "Epoch 1 | Train Loss: 1.2052 | Val Acc: 0.3525 | Val Prec: 0.2434 | Val Recall: 0.3525 | Val F1: 0.2670\n"
     ]
    },
    {
     "name": "stderr",
     "output_type": "stream",
     "text": [
      "Epoch 2/5: 100%|██████████| 329/329 [01:22<00:00,  3.97it/s, loss=1.0688]\n"
     ]
    },
    {
     "name": "stdout",
     "output_type": "stream",
     "text": [
      "Epoch 2 | Train Loss: 1.1642 | Val Acc: 0.3684 | Val Prec: 0.6193 | Val Recall: 0.3684 | Val F1: 0.2652\n"
     ]
    },
    {
     "name": "stderr",
     "output_type": "stream",
     "text": [
      "Epoch 3/5: 100%|██████████| 329/329 [01:22<00:00,  3.97it/s, loss=1.1527]\n"
     ]
    },
    {
     "name": "stdout",
     "output_type": "stream",
     "text": [
      "Epoch 3 | Train Loss: 1.1090 | Val Acc: 0.4179 | Val Prec: 0.4825 | Val Recall: 0.4179 | Val F1: 0.3904\n"
     ]
    },
    {
     "name": "stderr",
     "output_type": "stream",
     "text": [
      "Epoch 4/5: 100%|██████████| 329/329 [01:24<00:00,  3.90it/s, loss=0.7494]\n"
     ]
    },
    {
     "name": "stdout",
     "output_type": "stream",
     "text": [
      "Epoch 4 | Train Loss: 1.0405 | Val Acc: 0.4574 | Val Prec: 0.4502 | Val Recall: 0.4574 | Val F1: 0.4421\n"
     ]
    },
    {
     "name": "stderr",
     "output_type": "stream",
     "text": [
      "Epoch 5/5: 100%|██████████| 329/329 [01:21<00:00,  4.02it/s, loss=0.6065]\n"
     ]
    },
    {
     "name": "stdout",
     "output_type": "stream",
     "text": [
      "Epoch 5 | Train Loss: 1.0246 | Val Acc: 0.4488 | Val Prec: 0.4798 | Val Recall: 0.4488 | Val F1: 0.4340\n",
      "Best validation F1: 0.4421\n",
      "Checkpoint saved at epoch 4\n"
     ]
    },
    {
     "data": {
      "text/html": [],
      "text/plain": [
       "<IPython.core.display.HTML object>"
      ]
     },
     "metadata": {},
     "output_type": "display_data"
    },
    {
     "data": {
      "text/html": [
       "<br>    <style><br>        .wandb-row {<br>            display: flex;<br>            flex-direction: row;<br>            flex-wrap: wrap;<br>            justify-content: flex-start;<br>            width: 100%;<br>        }<br>        .wandb-col {<br>            display: flex;<br>            flex-direction: column;<br>            flex-basis: 100%;<br>            flex: 1;<br>            padding: 10px;<br>        }<br>    </style><br><div class=\"wandb-row\"><div class=\"wandb-col\"><h3>Run history:</h3><br/><table class=\"wandb\"><tr><td>epoch</td><td>▁▃▅▆█</td></tr><tr><td>train_loss</td><td>█▆▄▂▁</td></tr><tr><td>val_accuracy</td><td>▁▂▅█▇</td></tr><tr><td>val_f1</td><td>▁▁▆██</td></tr><tr><td>val_precision</td><td>▁█▅▅▅</td></tr><tr><td>val_recall</td><td>▁▂▅█▇</td></tr><tr><td>validation_accuracy</td><td>▁▂▅█▇</td></tr><tr><td>validation_f1</td><td>▁▁▆██</td></tr><tr><td>validation_precision</td><td>▁█▅▅▅</td></tr><tr><td>validation_recall</td><td>▁▂▅█▇</td></tr></table><br/></div><div class=\"wandb-col\"><h3>Run summary:</h3><br/><table class=\"wandb\"><tr><td>best_val_f1</td><td>0.44212</td></tr><tr><td>epoch</td><td>5</td></tr><tr><td>train_loss</td><td>1.0246</td></tr><tr><td>val_accuracy</td><td>0.44876</td></tr><tr><td>val_f1</td><td>0.43397</td></tr><tr><td>val_precision</td><td>0.47977</td></tr><tr><td>val_recall</td><td>0.44876</td></tr><tr><td>validation_accuracy</td><td>0.44876</td></tr><tr><td>validation_f1</td><td>0.43397</td></tr><tr><td>validation_precision</td><td>0.47977</td></tr><tr><td>validation_recall</td><td>0.44876</td></tr></table><br/></div></div>"
      ],
      "text/plain": [
       "<IPython.core.display.HTML object>"
      ]
     },
     "metadata": {},
     "output_type": "display_data"
    },
    {
     "data": {
      "text/html": [
       "You can sync this run to the cloud by running:<br><code>wandb sync d:\\OneDrive - chd.edu.cn\\Desktop\\毕业论文数据\\code\\STNet\\wandb\\offline-run-20250207_044405-idf5rv2d<code>"
      ],
      "text/plain": [
       "<IPython.core.display.HTML object>"
      ]
     },
     "metadata": {},
     "output_type": "display_data"
    },
    {
     "data": {
      "text/html": [
       "Find logs at: <code>.\\wandb\\offline-run-20250207_044405-idf5rv2d\\logs</code>"
      ],
      "text/plain": [
       "<IPython.core.display.HTML object>"
      ]
     },
     "metadata": {},
     "output_type": "display_data"
    },
    {
     "name": "stderr",
     "output_type": "stream",
     "text": [
      "\u001b[34m\u001b[1mwandb\u001b[0m: Agent Starting Run: 00gy8x43 with config:\n",
      "\u001b[34m\u001b[1mwandb\u001b[0m: \tbatch_size: 16\n",
      "\u001b[34m\u001b[1mwandb\u001b[0m: \tfc_dropout: 0.1\n",
      "\u001b[34m\u001b[1mwandb\u001b[0m: \tgraph_dropout: 1\n",
      "\u001b[34m\u001b[1mwandb\u001b[0m: \tgraph_num_head: 1\n",
      "\u001b[34m\u001b[1mwandb\u001b[0m: \thidden_dim: 16\n",
      "\u001b[34m\u001b[1mwandb\u001b[0m: \tlearning_rate: 0.001\n",
      "\u001b[34m\u001b[1mwandb\u001b[0m: \tlstm_bidirectional: True\n",
      "\u001b[34m\u001b[1mwandb\u001b[0m: \tlstm_hidden_dim: 16\n",
      "\u001b[34m\u001b[1mwandb\u001b[0m: \tlstm_num_layers: 1\n",
      "\u001b[34m\u001b[1mwandb\u001b[0m: \tnum_classes: 3\n",
      "\u001b[34m\u001b[1mwandb\u001b[0m: \tnum_layers: 2\n",
      "\u001b[34m\u001b[1mwandb\u001b[0m: \tnum_seed_points: 2\n",
      "\u001b[34m\u001b[1mwandb\u001b[0m: \tpool_ratio: 0.5\n",
      "\u001b[34m\u001b[1mwandb\u001b[0m: \tstep_size: 1\n",
      "\u001b[34m\u001b[1mwandb\u001b[0m: \tweight_decay: 0.001\n",
      "\u001b[34m\u001b[1mwandb\u001b[0m: \twindow_size: 40\n"
     ]
    },
    {
     "data": {
      "text/html": [
       "Tracking run with wandb version 0.19.6"
      ],
      "text/plain": [
       "<IPython.core.display.HTML object>"
      ]
     },
     "metadata": {},
     "output_type": "display_data"
    },
    {
     "data": {
      "text/html": [
       "W&B syncing is set to <code>`offline`<code> in this directory.  <br>Run <code>`wandb online`<code> or set <code>WANDB_MODE=online<code> to enable cloud syncing."
      ],
      "text/plain": [
       "<IPython.core.display.HTML object>"
      ]
     },
     "metadata": {},
     "output_type": "display_data"
    },
    {
     "name": "stdout",
     "output_type": "stream",
     "text": [
      "{'batch_size': 16, 'fc_dropout': 0.1, 'graph_dropout': 1, 'graph_num_head': 1, 'hidden_dim': 16, 'learning_rate': 0.001, 'lstm_bidirectional': True, 'lstm_hidden_dim': 16, 'lstm_num_layers': 1, 'num_classes': 3, 'num_layers': 2, 'num_seed_points': 2, 'pool_ratio': 0.5, 'step_size': 1, 'weight_decay': 0.001, 'window_size': 40}\n",
      "\n",
      "=== Training Scene: motor ===\n",
      "从缓存文件加载数据: ./dataset/cache/motor_40_1_dataset_aug_cache.pkl\n"
     ]
    },
    {
     "name": "stderr",
     "output_type": "stream",
     "text": [
      "Epoch 1/5: 100%|██████████| 315/315 [01:28<00:00,  3.55it/s, loss=1.0701]\n"
     ]
    },
    {
     "name": "stdout",
     "output_type": "stream",
     "text": [
      "Epoch 1 | Train Loss: 1.1681 | Val Acc: 0.3611 | Val Prec: 0.4939 | Val Recall: 0.3611 | Val F1: 0.3192\n"
     ]
    },
    {
     "name": "stderr",
     "output_type": "stream",
     "text": [
      "Epoch 2/5: 100%|██████████| 315/315 [01:29<00:00,  3.52it/s, loss=0.9161]\n"
     ]
    },
    {
     "name": "stdout",
     "output_type": "stream",
     "text": [
      "Epoch 2 | Train Loss: 1.0899 | Val Acc: 0.4367 | Val Prec: 0.4175 | Val Recall: 0.4367 | Val F1: 0.4001\n"
     ]
    },
    {
     "name": "stderr",
     "output_type": "stream",
     "text": [
      "Epoch 3/5: 100%|██████████| 315/315 [01:26<00:00,  3.64it/s, loss=0.7386]\n"
     ]
    },
    {
     "name": "stdout",
     "output_type": "stream",
     "text": [
      "Epoch 3 | Train Loss: 1.0239 | Val Acc: 0.4572 | Val Prec: 0.4642 | Val Recall: 0.4572 | Val F1: 0.4581\n"
     ]
    },
    {
     "name": "stderr",
     "output_type": "stream",
     "text": [
      "Epoch 4/5: 100%|██████████| 315/315 [01:28<00:00,  3.57it/s, loss=1.6690]\n"
     ]
    },
    {
     "name": "stdout",
     "output_type": "stream",
     "text": [
      "Epoch 4 | Train Loss: 0.9786 | Val Acc: 0.4442 | Val Prec: 0.4151 | Val Recall: 0.4442 | Val F1: 0.3937\n"
     ]
    },
    {
     "name": "stderr",
     "output_type": "stream",
     "text": [
      "Epoch 5/5: 100%|██████████| 315/315 [01:27<00:00,  3.62it/s, loss=1.8142]\n"
     ]
    },
    {
     "name": "stdout",
     "output_type": "stream",
     "text": [
      "Epoch 5 | Train Loss: 1.0004 | Val Acc: 0.4261 | Val Prec: 0.4187 | Val Recall: 0.4261 | Val F1: 0.4189\n",
      "Best validation F1: 0.4581\n",
      "Checkpoint saved at epoch 4\n"
     ]
    },
    {
     "data": {
      "text/html": [],
      "text/plain": [
       "<IPython.core.display.HTML object>"
      ]
     },
     "metadata": {},
     "output_type": "display_data"
    },
    {
     "data": {
      "text/html": [
       "<br>    <style><br>        .wandb-row {<br>            display: flex;<br>            flex-direction: row;<br>            flex-wrap: wrap;<br>            justify-content: flex-start;<br>            width: 100%;<br>        }<br>        .wandb-col {<br>            display: flex;<br>            flex-direction: column;<br>            flex-basis: 100%;<br>            flex: 1;<br>            padding: 10px;<br>        }<br>    </style><br><div class=\"wandb-row\"><div class=\"wandb-col\"><h3>Run history:</h3><br/><table class=\"wandb\"><tr><td>epoch</td><td>▁▃▅▆█</td></tr><tr><td>train_loss</td><td>█▅▃▁▂</td></tr><tr><td>val_accuracy</td><td>▁▇█▇▆</td></tr><tr><td>val_f1</td><td>▁▅█▅▆</td></tr><tr><td>val_precision</td><td>█▁▅▁▁</td></tr><tr><td>val_recall</td><td>▁▇█▇▆</td></tr><tr><td>validation_accuracy</td><td>▁▇█▇▆</td></tr><tr><td>validation_f1</td><td>▁▅█▅▆</td></tr><tr><td>validation_precision</td><td>█▁▅▁▁</td></tr><tr><td>validation_recall</td><td>▁▇█▇▆</td></tr></table><br/></div><div class=\"wandb-col\"><h3>Run summary:</h3><br/><table class=\"wandb\"><tr><td>best_val_f1</td><td>0.45814</td></tr><tr><td>epoch</td><td>5</td></tr><tr><td>train_loss</td><td>1.00036</td></tr><tr><td>val_accuracy</td><td>0.42612</td></tr><tr><td>val_f1</td><td>0.41892</td></tr><tr><td>val_precision</td><td>0.41869</td></tr><tr><td>val_recall</td><td>0.42612</td></tr><tr><td>validation_accuracy</td><td>0.42612</td></tr><tr><td>validation_f1</td><td>0.41892</td></tr><tr><td>validation_precision</td><td>0.41869</td></tr><tr><td>validation_recall</td><td>0.42612</td></tr></table><br/></div></div>"
      ],
      "text/plain": [
       "<IPython.core.display.HTML object>"
      ]
     },
     "metadata": {},
     "output_type": "display_data"
    },
    {
     "data": {
      "text/html": [
       "You can sync this run to the cloud by running:<br><code>wandb sync d:\\OneDrive - chd.edu.cn\\Desktop\\毕业论文数据\\code\\STNet\\wandb\\offline-run-20250207_045122-00gy8x43<code>"
      ],
      "text/plain": [
       "<IPython.core.display.HTML object>"
      ]
     },
     "metadata": {},
     "output_type": "display_data"
    },
    {
     "data": {
      "text/html": [
       "Find logs at: <code>.\\wandb\\offline-run-20250207_045122-00gy8x43\\logs</code>"
      ],
      "text/plain": [
       "<IPython.core.display.HTML object>"
      ]
     },
     "metadata": {},
     "output_type": "display_data"
    },
    {
     "name": "stderr",
     "output_type": "stream",
     "text": [
      "\u001b[34m\u001b[1mwandb\u001b[0m: Agent Starting Run: 1exlqsut with config:\n",
      "\u001b[34m\u001b[1mwandb\u001b[0m: \tbatch_size: 16\n",
      "\u001b[34m\u001b[1mwandb\u001b[0m: \tfc_dropout: 0.1\n",
      "\u001b[34m\u001b[1mwandb\u001b[0m: \tgraph_dropout: 1\n",
      "\u001b[34m\u001b[1mwandb\u001b[0m: \tgraph_num_head: 1\n",
      "\u001b[34m\u001b[1mwandb\u001b[0m: \thidden_dim: 16\n",
      "\u001b[34m\u001b[1mwandb\u001b[0m: \tlearning_rate: 0.001\n",
      "\u001b[34m\u001b[1mwandb\u001b[0m: \tlstm_bidirectional: True\n",
      "\u001b[34m\u001b[1mwandb\u001b[0m: \tlstm_hidden_dim: 16\n",
      "\u001b[34m\u001b[1mwandb\u001b[0m: \tlstm_num_layers: 1\n",
      "\u001b[34m\u001b[1mwandb\u001b[0m: \tnum_classes: 3\n",
      "\u001b[34m\u001b[1mwandb\u001b[0m: \tnum_layers: 2\n",
      "\u001b[34m\u001b[1mwandb\u001b[0m: \tnum_seed_points: 2\n",
      "\u001b[34m\u001b[1mwandb\u001b[0m: \tpool_ratio: 0.5\n",
      "\u001b[34m\u001b[1mwandb\u001b[0m: \tstep_size: 1\n",
      "\u001b[34m\u001b[1mwandb\u001b[0m: \tweight_decay: 0.0001\n",
      "\u001b[34m\u001b[1mwandb\u001b[0m: \twindow_size: 30\n"
     ]
    },
    {
     "data": {
      "text/html": [
       "Tracking run with wandb version 0.19.6"
      ],
      "text/plain": [
       "<IPython.core.display.HTML object>"
      ]
     },
     "metadata": {},
     "output_type": "display_data"
    },
    {
     "data": {
      "text/html": [
       "W&B syncing is set to <code>`offline`<code> in this directory.  <br>Run <code>`wandb online`<code> or set <code>WANDB_MODE=online<code> to enable cloud syncing."
      ],
      "text/plain": [
       "<IPython.core.display.HTML object>"
      ]
     },
     "metadata": {},
     "output_type": "display_data"
    },
    {
     "name": "stdout",
     "output_type": "stream",
     "text": [
      "{'batch_size': 16, 'fc_dropout': 0.1, 'graph_dropout': 1, 'graph_num_head': 1, 'hidden_dim': 16, 'learning_rate': 0.001, 'lstm_bidirectional': True, 'lstm_hidden_dim': 16, 'lstm_num_layers': 1, 'num_classes': 3, 'num_layers': 2, 'num_seed_points': 2, 'pool_ratio': 0.5, 'step_size': 1, 'weight_decay': 0.0001, 'window_size': 30}\n",
      "\n",
      "=== Training Scene: motor ===\n",
      "从缓存文件加载数据: ./dataset/cache/motor_30_1_dataset_aug_cache.pkl\n"
     ]
    },
    {
     "name": "stderr",
     "output_type": "stream",
     "text": [
      "Epoch 1/5: 100%|██████████| 322/322 [01:26<00:00,  3.74it/s, loss=1.0263]\n"
     ]
    },
    {
     "name": "stdout",
     "output_type": "stream",
     "text": [
      "Epoch 1 | Train Loss: 1.1968 | Val Acc: 0.3333 | Val Prec: 0.1161 | Val Recall: 0.3333 | Val F1: 0.1722\n"
     ]
    },
    {
     "name": "stderr",
     "output_type": "stream",
     "text": [
      "Epoch 2/5: 100%|██████████| 322/322 [01:25<00:00,  3.78it/s, loss=1.4443]\n"
     ]
    },
    {
     "name": "stdout",
     "output_type": "stream",
     "text": [
      "Epoch 2 | Train Loss: 1.1867 | Val Acc: 0.3333 | Val Prec: 0.1161 | Val Recall: 0.3333 | Val F1: 0.1722\n"
     ]
    },
    {
     "name": "stderr",
     "output_type": "stream",
     "text": [
      "Epoch 3/5: 100%|██████████| 322/322 [01:25<00:00,  3.75it/s, loss=1.0533]\n"
     ]
    },
    {
     "name": "stdout",
     "output_type": "stream",
     "text": [
      "Epoch 3 | Train Loss: 1.1970 | Val Acc: 0.3333 | Val Prec: 0.1239 | Val Recall: 0.3333 | Val F1: 0.1807\n"
     ]
    },
    {
     "name": "stderr",
     "output_type": "stream",
     "text": [
      "Epoch 4/5: 100%|██████████| 322/322 [01:24<00:00,  3.79it/s, loss=1.2662]\n"
     ]
    },
    {
     "name": "stdout",
     "output_type": "stream",
     "text": [
      "Epoch 4 | Train Loss: 1.1866 | Val Acc: 0.3854 | Val Prec: 0.4572 | Val Recall: 0.3854 | Val F1: 0.3347\n"
     ]
    },
    {
     "name": "stderr",
     "output_type": "stream",
     "text": [
      "Epoch 5/5: 100%|██████████| 322/322 [01:25<00:00,  3.79it/s, loss=1.2403]\n"
     ]
    },
    {
     "name": "stdout",
     "output_type": "stream",
     "text": [
      "Epoch 5 | Train Loss: 1.1488 | Val Acc: 0.4590 | Val Prec: 0.4794 | Val Recall: 0.4590 | Val F1: 0.4423\n",
      "Best validation F1: 0.4423\n",
      "Checkpoint saved at epoch 4\n"
     ]
    },
    {
     "data": {
      "text/html": [],
      "text/plain": [
       "<IPython.core.display.HTML object>"
      ]
     },
     "metadata": {},
     "output_type": "display_data"
    },
    {
     "data": {
      "text/html": [
       "<br>    <style><br>        .wandb-row {<br>            display: flex;<br>            flex-direction: row;<br>            flex-wrap: wrap;<br>            justify-content: flex-start;<br>            width: 100%;<br>        }<br>        .wandb-col {<br>            display: flex;<br>            flex-direction: column;<br>            flex-basis: 100%;<br>            flex: 1;<br>            padding: 10px;<br>        }<br>    </style><br><div class=\"wandb-row\"><div class=\"wandb-col\"><h3>Run history:</h3><br/><table class=\"wandb\"><tr><td>epoch</td><td>▁▃▅▆█</td></tr><tr><td>train_loss</td><td>█▇█▆▁</td></tr><tr><td>val_accuracy</td><td>▁▁▁▄█</td></tr><tr><td>val_f1</td><td>▁▁▁▅█</td></tr><tr><td>val_precision</td><td>▁▁▁██</td></tr><tr><td>val_recall</td><td>▁▁▁▄█</td></tr><tr><td>validation_accuracy</td><td>▁▁▁▄█</td></tr><tr><td>validation_f1</td><td>▁▁▁▅█</td></tr><tr><td>validation_precision</td><td>▁▁▁██</td></tr><tr><td>validation_recall</td><td>▁▁▁▄█</td></tr></table><br/></div><div class=\"wandb-col\"><h3>Run summary:</h3><br/><table class=\"wandb\"><tr><td>best_val_f1</td><td>0.44233</td></tr><tr><td>epoch</td><td>5</td></tr><tr><td>train_loss</td><td>1.14882</td></tr><tr><td>val_accuracy</td><td>0.45899</td></tr><tr><td>val_f1</td><td>0.44233</td></tr><tr><td>val_precision</td><td>0.47944</td></tr><tr><td>val_recall</td><td>0.45899</td></tr><tr><td>validation_accuracy</td><td>0.45899</td></tr><tr><td>validation_f1</td><td>0.44233</td></tr><tr><td>validation_precision</td><td>0.47944</td></tr><tr><td>validation_recall</td><td>0.45899</td></tr></table><br/></div></div>"
      ],
      "text/plain": [
       "<IPython.core.display.HTML object>"
      ]
     },
     "metadata": {},
     "output_type": "display_data"
    },
    {
     "data": {
      "text/html": [
       "You can sync this run to the cloud by running:<br><code>wandb sync d:\\OneDrive - chd.edu.cn\\Desktop\\毕业论文数据\\code\\STNet\\wandb\\offline-run-20250207_045905-1exlqsut<code>"
      ],
      "text/plain": [
       "<IPython.core.display.HTML object>"
      ]
     },
     "metadata": {},
     "output_type": "display_data"
    },
    {
     "data": {
      "text/html": [
       "Find logs at: <code>.\\wandb\\offline-run-20250207_045905-1exlqsut\\logs</code>"
      ],
      "text/plain": [
       "<IPython.core.display.HTML object>"
      ]
     },
     "metadata": {},
     "output_type": "display_data"
    },
    {
     "name": "stderr",
     "output_type": "stream",
     "text": [
      "\u001b[34m\u001b[1mwandb\u001b[0m: Agent Starting Run: rqx3nm83 with config:\n",
      "\u001b[34m\u001b[1mwandb\u001b[0m: \tbatch_size: 16\n",
      "\u001b[34m\u001b[1mwandb\u001b[0m: \tfc_dropout: 0.1\n",
      "\u001b[34m\u001b[1mwandb\u001b[0m: \tgraph_dropout: 1\n",
      "\u001b[34m\u001b[1mwandb\u001b[0m: \tgraph_num_head: 1\n",
      "\u001b[34m\u001b[1mwandb\u001b[0m: \thidden_dim: 16\n",
      "\u001b[34m\u001b[1mwandb\u001b[0m: \tlearning_rate: 0.001\n",
      "\u001b[34m\u001b[1mwandb\u001b[0m: \tlstm_bidirectional: True\n",
      "\u001b[34m\u001b[1mwandb\u001b[0m: \tlstm_hidden_dim: 16\n",
      "\u001b[34m\u001b[1mwandb\u001b[0m: \tlstm_num_layers: 1\n",
      "\u001b[34m\u001b[1mwandb\u001b[0m: \tnum_classes: 3\n",
      "\u001b[34m\u001b[1mwandb\u001b[0m: \tnum_layers: 2\n",
      "\u001b[34m\u001b[1mwandb\u001b[0m: \tnum_seed_points: 2\n",
      "\u001b[34m\u001b[1mwandb\u001b[0m: \tpool_ratio: 0.5\n",
      "\u001b[34m\u001b[1mwandb\u001b[0m: \tstep_size: 1\n",
      "\u001b[34m\u001b[1mwandb\u001b[0m: \tweight_decay: 0.0001\n",
      "\u001b[34m\u001b[1mwandb\u001b[0m: \twindow_size: 40\n"
     ]
    },
    {
     "data": {
      "text/html": [
       "Tracking run with wandb version 0.19.6"
      ],
      "text/plain": [
       "<IPython.core.display.HTML object>"
      ]
     },
     "metadata": {},
     "output_type": "display_data"
    },
    {
     "data": {
      "text/html": [
       "W&B syncing is set to <code>`offline`<code> in this directory.  <br>Run <code>`wandb online`<code> or set <code>WANDB_MODE=online<code> to enable cloud syncing."
      ],
      "text/plain": [
       "<IPython.core.display.HTML object>"
      ]
     },
     "metadata": {},
     "output_type": "display_data"
    },
    {
     "name": "stdout",
     "output_type": "stream",
     "text": [
      "{'batch_size': 16, 'fc_dropout': 0.1, 'graph_dropout': 1, 'graph_num_head': 1, 'hidden_dim': 16, 'learning_rate': 0.001, 'lstm_bidirectional': True, 'lstm_hidden_dim': 16, 'lstm_num_layers': 1, 'num_classes': 3, 'num_layers': 2, 'num_seed_points': 2, 'pool_ratio': 0.5, 'step_size': 1, 'weight_decay': 0.0001, 'window_size': 40}\n",
      "\n",
      "=== Training Scene: motor ===\n",
      "从缓存文件加载数据: ./dataset/cache/motor_40_1_dataset_aug_cache.pkl\n"
     ]
    },
    {
     "name": "stderr",
     "output_type": "stream",
     "text": [
      "Epoch 1/5: 100%|██████████| 315/315 [01:29<00:00,  3.54it/s, loss=1.1227]\n"
     ]
    },
    {
     "name": "stdout",
     "output_type": "stream",
     "text": [
      "Epoch 1 | Train Loss: 1.2073 | Val Acc: 0.3328 | Val Prec: 0.2634 | Val Recall: 0.3328 | Val F1: 0.1852\n"
     ]
    },
    {
     "name": "stderr",
     "output_type": "stream",
     "text": [
      "Epoch 2/5: 100%|██████████| 315/315 [01:27<00:00,  3.61it/s, loss=1.1689]\n"
     ]
    },
    {
     "name": "stdout",
     "output_type": "stream",
     "text": [
      "Epoch 2 | Train Loss: 1.1718 | Val Acc: 0.3437 | Val Prec: 0.3724 | Val Recall: 0.3437 | Val F1: 0.2001\n"
     ]
    },
    {
     "name": "stderr",
     "output_type": "stream",
     "text": [
      "Epoch 3/5: 100%|██████████| 315/315 [01:26<00:00,  3.63it/s, loss=1.3256]\n"
     ]
    },
    {
     "name": "stdout",
     "output_type": "stream",
     "text": [
      "Epoch 3 | Train Loss: 1.1045 | Val Acc: 0.4025 | Val Prec: 0.3767 | Val Recall: 0.4025 | Val F1: 0.3197\n"
     ]
    },
    {
     "name": "stderr",
     "output_type": "stream",
     "text": [
      "Epoch 4/5: 100%|██████████| 315/315 [01:27<00:00,  3.59it/s, loss=1.2532]\n"
     ]
    },
    {
     "name": "stdout",
     "output_type": "stream",
     "text": [
      "Epoch 4 | Train Loss: 1.0619 | Val Acc: 0.4106 | Val Prec: 0.3747 | Val Recall: 0.4106 | Val F1: 0.3383\n"
     ]
    },
    {
     "name": "stderr",
     "output_type": "stream",
     "text": [
      "Epoch 5/5: 100%|██████████| 315/315 [01:27<00:00,  3.62it/s, loss=1.4339]\n"
     ]
    },
    {
     "name": "stdout",
     "output_type": "stream",
     "text": [
      "Epoch 5 | Train Loss: 1.0259 | Val Acc: 0.4701 | Val Prec: 0.4666 | Val Recall: 0.4701 | Val F1: 0.4026\n",
      "Best validation F1: 0.4026\n",
      "Checkpoint saved at epoch 4\n"
     ]
    },
    {
     "data": {
      "text/html": [],
      "text/plain": [
       "<IPython.core.display.HTML object>"
      ]
     },
     "metadata": {},
     "output_type": "display_data"
    },
    {
     "data": {
      "text/html": [
       "<br>    <style><br>        .wandb-row {<br>            display: flex;<br>            flex-direction: row;<br>            flex-wrap: wrap;<br>            justify-content: flex-start;<br>            width: 100%;<br>        }<br>        .wandb-col {<br>            display: flex;<br>            flex-direction: column;<br>            flex-basis: 100%;<br>            flex: 1;<br>            padding: 10px;<br>        }<br>    </style><br><div class=\"wandb-row\"><div class=\"wandb-col\"><h3>Run history:</h3><br/><table class=\"wandb\"><tr><td>epoch</td><td>▁▃▅▆█</td></tr><tr><td>train_loss</td><td>█▇▄▂▁</td></tr><tr><td>val_accuracy</td><td>▁▂▅▅█</td></tr><tr><td>val_f1</td><td>▁▁▅▆█</td></tr><tr><td>val_precision</td><td>▁▅▅▅█</td></tr><tr><td>val_recall</td><td>▁▂▅▅█</td></tr><tr><td>validation_accuracy</td><td>▁▂▅▅█</td></tr><tr><td>validation_f1</td><td>▁▁▅▆█</td></tr><tr><td>validation_precision</td><td>▁▅▅▅█</td></tr><tr><td>validation_recall</td><td>▁▂▅▅█</td></tr></table><br/></div><div class=\"wandb-col\"><h3>Run summary:</h3><br/><table class=\"wandb\"><tr><td>best_val_f1</td><td>0.4026</td></tr><tr><td>epoch</td><td>5</td></tr><tr><td>train_loss</td><td>1.02588</td></tr><tr><td>val_accuracy</td><td>0.47015</td></tr><tr><td>val_f1</td><td>0.4026</td></tr><tr><td>val_precision</td><td>0.46659</td></tr><tr><td>val_recall</td><td>0.47015</td></tr><tr><td>validation_accuracy</td><td>0.47015</td></tr><tr><td>validation_f1</td><td>0.4026</td></tr><tr><td>validation_precision</td><td>0.46659</td></tr><tr><td>validation_recall</td><td>0.47015</td></tr></table><br/></div></div>"
      ],
      "text/plain": [
       "<IPython.core.display.HTML object>"
      ]
     },
     "metadata": {},
     "output_type": "display_data"
    },
    {
     "data": {
      "text/html": [
       "You can sync this run to the cloud by running:<br><code>wandb sync d:\\OneDrive - chd.edu.cn\\Desktop\\毕业论文数据\\code\\STNet\\wandb\\offline-run-20250207_050634-rqx3nm83<code>"
      ],
      "text/plain": [
       "<IPython.core.display.HTML object>"
      ]
     },
     "metadata": {},
     "output_type": "display_data"
    },
    {
     "data": {
      "text/html": [
       "Find logs at: <code>.\\wandb\\offline-run-20250207_050634-rqx3nm83\\logs</code>"
      ],
      "text/plain": [
       "<IPython.core.display.HTML object>"
      ]
     },
     "metadata": {},
     "output_type": "display_data"
    },
    {
     "name": "stderr",
     "output_type": "stream",
     "text": [
      "\u001b[34m\u001b[1mwandb\u001b[0m: Agent Starting Run: mz5tuakl with config:\n",
      "\u001b[34m\u001b[1mwandb\u001b[0m: \tbatch_size: 16\n",
      "\u001b[34m\u001b[1mwandb\u001b[0m: \tfc_dropout: 0.1\n",
      "\u001b[34m\u001b[1mwandb\u001b[0m: \tgraph_dropout: 1\n",
      "\u001b[34m\u001b[1mwandb\u001b[0m: \tgraph_num_head: 1\n",
      "\u001b[34m\u001b[1mwandb\u001b[0m: \thidden_dim: 16\n",
      "\u001b[34m\u001b[1mwandb\u001b[0m: \tlearning_rate: 0.001\n",
      "\u001b[34m\u001b[1mwandb\u001b[0m: \tlstm_bidirectional: True\n",
      "\u001b[34m\u001b[1mwandb\u001b[0m: \tlstm_hidden_dim: 16\n",
      "\u001b[34m\u001b[1mwandb\u001b[0m: \tlstm_num_layers: 1\n",
      "\u001b[34m\u001b[1mwandb\u001b[0m: \tnum_classes: 3\n",
      "\u001b[34m\u001b[1mwandb\u001b[0m: \tnum_layers: 2\n",
      "\u001b[34m\u001b[1mwandb\u001b[0m: \tnum_seed_points: 2\n",
      "\u001b[34m\u001b[1mwandb\u001b[0m: \tpool_ratio: 0.5\n",
      "\u001b[34m\u001b[1mwandb\u001b[0m: \tstep_size: 1\n",
      "\u001b[34m\u001b[1mwandb\u001b[0m: \tweight_decay: 0.001\n",
      "\u001b[34m\u001b[1mwandb\u001b[0m: \twindow_size: 10\n"
     ]
    },
    {
     "data": {
      "text/html": [
       "Tracking run with wandb version 0.19.6"
      ],
      "text/plain": [
       "<IPython.core.display.HTML object>"
      ]
     },
     "metadata": {},
     "output_type": "display_data"
    },
    {
     "data": {
      "text/html": [
       "W&B syncing is set to <code>`offline`<code> in this directory.  <br>Run <code>`wandb online`<code> or set <code>WANDB_MODE=online<code> to enable cloud syncing."
      ],
      "text/plain": [
       "<IPython.core.display.HTML object>"
      ]
     },
     "metadata": {},
     "output_type": "display_data"
    },
    {
     "name": "stdout",
     "output_type": "stream",
     "text": [
      "{'batch_size': 16, 'fc_dropout': 0.1, 'graph_dropout': 1, 'graph_num_head': 1, 'hidden_dim': 16, 'learning_rate': 0.001, 'lstm_bidirectional': True, 'lstm_hidden_dim': 16, 'lstm_num_layers': 1, 'num_classes': 3, 'num_layers': 2, 'num_seed_points': 2, 'pool_ratio': 0.5, 'step_size': 1, 'weight_decay': 0.001, 'window_size': 10}\n",
      "\n",
      "=== Training Scene: motor ===\n",
      "从缓存文件加载数据: ./dataset/cache/motor_10_1_dataset_aug_cache.pkl\n"
     ]
    },
    {
     "name": "stderr",
     "output_type": "stream",
     "text": [
      "Epoch 1/5: 100%|██████████| 336/336 [01:21<00:00,  4.11it/s, loss=1.1651]\n"
     ]
    },
    {
     "name": "stdout",
     "output_type": "stream",
     "text": [
      "Epoch 1 | Train Loss: 1.2078 | Val Acc: 0.3340 | Val Prec: 0.4444 | Val Recall: 0.3340 | Val F1: 0.1681\n"
     ]
    },
    {
     "name": "stderr",
     "output_type": "stream",
     "text": [
      "Epoch 2/5: 100%|██████████| 336/336 [01:20<00:00,  4.19it/s, loss=0.9863]\n"
     ]
    },
    {
     "name": "stdout",
     "output_type": "stream",
     "text": [
      "Epoch 2 | Train Loss: 1.1963 | Val Acc: 0.3622 | Val Prec: 0.3993 | Val Recall: 0.3622 | Val F1: 0.2842\n"
     ]
    },
    {
     "name": "stderr",
     "output_type": "stream",
     "text": [
      "Epoch 3/5: 100%|██████████| 336/336 [01:20<00:00,  4.16it/s, loss=0.9517]\n"
     ]
    },
    {
     "name": "stdout",
     "output_type": "stream",
     "text": [
      "Epoch 3 | Train Loss: 1.1389 | Val Acc: 0.3777 | Val Prec: 0.4216 | Val Recall: 0.3777 | Val F1: 0.3464\n"
     ]
    },
    {
     "name": "stderr",
     "output_type": "stream",
     "text": [
      "Epoch 4/5: 100%|██████████| 336/336 [01:18<00:00,  4.27it/s, loss=1.1546]\n"
     ]
    },
    {
     "name": "stdout",
     "output_type": "stream",
     "text": [
      "Epoch 4 | Train Loss: 1.0962 | Val Acc: 0.3836 | Val Prec: 0.4112 | Val Recall: 0.3836 | Val F1: 0.3783\n"
     ]
    },
    {
     "name": "stderr",
     "output_type": "stream",
     "text": [
      "Epoch 5/5: 100%|██████████| 336/336 [01:20<00:00,  4.19it/s, loss=1.1091]\n"
     ]
    },
    {
     "name": "stdout",
     "output_type": "stream",
     "text": [
      "Epoch 5 | Train Loss: 1.0965 | Val Acc: 0.4124 | Val Prec: 0.4259 | Val Recall: 0.4124 | Val F1: 0.3844\n",
      "Best validation F1: 0.3844\n",
      "Checkpoint saved at epoch 4\n"
     ]
    },
    {
     "data": {
      "text/html": [],
      "text/plain": [
       "<IPython.core.display.HTML object>"
      ]
     },
     "metadata": {},
     "output_type": "display_data"
    },
    {
     "data": {
      "text/html": [
       "<br>    <style><br>        .wandb-row {<br>            display: flex;<br>            flex-direction: row;<br>            flex-wrap: wrap;<br>            justify-content: flex-start;<br>            width: 100%;<br>        }<br>        .wandb-col {<br>            display: flex;<br>            flex-direction: column;<br>            flex-basis: 100%;<br>            flex: 1;<br>            padding: 10px;<br>        }<br>    </style><br><div class=\"wandb-row\"><div class=\"wandb-col\"><h3>Run history:</h3><br/><table class=\"wandb\"><tr><td>epoch</td><td>▁▃▅▆█</td></tr><tr><td>train_loss</td><td>█▇▄▁▁</td></tr><tr><td>val_accuracy</td><td>▁▄▅▅█</td></tr><tr><td>val_f1</td><td>▁▅▇██</td></tr><tr><td>val_precision</td><td>█▁▄▃▅</td></tr><tr><td>val_recall</td><td>▁▄▅▅█</td></tr><tr><td>validation_accuracy</td><td>▁▄▅▅█</td></tr><tr><td>validation_f1</td><td>▁▅▇██</td></tr><tr><td>validation_precision</td><td>█▁▄▃▅</td></tr><tr><td>validation_recall</td><td>▁▄▅▅█</td></tr></table><br/></div><div class=\"wandb-col\"><h3>Run summary:</h3><br/><table class=\"wandb\"><tr><td>best_val_f1</td><td>0.38441</td></tr><tr><td>epoch</td><td>5</td></tr><tr><td>train_loss</td><td>1.09651</td></tr><tr><td>val_accuracy</td><td>0.41243</td></tr><tr><td>val_f1</td><td>0.38441</td></tr><tr><td>val_precision</td><td>0.42585</td></tr><tr><td>val_recall</td><td>0.41243</td></tr><tr><td>validation_accuracy</td><td>0.41243</td></tr><tr><td>validation_f1</td><td>0.38441</td></tr><tr><td>validation_precision</td><td>0.42585</td></tr><tr><td>validation_recall</td><td>0.41243</td></tr></table><br/></div></div>"
      ],
      "text/plain": [
       "<IPython.core.display.HTML object>"
      ]
     },
     "metadata": {},
     "output_type": "display_data"
    },
    {
     "data": {
      "text/html": [
       "You can sync this run to the cloud by running:<br><code>wandb sync d:\\OneDrive - chd.edu.cn\\Desktop\\毕业论文数据\\code\\STNet\\wandb\\offline-run-20250207_051416-mz5tuakl<code>"
      ],
      "text/plain": [
       "<IPython.core.display.HTML object>"
      ]
     },
     "metadata": {},
     "output_type": "display_data"
    },
    {
     "data": {
      "text/html": [
       "Find logs at: <code>.\\wandb\\offline-run-20250207_051416-mz5tuakl\\logs</code>"
      ],
      "text/plain": [
       "<IPython.core.display.HTML object>"
      ]
     },
     "metadata": {},
     "output_type": "display_data"
    },
    {
     "name": "stderr",
     "output_type": "stream",
     "text": [
      "\u001b[34m\u001b[1mwandb\u001b[0m: Agent Starting Run: sm0le8eb with config:\n",
      "\u001b[34m\u001b[1mwandb\u001b[0m: \tbatch_size: 16\n",
      "\u001b[34m\u001b[1mwandb\u001b[0m: \tfc_dropout: 0.1\n",
      "\u001b[34m\u001b[1mwandb\u001b[0m: \tgraph_dropout: 1\n",
      "\u001b[34m\u001b[1mwandb\u001b[0m: \tgraph_num_head: 1\n",
      "\u001b[34m\u001b[1mwandb\u001b[0m: \thidden_dim: 16\n",
      "\u001b[34m\u001b[1mwandb\u001b[0m: \tlearning_rate: 0.001\n",
      "\u001b[34m\u001b[1mwandb\u001b[0m: \tlstm_bidirectional: True\n",
      "\u001b[34m\u001b[1mwandb\u001b[0m: \tlstm_hidden_dim: 16\n",
      "\u001b[34m\u001b[1mwandb\u001b[0m: \tlstm_num_layers: 1\n",
      "\u001b[34m\u001b[1mwandb\u001b[0m: \tnum_classes: 3\n",
      "\u001b[34m\u001b[1mwandb\u001b[0m: \tnum_layers: 2\n",
      "\u001b[34m\u001b[1mwandb\u001b[0m: \tnum_seed_points: 2\n",
      "\u001b[34m\u001b[1mwandb\u001b[0m: \tpool_ratio: 0.5\n",
      "\u001b[34m\u001b[1mwandb\u001b[0m: \tstep_size: 1\n",
      "\u001b[34m\u001b[1mwandb\u001b[0m: \tweight_decay: 0.001\n",
      "\u001b[34m\u001b[1mwandb\u001b[0m: \twindow_size: 20\n"
     ]
    },
    {
     "data": {
      "text/html": [
       "Tracking run with wandb version 0.19.6"
      ],
      "text/plain": [
       "<IPython.core.display.HTML object>"
      ]
     },
     "metadata": {},
     "output_type": "display_data"
    },
    {
     "data": {
      "text/html": [
       "W&B syncing is set to <code>`offline`<code> in this directory.  <br>Run <code>`wandb online`<code> or set <code>WANDB_MODE=online<code> to enable cloud syncing."
      ],
      "text/plain": [
       "<IPython.core.display.HTML object>"
      ]
     },
     "metadata": {},
     "output_type": "display_data"
    },
    {
     "name": "stdout",
     "output_type": "stream",
     "text": [
      "{'batch_size': 16, 'fc_dropout': 0.1, 'graph_dropout': 1, 'graph_num_head': 1, 'hidden_dim': 16, 'learning_rate': 0.001, 'lstm_bidirectional': True, 'lstm_hidden_dim': 16, 'lstm_num_layers': 1, 'num_classes': 3, 'num_layers': 2, 'num_seed_points': 2, 'pool_ratio': 0.5, 'step_size': 1, 'weight_decay': 0.001, 'window_size': 20}\n",
      "\n",
      "=== Training Scene: motor ===\n",
      "从缓存文件加载数据: ./dataset/cache/motor_20_1_dataset_aug_cache.pkl\n"
     ]
    },
    {
     "name": "stderr",
     "output_type": "stream",
     "text": [
      "Epoch 1/5: 100%|██████████| 329/329 [01:25<00:00,  3.83it/s, loss=1.2148]\n"
     ]
    },
    {
     "name": "stdout",
     "output_type": "stream",
     "text": [
      "Epoch 1 | Train Loss: 1.2014 | Val Acc: 0.3761 | Val Prec: 0.2744 | Val Recall: 0.3761 | Val F1: 0.2630\n"
     ]
    },
    {
     "name": "stderr",
     "output_type": "stream",
     "text": [
      "Epoch 2/5: 100%|██████████| 329/329 [01:24<00:00,  3.90it/s, loss=1.0407]\n"
     ]
    },
    {
     "name": "stdout",
     "output_type": "stream",
     "text": [
      "Epoch 2 | Train Loss: 1.1348 | Val Acc: 0.4220 | Val Prec: 0.4129 | Val Recall: 0.4220 | Val F1: 0.3860\n"
     ]
    },
    {
     "name": "stderr",
     "output_type": "stream",
     "text": [
      "Epoch 3/5: 100%|██████████| 329/329 [01:23<00:00,  3.93it/s, loss=0.9439]\n"
     ]
    },
    {
     "name": "stdout",
     "output_type": "stream",
     "text": [
      "Epoch 3 | Train Loss: 1.0741 | Val Acc: 0.4086 | Val Prec: 0.4266 | Val Recall: 0.4086 | Val F1: 0.4040\n"
     ]
    },
    {
     "name": "stderr",
     "output_type": "stream",
     "text": [
      "Epoch 4/5: 100%|██████████| 329/329 [01:23<00:00,  3.95it/s, loss=1.1116]\n"
     ]
    },
    {
     "name": "stdout",
     "output_type": "stream",
     "text": [
      "Epoch 4 | Train Loss: 1.0435 | Val Acc: 0.4176 | Val Prec: 0.4151 | Val Recall: 0.4176 | Val F1: 0.4147\n"
     ]
    },
    {
     "name": "stderr",
     "output_type": "stream",
     "text": [
      "Epoch 5/5: 100%|██████████| 329/329 [01:23<00:00,  3.95it/s, loss=0.7914]\n"
     ]
    },
    {
     "name": "stdout",
     "output_type": "stream",
     "text": [
      "Epoch 5 | Train Loss: 0.9921 | Val Acc: 0.4545 | Val Prec: 0.4841 | Val Recall: 0.4545 | Val F1: 0.4592\n",
      "Best validation F1: 0.4592\n",
      "Checkpoint saved at epoch 4\n"
     ]
    },
    {
     "data": {
      "text/html": [],
      "text/plain": [
       "<IPython.core.display.HTML object>"
      ]
     },
     "metadata": {},
     "output_type": "display_data"
    },
    {
     "data": {
      "text/html": [
       "<br>    <style><br>        .wandb-row {<br>            display: flex;<br>            flex-direction: row;<br>            flex-wrap: wrap;<br>            justify-content: flex-start;<br>            width: 100%;<br>        }<br>        .wandb-col {<br>            display: flex;<br>            flex-direction: column;<br>            flex-basis: 100%;<br>            flex: 1;<br>            padding: 10px;<br>        }<br>    </style><br><div class=\"wandb-row\"><div class=\"wandb-col\"><h3>Run history:</h3><br/><table class=\"wandb\"><tr><td>epoch</td><td>▁▃▅▆█</td></tr><tr><td>train_loss</td><td>█▆▄▃▁</td></tr><tr><td>val_accuracy</td><td>▁▅▄▅█</td></tr><tr><td>val_f1</td><td>▁▅▆▆█</td></tr><tr><td>val_precision</td><td>▁▆▆▆█</td></tr><tr><td>val_recall</td><td>▁▅▄▅█</td></tr><tr><td>validation_accuracy</td><td>▁▅▄▅█</td></tr><tr><td>validation_f1</td><td>▁▅▆▆█</td></tr><tr><td>validation_precision</td><td>▁▆▆▆█</td></tr><tr><td>validation_recall</td><td>▁▅▄▅█</td></tr></table><br/></div><div class=\"wandb-col\"><h3>Run summary:</h3><br/><table class=\"wandb\"><tr><td>best_val_f1</td><td>0.45918</td></tr><tr><td>epoch</td><td>5</td></tr><tr><td>train_loss</td><td>0.99206</td></tr><tr><td>val_accuracy</td><td>0.45449</td></tr><tr><td>val_f1</td><td>0.45918</td></tr><tr><td>val_precision</td><td>0.4841</td></tr><tr><td>val_recall</td><td>0.45449</td></tr><tr><td>validation_accuracy</td><td>0.45449</td></tr><tr><td>validation_f1</td><td>0.45918</td></tr><tr><td>validation_precision</td><td>0.4841</td></tr><tr><td>validation_recall</td><td>0.45449</td></tr></table><br/></div></div>"
      ],
      "text/plain": [
       "<IPython.core.display.HTML object>"
      ]
     },
     "metadata": {},
     "output_type": "display_data"
    },
    {
     "data": {
      "text/html": [
       "You can sync this run to the cloud by running:<br><code>wandb sync d:\\OneDrive - chd.edu.cn\\Desktop\\毕业论文数据\\code\\STNet\\wandb\\offline-run-20250207_052117-sm0le8eb<code>"
      ],
      "text/plain": [
       "<IPython.core.display.HTML object>"
      ]
     },
     "metadata": {},
     "output_type": "display_data"
    },
    {
     "data": {
      "text/html": [
       "Find logs at: <code>.\\wandb\\offline-run-20250207_052117-sm0le8eb\\logs</code>"
      ],
      "text/plain": [
       "<IPython.core.display.HTML object>"
      ]
     },
     "metadata": {},
     "output_type": "display_data"
    }
   ],
   "source": [
    "import os\n",
    "import torch\n",
    "import wandb\n",
    "import torch.nn as nn\n",
    "import torch.optim as optim\n",
    "import torch.nn.functional as F\n",
    "from torch_geometric.data import Batch\n",
    "from torch_geometric.loader import DataLoader\n",
    "from stnet.stnet import SpatioTemporalModel\n",
    "from utils.utils import ModelConfig, FocalLoss, train_model\n",
    "from utils.dataset import AugmentedScenarioGraphDataset\n",
    "from utils.dataset_utils import NODE_TYPE_MAP, EDGE_TYPE_MAP\n",
    "\n",
    "\n",
    "def train(config=None):\n",
    "    # 设备配置\n",
    "    device = torch.device(\"cuda\" if torch.cuda.is_available() else \"cpu\")\n",
    "    if torch.cuda.is_available():\n",
    "        torch.cuda.empty_cache()\n",
    "        torch.set_float32_matmul_precision('high')\n",
    "    with wandb.init(config=None, mode=\"offline\"):\n",
    "        configW = wandb.config\n",
    "        print(configW)  \n",
    "\n",
    "        # 初始化配置\n",
    "        config = ModelConfig(\n",
    "            num_layers=configW.num_layers,\n",
    "            num_features=12 + len(NODE_TYPE_MAP),\n",
    "            hidden_dim=configW.hidden_dim,\n",
    "            num_relations=8,\n",
    "            edge_dim=8,\n",
    "            num_epochs=5,\n",
    "            num_classes=3,\n",
    "            window_size=configW.window_size,\n",
    "            step_size=configW.step_size,\n",
    "            batch_size=configW.batch_size,\n",
    "            learning_rate=configW.learning_rate,\n",
    "            weight_decay=configW.weight_decay\n",
    "        )\n",
    "\n",
    "        working_dir = \"./\"\n",
    "        model_dir = f\"{working_dir}/model\"\n",
    "        dataset_dir = \"./dataset\"\n",
    "\n",
    "        # 数据集配置\n",
    "        scene_datasets = {\n",
    "            \"motor\": [\n",
    "                \"/secondary-road\",\n",
    "                '/main-secondary'\n",
    "            ]\n",
    "        }\n",
    "        scene_name = \"motor\"\n",
    "        data_dirs = scene_datasets[scene_name]\n",
    "        \n",
    "        print(f\"\\n=== Training Scene: {scene_name} ===\")\n",
    "        \n",
    "        # 数据集路径配置\n",
    "        data_dirs = [f\"{dataset_dir}/driving-scene-graph{d}\" for d in data_dirs]\n",
    "\n",
    "        # 数据集加载\n",
    "        cache_path = f\"{dataset_dir}/cache/{scene_name}_{config.window_size}_{config.step_size}_dataset_aug_cache.pkl\"\n",
    "        generator_model_path = f\"{working_dir}/model/data_aug/{scene_name}_{30}_{1}_{2}_{16}_generator_model.pth\"\n",
    "\n",
    "        # 加载数据集\n",
    "        dataset = AugmentedScenarioGraphDataset(\n",
    "            root_dirs=data_dirs,\n",
    "            window_size=config.window_size,\n",
    "            step_size=config.step_size,\n",
    "            generator_model_path=generator_model_path,\n",
    "            node_feature_dim=config.num_features,\n",
    "            device=device,\n",
    "            cache_path=cache_path,\n",
    "            num_classes=config.num_classes\n",
    "        )\n",
    "\n",
    "        # 划分训练集和验证集\n",
    "        train_size = int(0.8 * len(dataset))\n",
    "        val_size = len(dataset) - train_size\n",
    "        train_dataset, val_dataset = torch.utils.data.random_split(dataset, \n",
    "                                                                    [train_size, val_size], \n",
    "                                                                    generator=torch.Generator().manual_seed(0))\n",
    "\n",
    "        # 创建数据加载器\n",
    "        train_loader = DataLoader(train_dataset, batch_size=config.batch_size, shuffle=True)\n",
    "        val_loader = DataLoader(val_dataset, batch_size=config.batch_size, shuffle=False)\n",
    "\n",
    "        # 模型初始化\n",
    "        model = SpatioTemporalModel(config).to(device)\n",
    "        optimizer = optim.AdamW(model.parameters(), lr=config.learning_rate, weight_decay=config.weight_decay)\n",
    "        criterion = nn.CrossEntropyLoss()\n",
    "\n",
    "        # 开始训练\n",
    "        train_model(\n",
    "            model=model,\n",
    "            train_loader=train_loader,\n",
    "            val_loader=val_loader,\n",
    "            optimizer=optimizer,\n",
    "            criterion=criterion,\n",
    "            device=device,\n",
    "            config=config,\n",
    "            checkpoint_dir=f\"{model_dir}/checkpoint\",\n",
    "            bestmodel_dir=f\"{model_dir}/bestmodel\",\n",
    "            scene_name=scene_name,\n",
    "            patience=15\n",
    "        )\n",
    "\n",
    "if __name__ == '__main__':\n",
    "    import yaml\n",
    "    with open(\"config/sweep.yaml\", \"r\", encoding=\"utf-8\") as file:\n",
    "        config_dict = yaml.safe_load(file)\n",
    "    sweep_id = wandb.sweep(config_dict, project=\"pytorch-sweeps-demo\")\n",
    "    wandb.agent(sweep_id, train, count=50)"
   ]
  },
  {
   "cell_type": "code",
   "execution_count": 5,
   "metadata": {},
   "outputs": [
    {
     "name": "stderr",
     "output_type": "stream",
     "text": [
      "\u001b[34m\u001b[1mwandb\u001b[0m: Currently logged in as: \u001b[33m1422909005\u001b[0m to \u001b[32mhttps://api.wandb.ai\u001b[0m. Use \u001b[1m`wandb login --relogin`\u001b[0m to force relogin\n"
     ]
    },
    {
     "data": {
      "text/html": [
       "Changes to your `wandb` environment variables will be ignored because your `wandb` session has already started. For more information on how to modify your settings with `wandb.init()` arguments, please refer to <a href='https://wandb.me/wandb-init' target=\"_blank\">the W&B docs</a>."
      ],
      "text/plain": [
       "<IPython.core.display.HTML object>"
      ]
     },
     "metadata": {},
     "output_type": "display_data"
    },
    {
     "data": {
      "text/html": [
       "Ignoring project 'pytorch-sweeps-demo' when running a sweep."
      ],
      "text/plain": [
       "<IPython.core.display.HTML object>"
      ]
     },
     "metadata": {},
     "output_type": "display_data"
    },
    {
     "ename": "CommError",
     "evalue": "failed to upsert bucket: returned error 404 Not Found: {\"errors\":[{\"message\":\"sweep 03j3zy9k not found\",\"path\":[\"upsertBucket\"]}],\"data\":{\"upsertBucket\":null}}",
     "output_type": "error",
     "traceback": [
      "\u001b[1;31m---------------------------------------------------------------------------\u001b[0m",
      "\u001b[1;31mCommError\u001b[0m                                 Traceback (most recent call last)",
      "Cell \u001b[1;32mIn[5], line 4\u001b[0m\n\u001b[0;32m      1\u001b[0m \u001b[38;5;28;01mimport\u001b[39;00m \u001b[38;5;21;01mwandb\u001b[39;00m\n\u001b[0;32m      3\u001b[0m \u001b[38;5;66;03m# 初始化为在线模式\u001b[39;00m\n\u001b[1;32m----> 4\u001b[0m \u001b[43mwandb\u001b[49m\u001b[38;5;241;43m.\u001b[39;49m\u001b[43minit\u001b[49m\u001b[43m(\u001b[49m\u001b[43mproject\u001b[49m\u001b[38;5;241;43m=\u001b[39;49m\u001b[38;5;124;43m'\u001b[39;49m\u001b[38;5;124;43mpytorch-sweeps-demo\u001b[39;49m\u001b[38;5;124;43m'\u001b[39;49m\u001b[43m,\u001b[49m\u001b[43m \u001b[49m\u001b[43mmode\u001b[49m\u001b[38;5;241;43m=\u001b[39;49m\u001b[38;5;124;43m'\u001b[39;49m\u001b[38;5;124;43monline\u001b[39;49m\u001b[38;5;124;43m'\u001b[39;49m\u001b[43m)\u001b[49m\n\u001b[0;32m      6\u001b[0m \u001b[38;5;66;03m# 手动同步所有离线记录\u001b[39;00m\n\u001b[0;32m      7\u001b[0m wandb\u001b[38;5;241m.\u001b[39msync()\n",
      "File \u001b[1;32md:\\software\\anaconda3\\envs\\biye\\lib\\site-packages\\wandb\\sdk\\wandb_init.py:1485\u001b[0m, in \u001b[0;36minit\u001b[1;34m(entity, project, dir, id, name, notes, tags, config, config_exclude_keys, config_include_keys, allow_val_change, group, job_type, mode, force, anonymous, reinit, resume, resume_from, fork_from, save_code, tensorboard, sync_tensorboard, monitor_gym, settings)\u001b[0m\n\u001b[0;32m   1481\u001b[0m     wl\u001b[38;5;241m.\u001b[39m_get_logger()\u001b[38;5;241m.\u001b[39mexception(\u001b[38;5;124m\"\u001b[39m\u001b[38;5;124merror in wandb.init()\u001b[39m\u001b[38;5;124m\"\u001b[39m, exc_info\u001b[38;5;241m=\u001b[39me)\n\u001b[0;32m   1483\u001b[0m \u001b[38;5;66;03m# Need to build delay into this sentry capture because our exit hooks\u001b[39;00m\n\u001b[0;32m   1484\u001b[0m \u001b[38;5;66;03m# mess with sentry's ability to send out errors before the program ends.\u001b[39;00m\n\u001b[1;32m-> 1485\u001b[0m \u001b[43mwandb\u001b[49m\u001b[38;5;241;43m.\u001b[39;49m\u001b[43m_sentry\u001b[49m\u001b[38;5;241;43m.\u001b[39;49m\u001b[43mreraise\u001b[49m\u001b[43m(\u001b[49m\u001b[43me\u001b[49m\u001b[43m)\u001b[49m\n\u001b[0;32m   1486\u001b[0m \u001b[38;5;28;01mraise\u001b[39;00m \u001b[38;5;167;01mAssertionError\u001b[39;00m()\n",
      "File \u001b[1;32md:\\software\\anaconda3\\envs\\biye\\lib\\site-packages\\wandb\\analytics\\sentry.py:156\u001b[0m, in \u001b[0;36mSentry.reraise\u001b[1;34m(self, exc)\u001b[0m\n\u001b[0;32m    153\u001b[0m \u001b[38;5;28mself\u001b[39m\u001b[38;5;241m.\u001b[39mexception(exc)\n\u001b[0;32m    154\u001b[0m \u001b[38;5;66;03m# this will messily add this \"reraise\" function to the stack trace,\u001b[39;00m\n\u001b[0;32m    155\u001b[0m \u001b[38;5;66;03m# but hopefully it's not too bad\u001b[39;00m\n\u001b[1;32m--> 156\u001b[0m \u001b[38;5;28;01mraise\u001b[39;00m exc\u001b[38;5;241m.\u001b[39mwith_traceback(sys\u001b[38;5;241m.\u001b[39mexc_info()[\u001b[38;5;241m2\u001b[39m])\n",
      "File \u001b[1;32md:\\software\\anaconda3\\envs\\biye\\lib\\site-packages\\wandb\\sdk\\wandb_init.py:1471\u001b[0m, in \u001b[0;36minit\u001b[1;34m(entity, project, dir, id, name, notes, tags, config, config_exclude_keys, config_include_keys, allow_val_change, group, job_type, mode, force, anonymous, reinit, resume, resume_from, fork_from, save_code, tensorboard, sync_tensorboard, monitor_gym, settings)\u001b[0m\n\u001b[0;32m   1468\u001b[0m         _monkeypatch_tensorboard()\n\u001b[0;32m   1469\u001b[0m         init_telemetry\u001b[38;5;241m.\u001b[39mfeature\u001b[38;5;241m.\u001b[39mtensorboard_sync \u001b[38;5;241m=\u001b[39m \u001b[38;5;28;01mTrue\u001b[39;00m\n\u001b[1;32m-> 1471\u001b[0m     \u001b[38;5;28;01mreturn\u001b[39;00m \u001b[43mwi\u001b[49m\u001b[38;5;241;43m.\u001b[39;49m\u001b[43minit\u001b[49m\u001b[43m(\u001b[49m\u001b[43mrun_settings\u001b[49m\u001b[43m,\u001b[49m\u001b[43m \u001b[49m\u001b[43mrun_config\u001b[49m\u001b[43m)\u001b[49m\n\u001b[0;32m   1473\u001b[0m \u001b[38;5;28;01mexcept\u001b[39;00m \u001b[38;5;167;01mKeyboardInterrupt\u001b[39;00m \u001b[38;5;28;01mas\u001b[39;00m e:\n\u001b[0;32m   1474\u001b[0m     \u001b[38;5;28;01mif\u001b[39;00m wl:\n",
      "File \u001b[1;32md:\\software\\anaconda3\\envs\\biye\\lib\\site-packages\\wandb\\sdk\\wandb_init.py:967\u001b[0m, in \u001b[0;36m_WandbInit.init\u001b[1;34m(self, settings, config)\u001b[0m\n\u001b[0;32m    960\u001b[0m     \u001b[38;5;28;01mraise\u001b[39;00m CommError(\n\u001b[0;32m    961\u001b[0m         \u001b[38;5;124mf\u001b[39m\u001b[38;5;124m\"\u001b[39m\u001b[38;5;124mRun initialization has timed out after \u001b[39m\u001b[38;5;132;01m{\u001b[39;00mtimeout\u001b[38;5;132;01m}\u001b[39;00m\u001b[38;5;124m sec.\u001b[39m\u001b[38;5;124m\"\u001b[39m\n\u001b[0;32m    962\u001b[0m         \u001b[38;5;124m\"\u001b[39m\u001b[38;5;124m Please try increasing the timeout with the `init_timeout`\u001b[39m\u001b[38;5;124m\"\u001b[39m\n\u001b[0;32m    963\u001b[0m         \u001b[38;5;124m\"\u001b[39m\u001b[38;5;124m setting: `wandb.init(settings=wandb.Settings(init_timeout=120))`.\u001b[39m\u001b[38;5;124m\"\u001b[39m\n\u001b[0;32m    964\u001b[0m     )\n\u001b[0;32m    966\u001b[0m \u001b[38;5;28;01mif\u001b[39;00m error \u001b[38;5;241m:=\u001b[39m ProtobufErrorHandler\u001b[38;5;241m.\u001b[39mto_exception(result\u001b[38;5;241m.\u001b[39mrun_result\u001b[38;5;241m.\u001b[39merror):\n\u001b[1;32m--> 967\u001b[0m     \u001b[38;5;28;01mraise\u001b[39;00m error\n\u001b[0;32m    969\u001b[0m \u001b[38;5;28;01mif\u001b[39;00m \u001b[38;5;129;01mnot\u001b[39;00m result\u001b[38;5;241m.\u001b[39mrun_result\u001b[38;5;241m.\u001b[39mHasField(\u001b[38;5;124m\"\u001b[39m\u001b[38;5;124mrun\u001b[39m\u001b[38;5;124m\"\u001b[39m):\n\u001b[0;32m    970\u001b[0m     \u001b[38;5;28;01mraise\u001b[39;00m Error(\u001b[38;5;124m\"\u001b[39m\u001b[38;5;124mAssertion failed: run_result is missing the run field\u001b[39m\u001b[38;5;124m\"\u001b[39m)\n",
      "\u001b[1;31mCommError\u001b[0m: failed to upsert bucket: returned error 404 Not Found: {\"errors\":[{\"message\":\"sweep 03j3zy9k not found\",\"path\":[\"upsertBucket\"]}],\"data\":{\"upsertBucket\":null}}"
     ]
    }
   ],
   "source": [
    "import wandb\n",
    "\n",
    "# 初始化为在线模式\n",
    "wandb.init(project='pytorch-sweeps-demo', mode='online')\n",
    "\n",
    "# 手动同步所有离线记录\n",
    "wandb.sync()\n",
    "\n"
   ]
  }
 ],
 "metadata": {
  "kernelspec": {
   "display_name": "Python 3",
   "language": "python",
   "name": "python3"
  },
  "language_info": {
   "codemirror_mode": {
    "name": "ipython",
    "version": 3
   },
   "file_extension": ".py",
   "mimetype": "text/x-python",
   "name": "python",
   "nbconvert_exporter": "python",
   "pygments_lexer": "ipython3",
   "version": "3.10.16"
  }
 },
 "nbformat": 4,
 "nbformat_minor": 2
}
